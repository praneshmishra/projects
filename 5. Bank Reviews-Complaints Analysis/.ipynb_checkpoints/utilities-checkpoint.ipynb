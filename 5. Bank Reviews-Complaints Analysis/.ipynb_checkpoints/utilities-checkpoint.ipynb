{
 "cells": [
  {
   "cell_type": "code",
   "execution_count": 3,
   "metadata": {},
   "outputs": [],
   "source": [
    "from textblob import TextBlob\n",
    "from textblob import Word\n"
   ]
  },
  {
   "cell_type": "code",
   "execution_count": 17,
   "metadata": {},
   "outputs": [],
   "source": [
    "## This function accepts text/review and returns if the review was Positive, Negative or Neutral\n",
    "\n",
    "def sentiment_review(text):\n",
    "    review = TextBlob(text)\n",
    "    polarity_score = review.sentiment.polarity\n",
    "    print(polarity_score)\n",
    "    if polarity_score > 0.2:\n",
    "        return 'Positive'\n",
    "    elif polarity_score < -0.2:\n",
    "        return 'Negative'\n",
    "    else:\n",
    "        return 'Neutral'  "
   ]
  }
 ],
 "metadata": {
  "kernelspec": {
   "display_name": "Python 3",
   "language": "python",
   "name": "python3"
  },
  "language_info": {
   "codemirror_mode": {
    "name": "ipython",
    "version": 3
   },
   "file_extension": ".py",
   "mimetype": "text/x-python",
   "name": "python",
   "nbconvert_exporter": "python",
   "pygments_lexer": "ipython3",
   "version": "3.7.4"
  }
 },
 "nbformat": 4,
 "nbformat_minor": 2
}
