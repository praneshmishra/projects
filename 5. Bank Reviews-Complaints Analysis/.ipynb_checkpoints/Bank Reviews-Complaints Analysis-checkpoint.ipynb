{
 "cells": [
  {
   "cell_type": "markdown",
   "metadata": {},
   "source": [
    "### Buisness context\n",
    "\n",
    "Central banks collect information/feedback/complaints from customers on different services provided by different banks.\n",
    "    1. Bank users give ratings and reviews to the services on bank website. These ratings are useful to the banks in evaluating their services and take necessary action to improve their services. Ratings help the bansk understand the overall experience but they do not convey the context ehich led the reviewer to that experience.\n",
    "    \n",
    "    2. If we look at the rating alone, it is difficult to guaze why the review gave a 4 or a 2 start rating. But, if we read the review it is not difficult to understand that the reviewer talks about good service/bad service/expectations.\n",
    "    \n",
    "\n",
    "### Objective:\n",
    "    The objective of this case study is to analyse customer reviews and predict customer satisfaction with the reviews.\n",
    "    1. Data Processing\n",
    "    2. Key positive words, negative words (most frequent words)\n",
    "    3. Classification of reviews into positive, negative and neutral\n",
    "    4. Identify key themes of problems (using clustering/topic models)\n",
    "    5. Predicting start ratings using reviews\n",
    "    6. Perform intent analysis"
   ]
  },
  {
   "cell_type": "code",
   "execution_count": 810,
   "metadata": {},
   "outputs": [
    {
     "name": "stderr",
     "output_type": "stream",
     "text": [
      "[nltk_data] Downloading package averaged_perceptron_tagger to\n",
      "[nltk_data]     C:\\Users\\Mayukh S. Mishra\\AppData\\Roaming\\nltk_data...\n",
      "[nltk_data]   Package averaged_perceptron_tagger is already up-to-\n",
      "[nltk_data]       date!\n",
      "[nltk_data] Downloading package wordnet to C:\\Users\\Mayukh S.\n",
      "[nltk_data]     Mishra\\AppData\\Roaming\\nltk_data...\n",
      "[nltk_data]   Package wordnet is already up-to-date!\n",
      "[nltk_data] Downloading package punkt to C:\\Users\\Mayukh S.\n",
      "[nltk_data]     Mishra\\AppData\\Roaming\\nltk_data...\n",
      "[nltk_data]   Package punkt is already up-to-date!\n",
      "[nltk_data] Downloading package maxent_ne_chunker to C:\\Users\\Mayukh\n",
      "[nltk_data]     S. Mishra\\AppData\\Roaming\\nltk_data...\n",
      "[nltk_data]   Package maxent_ne_chunker is already up-to-date!\n",
      "[nltk_data] Downloading package words to C:\\Users\\Mayukh S.\n",
      "[nltk_data]     Mishra\\AppData\\Roaming\\nltk_data...\n",
      "[nltk_data]   Package words is already up-to-date!\n",
      "[nltk_data] Downloading package stopwords to C:\\Users\\Mayukh S.\n",
      "[nltk_data]     Mishra\\AppData\\Roaming\\nltk_data...\n",
      "[nltk_data]   Package stopwords is already up-to-date!\n"
     ]
    },
    {
     "data": {
      "text/plain": [
       "<Figure size 432x216 with 0 Axes>"
      ]
     },
     "metadata": {},
     "output_type": "display_data"
    }
   ],
   "source": [
    "\n",
    "import pandas as pd \n",
    "import numpy as np\n",
    "\n",
    "import pandas_profiling\n",
    "\n",
    "from textblob import TextBlob\n",
    "from textblob import Word\n",
    "\n",
    "#Packages related to data visualizaiton\n",
    "import seaborn as sns\n",
    "import matplotlib.pyplot as plt\n",
    "from wordcloud import WordCloud\n",
    "%matplotlib inline\n",
    "\n",
    "import string\n",
    "import re\n",
    "\n",
    "from nameparser.parser import HumanName\n",
    "\n",
    "import spacy\n",
    "\n",
    "import nltk\n",
    "import nltk.chunk\n",
    "nltk.download('averaged_perceptron_tagger')\n",
    "nltk.download('wordnet')\n",
    "nltk.download('punkt')\n",
    "nltk.download('maxent_ne_chunker')\n",
    "nltk.download('words')\n",
    "from nltk.corpus import stopwords\n",
    "nltk.download('stopwords')\n",
    "from nltk import pos_tag\n",
    "from nltk.stem.wordnet import WordNetLemmatizer \n",
    "from nltk.tokenize import word_tokenize\n",
    "from nltk.corpus import wordnet\n",
    "\n",
    "#FeatureEngineering\n",
    "from sklearn.feature_extraction.text import TfidfVectorizer, CountVectorizer, HashingVectorizer, TfidfTransformer\n",
    "from sklearn.decomposition import TruncatedSVD, LatentDirichletAllocation\n",
    "from sklearn.base import BaseEstimator, ClassifierMixin\n",
    "from sklearn.utils.validation import check_X_y, check_is_fitted\n",
    "from sklearn import model_selection, preprocessing, linear_model, naive_bayes, metrics, svm, decomposition, ensemble\n",
    "from sklearn.linear_model import LogisticRegression\n",
    "from sklearn.metrics import log_loss\n",
    "from sklearn.model_selection import StratifiedKFold\n",
    "from sklearn.model_selection import train_test_split\n",
    "from sklearn.cluster import KMeans\n",
    "from sklearn.metrics import roc_curve, auc\n",
    "from sklearn.metrics import silhouette_score\n",
    "\n",
    "from xgboost import XGBClassifier\n",
    "\n",
    "# Importing Gensim\n",
    "import gensim\n",
    "from gensim import corpora\n",
    "import pyLDAvis.gensim\n",
    "\n",
    "#Setting plot sizes and type of plot\n",
    "plt.rc(\"font\", size=14)\n",
    "plt.rcParams['axes.grid'] = True\n",
    "plt.figure(figsize=(6,3))\n",
    "plt.gray()"
   ]
  },
  {
   "cell_type": "code",
   "execution_count": 811,
   "metadata": {},
   "outputs": [],
   "source": [
    "# read BankReviews.xlsx into a DataFrame\n",
    "bank_reviews = pd.read_excel('BankReviews.xlsx')"
   ]
  },
  {
   "cell_type": "markdown",
   "metadata": {},
   "source": [
    "### Data Understanding"
   ]
  },
  {
   "cell_type": "code",
   "execution_count": 812,
   "metadata": {},
   "outputs": [
    {
     "name": "stdout",
     "output_type": "stream",
     "text": [
      "<class 'pandas.core.frame.DataFrame'>\n",
      "RangeIndex: 505 entries, 0 to 504\n",
      "Data columns (total 4 columns):\n",
      " #   Column    Non-Null Count  Dtype         \n",
      "---  ------    --------------  -----         \n",
      " 0   Date      505 non-null    datetime64[ns]\n",
      " 1   Stars     505 non-null    int64         \n",
      " 2   Reviews   505 non-null    object        \n",
      " 3   BankName  505 non-null    object        \n",
      "dtypes: datetime64[ns](1), int64(1), object(2)\n",
      "memory usage: 15.9+ KB\n"
     ]
    }
   ],
   "source": [
    "bank_reviews.info(verbose=True)"
   ]
  },
  {
   "cell_type": "code",
   "execution_count": 813,
   "metadata": {},
   "outputs": [
    {
     "data": {
      "text/html": [
       "<div>\n",
       "<style scoped>\n",
       "    .dataframe tbody tr th:only-of-type {\n",
       "        vertical-align: middle;\n",
       "    }\n",
       "\n",
       "    .dataframe tbody tr th {\n",
       "        vertical-align: top;\n",
       "    }\n",
       "\n",
       "    .dataframe thead th {\n",
       "        text-align: right;\n",
       "    }\n",
       "</style>\n",
       "<table border=\"1\" class=\"dataframe\">\n",
       "  <thead>\n",
       "    <tr style=\"text-align: right;\">\n",
       "      <th></th>\n",
       "      <th>Date</th>\n",
       "      <th>Stars</th>\n",
       "      <th>Reviews</th>\n",
       "      <th>BankName</th>\n",
       "    </tr>\n",
       "  </thead>\n",
       "  <tbody>\n",
       "    <tr>\n",
       "      <th>0</th>\n",
       "      <td>2017-04-10</td>\n",
       "      <td>5</td>\n",
       "      <td>Great job, Wyndham Capital! Each person was pr...</td>\n",
       "      <td>Wyndham Capital Mortgage</td>\n",
       "    </tr>\n",
       "    <tr>\n",
       "      <th>1</th>\n",
       "      <td>2017-02-10</td>\n",
       "      <td>5</td>\n",
       "      <td>Matthew Richardson is professional and helpful...</td>\n",
       "      <td>Wyndham Capital Mortgage</td>\n",
       "    </tr>\n",
       "    <tr>\n",
       "      <th>2</th>\n",
       "      <td>2017-08-21</td>\n",
       "      <td>5</td>\n",
       "      <td>We had a past experience with Wyndham Mortgage...</td>\n",
       "      <td>Wyndham Capital Mortgage</td>\n",
       "    </tr>\n",
       "    <tr>\n",
       "      <th>3</th>\n",
       "      <td>2017-12-17</td>\n",
       "      <td>5</td>\n",
       "      <td>We have been dealing with Brad Thomka from the...</td>\n",
       "      <td>Wyndham Capital Mortgage</td>\n",
       "    </tr>\n",
       "    <tr>\n",
       "      <th>4</th>\n",
       "      <td>2016-05-27</td>\n",
       "      <td>5</td>\n",
       "      <td>I can't express how grateful I am for the supp...</td>\n",
       "      <td>Wyndham Capital Mortgage</td>\n",
       "    </tr>\n",
       "  </tbody>\n",
       "</table>\n",
       "</div>"
      ],
      "text/plain": [
       "        Date  Stars                                            Reviews  \\\n",
       "0 2017-04-10      5  Great job, Wyndham Capital! Each person was pr...   \n",
       "1 2017-02-10      5  Matthew Richardson is professional and helpful...   \n",
       "2 2017-08-21      5  We had a past experience with Wyndham Mortgage...   \n",
       "3 2017-12-17      5  We have been dealing with Brad Thomka from the...   \n",
       "4 2016-05-27      5  I can't express how grateful I am for the supp...   \n",
       "\n",
       "                   BankName  \n",
       "0  Wyndham Capital Mortgage  \n",
       "1  Wyndham Capital Mortgage  \n",
       "2  Wyndham Capital Mortgage  \n",
       "3  Wyndham Capital Mortgage  \n",
       "4  Wyndham Capital Mortgage  "
      ]
     },
     "execution_count": 813,
     "metadata": {},
     "output_type": "execute_result"
    }
   ],
   "source": [
    "bank_reviews.head(5)"
   ]
  },
  {
   "cell_type": "code",
   "execution_count": 814,
   "metadata": {},
   "outputs": [
    {
     "data": {
      "text/plain": [
       "(505, 4)"
      ]
     },
     "execution_count": 814,
     "metadata": {},
     "output_type": "execute_result"
    }
   ],
   "source": [
    "bank_reviews.shape"
   ]
  },
  {
   "cell_type": "code",
   "execution_count": 815,
   "metadata": {},
   "outputs": [
    {
     "data": {
      "text/html": [
       "<div>\n",
       "<style scoped>\n",
       "    .dataframe tbody tr th:only-of-type {\n",
       "        vertical-align: middle;\n",
       "    }\n",
       "\n",
       "    .dataframe tbody tr th {\n",
       "        vertical-align: top;\n",
       "    }\n",
       "\n",
       "    .dataframe thead th {\n",
       "        text-align: right;\n",
       "    }\n",
       "</style>\n",
       "<table border=\"1\" class=\"dataframe\">\n",
       "  <thead>\n",
       "    <tr style=\"text-align: right;\">\n",
       "      <th></th>\n",
       "      <th>Stars</th>\n",
       "    </tr>\n",
       "  </thead>\n",
       "  <tbody>\n",
       "    <tr>\n",
       "      <th>count</th>\n",
       "      <td>505.000000</td>\n",
       "    </tr>\n",
       "    <tr>\n",
       "      <th>mean</th>\n",
       "      <td>4.247525</td>\n",
       "    </tr>\n",
       "    <tr>\n",
       "      <th>std</th>\n",
       "      <td>1.564778</td>\n",
       "    </tr>\n",
       "    <tr>\n",
       "      <th>min</th>\n",
       "      <td>1.000000</td>\n",
       "    </tr>\n",
       "    <tr>\n",
       "      <th>25%</th>\n",
       "      <td>5.000000</td>\n",
       "    </tr>\n",
       "    <tr>\n",
       "      <th>50%</th>\n",
       "      <td>5.000000</td>\n",
       "    </tr>\n",
       "    <tr>\n",
       "      <th>75%</th>\n",
       "      <td>5.000000</td>\n",
       "    </tr>\n",
       "    <tr>\n",
       "      <th>max</th>\n",
       "      <td>5.000000</td>\n",
       "    </tr>\n",
       "  </tbody>\n",
       "</table>\n",
       "</div>"
      ],
      "text/plain": [
       "            Stars\n",
       "count  505.000000\n",
       "mean     4.247525\n",
       "std      1.564778\n",
       "min      1.000000\n",
       "25%      5.000000\n",
       "50%      5.000000\n",
       "75%      5.000000\n",
       "max      5.000000"
      ]
     },
     "execution_count": 815,
     "metadata": {},
     "output_type": "execute_result"
    }
   ],
   "source": [
    "bank_reviews.describe()"
   ]
  },
  {
   "cell_type": "code",
   "execution_count": 816,
   "metadata": {},
   "outputs": [],
   "source": [
    "#full report with correlation and missing charts was generating a report of size more than 250 MBs, \n",
    "#this was causing my machine to hang. Hence, generating a minimal report with varibale info and overview.\n",
    "\n",
    "profile = pandas_profiling.ProfileReport(bank_reviews, minimal=True)"
   ]
  },
  {
   "cell_type": "code",
   "execution_count": 817,
   "metadata": {},
   "outputs": [
    {
     "data": {
      "application/vnd.jupyter.widget-view+json": {
       "model_id": "7beb8d599f7b45fca94cf9c2bedacbf4",
       "version_major": 2,
       "version_minor": 0
      },
      "text/plain": [
       "HBox(children=(FloatProgress(value=0.0, description='Summarize dataset', max=13.0, style=ProgressStyle(descrip…"
      ]
     },
     "metadata": {},
     "output_type": "display_data"
    },
    {
     "name": "stdout",
     "output_type": "stream",
     "text": [
      "\n"
     ]
    },
    {
     "data": {
      "application/vnd.jupyter.widget-view+json": {
       "model_id": "58a5756907c4497ab5b4a22156397a5b",
       "version_major": 2,
       "version_minor": 0
      },
      "text/plain": [
       "HBox(children=(FloatProgress(value=0.0, description='Generate report structure', max=1.0, style=ProgressStyle(…"
      ]
     },
     "metadata": {},
     "output_type": "display_data"
    },
    {
     "name": "stdout",
     "output_type": "stream",
     "text": [
      "\n"
     ]
    },
    {
     "data": {
      "application/vnd.jupyter.widget-view+json": {
       "model_id": "dbb35a6df4d24f3b8bc85a10a8344524",
       "version_major": 2,
       "version_minor": 0
      },
      "text/plain": [
       "HBox(children=(FloatProgress(value=0.0, description='Render HTML', max=1.0, style=ProgressStyle(description_wi…"
      ]
     },
     "metadata": {},
     "output_type": "display_data"
    },
    {
     "name": "stdout",
     "output_type": "stream",
     "text": [
      "\n"
     ]
    },
    {
     "data": {
      "application/vnd.jupyter.widget-view+json": {
       "model_id": "44e52ca4c10a4ea3b9c825a114980822",
       "version_major": 2,
       "version_minor": 0
      },
      "text/plain": [
       "HBox(children=(FloatProgress(value=0.0, description='Export report to file', max=1.0, style=ProgressStyle(desc…"
      ]
     },
     "metadata": {},
     "output_type": "display_data"
    },
    {
     "name": "stdout",
     "output_type": "stream",
     "text": [
      "\n"
     ]
    }
   ],
   "source": [
    "# Change the config after\n",
    "#profile.set_variable(\"html.minify_html\", False)\n",
    "profile.to_file(\"profile_report.html\")"
   ]
  },
  {
   "cell_type": "markdown",
   "metadata": {},
   "source": [
    "### Exploratory analysis"
   ]
  },
  {
   "cell_type": "code",
   "execution_count": 818,
   "metadata": {},
   "outputs": [
    {
     "data": {
      "image/png": "[encoded data removed]",
      "text/plain": [
       "<Figure size 432x432 with 1 Axes>"
      ]
     },
     "metadata": {
      "needs_background": "light"
     },
     "output_type": "display_data"
    }
   ],
   "source": [
    "stars = bank_reviews.groupby(bank_reviews['Stars']).size()\n",
    "\n",
    "fig, axs = plt.subplots(figsize = (6,6))\n",
    "sns.barplot(stars.index, stars.values,  orient='v')\n",
    "\n",
    "plt.title('Distribution of ratings',fontsize=20)\n",
    "plt.xlabel('Stars',fontsize=15)\n",
    "plt.ylabel('Count',fontsize=15)\n",
    "plt.show()"
   ]
  },
  {
   "cell_type": "markdown",
   "metadata": {},
   "source": [
    "#### The data has ratings of only 1 start and 5 star"
   ]
  },
  {
   "cell_type": "code",
   "execution_count": 819,
   "metadata": {},
   "outputs": [
    {
     "data": {
      "image/png": "[encoded data removed]",
      "text/plain": [
       "<Figure size 720x432 with 1 Axes>"
      ]
     },
     "metadata": {
      "needs_background": "light"
     },
     "output_type": "display_data"
    }
   ],
   "source": [
    "bank = bank_reviews.groupby(bank_reviews['BankName']).size()\n",
    "\n",
    "fig, axs = plt.subplots(figsize = (10,6))\n",
    "sns.barplot(bank.values, bank.index)\n",
    "\n",
    "plt.title('Number of reviews by Bank',fontsize=20)\n",
    "#plt.xlabel('Count',fontsize=15)\n",
    "plt.ylabel('',fontsize=15)\n",
    "plt.show()"
   ]
  },
  {
   "cell_type": "code",
   "execution_count": 820,
   "metadata": {},
   "outputs": [
    {
     "data": {
      "image/png": "[encoded data removed]",
      "text/plain": [
       "<Figure size 360x432 with 1 Axes>"
      ]
     },
     "metadata": {
      "needs_background": "light"
     },
     "output_type": "display_data"
    }
   ],
   "source": [
    "year = bank_reviews.groupby(bank_reviews['Date'].dt.year).size()\n",
    "\n",
    "fig, axs = plt.subplots(figsize = (5,6))\n",
    "sns.barplot(year.index, year.values,  orient='v')\n",
    "\n",
    "plt.title('Number of reviews by Year',fontsize=20)\n",
    "plt.xlabel('Year',fontsize=15)\n",
    "plt.ylabel('Count',fontsize=15)\n",
    "plt.show()"
   ]
  },
  {
   "cell_type": "code",
   "execution_count": 821,
   "metadata": {},
   "outputs": [
    {
     "data": {
      "image/png": "[encoded data removed]",
      "text/plain": [
       "<Figure size 720x432 with 1 Axes>"
      ]
     },
     "metadata": {
      "needs_background": "light"
     },
     "output_type": "display_data"
    }
   ],
   "source": [
    "month = bank_reviews.groupby(bank_reviews['Date'].dt.month).size()\n",
    "\n",
    "fig, axs = plt.subplots(figsize = (10,6))\n",
    "sns.barplot(month.index, month.values,  orient='v')\n",
    "\n",
    "plt.title('Number of reviews by month',fontsize=20)\n",
    "plt.xlabel('Month',fontsize=15)\n",
    "plt.ylabel('Count',fontsize=15)\n",
    "plt.show()"
   ]
  },
  {
   "cell_type": "raw",
   "metadata": {},
   "source": [
    "#bank_stars = bank_reviews.groupby(['BankName','Stars']).count()\n",
    "#bank_stars = bank_reviews.groupby(['BankName','Stars'])['Stars'].aggregate('count')\n",
    "bank_stars = bank_reviews.groupby(['BankName','Stars'])['Stars'].count().unstack('Stars')\n",
    "bank_stars.columns"
   ]
  },
  {
   "cell_type": "raw",
   "metadata": {},
   "source": [
    "fig, axs = plt.subplots(figsize = (10,6))\n",
    "sns.barplot(data=bank_stars,x='Stars',hue='BankName',  orient='v')\n",
    "\n",
    "plt.title('Number of reviews by month',fontsize=20)\n",
    "plt.xlabel('Month',fontsize=15)\n",
    "plt.ylabel('Count',fontsize=15)\n",
    "plt.xticks(rotation=90)\n",
    "plt.show()"
   ]
  },
  {
   "cell_type": "code",
   "execution_count": 822,
   "metadata": {},
   "outputs": [],
   "source": [
    "review_data = bank_reviews.copy()"
   ]
  },
  {
   "cell_type": "markdown",
   "metadata": {},
   "source": [
    "### Data preparation and processing"
   ]
  },
  {
   "cell_type": "code",
   "execution_count": 823,
   "metadata": {},
   "outputs": [],
   "source": [
    "## drop duplicate rows:\n",
    "review_data.drop_duplicates(keep='first',inplace=True) "
   ]
  },
  {
   "cell_type": "code",
   "execution_count": 824,
   "metadata": {},
   "outputs": [
    {
     "data": {
      "text/html": [
       "<div>\n",
       "<style scoped>\n",
       "    .dataframe tbody tr th:only-of-type {\n",
       "        vertical-align: middle;\n",
       "    }\n",
       "\n",
       "    .dataframe tbody tr th {\n",
       "        vertical-align: top;\n",
       "    }\n",
       "\n",
       "    .dataframe thead th {\n",
       "        text-align: right;\n",
       "    }\n",
       "</style>\n",
       "<table border=\"1\" class=\"dataframe\">\n",
       "  <thead>\n",
       "    <tr style=\"text-align: right;\">\n",
       "      <th></th>\n",
       "      <th>count_missing</th>\n",
       "      <th>percent_missing</th>\n",
       "    </tr>\n",
       "  </thead>\n",
       "  <tbody>\n",
       "    <tr>\n",
       "      <th>Date</th>\n",
       "      <td>0</td>\n",
       "      <td>0.0</td>\n",
       "    </tr>\n",
       "    <tr>\n",
       "      <th>Stars</th>\n",
       "      <td>0</td>\n",
       "      <td>0.0</td>\n",
       "    </tr>\n",
       "    <tr>\n",
       "      <th>Reviews</th>\n",
       "      <td>0</td>\n",
       "      <td>0.0</td>\n",
       "    </tr>\n",
       "    <tr>\n",
       "      <th>BankName</th>\n",
       "      <td>0</td>\n",
       "      <td>0.0</td>\n",
       "    </tr>\n",
       "  </tbody>\n",
       "</table>\n",
       "</div>"
      ],
      "text/plain": [
       "          count_missing  percent_missing\n",
       "Date                  0              0.0\n",
       "Stars                 0              0.0\n",
       "Reviews               0              0.0\n",
       "BankName              0              0.0"
      ]
     },
     "execution_count": 824,
     "metadata": {},
     "output_type": "execute_result"
    }
   ],
   "source": [
    "## check for missing values\n",
    "count_missing = review_data.isnull().sum()\n",
    "percent_missing = count_missing * 100 / len(review_data)\n",
    "missing_value_df = pd.DataFrame({'count_missing': count_missing, 'percent_missing': percent_missing})\n",
    "missing_value_df.sort_values('percent_missing', inplace=True, ascending = False)\n",
    "missing_value_df.head(10)"
   ]
  },
  {
   "cell_type": "code",
   "execution_count": 825,
   "metadata": {},
   "outputs": [],
   "source": [
    "#keepin a copy of the original reviews\n",
    "review_data['Reviews_Orig'] = review_data['Reviews'] "
   ]
  },
  {
   "cell_type": "code",
   "execution_count": 826,
   "metadata": {},
   "outputs": [
    {
     "data": {
      "text/html": [
       "<div>\n",
       "<style scoped>\n",
       "    .dataframe tbody tr th:only-of-type {\n",
       "        vertical-align: middle;\n",
       "    }\n",
       "\n",
       "    .dataframe tbody tr th {\n",
       "        vertical-align: top;\n",
       "    }\n",
       "\n",
       "    .dataframe thead th {\n",
       "        text-align: right;\n",
       "    }\n",
       "</style>\n",
       "<table border=\"1\" class=\"dataframe\">\n",
       "  <thead>\n",
       "    <tr style=\"text-align: right;\">\n",
       "      <th></th>\n",
       "      <th>Date</th>\n",
       "      <th>Stars</th>\n",
       "      <th>Reviews</th>\n",
       "      <th>BankName</th>\n",
       "      <th>Reviews_Orig</th>\n",
       "      <th>count_word</th>\n",
       "      <th>count_unique_word</th>\n",
       "    </tr>\n",
       "  </thead>\n",
       "  <tbody>\n",
       "    <tr>\n",
       "      <th>0</th>\n",
       "      <td>2017-04-10</td>\n",
       "      <td>5</td>\n",
       "      <td>Great job, Wyndham Capital! Each person was pr...</td>\n",
       "      <td>Wyndham Capital Mortgage</td>\n",
       "      <td>Great job, Wyndham Capital! Each person was pr...</td>\n",
       "      <td>19</td>\n",
       "      <td>19</td>\n",
       "    </tr>\n",
       "    <tr>\n",
       "      <th>1</th>\n",
       "      <td>2017-02-10</td>\n",
       "      <td>5</td>\n",
       "      <td>Matthew Richardson is professional and helpful...</td>\n",
       "      <td>Wyndham Capital Mortgage</td>\n",
       "      <td>Matthew Richardson is professional and helpful...</td>\n",
       "      <td>25</td>\n",
       "      <td>23</td>\n",
       "    </tr>\n",
       "    <tr>\n",
       "      <th>2</th>\n",
       "      <td>2017-08-21</td>\n",
       "      <td>5</td>\n",
       "      <td>We had a past experience with Wyndham Mortgage...</td>\n",
       "      <td>Wyndham Capital Mortgage</td>\n",
       "      <td>We had a past experience with Wyndham Mortgage...</td>\n",
       "      <td>79</td>\n",
       "      <td>64</td>\n",
       "    </tr>\n",
       "    <tr>\n",
       "      <th>3</th>\n",
       "      <td>2017-12-17</td>\n",
       "      <td>5</td>\n",
       "      <td>We have been dealing with Brad Thomka from the...</td>\n",
       "      <td>Wyndham Capital Mortgage</td>\n",
       "      <td>We have been dealing with Brad Thomka from the...</td>\n",
       "      <td>108</td>\n",
       "      <td>78</td>\n",
       "    </tr>\n",
       "    <tr>\n",
       "      <th>4</th>\n",
       "      <td>2016-05-27</td>\n",
       "      <td>5</td>\n",
       "      <td>I can't express how grateful I am for the supp...</td>\n",
       "      <td>Wyndham Capital Mortgage</td>\n",
       "      <td>I can't express how grateful I am for the supp...</td>\n",
       "      <td>59</td>\n",
       "      <td>47</td>\n",
       "    </tr>\n",
       "  </tbody>\n",
       "</table>\n",
       "</div>"
      ],
      "text/plain": [
       "        Date  Stars                                            Reviews  \\\n",
       "0 2017-04-10      5  Great job, Wyndham Capital! Each person was pr...   \n",
       "1 2017-02-10      5  Matthew Richardson is professional and helpful...   \n",
       "2 2017-08-21      5  We had a past experience with Wyndham Mortgage...   \n",
       "3 2017-12-17      5  We have been dealing with Brad Thomka from the...   \n",
       "4 2016-05-27      5  I can't express how grateful I am for the supp...   \n",
       "\n",
       "                   BankName  \\\n",
       "0  Wyndham Capital Mortgage   \n",
       "1  Wyndham Capital Mortgage   \n",
       "2  Wyndham Capital Mortgage   \n",
       "3  Wyndham Capital Mortgage   \n",
       "4  Wyndham Capital Mortgage   \n",
       "\n",
       "                                        Reviews_Orig  count_word  \\\n",
       "0  Great job, Wyndham Capital! Each person was pr...          19   \n",
       "1  Matthew Richardson is professional and helpful...          25   \n",
       "2  We had a past experience with Wyndham Mortgage...          79   \n",
       "3  We have been dealing with Brad Thomka from the...         108   \n",
       "4  I can't express how grateful I am for the supp...          59   \n",
       "\n",
       "   count_unique_word  \n",
       "0                 19  \n",
       "1                 23  \n",
       "2                 64  \n",
       "3                 78  \n",
       "4                 47  "
      ]
     },
     "execution_count": 826,
     "metadata": {},
     "output_type": "execute_result"
    }
   ],
   "source": [
    "#Word count in each comment:\n",
    "review_data['count_word']=review_data[\"Reviews\"].apply(lambda x: len(str(x).split()))\n",
    "\n",
    "#Unique word count\n",
    "review_data['count_unique_word']=review_data[\"Reviews\"].apply(lambda x: len(set(str(x).split())))\n",
    "\n",
    "review_data.head(5)"
   ]
  },
  {
   "cell_type": "code",
   "execution_count": 827,
   "metadata": {},
   "outputs": [
    {
     "name": "stdout",
     "output_type": "stream",
     "text": [
      "Total word count in the corpus:  38577\n",
      "Total unique word count in the corpus:  28451\n"
     ]
    }
   ],
   "source": [
    "print(\"Total word count in the corpus: \", review_data['count_word'].sum())\n",
    "print(\"Total unique word count in the corpus: \", review_data['count_unique_word'].sum())"
   ]
  },
  {
   "cell_type": "markdown",
   "metadata": {},
   "source": [
    "#### Getting all human names"
   ]
  },
  {
   "cell_type": "code",
   "execution_count": 704,
   "metadata": {},
   "outputs": [
    {
     "name": "stdout",
     "output_type": "stream",
     "text": [
      "{'kelly', 'sakani hamilton', 'jacob m. koppel', 'mary', 'andrew', 'jeff', 'adam', 'sam', 'june lee', 'andrew leehy', 'dyllon b.', 'gregory', 'mike', 'alex', 'lending tree', 'john guerra', 'carla', 'peter', 'ben', 'fred', 'spring', 'patrick', 'brandon', 'brad', 'joe', 'adan', 'janeen cadwell', 'nasb', 'jim', 'wesley white', 'anthony marroquin', 'robert mcclung', 'mattison', 'rich', 'mark', 'tom', 'jon', 'matthew', 'maurice', 'mark taylor', 'jeremy', 'patrick g', 'jon barrett', 'ranee martinez', 'joey', 'ed', 'malcolm', 'steve', 'robert', 'paul', 'bryan', 'bill', 'michele', 'bryant', 'anthony', 'kory', 'rowel', 'jason', 'dlj', 'andy', 'jody martin', 'christopher waymire', 'aaron', 'triumph', 'janeen', 'john', 'michelle', 'ethan', 'lindread less', 'adaml', 'matt', 'dean', \"austen butler's\", 'chris', 'joanne', 'tim', 'brent', 'daniel', 'rick richter', 'teddy', 'germain', 'thanks patrick', 'steven shatz', 'brian', 'penny', 'peter lammerts', 'rick', 'steven', 'wyndham', 'kirk', 'chris thomas', 'sam fazio', 'quicken loans'}\n"
     ]
    }
   ],
   "source": [
    "nlp = spacy.load('en')\n",
    "ents_list = []\n",
    "for index, row in review_data.iterrows():\n",
    "    doc = nlp(row['Reviews'])\n",
    "    # Iterate over the predicted entities\n",
    "    for ent in doc.ents:\n",
    "        tmp = []\n",
    "        if ent.label_ == 'PERSON':\n",
    "            tmp.append(ent.text)\n",
    "    ents_list.append(tmp)\n",
    "    \n",
    "flat_list = []\n",
    "for sublist in ents_list:\n",
    "    for item in sublist:\n",
    "        flat_list.append(item.lower())\n",
    "person_name_set = set(flat_list)\n",
    "print(person_name_set)"
   ]
  },
  {
   "cell_type": "code",
   "execution_count": 705,
   "metadata": {},
   "outputs": [],
   "source": [
    "def clean_text(text):\n",
    "    \n",
    "    # remove web addresses\n",
    "    text = re.sub('(www\\.[^\\s]+)|(https?://[^\\s]+)','', text)\n",
    "\n",
    "    # Remove Emails\n",
    "    text = re.sub('\\S*@\\S*\\s?', '', text)\n",
    "\n",
    "    #remove numbers (this would take care of telephones too)\n",
    "    text = re.sub(r'\\d+', '', text)\n",
    "\n",
    "    # Remove new line characters\n",
    "    text = re.sub('\\s+', ' ', text)\n",
    "\n",
    "    #remove special characters\n",
    "    text = re.sub(\"[-()\\\"#/@;&:{}`+=~|.!?,'0-9]\", \"\", text)\n",
    "\n",
    "    #remove continuos spaces with one space character\n",
    "    text = re.sub(' +', ' ', text)\n",
    "    \n",
    "    # to lower case\n",
    "    text = text.lower()\n",
    "    \n",
    "    return(text)\n",
    "\n",
    "#it seems that stop word match should be in lower case\n",
    "def to_lower(text):\n",
    "    #all words to lower case\n",
    "    return text.lower()\n",
    "\n",
    "#def count_words_corpus(docs):\n",
    "#    #Word count in each comment:\n",
    "#    df['count_word'] = df[\"text\"].apply(lambda x: len(str(x).split()))"
   ]
  },
  {
   "cell_type": "code",
   "execution_count": 706,
   "metadata": {},
   "outputs": [],
   "source": [
    "#removing stop words\n",
    "def pre_process(text):\n",
    "    stop_words = set(nltk.corpus.stopwords.words('english'))\n",
    "    text = text.apply(lambda x: \" \".join(x for x in x.split() if x not in stop_words)) #Removing stop words\n",
    "    return(text)"
   ]
  },
  {
   "cell_type": "markdown",
   "metadata": {},
   "source": [
    "It seems that stop word match should be in lower case. Hence, changing everything to lower, then remove punctutions and finally clean the text."
   ]
  },
  {
   "cell_type": "code",
   "execution_count": 707,
   "metadata": {},
   "outputs": [],
   "source": [
    "review_data['Reviews'] = review_data[\"Reviews\"].apply(lambda x: to_lower(x))"
   ]
  },
  {
   "cell_type": "code",
   "execution_count": 708,
   "metadata": {},
   "outputs": [],
   "source": [
    "#clear stop words\n",
    "review_data['Reviews'] = pre_process(review_data[\"Reviews\"])"
   ]
  },
  {
   "cell_type": "code",
   "execution_count": 709,
   "metadata": {},
   "outputs": [],
   "source": [
    "#remove special characters\n",
    "review_data['Reviews'] = review_data[\"Reviews\"].apply(lambda x: clean_text(x))"
   ]
  },
  {
   "cell_type": "code",
   "execution_count": 710,
   "metadata": {},
   "outputs": [
    {
     "data": {
      "text/html": [
       "<div>\n",
       "<style scoped>\n",
       "    .dataframe tbody tr th:only-of-type {\n",
       "        vertical-align: middle;\n",
       "    }\n",
       "\n",
       "    .dataframe tbody tr th {\n",
       "        vertical-align: top;\n",
       "    }\n",
       "\n",
       "    .dataframe thead th {\n",
       "        text-align: right;\n",
       "    }\n",
       "</style>\n",
       "<table border=\"1\" class=\"dataframe\">\n",
       "  <thead>\n",
       "    <tr style=\"text-align: right;\">\n",
       "      <th></th>\n",
       "      <th>Date</th>\n",
       "      <th>Stars</th>\n",
       "      <th>Reviews</th>\n",
       "      <th>BankName</th>\n",
       "      <th>Reviews_Orig</th>\n",
       "    </tr>\n",
       "  </thead>\n",
       "  <tbody>\n",
       "    <tr>\n",
       "      <th>0</th>\n",
       "      <td>2017-04-10</td>\n",
       "      <td>5</td>\n",
       "      <td>great job wyndham capital person professional ...</td>\n",
       "      <td>Wyndham Capital Mortgage</td>\n",
       "      <td>Great job, Wyndham Capital! Each person was pr...</td>\n",
       "    </tr>\n",
       "    <tr>\n",
       "      <th>1</th>\n",
       "      <td>2017-02-10</td>\n",
       "      <td>5</td>\n",
       "      <td>matthew richardson professional helpful helped...</td>\n",
       "      <td>Wyndham Capital Mortgage</td>\n",
       "      <td>Matthew Richardson is professional and helpful...</td>\n",
       "    </tr>\n",
       "    <tr>\n",
       "      <th>2</th>\n",
       "      <td>2017-08-21</td>\n",
       "      <td>5</td>\n",
       "      <td>past experience wyndham mortgage would without...</td>\n",
       "      <td>Wyndham Capital Mortgage</td>\n",
       "      <td>We had a past experience with Wyndham Mortgage...</td>\n",
       "    </tr>\n",
       "    <tr>\n",
       "      <th>3</th>\n",
       "      <td>2017-12-17</td>\n",
       "      <td>5</td>\n",
       "      <td>dealing brad thomka beginning started stressfu...</td>\n",
       "      <td>Wyndham Capital Mortgage</td>\n",
       "      <td>We have been dealing with Brad Thomka from the...</td>\n",
       "    </tr>\n",
       "    <tr>\n",
       "      <th>4</th>\n",
       "      <td>2016-05-27</td>\n",
       "      <td>5</td>\n",
       "      <td>cant express grateful support zach provided fa...</td>\n",
       "      <td>Wyndham Capital Mortgage</td>\n",
       "      <td>I can't express how grateful I am for the supp...</td>\n",
       "    </tr>\n",
       "  </tbody>\n",
       "</table>\n",
       "</div>"
      ],
      "text/plain": [
       "        Date  Stars                                            Reviews  \\\n",
       "0 2017-04-10      5  great job wyndham capital person professional ...   \n",
       "1 2017-02-10      5  matthew richardson professional helpful helped...   \n",
       "2 2017-08-21      5  past experience wyndham mortgage would without...   \n",
       "3 2017-12-17      5  dealing brad thomka beginning started stressfu...   \n",
       "4 2016-05-27      5  cant express grateful support zach provided fa...   \n",
       "\n",
       "                   BankName                                       Reviews_Orig  \n",
       "0  Wyndham Capital Mortgage  Great job, Wyndham Capital! Each person was pr...  \n",
       "1  Wyndham Capital Mortgage  Matthew Richardson is professional and helpful...  \n",
       "2  Wyndham Capital Mortgage  We had a past experience with Wyndham Mortgage...  \n",
       "3  Wyndham Capital Mortgage  We have been dealing with Brad Thomka from the...  \n",
       "4  Wyndham Capital Mortgage  I can't express how grateful I am for the supp...  "
      ]
     },
     "execution_count": 710,
     "metadata": {},
     "output_type": "execute_result"
    }
   ],
   "source": [
    "review_data.head(5)"
   ]
  },
  {
   "cell_type": "code",
   "execution_count": null,
   "metadata": {},
   "outputs": [],
   "source": []
  },
  {
   "cell_type": "code",
   "execution_count": null,
   "metadata": {},
   "outputs": [],
   "source": []
  },
  {
   "cell_type": "markdown",
   "metadata": {},
   "source": [
    "### Lemmitization"
   ]
  },
  {
   "cell_type": "code",
   "execution_count": 711,
   "metadata": {},
   "outputs": [],
   "source": [
    "#Map POS tag to first character lemmatize() accepts\n",
    "def get_wordnet_pos(word):\n",
    "    tag = nltk.pos_tag([word])[0][1][0].upper()\n",
    "    tag_dict = {\"J\": wordnet.ADJ,\n",
    "                \"UH\": wordnet.NOUN,\n",
    "                \"V\": wordnet.VERB,\n",
    "                \"R\": wordnet.ADV}\n",
    "\n",
    "    return tag_dict.get(tag, wordnet.NOUN)"
   ]
  },
  {
   "cell_type": "code",
   "execution_count": 712,
   "metadata": {},
   "outputs": [],
   "source": [
    "wordnet_lemmatizer = WordNetLemmatizer()"
   ]
  },
  {
   "cell_type": "code",
   "execution_count": 713,
   "metadata": {},
   "outputs": [
    {
     "data": {
      "text/html": [
       "<div>\n",
       "<style scoped>\n",
       "    .dataframe tbody tr th:only-of-type {\n",
       "        vertical-align: middle;\n",
       "    }\n",
       "\n",
       "    .dataframe tbody tr th {\n",
       "        vertical-align: top;\n",
       "    }\n",
       "\n",
       "    .dataframe thead th {\n",
       "        text-align: right;\n",
       "    }\n",
       "</style>\n",
       "<table border=\"1\" class=\"dataframe\">\n",
       "  <thead>\n",
       "    <tr style=\"text-align: right;\">\n",
       "      <th></th>\n",
       "      <th>Date</th>\n",
       "      <th>Stars</th>\n",
       "      <th>Reviews</th>\n",
       "      <th>BankName</th>\n",
       "      <th>Reviews_Orig</th>\n",
       "    </tr>\n",
       "  </thead>\n",
       "  <tbody>\n",
       "    <tr>\n",
       "      <th>0</th>\n",
       "      <td>2017-04-10</td>\n",
       "      <td>5</td>\n",
       "      <td>great capital person professional help move re...</td>\n",
       "      <td>Wyndham Capital Mortgage</td>\n",
       "      <td>Great job, Wyndham Capital! Each person was pr...</td>\n",
       "    </tr>\n",
       "    <tr>\n",
       "      <th>1</th>\n",
       "      <td>2017-02-10</td>\n",
       "      <td>5</td>\n",
       "      <td>richardson professional helpful help find corr...</td>\n",
       "      <td>Wyndham Capital Mortgage</td>\n",
       "      <td>Matthew Richardson is professional and helpful...</td>\n",
       "    </tr>\n",
       "    <tr>\n",
       "      <th>2</th>\n",
       "      <td>2017-08-21</td>\n",
       "      <td>5</td>\n",
       "      <td>past experience mortgage would without questio...</td>\n",
       "      <td>Wyndham Capital Mortgage</td>\n",
       "      <td>We had a past experience with Wyndham Mortgage...</td>\n",
       "    </tr>\n",
       "    <tr>\n",
       "      <th>3</th>\n",
       "      <td>2017-12-17</td>\n",
       "      <td>5</td>\n",
       "      <td>deal thomka begin start stressful time help en...</td>\n",
       "      <td>Wyndham Capital Mortgage</td>\n",
       "      <td>We have been dealing with Brad Thomka from the...</td>\n",
       "    </tr>\n",
       "    <tr>\n",
       "      <th>4</th>\n",
       "      <td>2016-05-27</td>\n",
       "      <td>5</td>\n",
       "      <td>cant express grateful support zach provide fam...</td>\n",
       "      <td>Wyndham Capital Mortgage</td>\n",
       "      <td>I can't express how grateful I am for the supp...</td>\n",
       "    </tr>\n",
       "  </tbody>\n",
       "</table>\n",
       "</div>"
      ],
      "text/plain": [
       "        Date  Stars                                            Reviews  \\\n",
       "0 2017-04-10      5  great capital person professional help move re...   \n",
       "1 2017-02-10      5  richardson professional helpful help find corr...   \n",
       "2 2017-08-21      5  past experience mortgage would without questio...   \n",
       "3 2017-12-17      5  deal thomka begin start stressful time help en...   \n",
       "4 2016-05-27      5  cant express grateful support zach provide fam...   \n",
       "\n",
       "                   BankName                                       Reviews_Orig  \n",
       "0  Wyndham Capital Mortgage  Great job, Wyndham Capital! Each person was pr...  \n",
       "1  Wyndham Capital Mortgage  Matthew Richardson is professional and helpful...  \n",
       "2  Wyndham Capital Mortgage  We had a past experience with Wyndham Mortgage...  \n",
       "3  Wyndham Capital Mortgage  We have been dealing with Brad Thomka from the...  \n",
       "4  Wyndham Capital Mortgage  I can't express how grateful I am for the supp...  "
      ]
     },
     "execution_count": 713,
     "metadata": {},
     "output_type": "execute_result"
    }
   ],
   "source": [
    "for index, row in review_data.iterrows():\n",
    "    sentence_words = nltk.word_tokenize(row['Reviews'])\n",
    "    tmp = []\n",
    "    for word in sentence_words:\n",
    "        if len(word) > 3 and word not in person_name_set:\n",
    "            t = wordnet_lemmatizer.lemmatize(word, get_wordnet_pos(word))\n",
    "            if len(t) > 2:\n",
    "                tmp.append(t)\n",
    "    text = \" \".join(tmp)\n",
    "    review_data.loc[index, 'Reviews'] = text\n",
    "\n",
    "review_data.head(5)"
   ]
  },
  {
   "cell_type": "markdown",
   "metadata": {},
   "source": [
    "### Calculating if the review is Negative, Positive or Neutral "
   ]
  },
  {
   "cell_type": "code",
   "execution_count": 714,
   "metadata": {},
   "outputs": [],
   "source": [
    "## This function accepts text/review and returns if the review was Positive, Negative or Neutral\n",
    "def sentiment_review(text):\n",
    "    review = TextBlob(text)    \n",
    "    polarity_score = review.sentiment.polarity\n",
    "    if polarity_score > 0:\n",
    "        return 'Positive'\n",
    "    elif polarity_score < 0:\n",
    "        return 'Negative'\n",
    "    else:\n",
    "        return 'Neutral' \n",
    "\n",
    "senti_df = pd.DataFrame()\n",
    "senti_df = review_data[[\"Reviews_Orig\",\"Stars\"]].copy()\n",
    "#only applying the text cleaning\n",
    "senti_df['Reviews'] = senti_df[\"Reviews_Orig\"].apply(lambda x: clean_text(x))\n",
    "senti_df['sentiment'] = senti_df['Reviews'].apply(lambda x: sentiment_review(x))"
   ]
  },
  {
   "cell_type": "code",
   "execution_count": 715,
   "metadata": {},
   "outputs": [
    {
     "data": {
      "text/html": [
       "<div>\n",
       "<style scoped>\n",
       "    .dataframe tbody tr th:only-of-type {\n",
       "        vertical-align: middle;\n",
       "    }\n",
       "\n",
       "    .dataframe tbody tr th {\n",
       "        vertical-align: top;\n",
       "    }\n",
       "\n",
       "    .dataframe thead th {\n",
       "        text-align: right;\n",
       "    }\n",
       "</style>\n",
       "<table border=\"1\" class=\"dataframe\">\n",
       "  <thead>\n",
       "    <tr style=\"text-align: right;\">\n",
       "      <th></th>\n",
       "      <th>Reviews_Orig</th>\n",
       "      <th>Stars</th>\n",
       "      <th>Reviews</th>\n",
       "      <th>sentiment</th>\n",
       "    </tr>\n",
       "  </thead>\n",
       "  <tbody>\n",
       "    <tr>\n",
       "      <th>0</th>\n",
       "      <td>Great job, Wyndham Capital! Each person was pr...</td>\n",
       "      <td>5</td>\n",
       "      <td>great job wyndham capital each person was prof...</td>\n",
       "      <td>Positive</td>\n",
       "    </tr>\n",
       "    <tr>\n",
       "      <th>1</th>\n",
       "      <td>Matthew Richardson is professional and helpful...</td>\n",
       "      <td>5</td>\n",
       "      <td>matthew richardson is professional and helpful...</td>\n",
       "      <td>Positive</td>\n",
       "    </tr>\n",
       "    <tr>\n",
       "      <th>2</th>\n",
       "      <td>We had a past experience with Wyndham Mortgage...</td>\n",
       "      <td>5</td>\n",
       "      <td>we had a past experience with wyndham mortgage...</td>\n",
       "      <td>Negative</td>\n",
       "    </tr>\n",
       "    <tr>\n",
       "      <th>3</th>\n",
       "      <td>We have been dealing with Brad Thomka from the...</td>\n",
       "      <td>5</td>\n",
       "      <td>we have been dealing with brad thomka from the...</td>\n",
       "      <td>Positive</td>\n",
       "    </tr>\n",
       "    <tr>\n",
       "      <th>4</th>\n",
       "      <td>I can't express how grateful I am for the supp...</td>\n",
       "      <td>5</td>\n",
       "      <td>i cant express how grateful i am for the suppo...</td>\n",
       "      <td>Positive</td>\n",
       "    </tr>\n",
       "  </tbody>\n",
       "</table>\n",
       "</div>"
      ],
      "text/plain": [
       "                                        Reviews_Orig  Stars  \\\n",
       "0  Great job, Wyndham Capital! Each person was pr...      5   \n",
       "1  Matthew Richardson is professional and helpful...      5   \n",
       "2  We had a past experience with Wyndham Mortgage...      5   \n",
       "3  We have been dealing with Brad Thomka from the...      5   \n",
       "4  I can't express how grateful I am for the supp...      5   \n",
       "\n",
       "                                             Reviews sentiment  \n",
       "0  great job wyndham capital each person was prof...  Positive  \n",
       "1  matthew richardson is professional and helpful...  Positive  \n",
       "2  we had a past experience with wyndham mortgage...  Negative  \n",
       "3  we have been dealing with brad thomka from the...  Positive  \n",
       "4  i cant express how grateful i am for the suppo...  Positive  "
      ]
     },
     "execution_count": 715,
     "metadata": {},
     "output_type": "execute_result"
    }
   ],
   "source": [
    "senti_df.head(5)"
   ]
  },
  {
   "cell_type": "code",
   "execution_count": 716,
   "metadata": {},
   "outputs": [
    {
     "data": {
      "text/plain": [
       "\"\\r\\nI was working with a loan consultant from NASB and she told me that she would give me a rate of 4.875% for a 30 year fixed loan with a total closing cost of $2300. I asked her to send me the good faith estimate. The good faith estimate came with a total closing cost of $2929 which is about $600 more than she mentioned during our conversation. When I called her for explanation of the extra $600 she said that there is a state tax 545.10 which she was not aware of. What an explanation!!!! She knew my state from the beginning and I repeatedly asked her for a 'TOTAL' closing cost and that time she repeatedly said it will be $2300. As a loan consultant she should have known that there is something like a 'STATE TAX' that might come later and should have mentioned that to me. I am not supposed to know what are the different compoents/fees or taxes that apply during closing. She does this everyday and she could have been honest with me from the beginning. I expected honest communication from a loan consultant from NASB bank and I did not receive that. I am very disappointed... Read More\\r\\n        \""
      ]
     },
     "execution_count": 716,
     "metadata": {},
     "output_type": "execute_result"
    }
   ],
   "source": [
    "#there have been misclassifications, below is and example with 1 star rating but positive sentiment\n",
    "senti_df.loc[504]['Reviews_Orig']"
   ]
  },
  {
   "cell_type": "code",
   "execution_count": 717,
   "metadata": {},
   "outputs": [
    {
     "data": {
      "text/html": [
       "<div>\n",
       "<style scoped>\n",
       "    .dataframe tbody tr th:only-of-type {\n",
       "        vertical-align: middle;\n",
       "    }\n",
       "\n",
       "    .dataframe tbody tr th {\n",
       "        vertical-align: top;\n",
       "    }\n",
       "\n",
       "    .dataframe thead th {\n",
       "        text-align: right;\n",
       "    }\n",
       "</style>\n",
       "<table border=\"1\" class=\"dataframe\">\n",
       "  <thead>\n",
       "    <tr style=\"text-align: right;\">\n",
       "      <th>Stars</th>\n",
       "      <th>1</th>\n",
       "      <th>5</th>\n",
       "    </tr>\n",
       "    <tr>\n",
       "      <th>sentiment</th>\n",
       "      <th></th>\n",
       "      <th></th>\n",
       "    </tr>\n",
       "  </thead>\n",
       "  <tbody>\n",
       "    <tr>\n",
       "      <th>Negative</th>\n",
       "      <td>28</td>\n",
       "      <td>6</td>\n",
       "    </tr>\n",
       "    <tr>\n",
       "      <th>Neutral</th>\n",
       "      <td>4</td>\n",
       "      <td>0</td>\n",
       "    </tr>\n",
       "    <tr>\n",
       "      <th>Positive</th>\n",
       "      <td>62</td>\n",
       "      <td>403</td>\n",
       "    </tr>\n",
       "  </tbody>\n",
       "</table>\n",
       "</div>"
      ],
      "text/plain": [
       "Stars       1    5\n",
       "sentiment         \n",
       "Negative   28    6\n",
       "Neutral     4    0\n",
       "Positive   62  403"
      ]
     },
     "execution_count": 717,
     "metadata": {},
     "output_type": "execute_result"
    }
   ],
   "source": [
    "pd.crosstab(senti_df.sentiment, senti_df.Stars)"
   ]
  },
  {
   "cell_type": "code",
   "execution_count": 718,
   "metadata": {},
   "outputs": [
    {
     "data": {
      "image/png": "[encoded data removed]",
      "text/plain": [
       "<Figure size 432x432 with 1 Axes>"
      ]
     },
     "metadata": {
      "needs_background": "light"
     },
     "output_type": "display_data"
    }
   ],
   "source": [
    "sentiment = senti_df.groupby(senti_df['sentiment']).size()\n",
    "\n",
    "fig, axs = plt.subplots(figsize = (6,6))\n",
    "sns.barplot(sentiment.index, sentiment.values,  orient='v')\n",
    "\n",
    "plt.title('Count per Sentiment category',fontsize=20)\n",
    "plt.xlabel('Sentiment',fontsize=15)\n",
    "plt.ylabel('Count',fontsize=15)\n",
    "plt.show()"
   ]
  },
  {
   "cell_type": "markdown",
   "metadata": {},
   "source": [
    "Maximum number of reviews were classified as Positive, this was expected as over 400 out of 500 reviews were, 5 start reviews.\n",
    "Since, all reviews in the data were either 1 start or 5 star, it was expected that neutral reviews would be close to zero.\n",
    "There were certain mis-matches between the sentiment and star ratings, as can be observed from the cross-tab\n"
   ]
  },
  {
   "cell_type": "markdown",
   "metadata": {},
   "source": [
    "### Key positive words, negative words (most frequent words) "
   ]
  },
  {
   "cell_type": "markdown",
   "metadata": {},
   "source": [
    "#### Get DTM for all reviews"
   ]
  },
  {
   "cell_type": "code",
   "execution_count": 719,
   "metadata": {},
   "outputs": [],
   "source": [
    "#Vectorization\n",
    "count_vect = CountVectorizer(analyzer='word', \n",
    "                             token_pattern=r'\\w{1,}', \n",
    "                             ngram_range=(1, 1 ), \n",
    "                             min_df=5, \n",
    "                             lowercase = True,\n",
    "                             encoding='latin-1' , \n",
    "                             max_features=1000)\n",
    "reviews_count = count_vect.fit_transform(review_data['Reviews'])"
   ]
  },
  {
   "cell_type": "code",
   "execution_count": 720,
   "metadata": {},
   "outputs": [
    {
     "data": {
      "text/html": [
       "<div>\n",
       "<style scoped>\n",
       "    .dataframe tbody tr th:only-of-type {\n",
       "        vertical-align: middle;\n",
       "    }\n",
       "\n",
       "    .dataframe tbody tr th {\n",
       "        vertical-align: top;\n",
       "    }\n",
       "\n",
       "    .dataframe thead th {\n",
       "        text-align: right;\n",
       "    }\n",
       "</style>\n",
       "<table border=\"1\" class=\"dataframe\">\n",
       "  <thead>\n",
       "    <tr style=\"text-align: right;\">\n",
       "      <th></th>\n",
       "      <th>ability</th>\n",
       "      <th>able</th>\n",
       "      <th>absolutely</th>\n",
       "      <th>accept</th>\n",
       "      <th>accommodate</th>\n",
       "      <th>account</th>\n",
       "      <th>accurate</th>\n",
       "      <th>achieve</th>\n",
       "      <th>across</th>\n",
       "      <th>actual</th>\n",
       "      <th>...</th>\n",
       "      <th>without</th>\n",
       "      <th>wonderful</th>\n",
       "      <th>word</th>\n",
       "      <th>work</th>\n",
       "      <th>worth</th>\n",
       "      <th>would</th>\n",
       "      <th>wouldn</th>\n",
       "      <th>write</th>\n",
       "      <th>wrong</th>\n",
       "      <th>year</th>\n",
       "    </tr>\n",
       "  </thead>\n",
       "  <tbody>\n",
       "    <tr>\n",
       "      <th>0</th>\n",
       "      <td>0</td>\n",
       "      <td>0</td>\n",
       "      <td>0</td>\n",
       "      <td>0</td>\n",
       "      <td>0</td>\n",
       "      <td>0</td>\n",
       "      <td>0</td>\n",
       "      <td>0</td>\n",
       "      <td>0</td>\n",
       "      <td>0</td>\n",
       "      <td>...</td>\n",
       "      <td>0</td>\n",
       "      <td>0</td>\n",
       "      <td>0</td>\n",
       "      <td>0</td>\n",
       "      <td>0</td>\n",
       "      <td>0</td>\n",
       "      <td>0</td>\n",
       "      <td>0</td>\n",
       "      <td>0</td>\n",
       "      <td>0</td>\n",
       "    </tr>\n",
       "    <tr>\n",
       "      <th>1</th>\n",
       "      <td>0</td>\n",
       "      <td>0</td>\n",
       "      <td>0</td>\n",
       "      <td>0</td>\n",
       "      <td>0</td>\n",
       "      <td>0</td>\n",
       "      <td>0</td>\n",
       "      <td>0</td>\n",
       "      <td>0</td>\n",
       "      <td>0</td>\n",
       "      <td>...</td>\n",
       "      <td>0</td>\n",
       "      <td>0</td>\n",
       "      <td>0</td>\n",
       "      <td>0</td>\n",
       "      <td>0</td>\n",
       "      <td>0</td>\n",
       "      <td>0</td>\n",
       "      <td>0</td>\n",
       "      <td>0</td>\n",
       "      <td>0</td>\n",
       "    </tr>\n",
       "    <tr>\n",
       "      <th>2</th>\n",
       "      <td>0</td>\n",
       "      <td>0</td>\n",
       "      <td>0</td>\n",
       "      <td>0</td>\n",
       "      <td>0</td>\n",
       "      <td>0</td>\n",
       "      <td>0</td>\n",
       "      <td>0</td>\n",
       "      <td>0</td>\n",
       "      <td>0</td>\n",
       "      <td>...</td>\n",
       "      <td>1</td>\n",
       "      <td>0</td>\n",
       "      <td>0</td>\n",
       "      <td>0</td>\n",
       "      <td>0</td>\n",
       "      <td>2</td>\n",
       "      <td>0</td>\n",
       "      <td>0</td>\n",
       "      <td>1</td>\n",
       "      <td>0</td>\n",
       "    </tr>\n",
       "    <tr>\n",
       "      <th>3</th>\n",
       "      <td>0</td>\n",
       "      <td>0</td>\n",
       "      <td>0</td>\n",
       "      <td>0</td>\n",
       "      <td>0</td>\n",
       "      <td>0</td>\n",
       "      <td>0</td>\n",
       "      <td>0</td>\n",
       "      <td>0</td>\n",
       "      <td>0</td>\n",
       "      <td>...</td>\n",
       "      <td>0</td>\n",
       "      <td>0</td>\n",
       "      <td>0</td>\n",
       "      <td>0</td>\n",
       "      <td>0</td>\n",
       "      <td>1</td>\n",
       "      <td>0</td>\n",
       "      <td>0</td>\n",
       "      <td>1</td>\n",
       "      <td>0</td>\n",
       "    </tr>\n",
       "    <tr>\n",
       "      <th>4</th>\n",
       "      <td>0</td>\n",
       "      <td>0</td>\n",
       "      <td>0</td>\n",
       "      <td>0</td>\n",
       "      <td>0</td>\n",
       "      <td>0</td>\n",
       "      <td>0</td>\n",
       "      <td>0</td>\n",
       "      <td>0</td>\n",
       "      <td>0</td>\n",
       "      <td>...</td>\n",
       "      <td>0</td>\n",
       "      <td>0</td>\n",
       "      <td>0</td>\n",
       "      <td>1</td>\n",
       "      <td>0</td>\n",
       "      <td>0</td>\n",
       "      <td>0</td>\n",
       "      <td>0</td>\n",
       "      <td>0</td>\n",
       "      <td>0</td>\n",
       "    </tr>\n",
       "  </tbody>\n",
       "</table>\n",
       "<p>5 rows × 623 columns</p>\n",
       "</div>"
      ],
      "text/plain": [
       "   ability  able  absolutely  accept  accommodate  account  accurate  achieve  \\\n",
       "0        0     0           0       0            0        0         0        0   \n",
       "1        0     0           0       0            0        0         0        0   \n",
       "2        0     0           0       0            0        0         0        0   \n",
       "3        0     0           0       0            0        0         0        0   \n",
       "4        0     0           0       0            0        0         0        0   \n",
       "\n",
       "   across  actual  ...  without  wonderful  word  work  worth  would  wouldn  \\\n",
       "0       0       0  ...        0          0     0     0      0      0       0   \n",
       "1       0       0  ...        0          0     0     0      0      0       0   \n",
       "2       0       0  ...        1          0     0     0      0      2       0   \n",
       "3       0       0  ...        0          0     0     0      0      1       0   \n",
       "4       0       0  ...        0          0     0     1      0      0       0   \n",
       "\n",
       "   write  wrong  year  \n",
       "0      0      0     0  \n",
       "1      0      0     0  \n",
       "2      0      1     0  \n",
       "3      0      1     0  \n",
       "4      0      0     0  \n",
       "\n",
       "[5 rows x 623 columns]"
      ]
     },
     "execution_count": 720,
     "metadata": {},
     "output_type": "execute_result"
    }
   ],
   "source": [
    "#Get Document Term Matrix\n",
    "\n",
    "#convert to word count 2D array\n",
    "dtm_array = reviews_count.toarray()\n",
    "#get all words as columns\n",
    "dtm_cols = count_vect.get_feature_names()\n",
    "#convert word count 2D array to dataframe\n",
    "reviews_dtm = pd.DataFrame(dtm_array)\n",
    "#add column names\n",
    "reviews_dtm.columns = dtm_cols\n",
    "reviews_dtm.head(5)"
   ]
  },
  {
   "cell_type": "code",
   "execution_count": 721,
   "metadata": {},
   "outputs": [],
   "source": [
    "## count words\n",
    "word_freq = pd.DataFrame(reviews_dtm.apply(sum), columns=['freq'])\n",
    "word_freq.reset_index(level=0, inplace=True)\n",
    "word_freq.rename(columns={'index': 'Term'}, inplace=True)"
   ]
  },
  {
   "cell_type": "code",
   "execution_count": 722,
   "metadata": {},
   "outputs": [],
   "source": [
    "## This function accepts text and returns if the text was Positive, Negative\n",
    "def neg_pos_txt(text):\n",
    "    review = TextBlob(text)    \n",
    "    polarity_score = review.sentiment.polarity\n",
    "    if polarity_score > 0:\n",
    "        return 'Positive'\n",
    "    else:\n",
    "        return 'Negative' "
   ]
  },
  {
   "cell_type": "code",
   "execution_count": 723,
   "metadata": {},
   "outputs": [
    {
     "data": {
      "text/html": [
       "<div>\n",
       "<style scoped>\n",
       "    .dataframe tbody tr th:only-of-type {\n",
       "        vertical-align: middle;\n",
       "    }\n",
       "\n",
       "    .dataframe tbody tr th {\n",
       "        vertical-align: top;\n",
       "    }\n",
       "\n",
       "    .dataframe thead th {\n",
       "        text-align: right;\n",
       "    }\n",
       "</style>\n",
       "<table border=\"1\" class=\"dataframe\">\n",
       "  <thead>\n",
       "    <tr style=\"text-align: right;\">\n",
       "      <th></th>\n",
       "      <th>Term</th>\n",
       "      <th>freq</th>\n",
       "      <th>sentiment</th>\n",
       "    </tr>\n",
       "  </thead>\n",
       "  <tbody>\n",
       "    <tr>\n",
       "      <th>0</th>\n",
       "      <td>ability</td>\n",
       "      <td>5</td>\n",
       "      <td>Negative</td>\n",
       "    </tr>\n",
       "    <tr>\n",
       "      <th>1</th>\n",
       "      <td>able</td>\n",
       "      <td>47</td>\n",
       "      <td>Positive</td>\n",
       "    </tr>\n",
       "    <tr>\n",
       "      <th>2</th>\n",
       "      <td>absolutely</td>\n",
       "      <td>13</td>\n",
       "      <td>Positive</td>\n",
       "    </tr>\n",
       "    <tr>\n",
       "      <th>3</th>\n",
       "      <td>accept</td>\n",
       "      <td>6</td>\n",
       "      <td>Negative</td>\n",
       "    </tr>\n",
       "    <tr>\n",
       "      <th>4</th>\n",
       "      <td>accommodate</td>\n",
       "      <td>7</td>\n",
       "      <td>Negative</td>\n",
       "    </tr>\n",
       "    <tr>\n",
       "      <th>5</th>\n",
       "      <td>account</td>\n",
       "      <td>15</td>\n",
       "      <td>Negative</td>\n",
       "    </tr>\n",
       "    <tr>\n",
       "      <th>6</th>\n",
       "      <td>accurate</td>\n",
       "      <td>10</td>\n",
       "      <td>Positive</td>\n",
       "    </tr>\n",
       "    <tr>\n",
       "      <th>7</th>\n",
       "      <td>achieve</td>\n",
       "      <td>5</td>\n",
       "      <td>Negative</td>\n",
       "    </tr>\n",
       "    <tr>\n",
       "      <th>8</th>\n",
       "      <td>across</td>\n",
       "      <td>13</td>\n",
       "      <td>Negative</td>\n",
       "    </tr>\n",
       "    <tr>\n",
       "      <th>9</th>\n",
       "      <td>actual</td>\n",
       "      <td>8</td>\n",
       "      <td>Negative</td>\n",
       "    </tr>\n",
       "  </tbody>\n",
       "</table>\n",
       "</div>"
      ],
      "text/plain": [
       "          Term  freq sentiment\n",
       "0      ability     5  Negative\n",
       "1         able    47  Positive\n",
       "2   absolutely    13  Positive\n",
       "3       accept     6  Negative\n",
       "4  accommodate     7  Negative\n",
       "5      account    15  Negative\n",
       "6     accurate    10  Positive\n",
       "7      achieve     5  Negative\n",
       "8       across    13  Negative\n",
       "9       actual     8  Negative"
      ]
     },
     "execution_count": 723,
     "metadata": {},
     "output_type": "execute_result"
    }
   ],
   "source": [
    "#categories words as negative, positive, neutral with TextBlob sentiment.polarity\n",
    "word_freq['sentiment'] = word_freq[\"Term\"].apply(lambda x: neg_pos_txt(x))\n",
    "word_freq.head(10)"
   ]
  },
  {
   "cell_type": "code",
   "execution_count": 724,
   "metadata": {},
   "outputs": [
    {
     "data": {
      "text/plain": [
       "sentiment\n",
       "Negative    541\n",
       "Positive     82\n",
       "dtype: int64"
      ]
     },
     "execution_count": 724,
     "metadata": {},
     "output_type": "execute_result"
    }
   ],
   "source": [
    "word_freq.groupby('sentiment').size()"
   ]
  },
  {
   "cell_type": "code",
   "execution_count": 725,
   "metadata": {},
   "outputs": [
    {
     "data": {
      "text/html": [
       "<div>\n",
       "<style scoped>\n",
       "    .dataframe tbody tr th:only-of-type {\n",
       "        vertical-align: middle;\n",
       "    }\n",
       "\n",
       "    .dataframe tbody tr th {\n",
       "        vertical-align: top;\n",
       "    }\n",
       "\n",
       "    .dataframe thead th {\n",
       "        text-align: right;\n",
       "    }\n",
       "</style>\n",
       "<table border=\"1\" class=\"dataframe\">\n",
       "  <thead>\n",
       "    <tr style=\"text-align: right;\">\n",
       "      <th></th>\n",
       "      <th>Term</th>\n",
       "      <th>freq</th>\n",
       "      <th>sentiment</th>\n",
       "    </tr>\n",
       "  </thead>\n",
       "  <tbody>\n",
       "    <tr>\n",
       "      <th>231</th>\n",
       "      <td>great</td>\n",
       "      <td>138</td>\n",
       "      <td>Positive</td>\n",
       "    </tr>\n",
       "    <tr>\n",
       "      <th>64</th>\n",
       "      <td>best</td>\n",
       "      <td>99</td>\n",
       "      <td>Positive</td>\n",
       "    </tr>\n",
       "    <tr>\n",
       "      <th>209</th>\n",
       "      <td>first</td>\n",
       "      <td>78</td>\n",
       "      <td>Positive</td>\n",
       "    </tr>\n",
       "    <tr>\n",
       "      <th>156</th>\n",
       "      <td>easy</td>\n",
       "      <td>76</td>\n",
       "      <td>Positive</td>\n",
       "    </tr>\n",
       "    <tr>\n",
       "      <th>417</th>\n",
       "      <td>professional</td>\n",
       "      <td>71</td>\n",
       "      <td>Positive</td>\n",
       "    </tr>\n",
       "    <tr>\n",
       "      <th>248</th>\n",
       "      <td>highly</td>\n",
       "      <td>64</td>\n",
       "      <td>Positive</td>\n",
       "    </tr>\n",
       "    <tr>\n",
       "      <th>541</th>\n",
       "      <td>thanks</td>\n",
       "      <td>61</td>\n",
       "      <td>Positive</td>\n",
       "    </tr>\n",
       "    <tr>\n",
       "      <th>529</th>\n",
       "      <td>sure</td>\n",
       "      <td>51</td>\n",
       "      <td>Positive</td>\n",
       "    </tr>\n",
       "    <tr>\n",
       "      <th>1</th>\n",
       "      <td>able</td>\n",
       "      <td>47</td>\n",
       "      <td>Positive</td>\n",
       "    </tr>\n",
       "    <tr>\n",
       "      <th>228</th>\n",
       "      <td>good</td>\n",
       "      <td>43</td>\n",
       "      <td>Positive</td>\n",
       "    </tr>\n",
       "    <tr>\n",
       "      <th>319</th>\n",
       "      <td>many</td>\n",
       "      <td>38</td>\n",
       "      <td>Positive</td>\n",
       "    </tr>\n",
       "    <tr>\n",
       "      <th>339</th>\n",
       "      <td>much</td>\n",
       "      <td>38</td>\n",
       "      <td>Positive</td>\n",
       "    </tr>\n",
       "    <tr>\n",
       "      <th>431</th>\n",
       "      <td>quick</td>\n",
       "      <td>37</td>\n",
       "      <td>Positive</td>\n",
       "    </tr>\n",
       "    <tr>\n",
       "      <th>240</th>\n",
       "      <td>happy</td>\n",
       "      <td>37</td>\n",
       "      <td>Positive</td>\n",
       "    </tr>\n",
       "    <tr>\n",
       "      <th>219</th>\n",
       "      <td>friendly</td>\n",
       "      <td>34</td>\n",
       "      <td>Positive</td>\n",
       "    </tr>\n",
       "    <tr>\n",
       "      <th>107</th>\n",
       "      <td>complete</td>\n",
       "      <td>31</td>\n",
       "      <td>Positive</td>\n",
       "    </tr>\n",
       "    <tr>\n",
       "      <th>440</th>\n",
       "      <td>really</td>\n",
       "      <td>31</td>\n",
       "      <td>Positive</td>\n",
       "    </tr>\n",
       "    <tr>\n",
       "      <th>179</th>\n",
       "      <td>excellent</td>\n",
       "      <td>30</td>\n",
       "      <td>Positive</td>\n",
       "    </tr>\n",
       "    <tr>\n",
       "      <th>49</th>\n",
       "      <td>available</td>\n",
       "      <td>29</td>\n",
       "      <td>Positive</td>\n",
       "    </tr>\n",
       "    <tr>\n",
       "      <th>466</th>\n",
       "      <td>right</td>\n",
       "      <td>28</td>\n",
       "      <td>Positive</td>\n",
       "    </tr>\n",
       "  </tbody>\n",
       "</table>\n",
       "</div>"
      ],
      "text/plain": [
       "             Term  freq sentiment\n",
       "231         great   138  Positive\n",
       "64           best    99  Positive\n",
       "209         first    78  Positive\n",
       "156          easy    76  Positive\n",
       "417  professional    71  Positive\n",
       "248        highly    64  Positive\n",
       "541        thanks    61  Positive\n",
       "529          sure    51  Positive\n",
       "1            able    47  Positive\n",
       "228          good    43  Positive\n",
       "319          many    38  Positive\n",
       "339          much    38  Positive\n",
       "431         quick    37  Positive\n",
       "240         happy    37  Positive\n",
       "219      friendly    34  Positive\n",
       "107      complete    31  Positive\n",
       "440        really    31  Positive\n",
       "179     excellent    30  Positive\n",
       "49      available    29  Positive\n",
       "466         right    28  Positive"
      ]
     },
     "execution_count": 725,
     "metadata": {},
     "output_type": "execute_result"
    }
   ],
   "source": [
    "# separating positive words\n",
    "positive_words = word_freq.loc[word_freq['sentiment']=='Positive',:].sort_values('freq',ascending=False)\n",
    "\n",
    "#ten most frequently used positive words.\n",
    "positive_words = positive_words.head(20)\n",
    "positive_words"
   ]
  },
  {
   "cell_type": "code",
   "execution_count": 726,
   "metadata": {},
   "outputs": [
    {
     "data": {
      "image/png": "[encoded data removed]",
      "text/plain": [
       "<Figure size 720x432 with 1 Axes>"
      ]
     },
     "metadata": {
      "needs_background": "light"
     },
     "output_type": "display_data"
    }
   ],
   "source": [
    "#plot most frequently used positive words\n",
    "fig, axs = plt.subplots(figsize = (10,6))\n",
    "sns.barplot(positive_words['Term'], positive_words['freq'],  orient='v')\n",
    "\n",
    "plt.title('Most frequently used positive words',fontsize=20)\n",
    "plt.xlabel('Positive words',fontsize=15)\n",
    "plt.ylabel('Count',fontsize=15)\n",
    "plt.xticks(rotation=90)\n",
    "plt.show()"
   ]
  },
  {
   "cell_type": "code",
   "execution_count": 727,
   "metadata": {},
   "outputs": [
    {
     "data": {
      "image/png": "[encoded data removed]",
      "text/plain": [
       "<Figure size 864x864 with 1 Axes>"
      ]
     },
     "metadata": {
      "needs_background": "light"
     },
     "output_type": "display_data"
    }
   ],
   "source": [
    "#word cloud of 10 most frequently used positive words\n",
    "wordcloud = WordCloud().generate(' '.join(positive_words['Term']))\n",
    "# plot the WordCloud image                        \n",
    "plt.figure(figsize = (12, 12), facecolor = None) \n",
    "plt.imshow(wordcloud) \n",
    "plt.axis(\"off\")  \n",
    "plt.show()"
   ]
  },
  {
   "cell_type": "code",
   "execution_count": 728,
   "metadata": {},
   "outputs": [
    {
     "data": {
      "text/html": [
       "<div>\n",
       "<style scoped>\n",
       "    .dataframe tbody tr th:only-of-type {\n",
       "        vertical-align: middle;\n",
       "    }\n",
       "\n",
       "    .dataframe tbody tr th {\n",
       "        vertical-align: top;\n",
       "    }\n",
       "\n",
       "    .dataframe thead th {\n",
       "        text-align: right;\n",
       "    }\n",
       "</style>\n",
       "<table border=\"1\" class=\"dataframe\">\n",
       "  <thead>\n",
       "    <tr style=\"text-align: right;\">\n",
       "      <th></th>\n",
       "      <th>Term</th>\n",
       "      <th>freq</th>\n",
       "      <th>sentiment</th>\n",
       "    </tr>\n",
       "  </thead>\n",
       "  <tbody>\n",
       "    <tr>\n",
       "      <th>309</th>\n",
       "      <td>loan</td>\n",
       "      <td>327</td>\n",
       "      <td>Negative</td>\n",
       "    </tr>\n",
       "    <tr>\n",
       "      <th>616</th>\n",
       "      <td>work</td>\n",
       "      <td>291</td>\n",
       "      <td>Negative</td>\n",
       "    </tr>\n",
       "    <tr>\n",
       "      <th>413</th>\n",
       "      <td>process</td>\n",
       "      <td>256</td>\n",
       "      <td>Negative</td>\n",
       "    </tr>\n",
       "    <tr>\n",
       "      <th>618</th>\n",
       "      <td>would</td>\n",
       "      <td>246</td>\n",
       "      <td>Negative</td>\n",
       "    </tr>\n",
       "    <tr>\n",
       "      <th>556</th>\n",
       "      <td>time</td>\n",
       "      <td>221</td>\n",
       "      <td>Negative</td>\n",
       "    </tr>\n",
       "    <tr>\n",
       "      <th>317</th>\n",
       "      <td>make</td>\n",
       "      <td>202</td>\n",
       "      <td>Negative</td>\n",
       "    </tr>\n",
       "    <tr>\n",
       "      <th>250</th>\n",
       "      <td>home</td>\n",
       "      <td>197</td>\n",
       "      <td>Negative</td>\n",
       "    </tr>\n",
       "    <tr>\n",
       "      <th>437</th>\n",
       "      <td>read</td>\n",
       "      <td>190</td>\n",
       "      <td>Negative</td>\n",
       "    </tr>\n",
       "    <tr>\n",
       "      <th>444</th>\n",
       "      <td>recommend</td>\n",
       "      <td>175</td>\n",
       "      <td>Negative</td>\n",
       "    </tr>\n",
       "    <tr>\n",
       "      <th>336</th>\n",
       "      <td>mortgage</td>\n",
       "      <td>155</td>\n",
       "      <td>Negative</td>\n",
       "    </tr>\n",
       "    <tr>\n",
       "      <th>72</th>\n",
       "      <td>call</td>\n",
       "      <td>153</td>\n",
       "      <td>Negative</td>\n",
       "    </tr>\n",
       "    <tr>\n",
       "      <th>435</th>\n",
       "      <td>rate</td>\n",
       "      <td>144</td>\n",
       "      <td>Negative</td>\n",
       "    </tr>\n",
       "    <tr>\n",
       "      <th>91</th>\n",
       "      <td>closing</td>\n",
       "      <td>135</td>\n",
       "      <td>Negative</td>\n",
       "    </tr>\n",
       "    <tr>\n",
       "      <th>90</th>\n",
       "      <td>close</td>\n",
       "      <td>126</td>\n",
       "      <td>Negative</td>\n",
       "    </tr>\n",
       "    <tr>\n",
       "      <th>485</th>\n",
       "      <td>service</td>\n",
       "      <td>121</td>\n",
       "      <td>Negative</td>\n",
       "    </tr>\n",
       "    <tr>\n",
       "      <th>430</th>\n",
       "      <td>question</td>\n",
       "      <td>118</td>\n",
       "      <td>Negative</td>\n",
       "    </tr>\n",
       "    <tr>\n",
       "      <th>182</th>\n",
       "      <td>experience</td>\n",
       "      <td>115</td>\n",
       "      <td>Negative</td>\n",
       "    </tr>\n",
       "    <tr>\n",
       "      <th>536</th>\n",
       "      <td>team</td>\n",
       "      <td>114</td>\n",
       "      <td>Negative</td>\n",
       "    </tr>\n",
       "    <tr>\n",
       "      <th>449</th>\n",
       "      <td>refinance</td>\n",
       "      <td>111</td>\n",
       "      <td>Negative</td>\n",
       "    </tr>\n",
       "    <tr>\n",
       "      <th>101</th>\n",
       "      <td>company</td>\n",
       "      <td>102</td>\n",
       "      <td>Negative</td>\n",
       "    </tr>\n",
       "  </tbody>\n",
       "</table>\n",
       "</div>"
      ],
      "text/plain": [
       "           Term  freq sentiment\n",
       "309        loan   327  Negative\n",
       "616        work   291  Negative\n",
       "413     process   256  Negative\n",
       "618       would   246  Negative\n",
       "556        time   221  Negative\n",
       "317        make   202  Negative\n",
       "250        home   197  Negative\n",
       "437        read   190  Negative\n",
       "444   recommend   175  Negative\n",
       "336    mortgage   155  Negative\n",
       "72         call   153  Negative\n",
       "435        rate   144  Negative\n",
       "91      closing   135  Negative\n",
       "90        close   126  Negative\n",
       "485     service   121  Negative\n",
       "430    question   118  Negative\n",
       "182  experience   115  Negative\n",
       "536        team   114  Negative\n",
       "449   refinance   111  Negative\n",
       "101     company   102  Negative"
      ]
     },
     "execution_count": 728,
     "metadata": {},
     "output_type": "execute_result"
    }
   ],
   "source": [
    "# separating negative words\n",
    "negative_words = word_freq.loc[word_freq['sentiment']=='Negative',:].sort_values('freq',ascending=False)\n",
    "\n",
    "#ten most frequently used positive words.\n",
    "negative_words = negative_words.head(20)\n",
    "negative_words"
   ]
  },
  {
   "cell_type": "code",
   "execution_count": 729,
   "metadata": {},
   "outputs": [
    {
     "data": {
      "image/png": "[encoded data removed]",
      "text/plain": [
       "<Figure size 720x432 with 1 Axes>"
      ]
     },
     "metadata": {
      "needs_background": "light"
     },
     "output_type": "display_data"
    }
   ],
   "source": [
    "#plot most frequently used negative words\n",
    "fig, axs = plt.subplots(figsize = (10,6))\n",
    "sns.barplot(negative_words['Term'], negative_words['freq'],  orient='v')\n",
    "\n",
    "plt.title('Most frequently used negative words',fontsize=20)\n",
    "plt.xlabel('Negative words',fontsize=15)\n",
    "plt.ylabel('Count',fontsize=15)\n",
    "plt.xticks(rotation=90)\n",
    "plt.show()"
   ]
  },
  {
   "cell_type": "code",
   "execution_count": 730,
   "metadata": {},
   "outputs": [
    {
     "data": {
      "image/png": "[encoded data removed]",
      "text/plain": [
       "<Figure size 864x864 with 1 Axes>"
      ]
     },
     "metadata": {
      "needs_background": "light"
     },
     "output_type": "display_data"
    }
   ],
   "source": [
    "#word cloud of 10 most frequently used negative words\n",
    "wordcloud = WordCloud().generate(' '.join(negative_words['Term']))\n",
    "# plot the WordCloud image                        \n",
    "plt.figure(figsize = (12, 12), facecolor = None) \n",
    "plt.imshow(wordcloud) \n",
    "plt.axis(\"off\")  \n",
    "plt.show()"
   ]
  },
  {
   "cell_type": "code",
   "execution_count": null,
   "metadata": {},
   "outputs": [],
   "source": []
  },
  {
   "cell_type": "markdown",
   "metadata": {},
   "source": [
    "### Split the data into train & Test"
   ]
  },
  {
   "cell_type": "code",
   "execution_count": 872,
   "metadata": {},
   "outputs": [
    {
     "name": "stdout",
     "output_type": "stream",
     "text": [
      "(377,)\n",
      "(126,)\n",
      "(377,)\n",
      "(126,)\n"
     ]
    }
   ],
   "source": [
    "# split the new DataFrame into training and testing sets\n",
    "y = review_data['Stars']\n",
    "X = review_data['Reviews']\n",
    "train_X, test_X, train_y, test_y = train_test_split(X, y, random_state=1)\n",
    "print(train_X.shape)\n",
    "print(test_X.shape)\n",
    "print(train_y.shape)\n",
    "print(test_y.shape)"
   ]
  },
  {
   "cell_type": "markdown",
   "metadata": {},
   "source": [
    "### Vectorization (count, tfidf) for both train & test"
   ]
  },
  {
   "cell_type": "code",
   "execution_count": 732,
   "metadata": {},
   "outputs": [],
   "source": [
    "#Train\n",
    "count_vect = CountVectorizer(analyzer='word', \n",
    "                             token_pattern=r'\\w{1,}', \n",
    "                             ngram_range=(1, 1 ), \n",
    "                             min_df=5, \n",
    "                             lowercase = True,\n",
    "                             encoding='latin-1' , \n",
    "                             max_features=1000)\n",
    "train_X_count = count_vect.fit_transform(train_X)\n",
    "\n",
    "tfidf_vect = TfidfVectorizer(analyzer='word', \n",
    "                             token_pattern=r'\\w{1,}', \n",
    "                             ngram_range=(1, 1 ), \n",
    "                             min_df=5, \n",
    "                             encoding='latin-1' , \n",
    "                             lowercase = True,\n",
    "                             max_features=1000)\n",
    "train_X_tfidf = tfidf_vect.fit_transform(train_X)\n",
    "\n",
    "#Test\n",
    "test_X_count = count_vect.transform(test_X)\n",
    "test_X_tfidf = tfidf_vect.transform(test_X)"
   ]
  },
  {
   "cell_type": "code",
   "execution_count": 733,
   "metadata": {},
   "outputs": [
    {
     "data": {
      "text/html": [
       "<div>\n",
       "<style scoped>\n",
       "    .dataframe tbody tr th:only-of-type {\n",
       "        vertical-align: middle;\n",
       "    }\n",
       "\n",
       "    .dataframe tbody tr th {\n",
       "        vertical-align: top;\n",
       "    }\n",
       "\n",
       "    .dataframe thead th {\n",
       "        text-align: right;\n",
       "    }\n",
       "</style>\n",
       "<table border=\"1\" class=\"dataframe\">\n",
       "  <thead>\n",
       "    <tr style=\"text-align: right;\">\n",
       "      <th></th>\n",
       "      <th>able</th>\n",
       "      <th>absolutely</th>\n",
       "      <th>accept</th>\n",
       "      <th>accommodate</th>\n",
       "      <th>account</th>\n",
       "      <th>accurate</th>\n",
       "      <th>across</th>\n",
       "      <th>actual</th>\n",
       "      <th>additional</th>\n",
       "      <th>address</th>\n",
       "      <th>...</th>\n",
       "      <th>with</th>\n",
       "      <th>within</th>\n",
       "      <th>without</th>\n",
       "      <th>wonderful</th>\n",
       "      <th>word</th>\n",
       "      <th>work</th>\n",
       "      <th>would</th>\n",
       "      <th>write</th>\n",
       "      <th>wrong</th>\n",
       "      <th>year</th>\n",
       "    </tr>\n",
       "  </thead>\n",
       "  <tbody>\n",
       "    <tr>\n",
       "      <th>0</th>\n",
       "      <td>0.0</td>\n",
       "      <td>0.0</td>\n",
       "      <td>0.141604</td>\n",
       "      <td>0.0</td>\n",
       "      <td>0.0</td>\n",
       "      <td>0.0</td>\n",
       "      <td>0.0</td>\n",
       "      <td>0.0</td>\n",
       "      <td>0.0</td>\n",
       "      <td>0.0</td>\n",
       "      <td>...</td>\n",
       "      <td>0.0</td>\n",
       "      <td>0.0</td>\n",
       "      <td>0.109101</td>\n",
       "      <td>0.000000</td>\n",
       "      <td>0.0</td>\n",
       "      <td>0.000000</td>\n",
       "      <td>0.000000</td>\n",
       "      <td>0.0</td>\n",
       "      <td>0.0</td>\n",
       "      <td>0.097593</td>\n",
       "    </tr>\n",
       "    <tr>\n",
       "      <th>1</th>\n",
       "      <td>0.0</td>\n",
       "      <td>0.0</td>\n",
       "      <td>0.000000</td>\n",
       "      <td>0.0</td>\n",
       "      <td>0.0</td>\n",
       "      <td>0.0</td>\n",
       "      <td>0.0</td>\n",
       "      <td>0.0</td>\n",
       "      <td>0.0</td>\n",
       "      <td>0.0</td>\n",
       "      <td>...</td>\n",
       "      <td>0.0</td>\n",
       "      <td>0.0</td>\n",
       "      <td>0.000000</td>\n",
       "      <td>0.222655</td>\n",
       "      <td>0.0</td>\n",
       "      <td>0.091574</td>\n",
       "      <td>0.000000</td>\n",
       "      <td>0.0</td>\n",
       "      <td>0.0</td>\n",
       "      <td>0.000000</td>\n",
       "    </tr>\n",
       "    <tr>\n",
       "      <th>2</th>\n",
       "      <td>0.0</td>\n",
       "      <td>0.0</td>\n",
       "      <td>0.000000</td>\n",
       "      <td>0.0</td>\n",
       "      <td>0.0</td>\n",
       "      <td>0.0</td>\n",
       "      <td>0.0</td>\n",
       "      <td>0.0</td>\n",
       "      <td>0.0</td>\n",
       "      <td>0.0</td>\n",
       "      <td>...</td>\n",
       "      <td>0.0</td>\n",
       "      <td>0.0</td>\n",
       "      <td>0.000000</td>\n",
       "      <td>0.000000</td>\n",
       "      <td>0.0</td>\n",
       "      <td>0.355828</td>\n",
       "      <td>0.138106</td>\n",
       "      <td>0.0</td>\n",
       "      <td>0.0</td>\n",
       "      <td>0.000000</td>\n",
       "    </tr>\n",
       "    <tr>\n",
       "      <th>3</th>\n",
       "      <td>0.0</td>\n",
       "      <td>0.0</td>\n",
       "      <td>0.000000</td>\n",
       "      <td>0.0</td>\n",
       "      <td>0.0</td>\n",
       "      <td>0.0</td>\n",
       "      <td>0.0</td>\n",
       "      <td>0.0</td>\n",
       "      <td>0.0</td>\n",
       "      <td>0.0</td>\n",
       "      <td>...</td>\n",
       "      <td>0.0</td>\n",
       "      <td>0.0</td>\n",
       "      <td>0.000000</td>\n",
       "      <td>0.000000</td>\n",
       "      <td>0.0</td>\n",
       "      <td>0.000000</td>\n",
       "      <td>0.000000</td>\n",
       "      <td>0.0</td>\n",
       "      <td>0.0</td>\n",
       "      <td>0.000000</td>\n",
       "    </tr>\n",
       "    <tr>\n",
       "      <th>4</th>\n",
       "      <td>0.0</td>\n",
       "      <td>0.0</td>\n",
       "      <td>0.000000</td>\n",
       "      <td>0.0</td>\n",
       "      <td>0.0</td>\n",
       "      <td>0.0</td>\n",
       "      <td>0.0</td>\n",
       "      <td>0.0</td>\n",
       "      <td>0.0</td>\n",
       "      <td>0.0</td>\n",
       "      <td>...</td>\n",
       "      <td>0.0</td>\n",
       "      <td>0.0</td>\n",
       "      <td>0.000000</td>\n",
       "      <td>0.000000</td>\n",
       "      <td>0.0</td>\n",
       "      <td>0.149096</td>\n",
       "      <td>0.086802</td>\n",
       "      <td>0.0</td>\n",
       "      <td>0.0</td>\n",
       "      <td>0.000000</td>\n",
       "    </tr>\n",
       "  </tbody>\n",
       "</table>\n",
       "<p>5 rows × 508 columns</p>\n",
       "</div>"
      ],
      "text/plain": [
       "   able  absolutely    accept  accommodate  account  accurate  across  actual  \\\n",
       "0   0.0         0.0  0.141604          0.0      0.0       0.0     0.0     0.0   \n",
       "1   0.0         0.0  0.000000          0.0      0.0       0.0     0.0     0.0   \n",
       "2   0.0         0.0  0.000000          0.0      0.0       0.0     0.0     0.0   \n",
       "3   0.0         0.0  0.000000          0.0      0.0       0.0     0.0     0.0   \n",
       "4   0.0         0.0  0.000000          0.0      0.0       0.0     0.0     0.0   \n",
       "\n",
       "   additional  address  ...  with  within   without  wonderful  word  \\\n",
       "0         0.0      0.0  ...   0.0     0.0  0.109101   0.000000   0.0   \n",
       "1         0.0      0.0  ...   0.0     0.0  0.000000   0.222655   0.0   \n",
       "2         0.0      0.0  ...   0.0     0.0  0.000000   0.000000   0.0   \n",
       "3         0.0      0.0  ...   0.0     0.0  0.000000   0.000000   0.0   \n",
       "4         0.0      0.0  ...   0.0     0.0  0.000000   0.000000   0.0   \n",
       "\n",
       "       work     would  write  wrong      year  \n",
       "0  0.000000  0.000000    0.0    0.0  0.097593  \n",
       "1  0.091574  0.000000    0.0    0.0  0.000000  \n",
       "2  0.355828  0.138106    0.0    0.0  0.000000  \n",
       "3  0.000000  0.000000    0.0    0.0  0.000000  \n",
       "4  0.149096  0.086802    0.0    0.0  0.000000  \n",
       "\n",
       "[5 rows x 508 columns]"
      ]
     },
     "execution_count": 733,
     "metadata": {},
     "output_type": "execute_result"
    }
   ],
   "source": [
    "#Get TF-IDF matrix\n",
    "\n",
    "#convert to word count 2D array\n",
    "tfidf_array = train_X_tfidf.toarray()\n",
    "#get all words as columns\n",
    "tfidf_cols = tfidf_vect.get_feature_names()\n",
    "#convert word count 2D array to dataframe\n",
    "train_tfidf = pd.DataFrame(tfidf_array)\n",
    "#add column names\n",
    "train_tfidf.columns = tfidf_cols\n",
    "train_tfidf.head(5)"
   ]
  },
  {
   "cell_type": "code",
   "execution_count": 734,
   "metadata": {
    "scrolled": true
   },
   "outputs": [
    {
     "data": {
      "text/html": [
       "<div>\n",
       "<style scoped>\n",
       "    .dataframe tbody tr th:only-of-type {\n",
       "        vertical-align: middle;\n",
       "    }\n",
       "\n",
       "    .dataframe tbody tr th {\n",
       "        vertical-align: top;\n",
       "    }\n",
       "\n",
       "    .dataframe thead th {\n",
       "        text-align: right;\n",
       "    }\n",
       "</style>\n",
       "<table border=\"1\" class=\"dataframe\">\n",
       "  <thead>\n",
       "    <tr style=\"text-align: right;\">\n",
       "      <th></th>\n",
       "      <th>able</th>\n",
       "      <th>absolutely</th>\n",
       "      <th>accept</th>\n",
       "      <th>accommodate</th>\n",
       "      <th>account</th>\n",
       "      <th>accurate</th>\n",
       "      <th>across</th>\n",
       "      <th>actual</th>\n",
       "      <th>additional</th>\n",
       "      <th>address</th>\n",
       "      <th>...</th>\n",
       "      <th>with</th>\n",
       "      <th>within</th>\n",
       "      <th>without</th>\n",
       "      <th>wonderful</th>\n",
       "      <th>word</th>\n",
       "      <th>work</th>\n",
       "      <th>would</th>\n",
       "      <th>write</th>\n",
       "      <th>wrong</th>\n",
       "      <th>year</th>\n",
       "    </tr>\n",
       "  </thead>\n",
       "  <tbody>\n",
       "    <tr>\n",
       "      <th>0</th>\n",
       "      <td>0</td>\n",
       "      <td>0</td>\n",
       "      <td>1</td>\n",
       "      <td>0</td>\n",
       "      <td>0</td>\n",
       "      <td>0</td>\n",
       "      <td>0</td>\n",
       "      <td>0</td>\n",
       "      <td>0</td>\n",
       "      <td>0</td>\n",
       "      <td>...</td>\n",
       "      <td>0</td>\n",
       "      <td>0</td>\n",
       "      <td>1</td>\n",
       "      <td>0</td>\n",
       "      <td>0</td>\n",
       "      <td>0</td>\n",
       "      <td>0</td>\n",
       "      <td>0</td>\n",
       "      <td>0</td>\n",
       "      <td>1</td>\n",
       "    </tr>\n",
       "    <tr>\n",
       "      <th>1</th>\n",
       "      <td>0</td>\n",
       "      <td>0</td>\n",
       "      <td>0</td>\n",
       "      <td>0</td>\n",
       "      <td>0</td>\n",
       "      <td>0</td>\n",
       "      <td>0</td>\n",
       "      <td>0</td>\n",
       "      <td>0</td>\n",
       "      <td>0</td>\n",
       "      <td>...</td>\n",
       "      <td>0</td>\n",
       "      <td>0</td>\n",
       "      <td>0</td>\n",
       "      <td>1</td>\n",
       "      <td>0</td>\n",
       "      <td>1</td>\n",
       "      <td>0</td>\n",
       "      <td>0</td>\n",
       "      <td>0</td>\n",
       "      <td>0</td>\n",
       "    </tr>\n",
       "    <tr>\n",
       "      <th>2</th>\n",
       "      <td>0</td>\n",
       "      <td>0</td>\n",
       "      <td>0</td>\n",
       "      <td>0</td>\n",
       "      <td>0</td>\n",
       "      <td>0</td>\n",
       "      <td>0</td>\n",
       "      <td>0</td>\n",
       "      <td>0</td>\n",
       "      <td>0</td>\n",
       "      <td>...</td>\n",
       "      <td>0</td>\n",
       "      <td>0</td>\n",
       "      <td>0</td>\n",
       "      <td>0</td>\n",
       "      <td>0</td>\n",
       "      <td>3</td>\n",
       "      <td>1</td>\n",
       "      <td>0</td>\n",
       "      <td>0</td>\n",
       "      <td>0</td>\n",
       "    </tr>\n",
       "    <tr>\n",
       "      <th>3</th>\n",
       "      <td>0</td>\n",
       "      <td>0</td>\n",
       "      <td>0</td>\n",
       "      <td>0</td>\n",
       "      <td>0</td>\n",
       "      <td>0</td>\n",
       "      <td>0</td>\n",
       "      <td>0</td>\n",
       "      <td>0</td>\n",
       "      <td>0</td>\n",
       "      <td>...</td>\n",
       "      <td>0</td>\n",
       "      <td>0</td>\n",
       "      <td>0</td>\n",
       "      <td>0</td>\n",
       "      <td>0</td>\n",
       "      <td>0</td>\n",
       "      <td>0</td>\n",
       "      <td>0</td>\n",
       "      <td>0</td>\n",
       "      <td>0</td>\n",
       "    </tr>\n",
       "    <tr>\n",
       "      <th>4</th>\n",
       "      <td>0</td>\n",
       "      <td>0</td>\n",
       "      <td>0</td>\n",
       "      <td>0</td>\n",
       "      <td>0</td>\n",
       "      <td>0</td>\n",
       "      <td>0</td>\n",
       "      <td>0</td>\n",
       "      <td>0</td>\n",
       "      <td>0</td>\n",
       "      <td>...</td>\n",
       "      <td>0</td>\n",
       "      <td>0</td>\n",
       "      <td>0</td>\n",
       "      <td>0</td>\n",
       "      <td>0</td>\n",
       "      <td>2</td>\n",
       "      <td>1</td>\n",
       "      <td>0</td>\n",
       "      <td>0</td>\n",
       "      <td>0</td>\n",
       "    </tr>\n",
       "  </tbody>\n",
       "</table>\n",
       "<p>5 rows × 508 columns</p>\n",
       "</div>"
      ],
      "text/plain": [
       "   able  absolutely  accept  accommodate  account  accurate  across  actual  \\\n",
       "0     0           0       1            0        0         0       0       0   \n",
       "1     0           0       0            0        0         0       0       0   \n",
       "2     0           0       0            0        0         0       0       0   \n",
       "3     0           0       0            0        0         0       0       0   \n",
       "4     0           0       0            0        0         0       0       0   \n",
       "\n",
       "   additional  address  ...  with  within  without  wonderful  word  work  \\\n",
       "0           0        0  ...     0       0        1          0     0     0   \n",
       "1           0        0  ...     0       0        0          1     0     1   \n",
       "2           0        0  ...     0       0        0          0     0     3   \n",
       "3           0        0  ...     0       0        0          0     0     0   \n",
       "4           0        0  ...     0       0        0          0     0     2   \n",
       "\n",
       "   would  write  wrong  year  \n",
       "0      0      0      0     1  \n",
       "1      0      0      0     0  \n",
       "2      1      0      0     0  \n",
       "3      0      0      0     0  \n",
       "4      1      0      0     0  \n",
       "\n",
       "[5 rows x 508 columns]"
      ]
     },
     "execution_count": 734,
     "metadata": {},
     "output_type": "execute_result"
    }
   ],
   "source": [
    "#Get Document Term Matrix\n",
    "#convert to word count 2D array\n",
    "dtm_array = train_X_count.toarray()\n",
    "#get all words as columns\n",
    "dtm_cols = count_vect.get_feature_names()\n",
    "#convert word count 2D array to dataframe\n",
    "train_dtm = pd.DataFrame(dtm_array)\n",
    "#add column names\n",
    "train_dtm.columns = dtm_cols\n",
    "train_dtm.head(5)"
   ]
  },
  {
   "cell_type": "code",
   "execution_count": 735,
   "metadata": {},
   "outputs": [
    {
     "data": {
      "text/plain": [
       "(377, 508)"
      ]
     },
     "execution_count": 735,
     "metadata": {},
     "output_type": "execute_result"
    }
   ],
   "source": [
    "## How many words ?\n",
    "train_dtm.shape"
   ]
  },
  {
   "cell_type": "markdown",
   "metadata": {},
   "source": [
    "### Topic Modeling using sklearn.decomposition"
   ]
  },
  {
   "cell_type": "code",
   "execution_count": 736,
   "metadata": {},
   "outputs": [],
   "source": [
    "# train a LDA Model\n",
    "lda_model = LatentDirichletAllocation(n_components=20, learning_method='online', max_iter=50)\n",
    "train_X_topics = lda_model.fit_transform(train_X_tfidf)\n",
    "topic_word = lda_model.components_ \n",
    "terms = count_vect.get_feature_names()"
   ]
  },
  {
   "cell_type": "code",
   "execution_count": 737,
   "metadata": {},
   "outputs": [
    {
     "data": {
      "text/plain": [
       "['person commission heart name honest interest work hard customer loan',\n",
       " 'poor rate told say email service appraisal loan credit closing',\n",
       " 'could check take closing decision while financial felt send sent',\n",
       " 'communicate extremely speak quote happier impressed barrett several apparently unprofessional',\n",
       " 'saving american north home family team close would believe loan',\n",
       " 'responsive great hard easy answer informative stressful question well always',\n",
       " 'jocovic outstanding progress finance sale prior handle daily involve escrow',\n",
       " 'website communication back poor review team efficient day office confirm',\n",
       " 'efficient orient refi service look financial mortgage broker close buyer',\n",
       " 'work process loan great would recommend time make home service',\n",
       " 'recommend financing imaginable home everyone purchasing friendly error less every',\n",
       " 'helpful manner timely refi make answer professional appreciate thru response',\n",
       " 'necessary continue highly whole take mortgage cant payment sent recommend',\n",
       " 'unprofessional list previous number contact phone lender mistake dealt refinance',\n",
       " 'dallas professional orient make barrett come goodlet loan great address',\n",
       " 'base say option initial next conversation give course waste move',\n",
       " 'patient get well company listen quite tell person spoke kept',\n",
       " 'loan pacific make phone time away promptly happen broker complete',\n",
       " 'fantastic offer option think consider able best home kept stephanie',\n",
       " 'informative responsive june happier honest tell begin thank would thanks']"
      ]
     },
     "execution_count": 737,
     "metadata": {},
     "output_type": "execute_result"
    }
   ],
   "source": [
    "# view the topic models\n",
    "n_top_words = 10\n",
    "topic_summaries = []\n",
    "for i, topic_dist in enumerate(topic_word):\n",
    "    topic_words = np.array(terms)[np.argsort(topic_dist)][:-(n_top_words+1):-1]\n",
    "    topic_summaries.append(' '.join(topic_words))\n",
    "\n",
    "topic_summaries"
   ]
  },
  {
   "cell_type": "markdown",
   "metadata": {},
   "source": [
    "### Topic Modeling using gensim"
   ]
  },
  {
   "cell_type": "code",
   "execution_count": 873,
   "metadata": {},
   "outputs": [],
   "source": [
    "# Creating the object for LDA model using gensim library\n",
    "Lda = gensim.models.ldamodel.LdaModel"
   ]
  },
  {
   "cell_type": "code",
   "execution_count": 874,
   "metadata": {},
   "outputs": [],
   "source": [
    "train_X_tokens = [doc.split() for doc in train_X] "
   ]
  },
  {
   "cell_type": "code",
   "execution_count": 875,
   "metadata": {},
   "outputs": [
    {
     "name": "stdout",
     "output_type": "stream",
     "text": [
      "Dictionary(4000 unique tokens: ['(where', '(which', '(while', '4', '9']...)\n"
     ]
    }
   ],
   "source": [
    "dictionary = corpora.Dictionary(train_X_tokens)\n",
    "print(dictionary)"
   ]
  },
  {
   "cell_type": "code",
   "execution_count": 876,
   "metadata": {},
   "outputs": [],
   "source": [
    "doc_term_matrix = [dictionary.doc2bow(doc) for doc in train_X_tokens]"
   ]
  },
  {
   "cell_type": "code",
   "execution_count": 877,
   "metadata": {},
   "outputs": [],
   "source": [
    "#pyLDAvis usage\n",
    "corpora.MmCorpus.serialize('corpus.mm', doc_term_matrix)"
   ]
  },
  {
   "cell_type": "code",
   "execution_count": 879,
   "metadata": {},
   "outputs": [],
   "source": [
    "# Running and Trainign LDA model on the document term matrix.\n",
    "ldamodel = Lda(doc_term_matrix, num_topics=5, id2word = dictionary,passes=5, alpha='auto', eval_every=5)"
   ]
  },
  {
   "cell_type": "code",
   "execution_count": null,
   "metadata": {},
   "outputs": [],
   "source": [
    "pyLDAvis.enable_notebook()\n",
    "#d = gensim.corpora.Dictionary.load('dictionary.dict')\n",
    "c = gensim.corpora.MmCorpus('corpus.mm')\n",
    "#lda = gensim.models.LdaModel.load('topic.model')"
   ]
  },
  {
   "cell_type": "code",
   "execution_count": null,
   "metadata": {},
   "outputs": [],
   "source": [
    "data = pyLDAvis.gensim.prepare(ldamodel, c, dictionary)\n",
    "data"
   ]
  },
  {
   "cell_type": "code",
   "execution_count": 882,
   "metadata": {},
   "outputs": [
    {
     "name": "stdout",
     "output_type": "stream",
     "text": [
      "[(0, '0.013*\"call\" + 0.013*\"loan\" + 0.012*\"rate\" + 0.011*\"would\" + 0.009*\"read\" + 0.009*\"refinance\" + 0.008*\"time\" + 0.008*\"information\" + 0.007*\"week\" + 0.007*\"phone\"'), (1, '0.026*\"loan\" + 0.018*\"would\" + 0.018*\"time\" + 0.017*\"work\" + 0.016*\"recommend\" + 0.015*\"close\" + 0.014*\"process\" + 0.012*\"make\" + 0.011*\"team\" + 0.010*\"home\"'), (2, '0.015*\"would\" + 0.015*\"loan\" + 0.015*\"email\" + 0.014*\"call\" + 0.011*\"appraisal\" + 0.010*\"mortgage\" + 0.010*\"customer\" + 0.009*\"receive\" + 0.009*\"rate\" + 0.009*\"read\"'), (3, '0.021*\"process\" + 0.019*\"loan\" + 0.017*\"work\" + 0.014*\"recommend\" + 0.014*\"service\" + 0.014*\"make\" + 0.013*\"would\" + 0.012*\"mortgage\" + 0.012*\"great\" + 0.012*\"time\"'), (4, '0.017*\"work\" + 0.012*\"closing\" + 0.012*\"make\" + 0.012*\"loan\" + 0.012*\"read\" + 0.011*\"home\" + 0.009*\"process\" + 0.008*\"would\" + 0.008*\"time\" + 0.008*\"call\"')]\n"
     ]
    }
   ],
   "source": [
    "print(ldamodel.print_topics(num_topics=5, num_words=10))"
   ]
  },
  {
   "cell_type": "code",
   "execution_count": 795,
   "metadata": {},
   "outputs": [
    {
     "name": "stdout",
     "output_type": "stream",
     "text": [
      "\n",
      "Topic 1, top 10 words:\n",
      "call loan rate would read refinance time information week phone\n",
      "\n",
      "Topic 2, top 10 words:\n",
      "loan would time work recommend close process make team home\n",
      "\n",
      "Topic 3, top 10 words:\n",
      "would loan email call appraisal mortgage customer receive rate read\n",
      "\n",
      "Topic 4, top 10 words:\n",
      "process loan work recommend service make would mortgage great time\n",
      "\n",
      "Topic 5, top 10 words:\n",
      "work closing make loan read home process would time call\n"
     ]
    }
   ],
   "source": [
    "topics = ldamodel.show_topics(formatted=False, num_topics=5, num_words=10)\n",
    "    \n",
    "for t in range(len(topics)):\n",
    "    print(\"\\nTopic {}, top {} words:\".format(t+1,10))\n",
    "    print(\" \".join([w[0] for w in topics[t][1]]))"
   ]
  },
  {
   "cell_type": "raw",
   "metadata": {},
   "source": [
    "Topic 1\tFeedback on re-finance process\n",
    "Topic 2\tFeedback on information requested\n",
    "Topic 3\tFeedback on mortage process\n",
    "Topic 4\tFeedback on loan process\n",
    "Topic 5\tFeedback on closure process\n"
   ]
  },
  {
   "cell_type": "code",
   "execution_count": 796,
   "metadata": {},
   "outputs": [],
   "source": [
    "#get topic related to each review\n",
    "def dominant_topic(ldamodel, corpus, texts):\n",
    "    #Function to find the dominant topic in each review\n",
    "    topics_df = pd.DataFrame() \n",
    "    # Get main topic in each review\n",
    "    for i, row in enumerate(ldamodel[corpus]):\n",
    "        row = sorted(row, key=lambda x: (x[1]), reverse=True)\n",
    "        # Get the Dominant topic, Perc Contribution and Keywords for each review\n",
    "        for j, (topic_num, prop_topic) in enumerate(row):\n",
    "            if j == 0:  # =&gt; dominant topic\n",
    "                wp = ldamodel.show_topic(topic_num,topn=10)\n",
    "                topic_keywords = \", \".join([word for word, prop in wp])\n",
    "                topics_df = topics_df.append(pd.Series([int(topic_num), round(prop_topic,4), topic_keywords]), ignore_index=True)\n",
    "            else:\n",
    "                break\n",
    "    topics_df.columns = ['Dominant_Topic', 'Perc_Contribution', 'Topic_Keywords']\n",
    "    contents = pd.Series(texts)\n",
    "    topics_df = pd.concat([topics_df, contents], axis=1)\n",
    "    return(topics_df)"
   ]
  },
  {
   "cell_type": "code",
   "execution_count": 801,
   "metadata": {},
   "outputs": [],
   "source": [
    "df_dominant_topic = dominant_topic(ldamodel=ldamodel, corpus=doc_term_matrix, texts=review_data['Reviews']) \n",
    "df_dominant_topic.head()\n",
    "df_dominant_topic.to_csv('topics.csv')"
   ]
  },
  {
   "cell_type": "code",
   "execution_count": 799,
   "metadata": {},
   "outputs": [
    {
     "data": {
      "image/png": "[encoded data removed]",
      "text/plain": [
       "<Figure size 432x432 with 1 Axes>"
      ]
     },
     "metadata": {},
     "output_type": "display_data"
    }
   ],
   "source": [
    "#plot topic frequency in the corpus\n",
    "dom_topics = df_dominant_topic.groupby(df_dominant_topic['Dominant_Topic']).size()\n",
    "index_int = dom_topics.index.astype(int) + 1\n",
    "fig, axs = plt.subplots(figsize = (6,6))\n",
    "sns.barplot(index_int, dom_topics.values,  orient='v')\n",
    "\n",
    "plt.title('Topic Frequncies',fontsize=20)\n",
    "plt.xlabel('Topics',fontsize=15)\n",
    "plt.ylabel('Count',fontsize=15)\n",
    "plt.show()"
   ]
  },
  {
   "cell_type": "markdown",
   "metadata": {},
   "source": [
    "### Segmentation (KMeans clustering)"
   ]
  },
  {
   "cell_type": "code",
   "execution_count": 745,
   "metadata": {},
   "outputs": [],
   "source": [
    "km_4 = KMeans(n_clusters=4, init='k-means++', max_iter=100, n_init=1, random_state=123).fit(train_X_tfidf)\n",
    "km_5 = KMeans(n_clusters=5, init='k-means++', max_iter=100, n_init=1, random_state=123).fit(train_X_tfidf)\n",
    "km_6 = KMeans(n_clusters=6, init='k-means++', max_iter=100, n_init=1, random_state=123).fit(train_X_tfidf)\n",
    "km_7 = KMeans(n_clusters=7, init='k-means++', max_iter=100, n_init=1, random_state=123).fit(train_X_tfidf)\n",
    "km_8 = KMeans(n_clusters=8, init='k-means++', max_iter=100, n_init=1, random_state=123).fit(train_X_tfidf)"
   ]
  },
  {
   "cell_type": "code",
   "execution_count": 746,
   "metadata": {},
   "outputs": [],
   "source": [
    "terms = np.array(tfidf_vect.get_feature_names())\n",
    "num_clusters = [4,5,6,7,8]\n",
    "km_models = [km_4, km_5, km_6, km_7, km_8 ]"
   ]
  },
  {
   "cell_type": "code",
   "execution_count": 803,
   "metadata": {},
   "outputs": [
    {
     "name": "stdout",
     "output_type": "stream",
     "text": [
      "Top terms for all cluster:\n",
      "\n",
      "\n",
      "Top terms for CLUSTERS CENTERS =  4\n",
      "Cluster 0: work, great, with, process, responsive, throughout, team, well, recommend, pleasure,\n",
      "Cluster 1: make, home, experience, able, process, work, first, time, thanks, everything,\n",
      "Cluster 2: loan, service, would, mortgage, recommend, company, helpful, process, home, great,\n",
      "Cluster 3: rate, call, loan, closing, email, lender, would, time, told, take,\n",
      "\n",
      "Top terms for CLUSTERS CENTERS =  5\n",
      "Cluster 0: work, with, great, responsive, process, throughout, well, refinance, pleasure, june,\n",
      "Cluster 1: able, informative, pleasure, helpful, work, lender, issue, close, make, still,\n",
      "Cluster 2: company, loan, mortgage, helpful, service, would, business, customer, help, recommend,\n",
      "Cluster 3: closing, loan, rate, call, lender, would, email, time, week, say,\n",
      "Cluster 4: home, process, great, make, team, recommend, work, time, always, service,\n",
      "\n",
      "Top terms for CLUSTERS CENTERS =  6\n",
      "Cluster 0: work, with, great, process, responsive, throughout, refinance, future, pleasure, june,\n",
      "Cluster 1: able, informative, pleasure, helpful, lender, work, issue, close, make, still,\n",
      "Cluster 2: company, mortgage, loan, would, service, patient, customer, business, well, process,\n",
      "Cluster 3: closing, loan, rate, call, lender, would, email, time, week, close,\n",
      "Cluster 4: great, process, home, make, always, service, easy, recommend, work, experience,\n",
      "Cluster 5: team, deal, home, every, recommend, time, help, loan, would, buyer,\n",
      "\n",
      "Top terms for CLUSTERS CENTERS =  7\n",
      "Cluster 0: work, with, great, responsive, throughout, refinance, pleasure, june, process, recommend,\n",
      "Cluster 1: able, informative, pleasure, lender, work, thanks, industry, process, throughout, help,\n",
      "Cluster 2: company, loan, mortgage, would, customer, patient, process, well, officer, work,\n",
      "Cluster 3: closing, rate, loan, call, lender, would, email, week, cost, say,\n",
      "Cluster 4: process, great, home, work, experience, make, easy, recommend, service, provide,\n",
      "Cluster 5: team, deal, home, every, help, time, recommend, first, buyer, real,\n",
      "Cluster 6: helpful, make, always, close, loan, service, sure, appreciate, question, time,\n",
      "\n",
      "Top terms for CLUSTERS CENTERS =  8\n",
      "Cluster 0: work, responsive, pleasure, with, throughout, process, well, june, informative, surprise,\n",
      "Cluster 1: contact, explain, unprofessional, excellent, list, previous, number, lender, phone, chose,\n",
      "Cluster 2: able, close, helpful, service, issue, hard, customer, loan, extra, time,\n",
      "Cluster 3: loan, rate, closing, call, email, lender, would, week, say, time,\n",
      "Cluster 4: home, make, help, process, recommend, would, much, work, always, anyone,\n",
      "Cluster 5: company, mortgage, service, loan, business, people, patient, would, great, consider,\n",
      "Cluster 6: process, best, great, home, time, service, team, provide, work, entire,\n",
      "Cluster 7: professional, quick, team, recommend, highly, question, work, loan, process, great,\n"
     ]
    }
   ],
   "source": [
    "vocab_frame=pd.DataFrame({'words':terms},index=[terms])\n",
    "N=10\n",
    "\n",
    "print(\"Top terms for all cluster:\")\n",
    "print()\n",
    "\n",
    "for j in num_clusters:\n",
    "    #sort cluster centers by proximity to centroid\n",
    "    order_centroids = km_models[j-4].cluster_centers_.argsort()[:, ::-1] \n",
    "    print()\n",
    "    print('Top terms for CLUSTERS CENTERS = ', j)     \n",
    "    for i in range(j):\n",
    "        print(\"Cluster %d:\" % i, end='')    \n",
    "        for ind in order_centroids[i, :N]: #replace 10 with n words per cluster\n",
    "            print(' %s' % vocab_frame.loc[terms[ind].split(' ')].values.tolist()[0][0], end=',')\n",
    "        print()"
   ]
  },
  {
   "cell_type": "code",
   "execution_count": 806,
   "metadata": {},
   "outputs": [
    {
     "data": {
      "text/html": [
       "<div>\n",
       "<style scoped>\n",
       "    .dataframe tbody tr th:only-of-type {\n",
       "        vertical-align: middle;\n",
       "    }\n",
       "\n",
       "    .dataframe tbody tr th {\n",
       "        vertical-align: top;\n",
       "    }\n",
       "\n",
       "    .dataframe thead th {\n",
       "        text-align: right;\n",
       "    }\n",
       "</style>\n",
       "<table border=\"1\" class=\"dataframe\">\n",
       "  <thead>\n",
       "    <tr style=\"text-align: right;\">\n",
       "      <th></th>\n",
       "      <th>Cluster</th>\n",
       "      <th>Cluster_No</th>\n",
       "      <th>Count</th>\n",
       "    </tr>\n",
       "  </thead>\n",
       "  <tbody>\n",
       "    <tr>\n",
       "      <th>4</th>\n",
       "      <td>Cluster_5</td>\n",
       "      <td>0</td>\n",
       "      <td>54</td>\n",
       "    </tr>\n",
       "    <tr>\n",
       "      <th>5</th>\n",
       "      <td>Cluster_5</td>\n",
       "      <td>1</td>\n",
       "      <td>23</td>\n",
       "    </tr>\n",
       "    <tr>\n",
       "      <th>6</th>\n",
       "      <td>Cluster_5</td>\n",
       "      <td>2</td>\n",
       "      <td>60</td>\n",
       "    </tr>\n",
       "    <tr>\n",
       "      <th>7</th>\n",
       "      <td>Cluster_5</td>\n",
       "      <td>3</td>\n",
       "      <td>121</td>\n",
       "    </tr>\n",
       "    <tr>\n",
       "      <th>8</th>\n",
       "      <td>Cluster_5</td>\n",
       "      <td>4</td>\n",
       "      <td>119</td>\n",
       "    </tr>\n",
       "  </tbody>\n",
       "</table>\n",
       "</div>"
      ],
      "text/plain": [
       "     Cluster  Cluster_No  Count\n",
       "4  Cluster_5           0     54\n",
       "5  Cluster_5           1     23\n",
       "6  Cluster_5           2     60\n",
       "7  Cluster_5           3    121\n",
       "8  Cluster_5           4    119"
      ]
     },
     "execution_count": 806,
     "metadata": {},
     "output_type": "execute_result"
    }
   ],
   "source": [
    "#checking segment distribution\n",
    "cluster_dist = []\n",
    "for i,j in zip(km_models, num_clusters):\n",
    "    for k in range(j):\n",
    "        inner = []\n",
    "        tmpstr = 'Cluster_' + str(j)\n",
    "        inner.append(tmpstr)\n",
    "        inner.append(k)\n",
    "        inner.append(np.count_nonzero(i.labels_ == k))\n",
    "        cluster_dist.append(inner)\n",
    "    \n",
    "cluster_dist_df = pd.DataFrame(cluster_dist, columns =['Cluster', 'Cluster_No', 'Count'])\n",
    "cluster_dist_df[cluster_dist_df['Cluster'] == 'Cluster_5']"
   ]
  },
  {
   "cell_type": "code",
   "execution_count": 808,
   "metadata": {},
   "outputs": [
    {
     "data": {
      "image/png": "[encoded data removed]",
      "text/plain": [
       "<Figure size 432x432 with 1 Axes>"
      ]
     },
     "metadata": {},
     "output_type": "display_data"
    }
   ],
   "source": [
    "#plot topic frequency in the corpus\n",
    "cluster5 = cluster_dist_df[cluster_dist_df['Cluster'] == 'Cluster_5']\n",
    "fig, axs = plt.subplots(figsize = (6,6))\n",
    "sns.barplot(cluster5['Cluster_No'], cluster5['Count'],  orient='v')\n",
    "\n",
    "plt.title('Custer Distribution',fontsize=20)\n",
    "plt.xlabel('Cluster',fontsize=15)\n",
    "plt.ylabel('Count',fontsize=15)\n",
    "plt.show()"
   ]
  },
  {
   "cell_type": "code",
   "execution_count": 749,
   "metadata": {},
   "outputs": [
    {
     "data": {
      "text/html": [
       "<div>\n",
       "<style scoped>\n",
       "    .dataframe tbody tr th:only-of-type {\n",
       "        vertical-align: middle;\n",
       "    }\n",
       "\n",
       "    .dataframe tbody tr th {\n",
       "        vertical-align: top;\n",
       "    }\n",
       "\n",
       "    .dataframe thead th {\n",
       "        text-align: right;\n",
       "    }\n",
       "</style>\n",
       "<table border=\"1\" class=\"dataframe\">\n",
       "  <thead>\n",
       "    <tr style=\"text-align: right;\">\n",
       "      <th></th>\n",
       "      <th>Cluster</th>\n",
       "      <th>SC_score</th>\n",
       "    </tr>\n",
       "  </thead>\n",
       "  <tbody>\n",
       "    <tr>\n",
       "      <th>4</th>\n",
       "      <td>8.0</td>\n",
       "      <td>0.019093</td>\n",
       "    </tr>\n",
       "    <tr>\n",
       "      <th>2</th>\n",
       "      <td>6.0</td>\n",
       "      <td>0.017428</td>\n",
       "    </tr>\n",
       "    <tr>\n",
       "      <th>3</th>\n",
       "      <td>7.0</td>\n",
       "      <td>0.017347</td>\n",
       "    </tr>\n",
       "    <tr>\n",
       "      <th>1</th>\n",
       "      <td>5.0</td>\n",
       "      <td>0.016890</td>\n",
       "    </tr>\n",
       "    <tr>\n",
       "      <th>0</th>\n",
       "      <td>4.0</td>\n",
       "      <td>0.015220</td>\n",
       "    </tr>\n",
       "  </tbody>\n",
       "</table>\n",
       "</div>"
      ],
      "text/plain": [
       "   Cluster  SC_score\n",
       "4      8.0  0.019093\n",
       "2      6.0  0.017428\n",
       "3      7.0  0.017347\n",
       "1      5.0  0.016890\n",
       "0      4.0  0.015220"
      ]
     },
     "execution_count": 749,
     "metadata": {},
     "output_type": "execute_result"
    }
   ],
   "source": [
    "#compare SC scores for different cluster values\n",
    "km_labels = [km_4, km_5, km_6, km_7, km_8]\n",
    "sc_df = pd.DataFrame(columns = ['Cluster', 'SC_score'])\n",
    "\n",
    "index = 0\n",
    "for i in km_labels:\n",
    "    sc_df.loc[index] = [i.n_clusters, silhouette_score(train_X_tfidf, i.labels_)]\n",
    "    index = index + 1\n",
    "    \n",
    "sc_df = sc_df.sort_values(by='SC_score',ascending=False)\n",
    "sc_df"
   ]
  },
  {
   "cell_type": "code",
   "execution_count": 809,
   "metadata": {},
   "outputs": [
    {
     "data": {
      "image/png": "[encoded data removed]",
      "text/plain": [
       "<Figure size 432x288 with 1 Axes>"
      ]
     },
     "metadata": {},
     "output_type": "display_data"
    }
   ],
   "source": [
    "# plot SC scores\n",
    "plt.plot(sc_df.Cluster, sc_df.SC_score)\n",
    "plt.xlabel('Number of clusters')\n",
    "plt.ylabel('Silhouette Coefficient')\n",
    "plt.grid(True)"
   ]
  },
  {
   "cell_type": "code",
   "execution_count": 750,
   "metadata": {},
   "outputs": [],
   "source": [
    "train_X_final = pd.concat([pd.DataFrame(train_X, index=train_X.index), pd.DataFrame(km_7.labels_, index=train_X.index)],axis=1)"
   ]
  },
  {
   "cell_type": "code",
   "execution_count": 751,
   "metadata": {},
   "outputs": [
    {
     "data": {
      "text/html": [
       "<div>\n",
       "<style scoped>\n",
       "    .dataframe tbody tr th:only-of-type {\n",
       "        vertical-align: middle;\n",
       "    }\n",
       "\n",
       "    .dataframe tbody tr th {\n",
       "        vertical-align: top;\n",
       "    }\n",
       "\n",
       "    .dataframe thead th {\n",
       "        text-align: right;\n",
       "    }\n",
       "</style>\n",
       "<table border=\"1\" class=\"dataframe\">\n",
       "  <thead>\n",
       "    <tr style=\"text-align: right;\">\n",
       "      <th></th>\n",
       "      <th>text</th>\n",
       "      <th>cluster</th>\n",
       "    </tr>\n",
       "  </thead>\n",
       "  <tbody>\n",
       "    <tr>\n",
       "      <th>501</th>\n",
       "      <td>start credit check without knowledge consent a...</td>\n",
       "      <td>3</td>\n",
       "    </tr>\n",
       "    <tr>\n",
       "      <th>345</th>\n",
       "      <td>work home purchase provide interest rate closi...</td>\n",
       "      <td>4</td>\n",
       "    </tr>\n",
       "    <tr>\n",
       "      <th>82</th>\n",
       "      <td>phenomenal work locate refinance work family w...</td>\n",
       "      <td>0</td>\n",
       "    </tr>\n",
       "    <tr>\n",
       "      <th>47</th>\n",
       "      <td>horrible experience excellent credit plenty in...</td>\n",
       "      <td>3</td>\n",
       "    </tr>\n",
       "    <tr>\n",
       "      <th>320</th>\n",
       "      <td>great experience work munoz team financial beg...</td>\n",
       "      <td>4</td>\n",
       "    </tr>\n",
       "    <tr>\n",
       "      <th>...</th>\n",
       "      <td>...</td>\n",
       "      <td>...</td>\n",
       "    </tr>\n",
       "    <tr>\n",
       "      <th>257</th>\n",
       "      <td>extremely efficient pleased streamline process...</td>\n",
       "      <td>5</td>\n",
       "    </tr>\n",
       "    <tr>\n",
       "      <th>73</th>\n",
       "      <td>work agent quick simple little thing complete ...</td>\n",
       "      <td>2</td>\n",
       "    </tr>\n",
       "    <tr>\n",
       "      <th>398</th>\n",
       "      <td>great experience work experienced knowledgeabl...</td>\n",
       "      <td>4</td>\n",
       "    </tr>\n",
       "    <tr>\n",
       "      <th>237</th>\n",
       "      <td>good news processing waive rate lock day close...</td>\n",
       "      <td>3</td>\n",
       "    </tr>\n",
       "    <tr>\n",
       "      <th>38</th>\n",
       "      <td>come highly recommend first time spoke clear f...</td>\n",
       "      <td>3</td>\n",
       "    </tr>\n",
       "  </tbody>\n",
       "</table>\n",
       "<p>377 rows × 2 columns</p>\n",
       "</div>"
      ],
      "text/plain": [
       "                                                  text  cluster\n",
       "501  start credit check without knowledge consent a...        3\n",
       "345  work home purchase provide interest rate closi...        4\n",
       "82   phenomenal work locate refinance work family w...        0\n",
       "47   horrible experience excellent credit plenty in...        3\n",
       "320  great experience work munoz team financial beg...        4\n",
       "..                                                 ...      ...\n",
       "257  extremely efficient pleased streamline process...        5\n",
       "73   work agent quick simple little thing complete ...        2\n",
       "398  great experience work experienced knowledgeabl...        4\n",
       "237  good news processing waive rate lock day close...        3\n",
       "38   come highly recommend first time spoke clear f...        3\n",
       "\n",
       "[377 rows x 2 columns]"
      ]
     },
     "execution_count": 751,
     "metadata": {},
     "output_type": "execute_result"
    }
   ],
   "source": [
    "train_X_final.columns = ['text', 'cluster']\n",
    "train_X_final"
   ]
  },
  {
   "cell_type": "code",
   "execution_count": 752,
   "metadata": {},
   "outputs": [
    {
     "data": {
      "text/plain": [
       "3    88\n",
       "4    85\n",
       "6    70\n",
       "0    44\n",
       "2    42\n",
       "5    31\n",
       "1    17\n",
       "Name: cluster, dtype: int64"
      ]
     },
     "execution_count": 752,
     "metadata": {},
     "output_type": "execute_result"
    }
   ],
   "source": [
    "train_X_final.cluster.value_counts()"
   ]
  },
  {
   "attachments": {},
   "cell_type": "markdown",
   "metadata": {},
   "source": [
    "### Classification\n",
    "### Predicting star ratings using reviews"
   ]
  },
  {
   "cell_type": "markdown",
   "metadata": {},
   "source": [
    "#### Naive Bayes on TF-IDF"
   ]
  },
  {
   "cell_type": "code",
   "execution_count": 754,
   "metadata": {},
   "outputs": [
    {
     "data": {
      "text/plain": [
       "MultinomialNB(alpha=1.0, class_prior=None, fit_prior=True)"
      ]
     },
     "execution_count": 754,
     "metadata": {},
     "output_type": "execute_result"
    }
   ],
   "source": [
    "# building naive bayes model on TF-IDF\n",
    "nb_model = naive_bayes.MultinomialNB()\n",
    "nb_model.fit(train_X_tfidf,train_y)"
   ]
  },
  {
   "cell_type": "code",
   "execution_count": 755,
   "metadata": {},
   "outputs": [],
   "source": [
    "predict_train = nb_model.predict(train_X_tfidf)\n",
    "predict_test = nb_model.predict(test_X_tfidf)"
   ]
  },
  {
   "cell_type": "code",
   "execution_count": 756,
   "metadata": {},
   "outputs": [
    {
     "name": "stdout",
     "output_type": "stream",
     "text": [
      "Accuracy on train:  0.946949602122016\n",
      "Accuracy on test:  0.8968253968253969\n"
     ]
    }
   ],
   "source": [
    "print('Accuracy on train: ',metrics.accuracy_score(train_y,predict_train))\n",
    "print('Accuracy on test: ',metrics.accuracy_score(test_y,predict_test))"
   ]
  },
  {
   "cell_type": "code",
   "execution_count": 757,
   "metadata": {},
   "outputs": [
    {
     "name": "stdout",
     "output_type": "stream",
     "text": [
      "              precision    recall  f1-score   support\n",
      "\n",
      "           1       0.97      0.76      0.85        74\n",
      "           5       0.94      0.99      0.97       303\n",
      "\n",
      "    accuracy                           0.95       377\n",
      "   macro avg       0.95      0.88      0.91       377\n",
      "weighted avg       0.95      0.95      0.94       377\n",
      "\n"
     ]
    }
   ],
   "source": [
    "print(metrics.classification_report(train_y,predict_train))"
   ]
  },
  {
   "cell_type": "code",
   "execution_count": 758,
   "metadata": {},
   "outputs": [
    {
     "name": "stdout",
     "output_type": "stream",
     "text": [
      "              precision    recall  f1-score   support\n",
      "\n",
      "           1       1.00      0.35      0.52        20\n",
      "           5       0.89      1.00      0.94       106\n",
      "\n",
      "    accuracy                           0.90       126\n",
      "   macro avg       0.95      0.68      0.73       126\n",
      "weighted avg       0.91      0.90      0.87       126\n",
      "\n"
     ]
    }
   ],
   "source": [
    "print(metrics.classification_report(test_y,predict_test))"
   ]
  },
  {
   "cell_type": "code",
   "execution_count": 759,
   "metadata": {},
   "outputs": [],
   "source": [
    "# predict probabilities on train and test\n",
    "predict_prob_train = nb_model.predict_proba(train_X_tfidf)[:,1]\n",
    "predict_prob_test = nb_model.predict_proba(test_X_tfidf)[:,1]"
   ]
  },
  {
   "cell_type": "code",
   "execution_count": 760,
   "metadata": {},
   "outputs": [
    {
     "name": "stdout",
     "output_type": "stream",
     "text": [
      "ROC_AUC score on train:  0.9916376772812417\n",
      "ROC_AUC score on test:  0.9660377358490566\n"
     ]
    }
   ],
   "source": [
    "print('ROC_AUC score on train: ',metrics.roc_auc_score(train_y,predict_prob_train))\n",
    "print('ROC_AUC score on test: ',metrics.roc_auc_score(test_y,predict_prob_test))"
   ]
  },
  {
   "cell_type": "markdown",
   "metadata": {},
   "source": [
    "### building naive bayes model on count verctor - DTM"
   ]
  },
  {
   "cell_type": "code",
   "execution_count": 761,
   "metadata": {},
   "outputs": [
    {
     "data": {
      "text/plain": [
       "MultinomialNB(alpha=1.0, class_prior=None, fit_prior=True)"
      ]
     },
     "execution_count": 761,
     "metadata": {},
     "output_type": "execute_result"
    }
   ],
   "source": [
    "# building naive bayes model on count verctor - DTM\n",
    "nb_model = naive_bayes.MultinomialNB()\n",
    "nb_model.fit(train_X_count,train_y)"
   ]
  },
  {
   "cell_type": "code",
   "execution_count": 762,
   "metadata": {},
   "outputs": [],
   "source": [
    "predict_train = nb_model.predict(train_X_count)\n",
    "predict_test = nb_model.predict(test_X_count)"
   ]
  },
  {
   "cell_type": "code",
   "execution_count": 763,
   "metadata": {},
   "outputs": [
    {
     "name": "stdout",
     "output_type": "stream",
     "text": [
      "Accuracy on train:  0.9681697612732095\n",
      "Accuracy on test:  0.9365079365079365\n"
     ]
    }
   ],
   "source": [
    "print('Accuracy on train: ',metrics.accuracy_score(train_y,predict_train))\n",
    "print('Accuracy on test: ',metrics.accuracy_score(test_y,predict_test))"
   ]
  },
  {
   "cell_type": "code",
   "execution_count": 764,
   "metadata": {},
   "outputs": [],
   "source": [
    "# predict probabilities on train and test\n",
    "predict_prob_train = nb_model.predict_proba(train_X_count)[:,1]\n",
    "predict_prob_test = nb_model.predict_proba(test_X_count)[:,1]"
   ]
  },
  {
   "cell_type": "code",
   "execution_count": 765,
   "metadata": {},
   "outputs": [
    {
     "name": "stdout",
     "output_type": "stream",
     "text": [
      "ROC_AUC score on train:  0.98994291321024\n",
      "ROC_AUC score on test:  0.9702830188679246\n"
     ]
    }
   ],
   "source": [
    "print('ROC_AUC score on train: ',metrics.roc_auc_score(train_y,predict_prob_train))\n",
    "print('ROC_AUC score on test: ',metrics.roc_auc_score(test_y,predict_prob_test))"
   ]
  },
  {
   "cell_type": "code",
   "execution_count": 766,
   "metadata": {},
   "outputs": [
    {
     "name": "stdout",
     "output_type": "stream",
     "text": [
      "Confusion Matix:\n",
      " [[ 14   6]\n",
      " [  2 104]]\n"
     ]
    },
    {
     "data": {
      "image/png": "[encoded data removed]",
      "text/plain": [
       "<Figure size 432x288 with 2 Axes>"
      ]
     },
     "metadata": {
      "needs_background": "light"
     },
     "output_type": "display_data"
    }
   ],
   "source": [
    "print('Confusion Matix:''\\n', metrics.confusion_matrix(test_y, predict_test))\n",
    "cf_matrix = metrics.confusion_matrix(test_y, predict_test)\n",
    "categories = ['False', 'True']\n",
    "plt.figure(figsize=(6,4))\n",
    "sns.set(font_scale=1.4)\n",
    "sns.heatmap(cf_matrix, annot=True, annot_kws={\"size\":15}, cmap='Blues', fmt='g', xticklabels=categories,  yticklabels=categories)\n",
    "plt.show()"
   ]
  },
  {
   "cell_type": "code",
   "execution_count": 767,
   "metadata": {},
   "outputs": [],
   "source": [
    "# Compute ROC curve and ROC area for each attack class\n",
    "from itertools import cycle\n",
    "\n",
    "def roc_curve_multinomial(train_y_multi, train_y_multi_pred):\n",
    "    plt.figure(figsize=(8,6))\n",
    "    n_classes = train_y_multi.shape[1]\n",
    "    fpr = dict()\n",
    "    tpr = dict()\n",
    "    roc_auc = dict()\n",
    "    for i in range(n_classes):\n",
    "        fpr[i], tpr[i], _ = roc_curve(train_y_multi[:, i], train_y_multi_pred[:, i])\n",
    "        roc_auc[i] = auc(fpr[i], tpr[i])\n",
    "        colors = cycle(['blue', 'red', 'green','magenta','cyan'])\n",
    "    for i, color in zip(range(n_classes), colors):\n",
    "        if not np.isnan(tpr[i][0]):\n",
    "            plt.plot(fpr[i], tpr[i], color=color, lw=1.5,\n",
    "                 label='ROC curve of {0} Stars (area = {1:0.2f})'\n",
    "                 ''.format(i+1, roc_auc[i]))\n",
    "\n",
    "    plt.plot([0, 1], [0, 1], 'k--', lw=1.5)\n",
    "    plt.xlim([-0.05, 1.0])\n",
    "    plt.ylim([0.0, 1.05])\n",
    "    plt.xlabel('False Positive Rate')\n",
    "    plt.ylabel('True Positive Rate(Recall)')\n",
    "    plt.title('ROC curve for multinomial classification')\n",
    "    plt.legend(loc=\"lower right\")\n",
    "    plt.show()"
   ]
  },
  {
   "cell_type": "code",
   "execution_count": 768,
   "metadata": {},
   "outputs": [
    {
     "name": "stderr",
     "output_type": "stream",
     "text": [
      "C:\\ProgramData\\Anaconda3\\lib\\site-packages\\sklearn\\metrics\\ranking.py:659: UndefinedMetricWarning: No positive samples in y_true, true positive value should be meaningless\n",
      "  UndefinedMetricWarning)\n"
     ]
    },
    {
     "data": {
      "image/png": "[encoded data removed]",
      "text/plain": [
       "<Figure size 576x432 with 1 Axes>"
      ]
     },
     "metadata": {},
     "output_type": "display_data"
    }
   ],
   "source": [
    "#Plot ROC AUC curve\n",
    "\n",
    "#binarizing the predictions for ROC-AUC to work on multiclass predictions - star ratings 1 to 5\n",
    "test_y_multi_pred = preprocessing.label_binarize(predict_test, classes=[1, 2, 3, 4, 5])\n",
    "test_y_multi = preprocessing.label_binarize(test_y, classes=[1, 2, 3, 4, 5])\n",
    "\n",
    "#auc_score = metrics.roc_auc_score(test_y,predict_prob_test)\n",
    "#fpr, tpr, auc_thresholds = roc_curve(test_y,test_y_multi_pred)\n",
    "roc_curve_multinomial(test_y_multi, test_y_multi_pred)"
   ]
  },
  {
   "cell_type": "markdown",
   "metadata": {},
   "source": [
    "### XGBoost Classifier with Count Vector"
   ]
  },
  {
   "cell_type": "code",
   "execution_count": 769,
   "metadata": {},
   "outputs": [],
   "source": [
    "xgb_estimator = XGBClassifier( learning_rate=0.01,\n",
    "                               n_estimators=1000,\n",
    "                               max_depth=5,\n",
    "                               min_child_weight=1,\n",
    "                               gamma=1,\n",
    "                               subsample=0.8,\n",
    "                               colsample_bytree=0.8,\n",
    "                               n_jobs=-1,\n",
    "                               reg_alpa=1,\n",
    "                               scale_pos_weight=1,\n",
    "                               random_state=42,\n",
    "                               verbose=1)"
   ]
  },
  {
   "cell_type": "code",
   "execution_count": 770,
   "metadata": {
    "scrolled": true
   },
   "outputs": [
    {
     "name": "stdout",
     "output_type": "stream",
     "text": [
      "[08:00:36] WARNING: C:\\Users\\Administrator\\workspace\\xgboost-win64_release_1.1.0\\src\\learner.cc:480: \n",
      "Parameters: { reg_alpa, verbose } might not be used.\n",
      "\n",
      "  This may not be accurate due to some parameters are only used in language bindings but\n",
      "  passed down to XGBoost core.  Or some parameters are not used but slip through this\n",
      "  verification. Please open an issue if you find above cases.\n",
      "\n",
      "\n"
     ]
    },
    {
     "data": {
      "text/plain": [
       "XGBClassifier(base_score=0.5, booster='gbtree', colsample_bylevel=1,\n",
       "              colsample_bynode=1, colsample_bytree=0.8, gamma=1, gpu_id=-1,\n",
       "              importance_type='gain', interaction_constraints='',\n",
       "              learning_rate=0.01, max_delta_step=0, max_depth=5,\n",
       "              min_child_weight=1, missing=nan, monotone_constraints='()',\n",
       "              n_estimators=1000, n_jobs=-1, num_parallel_tree=1,\n",
       "              objective='binary:logistic', random_state=42, reg_alpa=1,\n",
       "              reg_alpha=0, reg_lambda=1, scale_pos_weight=1, subsample=0.8,\n",
       "              tree_method='exact', validate_parameters=1, verbose=1,\n",
       "              verbosity=None)"
      ]
     },
     "execution_count": 770,
     "metadata": {},
     "output_type": "execute_result"
    }
   ],
   "source": [
    "xgb_estimator.fit(train_X_count,train_y)"
   ]
  },
  {
   "cell_type": "code",
   "execution_count": 771,
   "metadata": {},
   "outputs": [],
   "source": [
    "predict_train = xgb_estimator.predict(train_X_count)\n",
    "predict_test = xgb_estimator.predict(test_X_count)"
   ]
  },
  {
   "cell_type": "code",
   "execution_count": 772,
   "metadata": {},
   "outputs": [
    {
     "name": "stdout",
     "output_type": "stream",
     "text": [
      "Accuracy on train:  0.9814323607427056\n",
      "Accuracy on test:  0.9285714285714286\n"
     ]
    }
   ],
   "source": [
    "print('Accuracy on train: ',metrics.accuracy_score(train_y,predict_train))\n",
    "print('Accuracy on test: ',metrics.accuracy_score(test_y,predict_test))"
   ]
  },
  {
   "cell_type": "code",
   "execution_count": 773,
   "metadata": {},
   "outputs": [],
   "source": [
    "# predict probabilities on train and test\n",
    "predict_prob_train = xgb_estimator.predict_proba(train_X_count)[:,1]\n",
    "predict_prob_test = xgb_estimator.predict_proba(test_X_count)[:,1]"
   ]
  },
  {
   "cell_type": "code",
   "execution_count": 774,
   "metadata": {},
   "outputs": [
    {
     "name": "stdout",
     "output_type": "stream",
     "text": [
      "ROC_AUC score on train:  0.9982160378199981\n",
      "ROC_AUC score on test:  0.9764150943396226\n"
     ]
    }
   ],
   "source": [
    "print('ROC_AUC score on train: ',metrics.roc_auc_score(train_y,predict_prob_train))\n",
    "print('ROC_AUC score on test: ',metrics.roc_auc_score(test_y,predict_prob_test))"
   ]
  },
  {
   "cell_type": "markdown",
   "metadata": {},
   "source": [
    "### XGBoost Classifier with TFIDF"
   ]
  },
  {
   "cell_type": "code",
   "execution_count": 775,
   "metadata": {
    "scrolled": true
   },
   "outputs": [
    {
     "name": "stdout",
     "output_type": "stream",
     "text": [
      "[08:00:37] WARNING: C:\\Users\\Administrator\\workspace\\xgboost-win64_release_1.1.0\\src\\learner.cc:480: \n",
      "Parameters: { reg_alpa, verbose } might not be used.\n",
      "\n",
      "  This may not be accurate due to some parameters are only used in language bindings but\n",
      "  passed down to XGBoost core.  Or some parameters are not used but slip through this\n",
      "  verification. Please open an issue if you find above cases.\n",
      "\n",
      "\n"
     ]
    },
    {
     "data": {
      "text/plain": [
       "XGBClassifier(base_score=0.5, booster='gbtree', colsample_bylevel=1,\n",
       "              colsample_bynode=1, colsample_bytree=0.8, gamma=1, gpu_id=-1,\n",
       "              importance_type='gain', interaction_constraints='',\n",
       "              learning_rate=0.01, max_delta_step=0, max_depth=5,\n",
       "              min_child_weight=1, missing=nan, monotone_constraints='()',\n",
       "              n_estimators=1000, n_jobs=-1, num_parallel_tree=1,\n",
       "              objective='binary:logistic', random_state=42, reg_alpa=1,\n",
       "              reg_alpha=0, reg_lambda=1, scale_pos_weight=1, subsample=0.8,\n",
       "              tree_method='exact', validate_parameters=1, verbose=1,\n",
       "              verbosity=None)"
      ]
     },
     "execution_count": 775,
     "metadata": {},
     "output_type": "execute_result"
    }
   ],
   "source": [
    "xgb_estimator.fit(train_X_tfidf,train_y)"
   ]
  },
  {
   "cell_type": "code",
   "execution_count": 776,
   "metadata": {},
   "outputs": [],
   "source": [
    "predict_train = xgb_estimator.predict(train_X_tfidf)\n",
    "predict_test = xgb_estimator.predict(test_X_tfidf)"
   ]
  },
  {
   "cell_type": "code",
   "execution_count": 777,
   "metadata": {},
   "outputs": [
    {
     "name": "stdout",
     "output_type": "stream",
     "text": [
      "Accuracy on train:  0.986737400530504\n",
      "Accuracy on test:  0.9047619047619048\n"
     ]
    }
   ],
   "source": [
    "print('Accuracy on train: ',metrics.accuracy_score(train_y,predict_train))\n",
    "print('Accuracy on test: ',metrics.accuracy_score(test_y,predict_test))"
   ]
  },
  {
   "cell_type": "code",
   "execution_count": 778,
   "metadata": {},
   "outputs": [],
   "source": [
    "# predict probabilities on train and test\n",
    "predict_prob_train = xgb_estimator.predict_proba(train_X_tfidf)[:,1]\n",
    "predict_prob_test = xgb_estimator.predict_proba(test_X_tfidf)[:,1]"
   ]
  },
  {
   "cell_type": "code",
   "execution_count": 779,
   "metadata": {},
   "outputs": [
    {
     "name": "stdout",
     "output_type": "stream",
     "text": [
      "ROC_AUC score on train:  0.9989073231647488\n",
      "ROC_AUC score on test:  0.9683962264150944\n"
     ]
    }
   ],
   "source": [
    "print('ROC_AUC score on train: ',metrics.roc_auc_score(train_y,predict_prob_train))\n",
    "print('ROC_AUC score on test: ',metrics.roc_auc_score(test_y,predict_prob_test))"
   ]
  },
  {
   "cell_type": "markdown",
   "metadata": {},
   "source": [
    "### We would choose Naive Bayes with CountVector DTM as our preffered model for Predicting star ratings using reviews.\n",
    "It shows a little better accuracy on test data and it is faster."
   ]
  },
  {
   "cell_type": "code",
   "execution_count": 780,
   "metadata": {},
   "outputs": [],
   "source": [
    "### Saving as pickle object\n",
    "\n",
    "#Lets save everything in metrics_df to pickle object\n",
    "import pickle\n",
    "\n",
    "# now you can save it to a file\n",
    "with open('NB.pkl', 'wb') as f:\n",
    "    pickle.dump(nb_model, f)"
   ]
  },
  {
   "cell_type": "code",
   "execution_count": null,
   "metadata": {},
   "outputs": [],
   "source": []
  }
 ],
 "metadata": {
  "kernelspec": {
   "display_name": "Python 3",
   "language": "python",
   "name": "python3"
  },
  "language_info": {
   "codemirror_mode": {
    "name": "ipython",
    "version": 3
   },
   "file_extension": ".py",
   "mimetype": "text/x-python",
   "name": "python",
   "nbconvert_exporter": "python",
   "pygments_lexer": "ipython3",
   "version": "3.7.4"
  }
 },
 "nbformat": 4,
 "nbformat_minor": 2
}
