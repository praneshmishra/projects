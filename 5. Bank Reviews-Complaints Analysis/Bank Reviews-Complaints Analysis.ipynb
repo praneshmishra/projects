{
 "cells": [
  {
   "cell_type": "markdown",
   "metadata": {},
   "source": [
    "### Buisness context\n",
    "\n",
    "Central banks collect information/feedback/complaints from customers on different services provided by different banks.\n",
    "    1. Bank users give ratings and reviews to the services on bank website. These ratings are useful to the banks in evaluating their services and take necessary action to improve their services. Ratings help the bansk understand the overall experience but they do not convey the context ehich led the reviewer to that experience.\n",
    "    \n",
    "    2. If we look at the rating alone, it is difficult to guaze why the review gave a 4 or a 2 start rating. But, if we read the review it is not difficult to understand that the reviewer talks about good service/bad service/expectations.\n",
    "    \n",
    "\n",
    "### Objective:\n",
    "    The objective of this case study is to analyse customer reviews and predict customer satisfaction with the reviews.\n",
    "    1. Data Processing\n",
    "    2. Key positive words, negative words (most frequent words)\n",
    "    3. Classification of reviews into positive, negative and neutral\n",
    "    4. Identify key themes of problems (using clustering/topic models)\n",
    "    5. Predicting start ratings using reviews\n",
    "    6. Perform intent analysis"
   ]
  },
  {
   "cell_type": "code",
   "execution_count": 883,
   "metadata": {},
   "outputs": [
    {
     "name": "stderr",
     "output_type": "stream",
     "text": [
      "[nltk_data] Downloading package averaged_perceptron_tagger to\n",
      "[nltk_data]     C:\\Users\\Mayukh S. Mishra\\AppData\\Roaming\\nltk_data...\n",
      "[nltk_data]   Package averaged_perceptron_tagger is already up-to-\n",
      "[nltk_data]       date!\n",
      "[nltk_data] Downloading package wordnet to C:\\Users\\Mayukh S.\n",
      "[nltk_data]     Mishra\\AppData\\Roaming\\nltk_data...\n",
      "[nltk_data]   Package wordnet is already up-to-date!\n",
      "[nltk_data] Downloading package punkt to C:\\Users\\Mayukh S.\n",
      "[nltk_data]     Mishra\\AppData\\Roaming\\nltk_data...\n",
      "[nltk_data]   Package punkt is already up-to-date!\n",
      "[nltk_data] Downloading package maxent_ne_chunker to C:\\Users\\Mayukh\n",
      "[nltk_data]     S. Mishra\\AppData\\Roaming\\nltk_data...\n",
      "[nltk_data]   Package maxent_ne_chunker is already up-to-date!\n",
      "[nltk_data] Downloading package words to C:\\Users\\Mayukh S.\n",
      "[nltk_data]     Mishra\\AppData\\Roaming\\nltk_data...\n",
      "[nltk_data]   Package words is already up-to-date!\n",
      "[nltk_data] Downloading package stopwords to C:\\Users\\Mayukh S.\n",
      "[nltk_data]     Mishra\\AppData\\Roaming\\nltk_data...\n",
      "[nltk_data]   Package stopwords is already up-to-date!\n",
      "C:\\ProgramData\\Anaconda3\\lib\\site-packages\\past\\builtins\\misc.py:4: DeprecationWarning: Using or importing the ABCs from 'collections' instead of from 'collections.abc' is deprecated, and in 3.8 it will stop working\n",
      "  from collections import Mapping\n"
     ]
    },
    {
     "data": {
      "text/plain": [
       "<Figure size 432x216 with 0 Axes>"
      ]
     },
     "metadata": {},
     "output_type": "display_data"
    }
   ],
   "source": [
    "\n",
    "import pandas as pd \n",
    "import numpy as np\n",
    "\n",
    "import pandas_profiling\n",
    "\n",
    "from textblob import TextBlob\n",
    "from textblob import Word\n",
    "\n",
    "#Packages related to data visualizaiton\n",
    "import seaborn as sns\n",
    "import matplotlib.pyplot as plt\n",
    "from wordcloud import WordCloud\n",
    "%matplotlib inline\n",
    "\n",
    "import string\n",
    "import re\n",
    "\n",
    "from nameparser.parser import HumanName\n",
    "\n",
    "import spacy\n",
    "\n",
    "import nltk\n",
    "import nltk.chunk\n",
    "nltk.download('averaged_perceptron_tagger')\n",
    "nltk.download('wordnet')\n",
    "nltk.download('punkt')\n",
    "nltk.download('maxent_ne_chunker')\n",
    "nltk.download('words')\n",
    "from nltk.corpus import stopwords\n",
    "nltk.download('stopwords')\n",
    "from nltk import pos_tag\n",
    "from nltk.stem.wordnet import WordNetLemmatizer \n",
    "from nltk.tokenize import word_tokenize\n",
    "from nltk.corpus import wordnet\n",
    "\n",
    "#FeatureEngineering\n",
    "from sklearn.feature_extraction.text import TfidfVectorizer, CountVectorizer, HashingVectorizer, TfidfTransformer\n",
    "from sklearn.decomposition import TruncatedSVD, LatentDirichletAllocation\n",
    "from sklearn.base import BaseEstimator, ClassifierMixin\n",
    "from sklearn.utils.validation import check_X_y, check_is_fitted\n",
    "from sklearn import model_selection, preprocessing, linear_model, naive_bayes, metrics, svm, decomposition, ensemble\n",
    "from sklearn.linear_model import LogisticRegression\n",
    "from sklearn.metrics import log_loss\n",
    "from sklearn.model_selection import StratifiedKFold\n",
    "from sklearn.model_selection import train_test_split\n",
    "from sklearn.cluster import KMeans\n",
    "from sklearn.metrics import roc_curve, auc\n",
    "from sklearn.metrics import silhouette_score\n",
    "\n",
    "from xgboost import XGBClassifier\n",
    "\n",
    "# Importing Gensim\n",
    "import gensim\n",
    "from gensim import corpora\n",
    "import pyLDAvis.gensim\n",
    "\n",
    "#Setting plot sizes and type of plot\n",
    "plt.rc(\"font\", size=14)\n",
    "plt.rcParams['axes.grid'] = True\n",
    "plt.figure(figsize=(6,3))\n",
    "plt.gray()"
   ]
  },
  {
   "cell_type": "code",
   "execution_count": 889,
   "metadata": {},
   "outputs": [],
   "source": [
    "# read BankReviews.xlsx into a DataFrame\n",
    "bank_reviews = pd.read_excel('BankReviews.xlsx')"
   ]
  },
  {
   "cell_type": "markdown",
   "metadata": {},
   "source": [
    "### Data Understanding"
   ]
  },
  {
   "cell_type": "code",
   "execution_count": 890,
   "metadata": {},
   "outputs": [
    {
     "name": "stdout",
     "output_type": "stream",
     "text": [
      "<class 'pandas.core.frame.DataFrame'>\n",
      "RangeIndex: 505 entries, 0 to 504\n",
      "Data columns (total 4 columns):\n",
      " #   Column    Non-Null Count  Dtype         \n",
      "---  ------    --------------  -----         \n",
      " 0   Date      505 non-null    datetime64[ns]\n",
      " 1   Stars     505 non-null    int64         \n",
      " 2   Reviews   505 non-null    object        \n",
      " 3   BankName  505 non-null    object        \n",
      "dtypes: datetime64[ns](1), int64(1), object(2)\n",
      "memory usage: 15.9+ KB\n"
     ]
    }
   ],
   "source": [
    "bank_reviews.info(verbose=True)"
   ]
  },
  {
   "cell_type": "code",
   "execution_count": 891,
   "metadata": {},
   "outputs": [
    {
     "data": {
      "text/html": [
       "<div>\n",
       "<style scoped>\n",
       "    .dataframe tbody tr th:only-of-type {\n",
       "        vertical-align: middle;\n",
       "    }\n",
       "\n",
       "    .dataframe tbody tr th {\n",
       "        vertical-align: top;\n",
       "    }\n",
       "\n",
       "    .dataframe thead th {\n",
       "        text-align: right;\n",
       "    }\n",
       "</style>\n",
       "<table border=\"1\" class=\"dataframe\">\n",
       "  <thead>\n",
       "    <tr style=\"text-align: right;\">\n",
       "      <th></th>\n",
       "      <th>Date</th>\n",
       "      <th>Stars</th>\n",
       "      <th>Reviews</th>\n",
       "      <th>BankName</th>\n",
       "    </tr>\n",
       "  </thead>\n",
       "  <tbody>\n",
       "    <tr>\n",
       "      <th>0</th>\n",
       "      <td>2017-04-10</td>\n",
       "      <td>5</td>\n",
       "      <td>Great job, Wyndham Capital! Each person was pr...</td>\n",
       "      <td>Wyndham Capital Mortgage</td>\n",
       "    </tr>\n",
       "    <tr>\n",
       "      <th>1</th>\n",
       "      <td>2017-02-10</td>\n",
       "      <td>5</td>\n",
       "      <td>Matthew Richardson is professional and helpful...</td>\n",
       "      <td>Wyndham Capital Mortgage</td>\n",
       "    </tr>\n",
       "    <tr>\n",
       "      <th>2</th>\n",
       "      <td>2017-08-21</td>\n",
       "      <td>5</td>\n",
       "      <td>We had a past experience with Wyndham Mortgage...</td>\n",
       "      <td>Wyndham Capital Mortgage</td>\n",
       "    </tr>\n",
       "    <tr>\n",
       "      <th>3</th>\n",
       "      <td>2017-12-17</td>\n",
       "      <td>5</td>\n",
       "      <td>We have been dealing with Brad Thomka from the...</td>\n",
       "      <td>Wyndham Capital Mortgage</td>\n",
       "    </tr>\n",
       "    <tr>\n",
       "      <th>4</th>\n",
       "      <td>2016-05-27</td>\n",
       "      <td>5</td>\n",
       "      <td>I can't express how grateful I am for the supp...</td>\n",
       "      <td>Wyndham Capital Mortgage</td>\n",
       "    </tr>\n",
       "  </tbody>\n",
       "</table>\n",
       "</div>"
      ],
      "text/plain": [
       "        Date  Stars                                            Reviews  \\\n",
       "0 2017-04-10      5  Great job, Wyndham Capital! Each person was pr...   \n",
       "1 2017-02-10      5  Matthew Richardson is professional and helpful...   \n",
       "2 2017-08-21      5  We had a past experience with Wyndham Mortgage...   \n",
       "3 2017-12-17      5  We have been dealing with Brad Thomka from the...   \n",
       "4 2016-05-27      5  I can't express how grateful I am for the supp...   \n",
       "\n",
       "                   BankName  \n",
       "0  Wyndham Capital Mortgage  \n",
       "1  Wyndham Capital Mortgage  \n",
       "2  Wyndham Capital Mortgage  \n",
       "3  Wyndham Capital Mortgage  \n",
       "4  Wyndham Capital Mortgage  "
      ]
     },
     "execution_count": 891,
     "metadata": {},
     "output_type": "execute_result"
    }
   ],
   "source": [
    "bank_reviews.head(5)"
   ]
  },
  {
   "cell_type": "code",
   "execution_count": 892,
   "metadata": {},
   "outputs": [
    {
     "data": {
      "text/plain": [
       "(505, 4)"
      ]
     },
     "execution_count": 892,
     "metadata": {},
     "output_type": "execute_result"
    }
   ],
   "source": [
    "bank_reviews.shape"
   ]
  },
  {
   "cell_type": "code",
   "execution_count": 893,
   "metadata": {},
   "outputs": [
    {
     "data": {
      "text/html": [
       "<div>\n",
       "<style scoped>\n",
       "    .dataframe tbody tr th:only-of-type {\n",
       "        vertical-align: middle;\n",
       "    }\n",
       "\n",
       "    .dataframe tbody tr th {\n",
       "        vertical-align: top;\n",
       "    }\n",
       "\n",
       "    .dataframe thead th {\n",
       "        text-align: right;\n",
       "    }\n",
       "</style>\n",
       "<table border=\"1\" class=\"dataframe\">\n",
       "  <thead>\n",
       "    <tr style=\"text-align: right;\">\n",
       "      <th></th>\n",
       "      <th>Stars</th>\n",
       "    </tr>\n",
       "  </thead>\n",
       "  <tbody>\n",
       "    <tr>\n",
       "      <th>count</th>\n",
       "      <td>505.000000</td>\n",
       "    </tr>\n",
       "    <tr>\n",
       "      <th>mean</th>\n",
       "      <td>4.247525</td>\n",
       "    </tr>\n",
       "    <tr>\n",
       "      <th>std</th>\n",
       "      <td>1.564778</td>\n",
       "    </tr>\n",
       "    <tr>\n",
       "      <th>min</th>\n",
       "      <td>1.000000</td>\n",
       "    </tr>\n",
       "    <tr>\n",
       "      <th>25%</th>\n",
       "      <td>5.000000</td>\n",
       "    </tr>\n",
       "    <tr>\n",
       "      <th>50%</th>\n",
       "      <td>5.000000</td>\n",
       "    </tr>\n",
       "    <tr>\n",
       "      <th>75%</th>\n",
       "      <td>5.000000</td>\n",
       "    </tr>\n",
       "    <tr>\n",
       "      <th>max</th>\n",
       "      <td>5.000000</td>\n",
       "    </tr>\n",
       "  </tbody>\n",
       "</table>\n",
       "</div>"
      ],
      "text/plain": [
       "            Stars\n",
       "count  505.000000\n",
       "mean     4.247525\n",
       "std      1.564778\n",
       "min      1.000000\n",
       "25%      5.000000\n",
       "50%      5.000000\n",
       "75%      5.000000\n",
       "max      5.000000"
      ]
     },
     "execution_count": 893,
     "metadata": {},
     "output_type": "execute_result"
    }
   ],
   "source": [
    "bank_reviews.describe()"
   ]
  },
  {
   "cell_type": "code",
   "execution_count": 894,
   "metadata": {},
   "outputs": [],
   "source": [
    "#full report with correlation and missing charts was generating a report of size more than 250 MBs, \n",
    "#this was causing my machine to hang. Hence, generating a minimal report with varibale info and overview.\n",
    "\n",
    "profile = pandas_profiling.ProfileReport(bank_reviews, minimal=True)"
   ]
  },
  {
   "cell_type": "code",
   "execution_count": 895,
   "metadata": {},
   "outputs": [
    {
     "data": {
      "application/vnd.jupyter.widget-view+json": {
       "model_id": "80b66ac1cc3248db88aaf25871e69fe5",
       "version_major": 2,
       "version_minor": 0
      },
      "text/plain": [
       "HBox(children=(FloatProgress(value=0.0, description='Summarize dataset', max=13.0, style=ProgressStyle(descrip…"
      ]
     },
     "metadata": {},
     "output_type": "display_data"
    },
    {
     "name": "stdout",
     "output_type": "stream",
     "text": [
      "\n"
     ]
    },
    {
     "data": {
      "application/vnd.jupyter.widget-view+json": {
       "model_id": "985f3bd7b4684fd0b510400647c48496",
       "version_major": 2,
       "version_minor": 0
      },
      "text/plain": [
       "HBox(children=(FloatProgress(value=0.0, description='Generate report structure', max=1.0, style=ProgressStyle(…"
      ]
     },
     "metadata": {},
     "output_type": "display_data"
    },
    {
     "name": "stdout",
     "output_type": "stream",
     "text": [
      "\n"
     ]
    },
    {
     "data": {
      "application/vnd.jupyter.widget-view+json": {
       "model_id": "b55a84709fbb4a2495554fa6f46935cf",
       "version_major": 2,
       "version_minor": 0
      },
      "text/plain": [
       "HBox(children=(FloatProgress(value=0.0, description='Render HTML', max=1.0, style=ProgressStyle(description_wi…"
      ]
     },
     "metadata": {},
     "output_type": "display_data"
    },
    {
     "name": "stdout",
     "output_type": "stream",
     "text": [
      "\n"
     ]
    },
    {
     "data": {
      "application/vnd.jupyter.widget-view+json": {
       "model_id": "0124565e76cd4dc49e0bff76b1c2012d",
       "version_major": 2,
       "version_minor": 0
      },
      "text/plain": [
       "HBox(children=(FloatProgress(value=0.0, description='Export report to file', max=1.0, style=ProgressStyle(desc…"
      ]
     },
     "metadata": {},
     "output_type": "display_data"
    },
    {
     "name": "stdout",
     "output_type": "stream",
     "text": [
      "\n"
     ]
    }
   ],
   "source": [
    "# Change the config after\n",
    "#profile.set_variable(\"html.minify_html\", False)\n",
    "profile.to_file(\"profile_report.html\")"
   ]
  },
  {
   "cell_type": "markdown",
   "metadata": {},
   "source": [
    "### Exploratory analysis"
   ]
  },
  {
   "cell_type": "code",
   "execution_count": 896,
   "metadata": {},
   "outputs": [
    {
     "data": {
      "image/png": "[encoded data removed]",
      "text/plain": [
       "<Figure size 432x432 with 1 Axes>"
      ]
     },
     "metadata": {
      "needs_background": "light"
     },
     "output_type": "display_data"
    }
   ],
   "source": [
    "stars = bank_reviews.groupby(bank_reviews['Stars']).size()\n",
    "\n",
    "fig, axs = plt.subplots(figsize = (6,6))\n",
    "sns.barplot(stars.index, stars.values,  orient='v')\n",
    "\n",
    "plt.title('Distribution of ratings',fontsize=20)\n",
    "plt.xlabel('Stars',fontsize=15)\n",
    "plt.ylabel('Count',fontsize=15)\n",
    "plt.show()"
   ]
  },
  {
   "cell_type": "markdown",
   "metadata": {},
   "source": [
    "#### The data has ratings of only 1 start and 5 star"
   ]
  },
  {
   "cell_type": "code",
   "execution_count": 897,
   "metadata": {},
   "outputs": [
    {
     "data": {
      "image/png": "[encoded data removed]",
      "text/plain": [
       "<Figure size 720x432 with 1 Axes>"
      ]
     },
     "metadata": {
      "needs_background": "light"
     },
     "output_type": "display_data"
    }
   ],
   "source": [
    "bank = bank_reviews.groupby(bank_reviews['BankName']).size()\n",
    "\n",
    "fig, axs = plt.subplots(figsize = (10,6))\n",
    "sns.barplot(bank.values, bank.index)\n",
    "\n",
    "plt.title('Number of reviews by Bank',fontsize=20)\n",
    "#plt.xlabel('Count',fontsize=15)\n",
    "plt.ylabel('',fontsize=15)\n",
    "plt.show()"
   ]
  },
  {
   "cell_type": "code",
   "execution_count": 898,
   "metadata": {},
   "outputs": [
    {
     "data": {
      "image/png": "[encoded data removed]",
      "text/plain": [
       "<Figure size 360x432 with 1 Axes>"
      ]
     },
     "metadata": {
      "needs_background": "light"
     },
     "output_type": "display_data"
    }
   ],
   "source": [
    "year = bank_reviews.groupby(bank_reviews['Date'].dt.year).size()\n",
    "\n",
    "fig, axs = plt.subplots(figsize = (5,6))\n",
    "sns.barplot(year.index, year.values,  orient='v')\n",
    "\n",
    "plt.title('Number of reviews by Year',fontsize=20)\n",
    "plt.xlabel('Year',fontsize=15)\n",
    "plt.ylabel('Count',fontsize=15)\n",
    "plt.show()"
   ]
  },
  {
   "cell_type": "code",
   "execution_count": 899,
   "metadata": {},
   "outputs": [
    {
     "data": {
      "image/png": "[encoded data removed]",
      "text/plain": [
       "<Figure size 720x432 with 1 Axes>"
      ]
     },
     "metadata": {
      "needs_background": "light"
     },
     "output_type": "display_data"
    }
   ],
   "source": [
    "month = bank_reviews.groupby(bank_reviews['Date'].dt.month).size()\n",
    "\n",
    "fig, axs = plt.subplots(figsize = (10,6))\n",
    "sns.barplot(month.index, month.values,  orient='v')\n",
    "\n",
    "plt.title('Number of reviews by month',fontsize=20)\n",
    "plt.xlabel('Month',fontsize=15)\n",
    "plt.ylabel('Count',fontsize=15)\n",
    "plt.show()"
   ]
  },
  {
   "cell_type": "raw",
   "metadata": {},
   "source": [
    "#bank_stars = bank_reviews.groupby(['BankName','Stars']).count()\n",
    "#bank_stars = bank_reviews.groupby(['BankName','Stars'])['Stars'].aggregate('count')\n",
    "bank_stars = bank_reviews.groupby(['BankName','Stars'])['Stars'].count().unstack('Stars')\n",
    "bank_stars.columns"
   ]
  },
  {
   "cell_type": "raw",
   "metadata": {},
   "source": [
    "fig, axs = plt.subplots(figsize = (10,6))\n",
    "sns.barplot(data=bank_stars,x='Stars',hue='BankName',  orient='v')\n",
    "\n",
    "plt.title('Number of reviews by month',fontsize=20)\n",
    "plt.xlabel('Month',fontsize=15)\n",
    "plt.ylabel('Count',fontsize=15)\n",
    "plt.xticks(rotation=90)\n",
    "plt.show()"
   ]
  },
  {
   "cell_type": "code",
   "execution_count": 900,
   "metadata": {},
   "outputs": [],
   "source": [
    "review_data = bank_reviews.copy()"
   ]
  },
  {
   "cell_type": "markdown",
   "metadata": {},
   "source": [
    "### Data preparation and processing"
   ]
  },
  {
   "cell_type": "code",
   "execution_count": 901,
   "metadata": {},
   "outputs": [],
   "source": [
    "## drop duplicate rows:\n",
    "review_data.drop_duplicates(keep='first',inplace=True) "
   ]
  },
  {
   "cell_type": "code",
   "execution_count": 902,
   "metadata": {},
   "outputs": [
    {
     "data": {
      "text/html": [
       "<div>\n",
       "<style scoped>\n",
       "    .dataframe tbody tr th:only-of-type {\n",
       "        vertical-align: middle;\n",
       "    }\n",
       "\n",
       "    .dataframe tbody tr th {\n",
       "        vertical-align: top;\n",
       "    }\n",
       "\n",
       "    .dataframe thead th {\n",
       "        text-align: right;\n",
       "    }\n",
       "</style>\n",
       "<table border=\"1\" class=\"dataframe\">\n",
       "  <thead>\n",
       "    <tr style=\"text-align: right;\">\n",
       "      <th></th>\n",
       "      <th>count_missing</th>\n",
       "      <th>percent_missing</th>\n",
       "    </tr>\n",
       "  </thead>\n",
       "  <tbody>\n",
       "    <tr>\n",
       "      <th>Date</th>\n",
       "      <td>0</td>\n",
       "      <td>0.0</td>\n",
       "    </tr>\n",
       "    <tr>\n",
       "      <th>Stars</th>\n",
       "      <td>0</td>\n",
       "      <td>0.0</td>\n",
       "    </tr>\n",
       "    <tr>\n",
       "      <th>Reviews</th>\n",
       "      <td>0</td>\n",
       "      <td>0.0</td>\n",
       "    </tr>\n",
       "    <tr>\n",
       "      <th>BankName</th>\n",
       "      <td>0</td>\n",
       "      <td>0.0</td>\n",
       "    </tr>\n",
       "  </tbody>\n",
       "</table>\n",
       "</div>"
      ],
      "text/plain": [
       "          count_missing  percent_missing\n",
       "Date                  0              0.0\n",
       "Stars                 0              0.0\n",
       "Reviews               0              0.0\n",
       "BankName              0              0.0"
      ]
     },
     "execution_count": 902,
     "metadata": {},
     "output_type": "execute_result"
    }
   ],
   "source": [
    "## check for missing values\n",
    "count_missing = review_data.isnull().sum()\n",
    "percent_missing = count_missing * 100 / len(review_data)\n",
    "missing_value_df = pd.DataFrame({'count_missing': count_missing, 'percent_missing': percent_missing})\n",
    "missing_value_df.sort_values('percent_missing', inplace=True, ascending = False)\n",
    "missing_value_df.head(10)"
   ]
  },
  {
   "cell_type": "code",
   "execution_count": 903,
   "metadata": {},
   "outputs": [],
   "source": [
    "#keepin a copy of the original reviews\n",
    "review_data['Reviews_Orig'] = review_data['Reviews'] "
   ]
  },
  {
   "cell_type": "code",
   "execution_count": 904,
   "metadata": {},
   "outputs": [
    {
     "data": {
      "text/html": [
       "<div>\n",
       "<style scoped>\n",
       "    .dataframe tbody tr th:only-of-type {\n",
       "        vertical-align: middle;\n",
       "    }\n",
       "\n",
       "    .dataframe tbody tr th {\n",
       "        vertical-align: top;\n",
       "    }\n",
       "\n",
       "    .dataframe thead th {\n",
       "        text-align: right;\n",
       "    }\n",
       "</style>\n",
       "<table border=\"1\" class=\"dataframe\">\n",
       "  <thead>\n",
       "    <tr style=\"text-align: right;\">\n",
       "      <th></th>\n",
       "      <th>Date</th>\n",
       "      <th>Stars</th>\n",
       "      <th>Reviews</th>\n",
       "      <th>BankName</th>\n",
       "      <th>Reviews_Orig</th>\n",
       "      <th>count_word</th>\n",
       "      <th>count_unique_word</th>\n",
       "    </tr>\n",
       "  </thead>\n",
       "  <tbody>\n",
       "    <tr>\n",
       "      <th>0</th>\n",
       "      <td>2017-04-10</td>\n",
       "      <td>5</td>\n",
       "      <td>Great job, Wyndham Capital! Each person was pr...</td>\n",
       "      <td>Wyndham Capital Mortgage</td>\n",
       "      <td>Great job, Wyndham Capital! Each person was pr...</td>\n",
       "      <td>19</td>\n",
       "      <td>19</td>\n",
       "    </tr>\n",
       "    <tr>\n",
       "      <th>1</th>\n",
       "      <td>2017-02-10</td>\n",
       "      <td>5</td>\n",
       "      <td>Matthew Richardson is professional and helpful...</td>\n",
       "      <td>Wyndham Capital Mortgage</td>\n",
       "      <td>Matthew Richardson is professional and helpful...</td>\n",
       "      <td>25</td>\n",
       "      <td>23</td>\n",
       "    </tr>\n",
       "    <tr>\n",
       "      <th>2</th>\n",
       "      <td>2017-08-21</td>\n",
       "      <td>5</td>\n",
       "      <td>We had a past experience with Wyndham Mortgage...</td>\n",
       "      <td>Wyndham Capital Mortgage</td>\n",
       "      <td>We had a past experience with Wyndham Mortgage...</td>\n",
       "      <td>79</td>\n",
       "      <td>64</td>\n",
       "    </tr>\n",
       "    <tr>\n",
       "      <th>3</th>\n",
       "      <td>2017-12-17</td>\n",
       "      <td>5</td>\n",
       "      <td>We have been dealing with Brad Thomka from the...</td>\n",
       "      <td>Wyndham Capital Mortgage</td>\n",
       "      <td>We have been dealing with Brad Thomka from the...</td>\n",
       "      <td>108</td>\n",
       "      <td>78</td>\n",
       "    </tr>\n",
       "    <tr>\n",
       "      <th>4</th>\n",
       "      <td>2016-05-27</td>\n",
       "      <td>5</td>\n",
       "      <td>I can't express how grateful I am for the supp...</td>\n",
       "      <td>Wyndham Capital Mortgage</td>\n",
       "      <td>I can't express how grateful I am for the supp...</td>\n",
       "      <td>59</td>\n",
       "      <td>47</td>\n",
       "    </tr>\n",
       "  </tbody>\n",
       "</table>\n",
       "</div>"
      ],
      "text/plain": [
       "        Date  Stars                                            Reviews  \\\n",
       "0 2017-04-10      5  Great job, Wyndham Capital! Each person was pr...   \n",
       "1 2017-02-10      5  Matthew Richardson is professional and helpful...   \n",
       "2 2017-08-21      5  We had a past experience with Wyndham Mortgage...   \n",
       "3 2017-12-17      5  We have been dealing with Brad Thomka from the...   \n",
       "4 2016-05-27      5  I can't express how grateful I am for the supp...   \n",
       "\n",
       "                   BankName  \\\n",
       "0  Wyndham Capital Mortgage   \n",
       "1  Wyndham Capital Mortgage   \n",
       "2  Wyndham Capital Mortgage   \n",
       "3  Wyndham Capital Mortgage   \n",
       "4  Wyndham Capital Mortgage   \n",
       "\n",
       "                                        Reviews_Orig  count_word  \\\n",
       "0  Great job, Wyndham Capital! Each person was pr...          19   \n",
       "1  Matthew Richardson is professional and helpful...          25   \n",
       "2  We had a past experience with Wyndham Mortgage...          79   \n",
       "3  We have been dealing with Brad Thomka from the...         108   \n",
       "4  I can't express how grateful I am for the supp...          59   \n",
       "\n",
       "   count_unique_word  \n",
       "0                 19  \n",
       "1                 23  \n",
       "2                 64  \n",
       "3                 78  \n",
       "4                 47  "
      ]
     },
     "execution_count": 904,
     "metadata": {},
     "output_type": "execute_result"
    }
   ],
   "source": [
    "#Word count in each comment:\n",
    "review_data['count_word']=review_data[\"Reviews\"].apply(lambda x: len(str(x).split()))\n",
    "\n",
    "#Unique word count\n",
    "review_data['count_unique_word']=review_data[\"Reviews\"].apply(lambda x: len(set(str(x).split())))\n",
    "\n",
    "review_data.head(5)"
   ]
  },
  {
   "cell_type": "code",
   "execution_count": 905,
   "metadata": {},
   "outputs": [
    {
     "name": "stdout",
     "output_type": "stream",
     "text": [
      "Total word count in the corpus:  38577\n",
      "Total unique word count in the corpus:  28451\n"
     ]
    }
   ],
   "source": [
    "print(\"Total word count in the corpus: \", review_data['count_word'].sum())\n",
    "print(\"Total unique word count in the corpus: \", review_data['count_unique_word'].sum())"
   ]
  },
  {
   "cell_type": "markdown",
   "metadata": {},
   "source": [
    "#### Getting all human names"
   ]
  },
  {
   "cell_type": "code",
   "execution_count": 906,
   "metadata": {},
   "outputs": [
    {
     "name": "stdout",
     "output_type": "stream",
     "text": [
      "{'kelly', 'sakani hamilton', 'jacob m. koppel', 'mary', 'andrew', 'jeff', 'adam', 'sam', 'june lee', 'andrew leehy', 'dyllon b.', 'gregory', 'mike', 'alex', 'lending tree', 'john guerra', 'carla', 'peter', 'ben', 'fred', 'spring', 'patrick', 'brandon', 'brad', 'joe', 'adan', 'janeen cadwell', 'nasb', 'jim', 'wesley white', 'anthony marroquin', 'robert mcclung', 'mattison', 'rich', 'mark', 'tom', 'jon', 'matthew', 'maurice', 'mark taylor', 'jeremy', 'patrick g', 'jon barrett', 'ranee martinez', 'joey', 'ed', 'malcolm', 'steve', 'robert', 'paul', 'bryan', 'bill', 'michele', 'bryant', 'anthony', 'kory', 'rowel', 'jason', 'dlj', 'andy', 'jody martin', 'christopher waymire', 'aaron', 'triumph', 'janeen', 'john', 'michelle', 'ethan', 'lindread less', 'adaml', 'matt', 'dean', \"austen butler's\", 'chris', 'joanne', 'tim', 'brent', 'daniel', 'rick richter', 'teddy', 'germain', 'thanks patrick', 'steven shatz', 'brian', 'penny', 'peter lammerts', 'rick', 'steven', 'wyndham', 'kirk', 'chris thomas', 'sam fazio', 'quicken loans'}\n"
     ]
    }
   ],
   "source": [
    "nlp = spacy.load('en')\n",
    "ents_list = []\n",
    "for index, row in review_data.iterrows():\n",
    "    doc = nlp(row['Reviews'])\n",
    "    # Iterate over the predicted entities\n",
    "    for ent in doc.ents:\n",
    "        tmp = []\n",
    "        if ent.label_ == 'PERSON':\n",
    "            tmp.append(ent.text)\n",
    "    ents_list.append(tmp)\n",
    "    \n",
    "flat_list = []\n",
    "for sublist in ents_list:\n",
    "    for item in sublist:\n",
    "        flat_list.append(item.lower())\n",
    "person_name_set = set(flat_list)\n",
    "print(person_name_set)"
   ]
  },
  {
   "cell_type": "code",
   "execution_count": 907,
   "metadata": {},
   "outputs": [
    {
     "name": "stderr",
     "output_type": "stream",
     "text": [
      "<>:4: DeprecationWarning: invalid escape sequence \\.\n",
      "<>:7: DeprecationWarning: invalid escape sequence \\S\n",
      "<>:13: DeprecationWarning: invalid escape sequence \\s\n",
      "<>:4: DeprecationWarning: invalid escape sequence \\.\n",
      "<>:7: DeprecationWarning: invalid escape sequence \\S\n",
      "<>:13: DeprecationWarning: invalid escape sequence \\s\n",
      "<>:4: DeprecationWarning: invalid escape sequence \\.\n",
      "<>:7: DeprecationWarning: invalid escape sequence \\S\n",
      "<>:13: DeprecationWarning: invalid escape sequence \\s\n",
      "<ipython-input-907-81326dc14022>:4: DeprecationWarning: invalid escape sequence \\.\n",
      "  text = re.sub('(www\\.[^\\s]+)|(https?://[^\\s]+)','', text)\n",
      "<ipython-input-907-81326dc14022>:7: DeprecationWarning: invalid escape sequence \\S\n",
      "  text = re.sub('\\S*@\\S*\\s?', '', text)\n",
      "<ipython-input-907-81326dc14022>:13: DeprecationWarning: invalid escape sequence \\s\n",
      "  text = re.sub('\\s+', ' ', text)\n"
     ]
    }
   ],
   "source": [
    "def clean_text(text):\n",
    "    \n",
    "    # remove web addresses\n",
    "    text = re.sub('(www\\.[^\\s]+)|(https?://[^\\s]+)','', text)\n",
    "\n",
    "    # Remove Emails\n",
    "    text = re.sub('\\S*@\\S*\\s?', '', text)\n",
    "\n",
    "    #remove numbers (this would take care of telephones too)\n",
    "    text = re.sub(r'\\d+', '', text)\n",
    "\n",
    "    # Remove new line characters\n",
    "    text = re.sub('\\s+', ' ', text)\n",
    "\n",
    "    #remove special characters\n",
    "    text = re.sub(\"[-()\\\"#/@;&:{}`+=~|.!?,'0-9]\", \"\", text)\n",
    "\n",
    "    #remove continuos spaces with one space character\n",
    "    text = re.sub(' +', ' ', text)\n",
    "    \n",
    "    # to lower case\n",
    "    text = text.lower()\n",
    "    \n",
    "    return(text)\n",
    "\n",
    "#it seems that stop word match should be in lower case\n",
    "def to_lower(text):\n",
    "    #all words to lower case\n",
    "    return text.lower()\n",
    "\n",
    "#def count_words_corpus(docs):\n",
    "#    #Word count in each comment:\n",
    "#    df['count_word'] = df[\"text\"].apply(lambda x: len(str(x).split()))"
   ]
  },
  {
   "cell_type": "code",
   "execution_count": 908,
   "metadata": {},
   "outputs": [],
   "source": [
    "#removing stop words\n",
    "def pre_process(text):\n",
    "    stop_words = set(nltk.corpus.stopwords.words('english'))\n",
    "    text = text.apply(lambda x: \" \".join(x for x in x.split() if x not in stop_words)) #Removing stop words\n",
    "    return(text)"
   ]
  },
  {
   "cell_type": "markdown",
   "metadata": {},
   "source": [
    "It seems that stop word match should be in lower case. Hence, changing everything to lower, then remove punctutions and finally clean the text."
   ]
  },
  {
   "cell_type": "code",
   "execution_count": 909,
   "metadata": {},
   "outputs": [],
   "source": [
    "review_data['Reviews'] = review_data[\"Reviews\"].apply(lambda x: to_lower(x))"
   ]
  },
  {
   "cell_type": "code",
   "execution_count": 910,
   "metadata": {},
   "outputs": [],
   "source": [
    "#clear stop words\n",
    "review_data['Reviews'] = pre_process(review_data[\"Reviews\"])"
   ]
  },
  {
   "cell_type": "code",
   "execution_count": 911,
   "metadata": {},
   "outputs": [],
   "source": [
    "#remove special characters\n",
    "review_data['Reviews'] = review_data[\"Reviews\"].apply(lambda x: clean_text(x))"
   ]
  },
  {
   "cell_type": "code",
   "execution_count": 912,
   "metadata": {},
   "outputs": [
    {
     "data": {
      "text/html": [
       "<div>\n",
       "<style scoped>\n",
       "    .dataframe tbody tr th:only-of-type {\n",
       "        vertical-align: middle;\n",
       "    }\n",
       "\n",
       "    .dataframe tbody tr th {\n",
       "        vertical-align: top;\n",
       "    }\n",
       "\n",
       "    .dataframe thead th {\n",
       "        text-align: right;\n",
       "    }\n",
       "</style>\n",
       "<table border=\"1\" class=\"dataframe\">\n",
       "  <thead>\n",
       "    <tr style=\"text-align: right;\">\n",
       "      <th></th>\n",
       "      <th>Date</th>\n",
       "      <th>Stars</th>\n",
       "      <th>Reviews</th>\n",
       "      <th>BankName</th>\n",
       "      <th>Reviews_Orig</th>\n",
       "      <th>count_word</th>\n",
       "      <th>count_unique_word</th>\n",
       "    </tr>\n",
       "  </thead>\n",
       "  <tbody>\n",
       "    <tr>\n",
       "      <th>0</th>\n",
       "      <td>2017-04-10</td>\n",
       "      <td>5</td>\n",
       "      <td>great job wyndham capital person professional ...</td>\n",
       "      <td>Wyndham Capital Mortgage</td>\n",
       "      <td>Great job, Wyndham Capital! Each person was pr...</td>\n",
       "      <td>19</td>\n",
       "      <td>19</td>\n",
       "    </tr>\n",
       "    <tr>\n",
       "      <th>1</th>\n",
       "      <td>2017-02-10</td>\n",
       "      <td>5</td>\n",
       "      <td>matthew richardson professional helpful helped...</td>\n",
       "      <td>Wyndham Capital Mortgage</td>\n",
       "      <td>Matthew Richardson is professional and helpful...</td>\n",
       "      <td>25</td>\n",
       "      <td>23</td>\n",
       "    </tr>\n",
       "    <tr>\n",
       "      <th>2</th>\n",
       "      <td>2017-08-21</td>\n",
       "      <td>5</td>\n",
       "      <td>past experience wyndham mortgage would without...</td>\n",
       "      <td>Wyndham Capital Mortgage</td>\n",
       "      <td>We had a past experience with Wyndham Mortgage...</td>\n",
       "      <td>79</td>\n",
       "      <td>64</td>\n",
       "    </tr>\n",
       "    <tr>\n",
       "      <th>3</th>\n",
       "      <td>2017-12-17</td>\n",
       "      <td>5</td>\n",
       "      <td>dealing brad thomka beginning started stressfu...</td>\n",
       "      <td>Wyndham Capital Mortgage</td>\n",
       "      <td>We have been dealing with Brad Thomka from the...</td>\n",
       "      <td>108</td>\n",
       "      <td>78</td>\n",
       "    </tr>\n",
       "    <tr>\n",
       "      <th>4</th>\n",
       "      <td>2016-05-27</td>\n",
       "      <td>5</td>\n",
       "      <td>cant express grateful support zach provided fa...</td>\n",
       "      <td>Wyndham Capital Mortgage</td>\n",
       "      <td>I can't express how grateful I am for the supp...</td>\n",
       "      <td>59</td>\n",
       "      <td>47</td>\n",
       "    </tr>\n",
       "  </tbody>\n",
       "</table>\n",
       "</div>"
      ],
      "text/plain": [
       "        Date  Stars                                            Reviews  \\\n",
       "0 2017-04-10      5  great job wyndham capital person professional ...   \n",
       "1 2017-02-10      5  matthew richardson professional helpful helped...   \n",
       "2 2017-08-21      5  past experience wyndham mortgage would without...   \n",
       "3 2017-12-17      5  dealing brad thomka beginning started stressfu...   \n",
       "4 2016-05-27      5  cant express grateful support zach provided fa...   \n",
       "\n",
       "                   BankName  \\\n",
       "0  Wyndham Capital Mortgage   \n",
       "1  Wyndham Capital Mortgage   \n",
       "2  Wyndham Capital Mortgage   \n",
       "3  Wyndham Capital Mortgage   \n",
       "4  Wyndham Capital Mortgage   \n",
       "\n",
       "                                        Reviews_Orig  count_word  \\\n",
       "0  Great job, Wyndham Capital! Each person was pr...          19   \n",
       "1  Matthew Richardson is professional and helpful...          25   \n",
       "2  We had a past experience with Wyndham Mortgage...          79   \n",
       "3  We have been dealing with Brad Thomka from the...         108   \n",
       "4  I can't express how grateful I am for the supp...          59   \n",
       "\n",
       "   count_unique_word  \n",
       "0                 19  \n",
       "1                 23  \n",
       "2                 64  \n",
       "3                 78  \n",
       "4                 47  "
      ]
     },
     "execution_count": 912,
     "metadata": {},
     "output_type": "execute_result"
    }
   ],
   "source": [
    "review_data.head(5)"
   ]
  },
  {
   "cell_type": "code",
   "execution_count": null,
   "metadata": {},
   "outputs": [],
   "source": []
  },
  {
   "cell_type": "code",
   "execution_count": null,
   "metadata": {},
   "outputs": [],
   "source": []
  },
  {
   "cell_type": "markdown",
   "metadata": {},
   "source": [
    "### Lemmitization"
   ]
  },
  {
   "cell_type": "code",
   "execution_count": 913,
   "metadata": {},
   "outputs": [],
   "source": [
    "#Map POS tag to first character lemmatize() accepts\n",
    "def get_wordnet_pos(word):\n",
    "    tag = nltk.pos_tag([word])[0][1][0].upper()\n",
    "    tag_dict = {\"J\": wordnet.ADJ,\n",
    "                \"UH\": wordnet.NOUN,\n",
    "                \"V\": wordnet.VERB,\n",
    "                \"R\": wordnet.ADV}\n",
    "\n",
    "    return tag_dict.get(tag, wordnet.NOUN)"
   ]
  },
  {
   "cell_type": "code",
   "execution_count": 914,
   "metadata": {},
   "outputs": [],
   "source": [
    "wordnet_lemmatizer = WordNetLemmatizer()"
   ]
  },
  {
   "cell_type": "code",
   "execution_count": 915,
   "metadata": {},
   "outputs": [
    {
     "data": {
      "text/html": [
       "<div>\n",
       "<style scoped>\n",
       "    .dataframe tbody tr th:only-of-type {\n",
       "        vertical-align: middle;\n",
       "    }\n",
       "\n",
       "    .dataframe tbody tr th {\n",
       "        vertical-align: top;\n",
       "    }\n",
       "\n",
       "    .dataframe thead th {\n",
       "        text-align: right;\n",
       "    }\n",
       "</style>\n",
       "<table border=\"1\" class=\"dataframe\">\n",
       "  <thead>\n",
       "    <tr style=\"text-align: right;\">\n",
       "      <th></th>\n",
       "      <th>Date</th>\n",
       "      <th>Stars</th>\n",
       "      <th>Reviews</th>\n",
       "      <th>BankName</th>\n",
       "      <th>Reviews_Orig</th>\n",
       "      <th>count_word</th>\n",
       "      <th>count_unique_word</th>\n",
       "    </tr>\n",
       "  </thead>\n",
       "  <tbody>\n",
       "    <tr>\n",
       "      <th>0</th>\n",
       "      <td>2017-04-10</td>\n",
       "      <td>5</td>\n",
       "      <td>great capital person professional help move re...</td>\n",
       "      <td>Wyndham Capital Mortgage</td>\n",
       "      <td>Great job, Wyndham Capital! Each person was pr...</td>\n",
       "      <td>19</td>\n",
       "      <td>19</td>\n",
       "    </tr>\n",
       "    <tr>\n",
       "      <th>1</th>\n",
       "      <td>2017-02-10</td>\n",
       "      <td>5</td>\n",
       "      <td>richardson professional helpful help find corr...</td>\n",
       "      <td>Wyndham Capital Mortgage</td>\n",
       "      <td>Matthew Richardson is professional and helpful...</td>\n",
       "      <td>25</td>\n",
       "      <td>23</td>\n",
       "    </tr>\n",
       "    <tr>\n",
       "      <th>2</th>\n",
       "      <td>2017-08-21</td>\n",
       "      <td>5</td>\n",
       "      <td>past experience mortgage would without questio...</td>\n",
       "      <td>Wyndham Capital Mortgage</td>\n",
       "      <td>We had a past experience with Wyndham Mortgage...</td>\n",
       "      <td>79</td>\n",
       "      <td>64</td>\n",
       "    </tr>\n",
       "    <tr>\n",
       "      <th>3</th>\n",
       "      <td>2017-12-17</td>\n",
       "      <td>5</td>\n",
       "      <td>deal thomka begin start stressful time help en...</td>\n",
       "      <td>Wyndham Capital Mortgage</td>\n",
       "      <td>We have been dealing with Brad Thomka from the...</td>\n",
       "      <td>108</td>\n",
       "      <td>78</td>\n",
       "    </tr>\n",
       "    <tr>\n",
       "      <th>4</th>\n",
       "      <td>2016-05-27</td>\n",
       "      <td>5</td>\n",
       "      <td>cant express grateful support zach provide fam...</td>\n",
       "      <td>Wyndham Capital Mortgage</td>\n",
       "      <td>I can't express how grateful I am for the supp...</td>\n",
       "      <td>59</td>\n",
       "      <td>47</td>\n",
       "    </tr>\n",
       "  </tbody>\n",
       "</table>\n",
       "</div>"
      ],
      "text/plain": [
       "        Date  Stars                                            Reviews  \\\n",
       "0 2017-04-10      5  great capital person professional help move re...   \n",
       "1 2017-02-10      5  richardson professional helpful help find corr...   \n",
       "2 2017-08-21      5  past experience mortgage would without questio...   \n",
       "3 2017-12-17      5  deal thomka begin start stressful time help en...   \n",
       "4 2016-05-27      5  cant express grateful support zach provide fam...   \n",
       "\n",
       "                   BankName  \\\n",
       "0  Wyndham Capital Mortgage   \n",
       "1  Wyndham Capital Mortgage   \n",
       "2  Wyndham Capital Mortgage   \n",
       "3  Wyndham Capital Mortgage   \n",
       "4  Wyndham Capital Mortgage   \n",
       "\n",
       "                                        Reviews_Orig  count_word  \\\n",
       "0  Great job, Wyndham Capital! Each person was pr...          19   \n",
       "1  Matthew Richardson is professional and helpful...          25   \n",
       "2  We had a past experience with Wyndham Mortgage...          79   \n",
       "3  We have been dealing with Brad Thomka from the...         108   \n",
       "4  I can't express how grateful I am for the supp...          59   \n",
       "\n",
       "   count_unique_word  \n",
       "0                 19  \n",
       "1                 23  \n",
       "2                 64  \n",
       "3                 78  \n",
       "4                 47  "
      ]
     },
     "execution_count": 915,
     "metadata": {},
     "output_type": "execute_result"
    }
   ],
   "source": [
    "for index, row in review_data.iterrows():\n",
    "    sentence_words = nltk.word_tokenize(row['Reviews'])\n",
    "    tmp = []\n",
    "    for word in sentence_words:\n",
    "        if len(word) > 3 and word not in person_name_set:\n",
    "            t = wordnet_lemmatizer.lemmatize(word, get_wordnet_pos(word))\n",
    "            if len(t) > 2:\n",
    "                tmp.append(t)\n",
    "    text = \" \".join(tmp)\n",
    "    review_data.loc[index, 'Reviews'] = text\n",
    "\n",
    "review_data.head(5)"
   ]
  },
  {
   "cell_type": "markdown",
   "metadata": {},
   "source": [
    "### Calculating if the review is Negative, Positive or Neutral "
   ]
  },
  {
   "cell_type": "code",
   "execution_count": 916,
   "metadata": {},
   "outputs": [],
   "source": [
    "## This function accepts text/review and returns if the review was Positive, Negative or Neutral\n",
    "def sentiment_review(text):\n",
    "    review = TextBlob(text)    \n",
    "    polarity_score = review.sentiment.polarity\n",
    "    if polarity_score > 0:\n",
    "        return 'Positive'\n",
    "    elif polarity_score < 0:\n",
    "        return 'Negative'\n",
    "    else:\n",
    "        return 'Neutral' \n",
    "\n",
    "senti_df = pd.DataFrame()\n",
    "senti_df = review_data[[\"Reviews_Orig\",\"Stars\"]].copy()\n",
    "#only applying the text cleaning\n",
    "senti_df['Reviews'] = senti_df[\"Reviews_Orig\"].apply(lambda x: clean_text(x))\n",
    "senti_df['sentiment'] = senti_df['Reviews'].apply(lambda x: sentiment_review(x))"
   ]
  },
  {
   "cell_type": "code",
   "execution_count": 917,
   "metadata": {},
   "outputs": [
    {
     "data": {
      "text/html": [
       "<div>\n",
       "<style scoped>\n",
       "    .dataframe tbody tr th:only-of-type {\n",
       "        vertical-align: middle;\n",
       "    }\n",
       "\n",
       "    .dataframe tbody tr th {\n",
       "        vertical-align: top;\n",
       "    }\n",
       "\n",
       "    .dataframe thead th {\n",
       "        text-align: right;\n",
       "    }\n",
       "</style>\n",
       "<table border=\"1\" class=\"dataframe\">\n",
       "  <thead>\n",
       "    <tr style=\"text-align: right;\">\n",
       "      <th></th>\n",
       "      <th>Reviews_Orig</th>\n",
       "      <th>Stars</th>\n",
       "      <th>Reviews</th>\n",
       "      <th>sentiment</th>\n",
       "    </tr>\n",
       "  </thead>\n",
       "  <tbody>\n",
       "    <tr>\n",
       "      <th>0</th>\n",
       "      <td>Great job, Wyndham Capital! Each person was pr...</td>\n",
       "      <td>5</td>\n",
       "      <td>great job wyndham capital each person was prof...</td>\n",
       "      <td>Positive</td>\n",
       "    </tr>\n",
       "    <tr>\n",
       "      <th>1</th>\n",
       "      <td>Matthew Richardson is professional and helpful...</td>\n",
       "      <td>5</td>\n",
       "      <td>matthew richardson is professional and helpful...</td>\n",
       "      <td>Positive</td>\n",
       "    </tr>\n",
       "    <tr>\n",
       "      <th>2</th>\n",
       "      <td>We had a past experience with Wyndham Mortgage...</td>\n",
       "      <td>5</td>\n",
       "      <td>we had a past experience with wyndham mortgage...</td>\n",
       "      <td>Negative</td>\n",
       "    </tr>\n",
       "    <tr>\n",
       "      <th>3</th>\n",
       "      <td>We have been dealing with Brad Thomka from the...</td>\n",
       "      <td>5</td>\n",
       "      <td>we have been dealing with brad thomka from the...</td>\n",
       "      <td>Positive</td>\n",
       "    </tr>\n",
       "    <tr>\n",
       "      <th>4</th>\n",
       "      <td>I can't express how grateful I am for the supp...</td>\n",
       "      <td>5</td>\n",
       "      <td>i cant express how grateful i am for the suppo...</td>\n",
       "      <td>Positive</td>\n",
       "    </tr>\n",
       "  </tbody>\n",
       "</table>\n",
       "</div>"
      ],
      "text/plain": [
       "                                        Reviews_Orig  Stars  \\\n",
       "0  Great job, Wyndham Capital! Each person was pr...      5   \n",
       "1  Matthew Richardson is professional and helpful...      5   \n",
       "2  We had a past experience with Wyndham Mortgage...      5   \n",
       "3  We have been dealing with Brad Thomka from the...      5   \n",
       "4  I can't express how grateful I am for the supp...      5   \n",
       "\n",
       "                                             Reviews sentiment  \n",
       "0  great job wyndham capital each person was prof...  Positive  \n",
       "1  matthew richardson is professional and helpful...  Positive  \n",
       "2  we had a past experience with wyndham mortgage...  Negative  \n",
       "3  we have been dealing with brad thomka from the...  Positive  \n",
       "4  i cant express how grateful i am for the suppo...  Positive  "
      ]
     },
     "execution_count": 917,
     "metadata": {},
     "output_type": "execute_result"
    }
   ],
   "source": [
    "senti_df.head(5)"
   ]
  },
  {
   "cell_type": "code",
   "execution_count": 918,
   "metadata": {},
   "outputs": [
    {
     "data": {
      "text/plain": [
       "\"\\r\\nI was working with a loan consultant from NASB and she told me that she would give me a rate of 4.875% for a 30 year fixed loan with a total closing cost of $2300. I asked her to send me the good faith estimate. The good faith estimate came with a total closing cost of $2929 which is about $600 more than she mentioned during our conversation. When I called her for explanation of the extra $600 she said that there is a state tax 545.10 which she was not aware of. What an explanation!!!! She knew my state from the beginning and I repeatedly asked her for a 'TOTAL' closing cost and that time she repeatedly said it will be $2300. As a loan consultant she should have known that there is something like a 'STATE TAX' that might come later and should have mentioned that to me. I am not supposed to know what are the different compoents/fees or taxes that apply during closing. She does this everyday and she could have been honest with me from the beginning. I expected honest communication from a loan consultant from NASB bank and I did not receive that. I am very disappointed... Read More\\r\\n        \""
      ]
     },
     "execution_count": 918,
     "metadata": {},
     "output_type": "execute_result"
    }
   ],
   "source": [
    "#there have been misclassifications, below is and example with 1 star rating but positive sentiment\n",
    "senti_df.loc[504]['Reviews_Orig']"
   ]
  },
  {
   "cell_type": "code",
   "execution_count": 919,
   "metadata": {},
   "outputs": [
    {
     "data": {
      "text/html": [
       "<div>\n",
       "<style scoped>\n",
       "    .dataframe tbody tr th:only-of-type {\n",
       "        vertical-align: middle;\n",
       "    }\n",
       "\n",
       "    .dataframe tbody tr th {\n",
       "        vertical-align: top;\n",
       "    }\n",
       "\n",
       "    .dataframe thead th {\n",
       "        text-align: right;\n",
       "    }\n",
       "</style>\n",
       "<table border=\"1\" class=\"dataframe\">\n",
       "  <thead>\n",
       "    <tr style=\"text-align: right;\">\n",
       "      <th>Stars</th>\n",
       "      <th>1</th>\n",
       "      <th>5</th>\n",
       "    </tr>\n",
       "    <tr>\n",
       "      <th>sentiment</th>\n",
       "      <th></th>\n",
       "      <th></th>\n",
       "    </tr>\n",
       "  </thead>\n",
       "  <tbody>\n",
       "    <tr>\n",
       "      <th>Negative</th>\n",
       "      <td>28</td>\n",
       "      <td>6</td>\n",
       "    </tr>\n",
       "    <tr>\n",
       "      <th>Neutral</th>\n",
       "      <td>4</td>\n",
       "      <td>0</td>\n",
       "    </tr>\n",
       "    <tr>\n",
       "      <th>Positive</th>\n",
       "      <td>62</td>\n",
       "      <td>403</td>\n",
       "    </tr>\n",
       "  </tbody>\n",
       "</table>\n",
       "</div>"
      ],
      "text/plain": [
       "Stars       1    5\n",
       "sentiment         \n",
       "Negative   28    6\n",
       "Neutral     4    0\n",
       "Positive   62  403"
      ]
     },
     "execution_count": 919,
     "metadata": {},
     "output_type": "execute_result"
    }
   ],
   "source": [
    "pd.crosstab(senti_df.sentiment, senti_df.Stars)"
   ]
  },
  {
   "cell_type": "code",
   "execution_count": 920,
   "metadata": {},
   "outputs": [
    {
     "data": {
      "image/png": "[encoded data removed]",
      "text/plain": [
       "<Figure size 432x432 with 1 Axes>"
      ]
     },
     "metadata": {
      "needs_background": "light"
     },
     "output_type": "display_data"
    }
   ],
   "source": [
    "sentiment = senti_df.groupby(senti_df['sentiment']).size()\n",
    "\n",
    "fig, axs = plt.subplots(figsize = (6,6))\n",
    "sns.barplot(sentiment.index, sentiment.values,  orient='v')\n",
    "\n",
    "plt.title('Count per Sentiment category',fontsize=20)\n",
    "plt.xlabel('Sentiment',fontsize=15)\n",
    "plt.ylabel('Count',fontsize=15)\n",
    "plt.show()"
   ]
  },
  {
   "cell_type": "markdown",
   "metadata": {},
   "source": [
    "Maximum number of reviews were classified as Positive, this was expected as over 400 out of 500 reviews were, 5 start reviews.\n",
    "Since, all reviews in the data were either 1 start or 5 star, it was expected that neutral reviews would be close to zero.\n",
    "There were certain mis-matches between the sentiment and star ratings, as can be observed from the cross-tab\n"
   ]
  },
  {
   "cell_type": "markdown",
   "metadata": {},
   "source": [
    "### Key positive words, negative words (most frequent words) "
   ]
  },
  {
   "cell_type": "markdown",
   "metadata": {},
   "source": [
    "#### Get DTM for all reviews"
   ]
  },
  {
   "cell_type": "code",
   "execution_count": 921,
   "metadata": {},
   "outputs": [],
   "source": [
    "#Vectorization\n",
    "count_vect = CountVectorizer(analyzer='word', \n",
    "                             token_pattern=r'\\w{1,}', \n",
    "                             ngram_range=(1, 1 ), \n",
    "                             min_df=5, \n",
    "                             lowercase = True,\n",
    "                             encoding='latin-1' , \n",
    "                             max_features=1000)\n",
    "reviews_count = count_vect.fit_transform(review_data['Reviews'])"
   ]
  },
  {
   "cell_type": "code",
   "execution_count": 922,
   "metadata": {},
   "outputs": [
    {
     "data": {
      "text/html": [
       "<div>\n",
       "<style scoped>\n",
       "    .dataframe tbody tr th:only-of-type {\n",
       "        vertical-align: middle;\n",
       "    }\n",
       "\n",
       "    .dataframe tbody tr th {\n",
       "        vertical-align: top;\n",
       "    }\n",
       "\n",
       "    .dataframe thead th {\n",
       "        text-align: right;\n",
       "    }\n",
       "</style>\n",
       "<table border=\"1\" class=\"dataframe\">\n",
       "  <thead>\n",
       "    <tr style=\"text-align: right;\">\n",
       "      <th></th>\n",
       "      <th>ability</th>\n",
       "      <th>able</th>\n",
       "      <th>absolutely</th>\n",
       "      <th>accept</th>\n",
       "      <th>accommodate</th>\n",
       "      <th>account</th>\n",
       "      <th>accurate</th>\n",
       "      <th>achieve</th>\n",
       "      <th>across</th>\n",
       "      <th>actual</th>\n",
       "      <th>...</th>\n",
       "      <th>without</th>\n",
       "      <th>wonderful</th>\n",
       "      <th>word</th>\n",
       "      <th>work</th>\n",
       "      <th>worth</th>\n",
       "      <th>would</th>\n",
       "      <th>wouldn</th>\n",
       "      <th>write</th>\n",
       "      <th>wrong</th>\n",
       "      <th>year</th>\n",
       "    </tr>\n",
       "  </thead>\n",
       "  <tbody>\n",
       "    <tr>\n",
       "      <th>0</th>\n",
       "      <td>0</td>\n",
       "      <td>0</td>\n",
       "      <td>0</td>\n",
       "      <td>0</td>\n",
       "      <td>0</td>\n",
       "      <td>0</td>\n",
       "      <td>0</td>\n",
       "      <td>0</td>\n",
       "      <td>0</td>\n",
       "      <td>0</td>\n",
       "      <td>...</td>\n",
       "      <td>0</td>\n",
       "      <td>0</td>\n",
       "      <td>0</td>\n",
       "      <td>0</td>\n",
       "      <td>0</td>\n",
       "      <td>0</td>\n",
       "      <td>0</td>\n",
       "      <td>0</td>\n",
       "      <td>0</td>\n",
       "      <td>0</td>\n",
       "    </tr>\n",
       "    <tr>\n",
       "      <th>1</th>\n",
       "      <td>0</td>\n",
       "      <td>0</td>\n",
       "      <td>0</td>\n",
       "      <td>0</td>\n",
       "      <td>0</td>\n",
       "      <td>0</td>\n",
       "      <td>0</td>\n",
       "      <td>0</td>\n",
       "      <td>0</td>\n",
       "      <td>0</td>\n",
       "      <td>...</td>\n",
       "      <td>0</td>\n",
       "      <td>0</td>\n",
       "      <td>0</td>\n",
       "      <td>0</td>\n",
       "      <td>0</td>\n",
       "      <td>0</td>\n",
       "      <td>0</td>\n",
       "      <td>0</td>\n",
       "      <td>0</td>\n",
       "      <td>0</td>\n",
       "    </tr>\n",
       "    <tr>\n",
       "      <th>2</th>\n",
       "      <td>0</td>\n",
       "      <td>0</td>\n",
       "      <td>0</td>\n",
       "      <td>0</td>\n",
       "      <td>0</td>\n",
       "      <td>0</td>\n",
       "      <td>0</td>\n",
       "      <td>0</td>\n",
       "      <td>0</td>\n",
       "      <td>0</td>\n",
       "      <td>...</td>\n",
       "      <td>1</td>\n",
       "      <td>0</td>\n",
       "      <td>0</td>\n",
       "      <td>0</td>\n",
       "      <td>0</td>\n",
       "      <td>2</td>\n",
       "      <td>0</td>\n",
       "      <td>0</td>\n",
       "      <td>1</td>\n",
       "      <td>0</td>\n",
       "    </tr>\n",
       "    <tr>\n",
       "      <th>3</th>\n",
       "      <td>0</td>\n",
       "      <td>0</td>\n",
       "      <td>0</td>\n",
       "      <td>0</td>\n",
       "      <td>0</td>\n",
       "      <td>0</td>\n",
       "      <td>0</td>\n",
       "      <td>0</td>\n",
       "      <td>0</td>\n",
       "      <td>0</td>\n",
       "      <td>...</td>\n",
       "      <td>0</td>\n",
       "      <td>0</td>\n",
       "      <td>0</td>\n",
       "      <td>0</td>\n",
       "      <td>0</td>\n",
       "      <td>1</td>\n",
       "      <td>0</td>\n",
       "      <td>0</td>\n",
       "      <td>1</td>\n",
       "      <td>0</td>\n",
       "    </tr>\n",
       "    <tr>\n",
       "      <th>4</th>\n",
       "      <td>0</td>\n",
       "      <td>0</td>\n",
       "      <td>0</td>\n",
       "      <td>0</td>\n",
       "      <td>0</td>\n",
       "      <td>0</td>\n",
       "      <td>0</td>\n",
       "      <td>0</td>\n",
       "      <td>0</td>\n",
       "      <td>0</td>\n",
       "      <td>...</td>\n",
       "      <td>0</td>\n",
       "      <td>0</td>\n",
       "      <td>0</td>\n",
       "      <td>1</td>\n",
       "      <td>0</td>\n",
       "      <td>0</td>\n",
       "      <td>0</td>\n",
       "      <td>0</td>\n",
       "      <td>0</td>\n",
       "      <td>0</td>\n",
       "    </tr>\n",
       "  </tbody>\n",
       "</table>\n",
       "<p>5 rows × 623 columns</p>\n",
       "</div>"
      ],
      "text/plain": [
       "   ability  able  absolutely  accept  accommodate  account  accurate  achieve  \\\n",
       "0        0     0           0       0            0        0         0        0   \n",
       "1        0     0           0       0            0        0         0        0   \n",
       "2        0     0           0       0            0        0         0        0   \n",
       "3        0     0           0       0            0        0         0        0   \n",
       "4        0     0           0       0            0        0         0        0   \n",
       "\n",
       "   across  actual  ...  without  wonderful  word  work  worth  would  wouldn  \\\n",
       "0       0       0  ...        0          0     0     0      0      0       0   \n",
       "1       0       0  ...        0          0     0     0      0      0       0   \n",
       "2       0       0  ...        1          0     0     0      0      2       0   \n",
       "3       0       0  ...        0          0     0     0      0      1       0   \n",
       "4       0       0  ...        0          0     0     1      0      0       0   \n",
       "\n",
       "   write  wrong  year  \n",
       "0      0      0     0  \n",
       "1      0      0     0  \n",
       "2      0      1     0  \n",
       "3      0      1     0  \n",
       "4      0      0     0  \n",
       "\n",
       "[5 rows x 623 columns]"
      ]
     },
     "execution_count": 922,
     "metadata": {},
     "output_type": "execute_result"
    }
   ],
   "source": [
    "#Get Document Term Matrix\n",
    "\n",
    "#convert to word count 2D array\n",
    "dtm_array = reviews_count.toarray()\n",
    "#get all words as columns\n",
    "dtm_cols = count_vect.get_feature_names()\n",
    "#convert word count 2D array to dataframe\n",
    "reviews_dtm = pd.DataFrame(dtm_array)\n",
    "#add column names\n",
    "reviews_dtm.columns = dtm_cols\n",
    "reviews_dtm.head(5)"
   ]
  },
  {
   "cell_type": "code",
   "execution_count": 923,
   "metadata": {},
   "outputs": [],
   "source": [
    "## count words\n",
    "word_freq = pd.DataFrame(reviews_dtm.apply(sum), columns=['freq'])\n",
    "word_freq.reset_index(level=0, inplace=True)\n",
    "word_freq.rename(columns={'index': 'Term'}, inplace=True)"
   ]
  },
  {
   "cell_type": "code",
   "execution_count": 924,
   "metadata": {},
   "outputs": [],
   "source": [
    "## This function accepts text and returns if the text was Positive, Negative\n",
    "def neg_pos_txt(text):\n",
    "    review = TextBlob(text)    \n",
    "    polarity_score = review.sentiment.polarity\n",
    "    if polarity_score > 0:\n",
    "        return 'Positive'\n",
    "    else:\n",
    "        return 'Negative' "
   ]
  },
  {
   "cell_type": "code",
   "execution_count": 925,
   "metadata": {},
   "outputs": [
    {
     "data": {
      "text/html": [
       "<div>\n",
       "<style scoped>\n",
       "    .dataframe tbody tr th:only-of-type {\n",
       "        vertical-align: middle;\n",
       "    }\n",
       "\n",
       "    .dataframe tbody tr th {\n",
       "        vertical-align: top;\n",
       "    }\n",
       "\n",
       "    .dataframe thead th {\n",
       "        text-align: right;\n",
       "    }\n",
       "</style>\n",
       "<table border=\"1\" class=\"dataframe\">\n",
       "  <thead>\n",
       "    <tr style=\"text-align: right;\">\n",
       "      <th></th>\n",
       "      <th>Term</th>\n",
       "      <th>freq</th>\n",
       "      <th>sentiment</th>\n",
       "    </tr>\n",
       "  </thead>\n",
       "  <tbody>\n",
       "    <tr>\n",
       "      <th>0</th>\n",
       "      <td>ability</td>\n",
       "      <td>5</td>\n",
       "      <td>Negative</td>\n",
       "    </tr>\n",
       "    <tr>\n",
       "      <th>1</th>\n",
       "      <td>able</td>\n",
       "      <td>47</td>\n",
       "      <td>Positive</td>\n",
       "    </tr>\n",
       "    <tr>\n",
       "      <th>2</th>\n",
       "      <td>absolutely</td>\n",
       "      <td>13</td>\n",
       "      <td>Positive</td>\n",
       "    </tr>\n",
       "    <tr>\n",
       "      <th>3</th>\n",
       "      <td>accept</td>\n",
       "      <td>6</td>\n",
       "      <td>Negative</td>\n",
       "    </tr>\n",
       "    <tr>\n",
       "      <th>4</th>\n",
       "      <td>accommodate</td>\n",
       "      <td>7</td>\n",
       "      <td>Negative</td>\n",
       "    </tr>\n",
       "    <tr>\n",
       "      <th>5</th>\n",
       "      <td>account</td>\n",
       "      <td>15</td>\n",
       "      <td>Negative</td>\n",
       "    </tr>\n",
       "    <tr>\n",
       "      <th>6</th>\n",
       "      <td>accurate</td>\n",
       "      <td>10</td>\n",
       "      <td>Positive</td>\n",
       "    </tr>\n",
       "    <tr>\n",
       "      <th>7</th>\n",
       "      <td>achieve</td>\n",
       "      <td>5</td>\n",
       "      <td>Negative</td>\n",
       "    </tr>\n",
       "    <tr>\n",
       "      <th>8</th>\n",
       "      <td>across</td>\n",
       "      <td>13</td>\n",
       "      <td>Negative</td>\n",
       "    </tr>\n",
       "    <tr>\n",
       "      <th>9</th>\n",
       "      <td>actual</td>\n",
       "      <td>8</td>\n",
       "      <td>Negative</td>\n",
       "    </tr>\n",
       "  </tbody>\n",
       "</table>\n",
       "</div>"
      ],
      "text/plain": [
       "          Term  freq sentiment\n",
       "0      ability     5  Negative\n",
       "1         able    47  Positive\n",
       "2   absolutely    13  Positive\n",
       "3       accept     6  Negative\n",
       "4  accommodate     7  Negative\n",
       "5      account    15  Negative\n",
       "6     accurate    10  Positive\n",
       "7      achieve     5  Negative\n",
       "8       across    13  Negative\n",
       "9       actual     8  Negative"
      ]
     },
     "execution_count": 925,
     "metadata": {},
     "output_type": "execute_result"
    }
   ],
   "source": [
    "#categories words as negative, positive, neutral with TextBlob sentiment.polarity\n",
    "word_freq['sentiment'] = word_freq[\"Term\"].apply(lambda x: neg_pos_txt(x))\n",
    "word_freq.head(10)"
   ]
  },
  {
   "cell_type": "code",
   "execution_count": 926,
   "metadata": {},
   "outputs": [
    {
     "data": {
      "text/plain": [
       "sentiment\n",
       "Negative    541\n",
       "Positive     82\n",
       "dtype: int64"
      ]
     },
     "execution_count": 926,
     "metadata": {},
     "output_type": "execute_result"
    }
   ],
   "source": [
    "word_freq.groupby('sentiment').size()"
   ]
  },
  {
   "cell_type": "code",
   "execution_count": 927,
   "metadata": {},
   "outputs": [
    {
     "data": {
      "text/html": [
       "<div>\n",
       "<style scoped>\n",
       "    .dataframe tbody tr th:only-of-type {\n",
       "        vertical-align: middle;\n",
       "    }\n",
       "\n",
       "    .dataframe tbody tr th {\n",
       "        vertical-align: top;\n",
       "    }\n",
       "\n",
       "    .dataframe thead th {\n",
       "        text-align: right;\n",
       "    }\n",
       "</style>\n",
       "<table border=\"1\" class=\"dataframe\">\n",
       "  <thead>\n",
       "    <tr style=\"text-align: right;\">\n",
       "      <th></th>\n",
       "      <th>Term</th>\n",
       "      <th>freq</th>\n",
       "      <th>sentiment</th>\n",
       "    </tr>\n",
       "  </thead>\n",
       "  <tbody>\n",
       "    <tr>\n",
       "      <th>231</th>\n",
       "      <td>great</td>\n",
       "      <td>138</td>\n",
       "      <td>Positive</td>\n",
       "    </tr>\n",
       "    <tr>\n",
       "      <th>64</th>\n",
       "      <td>best</td>\n",
       "      <td>99</td>\n",
       "      <td>Positive</td>\n",
       "    </tr>\n",
       "    <tr>\n",
       "      <th>209</th>\n",
       "      <td>first</td>\n",
       "      <td>78</td>\n",
       "      <td>Positive</td>\n",
       "    </tr>\n",
       "    <tr>\n",
       "      <th>156</th>\n",
       "      <td>easy</td>\n",
       "      <td>76</td>\n",
       "      <td>Positive</td>\n",
       "    </tr>\n",
       "    <tr>\n",
       "      <th>417</th>\n",
       "      <td>professional</td>\n",
       "      <td>71</td>\n",
       "      <td>Positive</td>\n",
       "    </tr>\n",
       "    <tr>\n",
       "      <th>248</th>\n",
       "      <td>highly</td>\n",
       "      <td>64</td>\n",
       "      <td>Positive</td>\n",
       "    </tr>\n",
       "    <tr>\n",
       "      <th>541</th>\n",
       "      <td>thanks</td>\n",
       "      <td>61</td>\n",
       "      <td>Positive</td>\n",
       "    </tr>\n",
       "    <tr>\n",
       "      <th>529</th>\n",
       "      <td>sure</td>\n",
       "      <td>51</td>\n",
       "      <td>Positive</td>\n",
       "    </tr>\n",
       "    <tr>\n",
       "      <th>1</th>\n",
       "      <td>able</td>\n",
       "      <td>47</td>\n",
       "      <td>Positive</td>\n",
       "    </tr>\n",
       "    <tr>\n",
       "      <th>228</th>\n",
       "      <td>good</td>\n",
       "      <td>43</td>\n",
       "      <td>Positive</td>\n",
       "    </tr>\n",
       "    <tr>\n",
       "      <th>319</th>\n",
       "      <td>many</td>\n",
       "      <td>38</td>\n",
       "      <td>Positive</td>\n",
       "    </tr>\n",
       "    <tr>\n",
       "      <th>339</th>\n",
       "      <td>much</td>\n",
       "      <td>38</td>\n",
       "      <td>Positive</td>\n",
       "    </tr>\n",
       "    <tr>\n",
       "      <th>431</th>\n",
       "      <td>quick</td>\n",
       "      <td>37</td>\n",
       "      <td>Positive</td>\n",
       "    </tr>\n",
       "    <tr>\n",
       "      <th>240</th>\n",
       "      <td>happy</td>\n",
       "      <td>37</td>\n",
       "      <td>Positive</td>\n",
       "    </tr>\n",
       "    <tr>\n",
       "      <th>219</th>\n",
       "      <td>friendly</td>\n",
       "      <td>34</td>\n",
       "      <td>Positive</td>\n",
       "    </tr>\n",
       "    <tr>\n",
       "      <th>107</th>\n",
       "      <td>complete</td>\n",
       "      <td>31</td>\n",
       "      <td>Positive</td>\n",
       "    </tr>\n",
       "    <tr>\n",
       "      <th>440</th>\n",
       "      <td>really</td>\n",
       "      <td>31</td>\n",
       "      <td>Positive</td>\n",
       "    </tr>\n",
       "    <tr>\n",
       "      <th>179</th>\n",
       "      <td>excellent</td>\n",
       "      <td>30</td>\n",
       "      <td>Positive</td>\n",
       "    </tr>\n",
       "    <tr>\n",
       "      <th>49</th>\n",
       "      <td>available</td>\n",
       "      <td>29</td>\n",
       "      <td>Positive</td>\n",
       "    </tr>\n",
       "    <tr>\n",
       "      <th>466</th>\n",
       "      <td>right</td>\n",
       "      <td>28</td>\n",
       "      <td>Positive</td>\n",
       "    </tr>\n",
       "  </tbody>\n",
       "</table>\n",
       "</div>"
      ],
      "text/plain": [
       "             Term  freq sentiment\n",
       "231         great   138  Positive\n",
       "64           best    99  Positive\n",
       "209         first    78  Positive\n",
       "156          easy    76  Positive\n",
       "417  professional    71  Positive\n",
       "248        highly    64  Positive\n",
       "541        thanks    61  Positive\n",
       "529          sure    51  Positive\n",
       "1            able    47  Positive\n",
       "228          good    43  Positive\n",
       "319          many    38  Positive\n",
       "339          much    38  Positive\n",
       "431         quick    37  Positive\n",
       "240         happy    37  Positive\n",
       "219      friendly    34  Positive\n",
       "107      complete    31  Positive\n",
       "440        really    31  Positive\n",
       "179     excellent    30  Positive\n",
       "49      available    29  Positive\n",
       "466         right    28  Positive"
      ]
     },
     "execution_count": 927,
     "metadata": {},
     "output_type": "execute_result"
    }
   ],
   "source": [
    "# separating positive words\n",
    "positive_words = word_freq.loc[word_freq['sentiment']=='Positive',:].sort_values('freq',ascending=False)\n",
    "\n",
    "#ten most frequently used positive words.\n",
    "positive_words = positive_words.head(20)\n",
    "positive_words"
   ]
  },
  {
   "cell_type": "code",
   "execution_count": 928,
   "metadata": {},
   "outputs": [
    {
     "data": {
      "image/png": "[encoded data removed]",
      "text/plain": [
       "<Figure size 720x432 with 1 Axes>"
      ]
     },
     "metadata": {
      "needs_background": "light"
     },
     "output_type": "display_data"
    }
   ],
   "source": [
    "#plot most frequently used positive words\n",
    "fig, axs = plt.subplots(figsize = (10,6))\n",
    "sns.barplot(positive_words['Term'], positive_words['freq'],  orient='v')\n",
    "\n",
    "plt.title('Most frequently used positive words',fontsize=20)\n",
    "plt.xlabel('Positive words',fontsize=15)\n",
    "plt.ylabel('Count',fontsize=15)\n",
    "plt.xticks(rotation=90)\n",
    "plt.show()"
   ]
  },
  {
   "cell_type": "code",
   "execution_count": 929,
   "metadata": {},
   "outputs": [
    {
     "data": {
      "image/png": "[encoded data removed]",
      "text/plain": [
       "<Figure size 864x864 with 1 Axes>"
      ]
     },
     "metadata": {
      "needs_background": "light"
     },
     "output_type": "display_data"
    }
   ],
   "source": [
    "#word cloud of 10 most frequently used positive words\n",
    "wordcloud = WordCloud().generate(' '.join(positive_words['Term']))\n",
    "# plot the WordCloud image                        \n",
    "plt.figure(figsize = (12, 12), facecolor = None) \n",
    "plt.imshow(wordcloud) \n",
    "plt.axis(\"off\")  \n",
    "plt.show()"
   ]
  },
  {
   "cell_type": "code",
   "execution_count": 930,
   "metadata": {},
   "outputs": [
    {
     "data": {
      "text/html": [
       "<div>\n",
       "<style scoped>\n",
       "    .dataframe tbody tr th:only-of-type {\n",
       "        vertical-align: middle;\n",
       "    }\n",
       "\n",
       "    .dataframe tbody tr th {\n",
       "        vertical-align: top;\n",
       "    }\n",
       "\n",
       "    .dataframe thead th {\n",
       "        text-align: right;\n",
       "    }\n",
       "</style>\n",
       "<table border=\"1\" class=\"dataframe\">\n",
       "  <thead>\n",
       "    <tr style=\"text-align: right;\">\n",
       "      <th></th>\n",
       "      <th>Term</th>\n",
       "      <th>freq</th>\n",
       "      <th>sentiment</th>\n",
       "    </tr>\n",
       "  </thead>\n",
       "  <tbody>\n",
       "    <tr>\n",
       "      <th>309</th>\n",
       "      <td>loan</td>\n",
       "      <td>327</td>\n",
       "      <td>Negative</td>\n",
       "    </tr>\n",
       "    <tr>\n",
       "      <th>616</th>\n",
       "      <td>work</td>\n",
       "      <td>291</td>\n",
       "      <td>Negative</td>\n",
       "    </tr>\n",
       "    <tr>\n",
       "      <th>413</th>\n",
       "      <td>process</td>\n",
       "      <td>256</td>\n",
       "      <td>Negative</td>\n",
       "    </tr>\n",
       "    <tr>\n",
       "      <th>618</th>\n",
       "      <td>would</td>\n",
       "      <td>246</td>\n",
       "      <td>Negative</td>\n",
       "    </tr>\n",
       "    <tr>\n",
       "      <th>556</th>\n",
       "      <td>time</td>\n",
       "      <td>221</td>\n",
       "      <td>Negative</td>\n",
       "    </tr>\n",
       "    <tr>\n",
       "      <th>317</th>\n",
       "      <td>make</td>\n",
       "      <td>202</td>\n",
       "      <td>Negative</td>\n",
       "    </tr>\n",
       "    <tr>\n",
       "      <th>250</th>\n",
       "      <td>home</td>\n",
       "      <td>197</td>\n",
       "      <td>Negative</td>\n",
       "    </tr>\n",
       "    <tr>\n",
       "      <th>437</th>\n",
       "      <td>read</td>\n",
       "      <td>190</td>\n",
       "      <td>Negative</td>\n",
       "    </tr>\n",
       "    <tr>\n",
       "      <th>444</th>\n",
       "      <td>recommend</td>\n",
       "      <td>175</td>\n",
       "      <td>Negative</td>\n",
       "    </tr>\n",
       "    <tr>\n",
       "      <th>336</th>\n",
       "      <td>mortgage</td>\n",
       "      <td>155</td>\n",
       "      <td>Negative</td>\n",
       "    </tr>\n",
       "    <tr>\n",
       "      <th>72</th>\n",
       "      <td>call</td>\n",
       "      <td>153</td>\n",
       "      <td>Negative</td>\n",
       "    </tr>\n",
       "    <tr>\n",
       "      <th>435</th>\n",
       "      <td>rate</td>\n",
       "      <td>144</td>\n",
       "      <td>Negative</td>\n",
       "    </tr>\n",
       "    <tr>\n",
       "      <th>91</th>\n",
       "      <td>closing</td>\n",
       "      <td>135</td>\n",
       "      <td>Negative</td>\n",
       "    </tr>\n",
       "    <tr>\n",
       "      <th>90</th>\n",
       "      <td>close</td>\n",
       "      <td>126</td>\n",
       "      <td>Negative</td>\n",
       "    </tr>\n",
       "    <tr>\n",
       "      <th>485</th>\n",
       "      <td>service</td>\n",
       "      <td>121</td>\n",
       "      <td>Negative</td>\n",
       "    </tr>\n",
       "    <tr>\n",
       "      <th>430</th>\n",
       "      <td>question</td>\n",
       "      <td>118</td>\n",
       "      <td>Negative</td>\n",
       "    </tr>\n",
       "    <tr>\n",
       "      <th>182</th>\n",
       "      <td>experience</td>\n",
       "      <td>115</td>\n",
       "      <td>Negative</td>\n",
       "    </tr>\n",
       "    <tr>\n",
       "      <th>536</th>\n",
       "      <td>team</td>\n",
       "      <td>114</td>\n",
       "      <td>Negative</td>\n",
       "    </tr>\n",
       "    <tr>\n",
       "      <th>449</th>\n",
       "      <td>refinance</td>\n",
       "      <td>111</td>\n",
       "      <td>Negative</td>\n",
       "    </tr>\n",
       "    <tr>\n",
       "      <th>101</th>\n",
       "      <td>company</td>\n",
       "      <td>102</td>\n",
       "      <td>Negative</td>\n",
       "    </tr>\n",
       "  </tbody>\n",
       "</table>\n",
       "</div>"
      ],
      "text/plain": [
       "           Term  freq sentiment\n",
       "309        loan   327  Negative\n",
       "616        work   291  Negative\n",
       "413     process   256  Negative\n",
       "618       would   246  Negative\n",
       "556        time   221  Negative\n",
       "317        make   202  Negative\n",
       "250        home   197  Negative\n",
       "437        read   190  Negative\n",
       "444   recommend   175  Negative\n",
       "336    mortgage   155  Negative\n",
       "72         call   153  Negative\n",
       "435        rate   144  Negative\n",
       "91      closing   135  Negative\n",
       "90        close   126  Negative\n",
       "485     service   121  Negative\n",
       "430    question   118  Negative\n",
       "182  experience   115  Negative\n",
       "536        team   114  Negative\n",
       "449   refinance   111  Negative\n",
       "101     company   102  Negative"
      ]
     },
     "execution_count": 930,
     "metadata": {},
     "output_type": "execute_result"
    }
   ],
   "source": [
    "# separating negative words\n",
    "negative_words = word_freq.loc[word_freq['sentiment']=='Negative',:].sort_values('freq',ascending=False)\n",
    "\n",
    "#ten most frequently used positive words.\n",
    "negative_words = negative_words.head(20)\n",
    "negative_words"
   ]
  },
  {
   "cell_type": "code",
   "execution_count": 931,
   "metadata": {},
   "outputs": [
    {
     "data": {
      "image/png": "[encoded data removed]",
      "text/plain": [
       "<Figure size 720x432 with 1 Axes>"
      ]
     },
     "metadata": {
      "needs_background": "light"
     },
     "output_type": "display_data"
    }
   ],
   "source": [
    "#plot most frequently used negative words\n",
    "fig, axs = plt.subplots(figsize = (10,6))\n",
    "sns.barplot(negative_words['Term'], negative_words['freq'],  orient='v')\n",
    "\n",
    "plt.title('Most frequently used negative words',fontsize=20)\n",
    "plt.xlabel('Negative words',fontsize=15)\n",
    "plt.ylabel('Count',fontsize=15)\n",
    "plt.xticks(rotation=90)\n",
    "plt.show()"
   ]
  },
  {
   "cell_type": "code",
   "execution_count": 932,
   "metadata": {},
   "outputs": [
    {
     "data": {
      "image/png": "[encoded data removed]",
      "text/plain": [
       "<Figure size 864x864 with 1 Axes>"
      ]
     },
     "metadata": {
      "needs_background": "light"
     },
     "output_type": "display_data"
    }
   ],
   "source": [
    "#word cloud of 10 most frequently used negative words\n",
    "wordcloud = WordCloud().generate(' '.join(negative_words['Term']))\n",
    "# plot the WordCloud image                        \n",
    "plt.figure(figsize = (12, 12), facecolor = None) \n",
    "plt.imshow(wordcloud) \n",
    "plt.axis(\"off\")  \n",
    "plt.show()"
   ]
  },
  {
   "cell_type": "code",
   "execution_count": null,
   "metadata": {},
   "outputs": [],
   "source": []
  },
  {
   "cell_type": "markdown",
   "metadata": {},
   "source": [
    "### Split the data into train & Test"
   ]
  },
  {
   "cell_type": "code",
   "execution_count": 933,
   "metadata": {},
   "outputs": [
    {
     "name": "stdout",
     "output_type": "stream",
     "text": [
      "(377,)\n",
      "(126,)\n",
      "(377,)\n",
      "(126,)\n"
     ]
    }
   ],
   "source": [
    "# split the new DataFrame into training and testing sets\n",
    "y = review_data['Stars']\n",
    "X = review_data['Reviews']\n",
    "train_X, test_X, train_y, test_y = train_test_split(X, y, random_state=1)\n",
    "print(train_X.shape)\n",
    "print(test_X.shape)\n",
    "print(train_y.shape)\n",
    "print(test_y.shape)"
   ]
  },
  {
   "cell_type": "markdown",
   "metadata": {},
   "source": [
    "### Vectorization (count, tfidf) for both train & test"
   ]
  },
  {
   "cell_type": "code",
   "execution_count": 934,
   "metadata": {},
   "outputs": [],
   "source": [
    "#Train\n",
    "count_vect = CountVectorizer(analyzer='word', \n",
    "                             token_pattern=r'\\w{1,}', \n",
    "                             ngram_range=(1, 1 ), \n",
    "                             min_df=5, \n",
    "                             lowercase = True,\n",
    "                             encoding='latin-1' , \n",
    "                             max_features=1000)\n",
    "train_X_count = count_vect.fit_transform(train_X)\n",
    "\n",
    "tfidf_vect = TfidfVectorizer(analyzer='word', \n",
    "                             token_pattern=r'\\w{1,}', \n",
    "                             ngram_range=(1, 1 ), \n",
    "                             min_df=5, \n",
    "                             encoding='latin-1' , \n",
    "                             lowercase = True,\n",
    "                             max_features=1000)\n",
    "train_X_tfidf = tfidf_vect.fit_transform(train_X)\n",
    "\n",
    "#Test\n",
    "test_X_count = count_vect.transform(test_X)\n",
    "test_X_tfidf = tfidf_vect.transform(test_X)"
   ]
  },
  {
   "cell_type": "code",
   "execution_count": 935,
   "metadata": {},
   "outputs": [
    {
     "data": {
      "text/html": [
       "<div>\n",
       "<style scoped>\n",
       "    .dataframe tbody tr th:only-of-type {\n",
       "        vertical-align: middle;\n",
       "    }\n",
       "\n",
       "    .dataframe tbody tr th {\n",
       "        vertical-align: top;\n",
       "    }\n",
       "\n",
       "    .dataframe thead th {\n",
       "        text-align: right;\n",
       "    }\n",
       "</style>\n",
       "<table border=\"1\" class=\"dataframe\">\n",
       "  <thead>\n",
       "    <tr style=\"text-align: right;\">\n",
       "      <th></th>\n",
       "      <th>able</th>\n",
       "      <th>absolutely</th>\n",
       "      <th>accept</th>\n",
       "      <th>accommodate</th>\n",
       "      <th>account</th>\n",
       "      <th>accurate</th>\n",
       "      <th>across</th>\n",
       "      <th>actual</th>\n",
       "      <th>additional</th>\n",
       "      <th>address</th>\n",
       "      <th>...</th>\n",
       "      <th>with</th>\n",
       "      <th>within</th>\n",
       "      <th>without</th>\n",
       "      <th>wonderful</th>\n",
       "      <th>word</th>\n",
       "      <th>work</th>\n",
       "      <th>would</th>\n",
       "      <th>write</th>\n",
       "      <th>wrong</th>\n",
       "      <th>year</th>\n",
       "    </tr>\n",
       "  </thead>\n",
       "  <tbody>\n",
       "    <tr>\n",
       "      <th>0</th>\n",
       "      <td>0.0</td>\n",
       "      <td>0.0</td>\n",
       "      <td>0.141604</td>\n",
       "      <td>0.0</td>\n",
       "      <td>0.0</td>\n",
       "      <td>0.0</td>\n",
       "      <td>0.0</td>\n",
       "      <td>0.0</td>\n",
       "      <td>0.0</td>\n",
       "      <td>0.0</td>\n",
       "      <td>...</td>\n",
       "      <td>0.0</td>\n",
       "      <td>0.0</td>\n",
       "      <td>0.109101</td>\n",
       "      <td>0.000000</td>\n",
       "      <td>0.0</td>\n",
       "      <td>0.000000</td>\n",
       "      <td>0.000000</td>\n",
       "      <td>0.0</td>\n",
       "      <td>0.0</td>\n",
       "      <td>0.097593</td>\n",
       "    </tr>\n",
       "    <tr>\n",
       "      <th>1</th>\n",
       "      <td>0.0</td>\n",
       "      <td>0.0</td>\n",
       "      <td>0.000000</td>\n",
       "      <td>0.0</td>\n",
       "      <td>0.0</td>\n",
       "      <td>0.0</td>\n",
       "      <td>0.0</td>\n",
       "      <td>0.0</td>\n",
       "      <td>0.0</td>\n",
       "      <td>0.0</td>\n",
       "      <td>...</td>\n",
       "      <td>0.0</td>\n",
       "      <td>0.0</td>\n",
       "      <td>0.000000</td>\n",
       "      <td>0.222655</td>\n",
       "      <td>0.0</td>\n",
       "      <td>0.091574</td>\n",
       "      <td>0.000000</td>\n",
       "      <td>0.0</td>\n",
       "      <td>0.0</td>\n",
       "      <td>0.000000</td>\n",
       "    </tr>\n",
       "    <tr>\n",
       "      <th>2</th>\n",
       "      <td>0.0</td>\n",
       "      <td>0.0</td>\n",
       "      <td>0.000000</td>\n",
       "      <td>0.0</td>\n",
       "      <td>0.0</td>\n",
       "      <td>0.0</td>\n",
       "      <td>0.0</td>\n",
       "      <td>0.0</td>\n",
       "      <td>0.0</td>\n",
       "      <td>0.0</td>\n",
       "      <td>...</td>\n",
       "      <td>0.0</td>\n",
       "      <td>0.0</td>\n",
       "      <td>0.000000</td>\n",
       "      <td>0.000000</td>\n",
       "      <td>0.0</td>\n",
       "      <td>0.355828</td>\n",
       "      <td>0.138106</td>\n",
       "      <td>0.0</td>\n",
       "      <td>0.0</td>\n",
       "      <td>0.000000</td>\n",
       "    </tr>\n",
       "    <tr>\n",
       "      <th>3</th>\n",
       "      <td>0.0</td>\n",
       "      <td>0.0</td>\n",
       "      <td>0.000000</td>\n",
       "      <td>0.0</td>\n",
       "      <td>0.0</td>\n",
       "      <td>0.0</td>\n",
       "      <td>0.0</td>\n",
       "      <td>0.0</td>\n",
       "      <td>0.0</td>\n",
       "      <td>0.0</td>\n",
       "      <td>...</td>\n",
       "      <td>0.0</td>\n",
       "      <td>0.0</td>\n",
       "      <td>0.000000</td>\n",
       "      <td>0.000000</td>\n",
       "      <td>0.0</td>\n",
       "      <td>0.000000</td>\n",
       "      <td>0.000000</td>\n",
       "      <td>0.0</td>\n",
       "      <td>0.0</td>\n",
       "      <td>0.000000</td>\n",
       "    </tr>\n",
       "    <tr>\n",
       "      <th>4</th>\n",
       "      <td>0.0</td>\n",
       "      <td>0.0</td>\n",
       "      <td>0.000000</td>\n",
       "      <td>0.0</td>\n",
       "      <td>0.0</td>\n",
       "      <td>0.0</td>\n",
       "      <td>0.0</td>\n",
       "      <td>0.0</td>\n",
       "      <td>0.0</td>\n",
       "      <td>0.0</td>\n",
       "      <td>...</td>\n",
       "      <td>0.0</td>\n",
       "      <td>0.0</td>\n",
       "      <td>0.000000</td>\n",
       "      <td>0.000000</td>\n",
       "      <td>0.0</td>\n",
       "      <td>0.149096</td>\n",
       "      <td>0.086802</td>\n",
       "      <td>0.0</td>\n",
       "      <td>0.0</td>\n",
       "      <td>0.000000</td>\n",
       "    </tr>\n",
       "  </tbody>\n",
       "</table>\n",
       "<p>5 rows × 508 columns</p>\n",
       "</div>"
      ],
      "text/plain": [
       "   able  absolutely    accept  accommodate  account  accurate  across  actual  \\\n",
       "0   0.0         0.0  0.141604          0.0      0.0       0.0     0.0     0.0   \n",
       "1   0.0         0.0  0.000000          0.0      0.0       0.0     0.0     0.0   \n",
       "2   0.0         0.0  0.000000          0.0      0.0       0.0     0.0     0.0   \n",
       "3   0.0         0.0  0.000000          0.0      0.0       0.0     0.0     0.0   \n",
       "4   0.0         0.0  0.000000          0.0      0.0       0.0     0.0     0.0   \n",
       "\n",
       "   additional  address  ...  with  within   without  wonderful  word  \\\n",
       "0         0.0      0.0  ...   0.0     0.0  0.109101   0.000000   0.0   \n",
       "1         0.0      0.0  ...   0.0     0.0  0.000000   0.222655   0.0   \n",
       "2         0.0      0.0  ...   0.0     0.0  0.000000   0.000000   0.0   \n",
       "3         0.0      0.0  ...   0.0     0.0  0.000000   0.000000   0.0   \n",
       "4         0.0      0.0  ...   0.0     0.0  0.000000   0.000000   0.0   \n",
       "\n",
       "       work     would  write  wrong      year  \n",
       "0  0.000000  0.000000    0.0    0.0  0.097593  \n",
       "1  0.091574  0.000000    0.0    0.0  0.000000  \n",
       "2  0.355828  0.138106    0.0    0.0  0.000000  \n",
       "3  0.000000  0.000000    0.0    0.0  0.000000  \n",
       "4  0.149096  0.086802    0.0    0.0  0.000000  \n",
       "\n",
       "[5 rows x 508 columns]"
      ]
     },
     "execution_count": 935,
     "metadata": {},
     "output_type": "execute_result"
    }
   ],
   "source": [
    "#Get TF-IDF matrix\n",
    "\n",
    "#convert to word count 2D array\n",
    "tfidf_array = train_X_tfidf.toarray()\n",
    "#get all words as columns\n",
    "tfidf_cols = tfidf_vect.get_feature_names()\n",
    "#convert word count 2D array to dataframe\n",
    "train_tfidf = pd.DataFrame(tfidf_array)\n",
    "#add column names\n",
    "train_tfidf.columns = tfidf_cols\n",
    "train_tfidf.head(5)"
   ]
  },
  {
   "cell_type": "code",
   "execution_count": 936,
   "metadata": {
    "scrolled": true
   },
   "outputs": [
    {
     "data": {
      "text/html": [
       "<div>\n",
       "<style scoped>\n",
       "    .dataframe tbody tr th:only-of-type {\n",
       "        vertical-align: middle;\n",
       "    }\n",
       "\n",
       "    .dataframe tbody tr th {\n",
       "        vertical-align: top;\n",
       "    }\n",
       "\n",
       "    .dataframe thead th {\n",
       "        text-align: right;\n",
       "    }\n",
       "</style>\n",
       "<table border=\"1\" class=\"dataframe\">\n",
       "  <thead>\n",
       "    <tr style=\"text-align: right;\">\n",
       "      <th></th>\n",
       "      <th>able</th>\n",
       "      <th>absolutely</th>\n",
       "      <th>accept</th>\n",
       "      <th>accommodate</th>\n",
       "      <th>account</th>\n",
       "      <th>accurate</th>\n",
       "      <th>across</th>\n",
       "      <th>actual</th>\n",
       "      <th>additional</th>\n",
       "      <th>address</th>\n",
       "      <th>...</th>\n",
       "      <th>with</th>\n",
       "      <th>within</th>\n",
       "      <th>without</th>\n",
       "      <th>wonderful</th>\n",
       "      <th>word</th>\n",
       "      <th>work</th>\n",
       "      <th>would</th>\n",
       "      <th>write</th>\n",
       "      <th>wrong</th>\n",
       "      <th>year</th>\n",
       "    </tr>\n",
       "  </thead>\n",
       "  <tbody>\n",
       "    <tr>\n",
       "      <th>0</th>\n",
       "      <td>0</td>\n",
       "      <td>0</td>\n",
       "      <td>1</td>\n",
       "      <td>0</td>\n",
       "      <td>0</td>\n",
       "      <td>0</td>\n",
       "      <td>0</td>\n",
       "      <td>0</td>\n",
       "      <td>0</td>\n",
       "      <td>0</td>\n",
       "      <td>...</td>\n",
       "      <td>0</td>\n",
       "      <td>0</td>\n",
       "      <td>1</td>\n",
       "      <td>0</td>\n",
       "      <td>0</td>\n",
       "      <td>0</td>\n",
       "      <td>0</td>\n",
       "      <td>0</td>\n",
       "      <td>0</td>\n",
       "      <td>1</td>\n",
       "    </tr>\n",
       "    <tr>\n",
       "      <th>1</th>\n",
       "      <td>0</td>\n",
       "      <td>0</td>\n",
       "      <td>0</td>\n",
       "      <td>0</td>\n",
       "      <td>0</td>\n",
       "      <td>0</td>\n",
       "      <td>0</td>\n",
       "      <td>0</td>\n",
       "      <td>0</td>\n",
       "      <td>0</td>\n",
       "      <td>...</td>\n",
       "      <td>0</td>\n",
       "      <td>0</td>\n",
       "      <td>0</td>\n",
       "      <td>1</td>\n",
       "      <td>0</td>\n",
       "      <td>1</td>\n",
       "      <td>0</td>\n",
       "      <td>0</td>\n",
       "      <td>0</td>\n",
       "      <td>0</td>\n",
       "    </tr>\n",
       "    <tr>\n",
       "      <th>2</th>\n",
       "      <td>0</td>\n",
       "      <td>0</td>\n",
       "      <td>0</td>\n",
       "      <td>0</td>\n",
       "      <td>0</td>\n",
       "      <td>0</td>\n",
       "      <td>0</td>\n",
       "      <td>0</td>\n",
       "      <td>0</td>\n",
       "      <td>0</td>\n",
       "      <td>...</td>\n",
       "      <td>0</td>\n",
       "      <td>0</td>\n",
       "      <td>0</td>\n",
       "      <td>0</td>\n",
       "      <td>0</td>\n",
       "      <td>3</td>\n",
       "      <td>1</td>\n",
       "      <td>0</td>\n",
       "      <td>0</td>\n",
       "      <td>0</td>\n",
       "    </tr>\n",
       "    <tr>\n",
       "      <th>3</th>\n",
       "      <td>0</td>\n",
       "      <td>0</td>\n",
       "      <td>0</td>\n",
       "      <td>0</td>\n",
       "      <td>0</td>\n",
       "      <td>0</td>\n",
       "      <td>0</td>\n",
       "      <td>0</td>\n",
       "      <td>0</td>\n",
       "      <td>0</td>\n",
       "      <td>...</td>\n",
       "      <td>0</td>\n",
       "      <td>0</td>\n",
       "      <td>0</td>\n",
       "      <td>0</td>\n",
       "      <td>0</td>\n",
       "      <td>0</td>\n",
       "      <td>0</td>\n",
       "      <td>0</td>\n",
       "      <td>0</td>\n",
       "      <td>0</td>\n",
       "    </tr>\n",
       "    <tr>\n",
       "      <th>4</th>\n",
       "      <td>0</td>\n",
       "      <td>0</td>\n",
       "      <td>0</td>\n",
       "      <td>0</td>\n",
       "      <td>0</td>\n",
       "      <td>0</td>\n",
       "      <td>0</td>\n",
       "      <td>0</td>\n",
       "      <td>0</td>\n",
       "      <td>0</td>\n",
       "      <td>...</td>\n",
       "      <td>0</td>\n",
       "      <td>0</td>\n",
       "      <td>0</td>\n",
       "      <td>0</td>\n",
       "      <td>0</td>\n",
       "      <td>2</td>\n",
       "      <td>1</td>\n",
       "      <td>0</td>\n",
       "      <td>0</td>\n",
       "      <td>0</td>\n",
       "    </tr>\n",
       "  </tbody>\n",
       "</table>\n",
       "<p>5 rows × 508 columns</p>\n",
       "</div>"
      ],
      "text/plain": [
       "   able  absolutely  accept  accommodate  account  accurate  across  actual  \\\n",
       "0     0           0       1            0        0         0       0       0   \n",
       "1     0           0       0            0        0         0       0       0   \n",
       "2     0           0       0            0        0         0       0       0   \n",
       "3     0           0       0            0        0         0       0       0   \n",
       "4     0           0       0            0        0         0       0       0   \n",
       "\n",
       "   additional  address  ...  with  within  without  wonderful  word  work  \\\n",
       "0           0        0  ...     0       0        1          0     0     0   \n",
       "1           0        0  ...     0       0        0          1     0     1   \n",
       "2           0        0  ...     0       0        0          0     0     3   \n",
       "3           0        0  ...     0       0        0          0     0     0   \n",
       "4           0        0  ...     0       0        0          0     0     2   \n",
       "\n",
       "   would  write  wrong  year  \n",
       "0      0      0      0     1  \n",
       "1      0      0      0     0  \n",
       "2      1      0      0     0  \n",
       "3      0      0      0     0  \n",
       "4      1      0      0     0  \n",
       "\n",
       "[5 rows x 508 columns]"
      ]
     },
     "execution_count": 936,
     "metadata": {},
     "output_type": "execute_result"
    }
   ],
   "source": [
    "#Get Document Term Matrix\n",
    "#convert to word count 2D array\n",
    "dtm_array = train_X_count.toarray()\n",
    "#get all words as columns\n",
    "dtm_cols = count_vect.get_feature_names()\n",
    "#convert word count 2D array to dataframe\n",
    "train_dtm = pd.DataFrame(dtm_array)\n",
    "#add column names\n",
    "train_dtm.columns = dtm_cols\n",
    "train_dtm.head(5)"
   ]
  },
  {
   "cell_type": "code",
   "execution_count": 937,
   "metadata": {},
   "outputs": [
    {
     "data": {
      "text/plain": [
       "(377, 508)"
      ]
     },
     "execution_count": 937,
     "metadata": {},
     "output_type": "execute_result"
    }
   ],
   "source": [
    "## How many words ?\n",
    "train_dtm.shape"
   ]
  },
  {
   "cell_type": "markdown",
   "metadata": {},
   "source": [
    "### Topic Modeling using sklearn.decomposition"
   ]
  },
  {
   "cell_type": "code",
   "execution_count": 938,
   "metadata": {},
   "outputs": [],
   "source": [
    "# train a LDA Model\n",
    "lda_model = LatentDirichletAllocation(n_components=20, learning_method='online', max_iter=50)\n",
    "train_X_topics = lda_model.fit_transform(train_X_tfidf)\n",
    "topic_word = lda_model.components_ \n",
    "terms = count_vect.get_feature_names()"
   ]
  },
  {
   "cell_type": "code",
   "execution_count": 939,
   "metadata": {},
   "outputs": [
    {
     "data": {
      "text/plain": [
       "['work process loan great would make home recommend time service',\n",
       " 'informative responsive team home regulation close june truly believe rule',\n",
       " 'would turn company help friend financing recommend fast leave easy',\n",
       " 'loan people get helpful still service issue close able officer',\n",
       " 'patient get well company give never work great friendly option',\n",
       " 'loan email team good rate officer step mistake closing require',\n",
       " 'orient professional customer delay situation wife company amaze multiple while',\n",
       " 'great process compare difference lender want would necessary home value',\n",
       " 'unprofessional outstanding previous number list timely contact phone lender always',\n",
       " 'person email beneficial read send almost miss name really jocovic',\n",
       " 'payment account letter show amount nasbs agent unlike instruct voice',\n",
       " 'person commission heart name honest interest work hard customer best',\n",
       " 'possible still pretty processing make really include hesitate throughout find',\n",
       " 'sense closing horrible income local fail term immediately lock sign',\n",
       " 'true sense positive fail paperwork trust throughout also never knowledgeable',\n",
       " 'well surprise pleasure work lender dallas them good told real',\n",
       " 'appreciate extremely manner high pacific could base quite timely day',\n",
       " 'make true include dream smoothly beyond hard come sure everything',\n",
       " 'rule follow rate closing close stayed week would smoothly refer',\n",
       " 'total send estimate skill touch note come hand mention necessary']"
      ]
     },
     "execution_count": 939,
     "metadata": {},
     "output_type": "execute_result"
    }
   ],
   "source": [
    "# view the topic models\n",
    "n_top_words = 10\n",
    "topic_summaries = []\n",
    "for i, topic_dist in enumerate(topic_word):\n",
    "    topic_words = np.array(terms)[np.argsort(topic_dist)][:-(n_top_words+1):-1]\n",
    "    topic_summaries.append(' '.join(topic_words))\n",
    "\n",
    "topic_summaries"
   ]
  },
  {
   "cell_type": "markdown",
   "metadata": {},
   "source": [
    "### Topic Modeling using gensim"
   ]
  },
  {
   "cell_type": "code",
   "execution_count": 940,
   "metadata": {},
   "outputs": [],
   "source": [
    "# Creating the object for LDA model using gensim library\n",
    "Lda = gensim.models.ldamodel.LdaModel"
   ]
  },
  {
   "cell_type": "code",
   "execution_count": 941,
   "metadata": {},
   "outputs": [],
   "source": [
    "train_X_tokens = [doc.split() for doc in train_X] "
   ]
  },
  {
   "cell_type": "code",
   "execution_count": 942,
   "metadata": {},
   "outputs": [
    {
     "name": "stdout",
     "output_type": "stream",
     "text": [
      "Dictionary(1799 unique tokens: ['accept', 'agree', 'already', 'also', 'ask']...)\n"
     ]
    }
   ],
   "source": [
    "dictionary = corpora.Dictionary(train_X_tokens)\n",
    "print(dictionary)"
   ]
  },
  {
   "cell_type": "code",
   "execution_count": 943,
   "metadata": {},
   "outputs": [],
   "source": [
    "doc_term_matrix = [dictionary.doc2bow(doc) for doc in train_X_tokens]"
   ]
  },
  {
   "cell_type": "code",
   "execution_count": 944,
   "metadata": {},
   "outputs": [],
   "source": [
    "#pyLDAvis usage\n",
    "corpora.MmCorpus.serialize('corpus.mm', doc_term_matrix)"
   ]
  },
  {
   "cell_type": "code",
   "execution_count": 945,
   "metadata": {},
   "outputs": [],
   "source": [
    "# Running and Trainign LDA model on the document term matrix.\n",
    "ldamodel = Lda(doc_term_matrix, num_topics=5, id2word = dictionary,passes=5, alpha='auto', eval_every=5)"
   ]
  },
  {
   "cell_type": "code",
   "execution_count": 946,
   "metadata": {},
   "outputs": [],
   "source": [
    "pyLDAvis.enable_notebook()\n",
    "#d = gensim.corpora.Dictionary.load('dictionary.dict')\n",
    "c = gensim.corpora.MmCorpus('corpus.mm')\n",
    "#lda = gensim.models.LdaModel.load('topic.model')"
   ]
  },
  {
   "cell_type": "code",
   "execution_count": 948,
   "metadata": {},
   "outputs": [
    {
     "data": {
      "text/html": [
       "\n",
       "<link rel=\"stylesheet\" type=\"text/css\" href=\"https://cdn.rawgit.com/bmabey/pyLDAvis/files/ldavis.v1.0.0.css\">\n",
       "\n",
       "\n",
       "<div id=\"ldavis_el717627621076662489600937174\"></div>\n",
       "<script type=\"text/javascript\">\n",
       "\n",
       "var ldavis_el717627621076662489600937174_data = {\"mdsDat\": {\"x\": [0.050365723581474044, -0.017522414773440763, 0.06235297655533945, -0.1198626222190099, 0.024666336855637207], \"y\": [0.060881909957047946, -0.09265467419813907, -0.016925822703541798, 0.033458591514972255, 0.015239995429660659], \"topics\": [1, 2, 3, 4, 5], \"cluster\": [1, 1, 1, 1, 1], \"Freq\": [43.864524841308594, 19.395967483520508, 16.519121170043945, 10.276922225952148, 9.943466186523438]}, \"tinfo\": {\"Term\": [\"call\", \"email\", \"lender\", \"would\", \"appraisal\", \"receive\", \"close\", \"customer\", \"week\", \"poor\", \"bank\", \"work\", \"phone\", \"rate\", \"reach\", \"say\", \"response\", \"dallas\", \"could\", \"every\", \"recommend\", \"want\", \"loan\", \"state\", \"review\", \"with\", \"closing\", \"helpful\", \"time\", \"mortgage\", \"easy\", \"comfortable\", \"surprise\", \"military\", \"website\", \"mention\", \"realtor\", \"consultant\", \"total\", \"various\", \"unlike\", \"tough\", \"pleased\", \"impressed\", \"rush\", \"expect\", \"level\", \"retirement\", \"antebellum\", \"promptly\", \"madewell\", \"easily\", \"north\", \"wouldn\", \"assessment\", \"repeatedly\", \"responsiveness\", \"believe\", \"system\", \"accepted\", \"cant\", \"with\", \"payment\", \"home\", \"great\", \"felt\", \"smoothly\", \"purchase\", \"officer\", \"anyone\", \"family\", \"friend\", \"work\", \"stephanie\", \"loan\", \"make\", \"recommend\", \"process\", \"service\", \"throughout\", \"refinance\", \"time\", \"much\", \"answer\", \"knowledgeable\", \"experience\", \"team\", \"year\", \"would\", \"best\", \"read\", \"closing\", \"know\", \"mortgage\", \"always\", \"highly\", \"rate\", \"close\", \"company\", \"everything\", \"call\", \"question\", \"poor\", \"commit\", \"busy\", \"competitive\", \"appraise\", \"round\", \"unless\", \"thankfully\", \"reply\", \"lock\", \"apparently\", \"form\", \"select\", \"settlement\", \"competent\", \"notification\", \"sign\", \"goodness\", \"disappear\", \"forgot\", \"idea\", \"definite\", \"plus\", \"owen\", \"expire\", \"disorganize\", \"actual\", \"perfectly\", \"member\", \"ferrell\", \"barrett\", \"item\", \"communicate\", \"application\", \"people\", \"point\", \"lender\", \"good\", \"term\", \"week\", \"rate\", \"helpful\", \"minute\", \"please\", \"contact\", \"loan\", \"credit\", \"call\", \"closing\", \"email\", \"read\", \"them\", \"able\", \"communication\", \"process\", \"even\", \"take\", \"mortgage\", \"give\", \"time\", \"would\", \"begin\", \"refinance\", \"say\", \"make\", \"work\", \"close\", \"need\", \"approve\", \"doc\", \"effective\", \"transcript\", \"skill\", \"thomka\", \"info\", \"exactly\", \"weeksit\", \"fedex\", \"drive\", \"coordinate\", \"consent\", \"household\", \"unpacked\", \"chaz\", \"congratulation\", \"marcos\", \"brought\", \"polite\", \"concern\", \"mile\", \"sincerest\", \"servicer\", \"solution\", \"costeffective\", \"credible\", \"individual\", \"clarity\", \"scott\", \"wrong\", \"address\", \"copy\", \"reassure\", \"care\", \"while\", \"personal\", \"touch\", \"note\", \"check\", \"could\", \"possible\", \"extra\", \"send\", \"kept\", \"quickly\", \"stressful\", \"everyone\", \"responsive\", \"help\", \"question\", \"sent\", \"extremely\", \"recommend\", \"make\", \"first\", \"thanks\", \"take\", \"would\", \"everything\", \"mortgage\", \"read\", \"told\", \"always\", \"process\", \"time\", \"company\", \"work\", \"closing\", \"team\", \"call\", \"close\", \"loan\", \"service\", \"home\", \"best\", \"bos\", \"reimburse\", \"disturb\", \"site\", \"register\", \"originally\", \"relationship\", \"left\", \"deff\", \"marcus\", \"pitch\", \"lendingtree\", \"figure\", \"carrion\", \"anytime\", \"brokerage\", \"length\", \"occur\", \"accuse\", \"nominal\", \"extort\", \"disappoint\", \"obligation\", \"admin\", \"terribly\", \"displeasure\", \"courtesy\", \"commitment\", \"emailedand\", \"appraisal\", \"voicemail\", \"dallas\", \"reach\", \"response\", \"potential\", \"instruct\", \"receive\", \"voice\", \"current\", \"review\", \"email\", \"pay\", \"class\", \"spoke\", \"mail\", \"show\", \"phone\", \"state\", \"call\", \"say\", \"lender\", \"customer\", \"would\", \"want\", \"amount\", \"paid\", \"future\", \"beneficial\", \"work\", \"loan\", \"well\", \"read\", \"never\", \"know\", \"close\", \"time\", \"great\", \"thank\", \"mortgage\", \"donna\", \"michael\", \"respectable\", \"respectful\", \"builder\", \"rental\", \"podorson\", \"hardworking\", \"represent\", \"lisa\", \"leehy\", \"complaint\", \"increase\", \"intuition\", \"flow\", \"sensitivity\", \"dedicate\", \"cycle\", \"bureaucracy\", \"turnaround\", \"technology\", \"responsible\", \"fulltime\", \"block\", \"uploaded\", \"stumble\", \"jacob\", \"brand\", \"opportune\", \"crew\", \"documentation\", \"name\", \"jocovic\", \"absolutely\", \"personable\", \"close\", \"bank\", \"position\", \"professionalism\", \"person\", \"week\", \"customer\", \"time\", \"hard\", \"rate\", \"guaranteed\", \"work\", \"experience\", \"document\", \"mortgage\", \"situation\", \"would\", \"professional\", \"loan\", \"process\", \"well\", \"quick\", \"read\", \"call\", \"company\", \"closing\", \"recommend\", \"phone\", \"make\", \"question\", \"year\", \"every\", \"great\", \"team\", \"best\", \"receive\", \"service\", \"home\"], \"Freq\": [106.0, 65.0, 62.0, 159.0, 23.0, 37.0, 82.0, 52.0, 54.0, 19.0, 47.0, 183.0, 32.0, 91.0, 17.0, 38.0, 20.0, 16.0, 43.0, 38.0, 122.0, 36.0, 221.0, 16.0, 15.0, 43.0, 97.0, 37.0, 139.0, 98.0, 46.32490539550781, 8.565454483032227, 6.84900426864624, 6.819843292236328, 8.471502304077148, 6.751512050628662, 10.12603759765625, 7.480509281158447, 10.814894676208496, 5.774813652038574, 7.407520771026611, 4.925951957702637, 8.104854583740234, 6.527310371398926, 4.876031875610352, 12.191902160644531, 4.029481887817383, 3.996392011642456, 3.9937081336975098, 4.774533748626709, 3.972878932952881, 3.971970558166504, 7.115377426147461, 3.970059394836426, 3.9454100131988525, 3.946895122528076, 6.344348907470703, 6.320339202880859, 4.681898593902588, 3.886648416519165, 15.226508140563965, 35.2051887512207, 21.039411544799805, 97.41302490234375, 68.48926544189453, 16.491241455078125, 11.271480560302734, 27.10841941833496, 29.5904541015625, 37.890254974365234, 15.991202354431152, 18.106822967529297, 119.3312759399414, 10.364813804626465, 134.78085327148438, 86.86835479736328, 78.0871353149414, 103.714599609375, 56.28731918334961, 18.261882781982422, 50.55619430541992, 78.80677795410156, 20.693437576293945, 31.05681037902832, 29.891281127929688, 44.10222625732422, 43.84793472290039, 24.069080352783203, 77.77545928955078, 36.40021514892578, 58.50496292114258, 48.25006866455078, 28.090085983276367, 45.00797653198242, 31.977293014526367, 25.01265525817871, 40.70950698852539, 35.16078567504883, 30.49720573425293, 27.881729125976562, 33.6612663269043, 28.183704376220703, 17.81654167175293, 5.316263675689697, 4.406591415405273, 4.358772277832031, 3.5968527793884277, 3.5977821350097656, 3.59800124168396, 3.596365451812744, 3.561005115509033, 11.91087532043457, 4.235466957092285, 2.7770445346832275, 5.611852169036865, 2.7656357288360596, 2.763204574584961, 2.758133888244629, 10.481115341186523, 2.7502572536468506, 2.7483179569244385, 2.740513324737549, 2.7349443435668945, 2.7231881618499756, 2.720686197280884, 2.7092807292938232, 5.326420307159424, 3.391265392303467, 4.496785640716553, 2.583010673522949, 1.9399065971374512, 1.9398983716964722, 10.925222396850586, 5.351929187774658, 8.281438827514648, 8.393064498901367, 9.36646556854248, 6.596095561981201, 25.674400329589844, 15.139904975891113, 6.182734489440918, 20.35236358642578, 28.59264373779297, 15.011083602905273, 7.497044563293457, 4.163105487823486, 12.194533348083496, 47.01823425292969, 13.196785926818848, 27.222143173217773, 25.66096305847168, 19.708126068115234, 28.79298210144043, 11.864150047302246, 11.030715942382812, 10.048105239868164, 28.2175350189209, 11.207715034484863, 14.71709156036377, 18.74039077758789, 11.27647876739502, 20.941791534423828, 20.722156524658203, 10.087620735168457, 13.380806922912598, 10.68796157836914, 14.228182792663574, 14.201841354370117, 11.864686965942383, 10.9151611328125, 5.145624160766602, 7.6991071701049805, 3.474456548690796, 3.455637216567993, 4.097757339477539, 2.6956028938293457, 2.6941211223602295, 2.6904027462005615, 2.660766839981079, 2.657087564468384, 2.6544837951660156, 2.655155658721924, 2.6472666263580322, 3.3170440196990967, 2.6454074382781982, 2.6276748180389404, 2.6181201934814453, 2.614412307739258, 2.6079657077789307, 2.517914295196533, 7.538495063781738, 5.051331043243408, 1.8578753471374512, 1.8575772047042847, 1.85728120803833, 1.8558542728424072, 1.8539633750915527, 1.85335111618042, 1.8511316776275635, 1.8534553050994873, 4.302268028259277, 3.565620183944702, 3.4756269454956055, 2.4282209873199463, 13.586328506469727, 5.143044948577881, 6.682784080505371, 3.411057949066162, 4.381047248840332, 9.992637634277344, 18.974729537963867, 9.300466537475586, 8.42798900604248, 9.3062162399292, 9.75301742553711, 8.810139656066895, 7.921772480010986, 7.585701942443848, 11.76147747039795, 16.45223045349121, 17.59452247619629, 9.372403144836426, 11.759445190429688, 23.816804885864258, 24.649433135986328, 13.543295860290527, 12.031423568725586, 13.200151443481445, 22.553688049316406, 12.80163288116455, 17.55744171142578, 18.85637664794922, 11.273178100585938, 12.946830749511719, 19.771944046020508, 17.08551788330078, 12.433023452758789, 17.799596786499023, 13.90417766571045, 12.198966979980469, 13.010631561279297, 11.160634994506836, 12.199075698852539, 10.55769157409668, 10.758047103881836, 9.951605796813965, 4.442568778991699, 4.421820640563965, 2.3533663749694824, 2.353254556655884, 2.353254556655884, 3.9729015827178955, 2.25589656829834, 4.433501720428467, 1.6174310445785522, 1.6173852682113647, 1.616390347480774, 1.5853787660598755, 1.5823023319244385, 3.6821658611297607, 1.5796931982040405, 1.577576994895935, 1.5764524936676025, 1.574141502380371, 1.5726112127304077, 1.5722421407699585, 1.5720610618591309, 1.5697120428085327, 1.5678486824035645, 1.566765308380127, 1.5641798973083496, 1.563288688659668, 1.5624557733535767, 1.54033362865448, 1.496830701828003, 14.68370532989502, 4.419693470001221, 10.04797077178955, 9.791085243225098, 9.749197959899902, 4.423779487609863, 2.8506014347076416, 14.602066993713379, 2.789196729660034, 5.387849807739258, 6.569744110107422, 19.43600845336914, 4.426693439483643, 2.2758948802948, 6.820366859436035, 2.9971609115600586, 5.769350528717041, 10.213624954223633, 6.262908458709717, 22.803022384643555, 10.84416389465332, 14.657267570495605, 12.531460762023926, 24.766942977905273, 9.46174144744873, 6.0111308097839355, 4.512147903442383, 6.105123043060303, 5.2380828857421875, 14.882818222045898, 12.338937759399414, 6.699275016784668, 8.304350852966309, 6.105406761169434, 6.157449245452881, 6.602044582366943, 7.025777816772461, 6.446856498718262, 5.662275314331055, 5.7426252365112305, 4.555107593536377, 3.087963819503784, 3.0679898262023926, 2.4076039791107178, 2.9760451316833496, 2.3248794078826904, 1.6735947132110596, 1.6702731847763062, 1.670204520225525, 1.6650363206863403, 1.6523795127868652, 2.1900253295898438, 1.6344407796859741, 1.6301023960113525, 1.625753402709961, 1.6232280731201172, 1.623307228088379, 1.621456503868103, 1.6205527782440186, 1.6202415227890015, 1.618719220161438, 1.61946439743042, 1.6176596879959106, 1.6169558763504028, 1.6166718006134033, 1.6162338256835938, 1.615393042564392, 1.614119291305542, 1.614177942276001, 1.6116750240325928, 4.91697359085083, 3.8521814346313477, 5.065220355987549, 4.223752498626709, 2.396444797515869, 17.328718185424805, 11.247544288635254, 2.2969679832458496, 3.965087413787842, 4.64707088470459, 10.303862571716309, 9.420557975769043, 15.552685737609863, 5.956245422363281, 12.039630889892578, 4.199158668518066, 16.98842430114746, 10.39653491973877, 5.015148639678955, 11.677388191223145, 3.8326330184936523, 13.848393440246582, 7.212771892547607, 15.277206420898438, 13.010308265686035, 6.820429801940918, 5.345364093780518, 10.553544998168945, 9.677650451660156, 7.551144123077393, 8.859548568725586, 9.527670860290527, 5.782211780548096, 8.85030460357666, 6.886715412139893, 5.748349666595459, 5.6635050773620605, 6.586616516113281, 6.133526802062988, 5.896576404571533, 5.45361328125, 5.598236083984375, 5.558528423309326], \"Total\": [106.0, 65.0, 62.0, 159.0, 23.0, 37.0, 82.0, 52.0, 54.0, 19.0, 47.0, 183.0, 32.0, 91.0, 17.0, 38.0, 20.0, 16.0, 43.0, 38.0, 122.0, 36.0, 221.0, 16.0, 15.0, 43.0, 97.0, 37.0, 139.0, 98.0, 50.83900451660156, 9.420886993408203, 7.542991638183594, 7.533809661865234, 9.394050598144531, 7.5294880867004395, 11.308731079101562, 8.467348098754883, 12.242167472839355, 6.555577754974365, 8.411484718322754, 5.621482849121094, 9.314680099487305, 7.514278411865234, 5.617770671844482, 14.13717269897461, 4.675009727478027, 4.668119430541992, 4.667532444000244, 5.5929789543151855, 4.664625644683838, 4.664490699768066, 8.361178398132324, 4.67011833190918, 4.6604766845703125, 4.662698268890381, 7.498294830322266, 7.493872165679932, 5.56597900390625, 4.643616676330566, 18.58243179321289, 43.82180404663086, 25.865346908569336, 127.1983413696289, 89.51622009277344, 20.418432235717773, 13.798667907714844, 34.48588180541992, 38.369380950927734, 51.18800735473633, 20.288923263549805, 23.19443130493164, 183.2039337158203, 12.802079200744629, 221.61431884765625, 136.5512237548828, 122.1054916381836, 168.03958129882812, 86.23863220214844, 24.133604049682617, 79.13017272949219, 139.4125518798828, 28.429784774780273, 47.58894729614258, 45.48250961303711, 73.3824691772461, 73.33871459960938, 35.05731964111328, 159.66664123535156, 61.04113006591797, 125.01221466064453, 97.8447494506836, 46.526058197021484, 98.72582244873047, 58.698509216308594, 39.8641242980957, 91.22720336914062, 82.11687469482422, 62.73297882080078, 52.93270492553711, 106.37471771240234, 66.65966033935547, 19.34995460510254, 6.108160018920898, 5.241011619567871, 5.2308783531188965, 4.350234031677246, 4.355456829071045, 4.356196403503418, 4.358885765075684, 4.354208469390869, 14.667531967163086, 5.262404918670654, 3.4824585914611816, 7.041849613189697, 3.475374460220337, 3.4752495288848877, 3.4745612144470215, 13.20842456817627, 3.473025321960449, 3.4779810905456543, 3.4720911979675293, 3.4713776111602783, 3.480487108230591, 3.480806827545166, 3.4794459342956543, 6.874242305755615, 4.378636360168457, 5.985958099365234, 3.4629602432250977, 2.6009418964385986, 2.6009325981140137, 14.97215461730957, 7.9481000900268555, 13.4927339553833, 13.747961044311523, 15.760930061340332, 10.801626205444336, 62.32498550415039, 33.03046417236328, 10.447738647460938, 54.46531677246094, 91.22720336914062, 37.5196418762207, 14.145702362060547, 6.1805243492126465, 29.32474136352539, 221.61431884765625, 34.15353775024414, 106.37471771240234, 97.8447494506836, 65.26897430419922, 125.01221466064453, 30.231460571289062, 28.675771713256836, 25.090469360351562, 168.03958129882812, 30.820613861083984, 54.27976608276367, 98.72582244873047, 34.12400436401367, 139.4125518798828, 159.66664123535156, 29.174373626708984, 79.13017272949219, 38.56038284301758, 136.5512237548828, 183.2039337158203, 82.11687469482422, 49.23231506347656, 5.928881645202637, 9.358656883239746, 4.2423319816589355, 4.226465702056885, 5.064467430114746, 3.3800573348999023, 3.384901523590088, 3.3816962242126465, 3.384852647781372, 3.3854665756225586, 3.3845958709716797, 3.3857648372650146, 3.385741710662842, 4.244129657745361, 3.386808395385742, 3.3898398876190186, 3.3948864936828613, 3.395026922225952, 3.3961336612701416, 3.401881694793701, 10.220269203186035, 6.860179901123047, 2.5329508781433105, 2.532907009124756, 2.533151865005493, 2.532999038696289, 2.532797336578369, 2.5327394008636475, 2.532501459121704, 2.5357577800750732, 6.005405902862549, 5.106091499328613, 4.986821174621582, 3.3918819427490234, 22.78379249572754, 7.851475238800049, 11.00295639038086, 5.156264781951904, 6.930522441864014, 19.477020263671875, 43.49905014038086, 18.06024932861328, 16.43950843811035, 19.016077041625977, 20.88589859008789, 18.148353576660156, 15.69667911529541, 15.774741172790527, 33.58948516845703, 56.86668395996094, 66.65966033935547, 25.625104904174805, 37.50077438354492, 122.1054916381836, 136.5512237548828, 53.54790496826172, 44.769622802734375, 54.27976608276367, 159.66664123535156, 52.93270492553711, 98.72582244873047, 125.01221466064453, 42.625816345214844, 58.698509216308594, 168.03958129882812, 139.4125518798828, 62.73297882080078, 183.2039337158203, 97.8447494506836, 73.33871459960938, 106.37471771240234, 82.11687469482422, 221.61431884765625, 86.23863220214844, 127.1983413696289, 61.04113006591797, 5.274760723114014, 5.278182029724121, 3.043872356414795, 3.0438623428344727, 3.043867588043213, 5.34552526473999, 3.0585415363311768, 6.233677387237549, 2.308335065841675, 2.3083343505859375, 2.3085777759552, 2.314833164215088, 2.3165156841278076, 5.396749019622803, 2.3156039714813232, 2.316399574279785, 2.3165977001190186, 2.317376136779785, 2.3175265789031982, 2.3175203800201416, 2.317905902862549, 2.318103313446045, 2.318016290664673, 2.31866455078125, 2.319197416305542, 2.3192481994628906, 2.320391893386841, 2.323817491531372, 2.3304495811462402, 23.6378116607666, 7.192632675170898, 16.97043800354004, 17.76604652404785, 20.23448944091797, 8.062009811401367, 4.795687198638916, 37.60890579223633, 4.81683349609375, 11.279363632202148, 15.094386100769043, 65.26897430419922, 9.107183456420898, 3.8171751499176025, 17.186471939086914, 5.599625587463379, 14.257091522216797, 32.182010650634766, 16.160804748535156, 106.37471771240234, 38.56038284301758, 62.32498550415039, 52.507408142089844, 159.66664123535156, 36.4983024597168, 17.919511795043945, 11.112574577331543, 20.55634880065918, 17.113046646118164, 183.2039337158203, 221.61431884765625, 42.954437255859375, 125.01221466064453, 42.24816131591797, 46.526058197021484, 82.11687469482422, 139.4125518798828, 89.51622009277344, 35.85157012939453, 98.72582244873047, 5.415928840637207, 3.892296314239502, 3.893721580505371, 3.121649742126465, 3.9367353916168213, 3.1436047554016113, 2.3588132858276367, 2.359175205230713, 2.3591954708099365, 2.3599154949188232, 2.3642921447753906, 3.1564600467681885, 2.3582820892333984, 2.3632705211639404, 2.363842725753784, 2.363905191421509, 2.3649377822875977, 2.3640129566192627, 2.365180730819702, 2.364727020263672, 2.363471746444702, 2.364701986312866, 2.3649988174438477, 2.3647866249084473, 2.364715576171875, 2.3642172813415527, 2.365078926086426, 2.365360975265503, 2.365621328353882, 2.3658738136291504, 7.849160194396973, 6.4262542724609375, 10.093993186950684, 8.132966995239258, 3.981858730316162, 82.11687469482422, 47.690616607666016, 4.092029571533203, 10.114103317260742, 14.054011344909668, 54.46531677246094, 52.507408142089844, 139.4125518798828, 24.78227424621582, 91.22720336914062, 13.633404731750488, 183.2039337158203, 73.3824691772461, 19.263002395629883, 98.72582244873047, 12.11885929107666, 159.66664123535156, 44.03696823120117, 221.61431884765625, 168.03958129882812, 42.954437255859375, 24.857131958007812, 125.01221466064453, 106.37471771240234, 62.73297882080078, 97.8447494506836, 122.1054916381836, 32.182010650634766, 136.5512237548828, 66.65966033935547, 35.05731964111328, 38.41060256958008, 89.51622009277344, 73.33871459960938, 61.04113006591797, 37.60890579223633, 86.23863220214844, 127.1983413696289], \"Category\": [\"Default\", \"Default\", \"Default\", \"Default\", \"Default\", \"Default\", \"Default\", \"Default\", \"Default\", \"Default\", \"Default\", \"Default\", \"Default\", \"Default\", \"Default\", \"Default\", \"Default\", \"Default\", \"Default\", \"Default\", \"Default\", \"Default\", \"Default\", \"Default\", \"Default\", \"Default\", \"Default\", \"Default\", \"Default\", \"Default\", \"Topic1\", \"Topic1\", \"Topic1\", \"Topic1\", \"Topic1\", \"Topic1\", \"Topic1\", \"Topic1\", \"Topic1\", \"Topic1\", \"Topic1\", \"Topic1\", \"Topic1\", \"Topic1\", \"Topic1\", \"Topic1\", \"Topic1\", \"Topic1\", \"Topic1\", \"Topic1\", \"Topic1\", \"Topic1\", \"Topic1\", \"Topic1\", \"Topic1\", \"Topic1\", \"Topic1\", \"Topic1\", \"Topic1\", \"Topic1\", \"Topic1\", \"Topic1\", \"Topic1\", \"Topic1\", \"Topic1\", \"Topic1\", \"Topic1\", \"Topic1\", \"Topic1\", \"Topic1\", \"Topic1\", \"Topic1\", \"Topic1\", \"Topic1\", \"Topic1\", \"Topic1\", \"Topic1\", \"Topic1\", \"Topic1\", \"Topic1\", \"Topic1\", \"Topic1\", \"Topic1\", \"Topic1\", \"Topic1\", \"Topic1\", \"Topic1\", \"Topic1\", \"Topic1\", \"Topic1\", \"Topic1\", \"Topic1\", \"Topic1\", \"Topic1\", \"Topic1\", \"Topic1\", \"Topic1\", \"Topic1\", \"Topic1\", \"Topic1\", \"Topic1\", \"Topic1\", \"Topic2\", \"Topic2\", \"Topic2\", \"Topic2\", \"Topic2\", \"Topic2\", \"Topic2\", \"Topic2\", \"Topic2\", \"Topic2\", \"Topic2\", \"Topic2\", \"Topic2\", \"Topic2\", \"Topic2\", \"Topic2\", \"Topic2\", \"Topic2\", \"Topic2\", \"Topic2\", \"Topic2\", \"Topic2\", \"Topic2\", \"Topic2\", \"Topic2\", \"Topic2\", \"Topic2\", \"Topic2\", \"Topic2\", \"Topic2\", \"Topic2\", \"Topic2\", \"Topic2\", \"Topic2\", \"Topic2\", \"Topic2\", \"Topic2\", \"Topic2\", \"Topic2\", \"Topic2\", \"Topic2\", \"Topic2\", \"Topic2\", \"Topic2\", \"Topic2\", \"Topic2\", \"Topic2\", \"Topic2\", \"Topic2\", \"Topic2\", \"Topic2\", \"Topic2\", \"Topic2\", \"Topic2\", \"Topic2\", \"Topic2\", \"Topic2\", \"Topic2\", \"Topic2\", \"Topic2\", \"Topic2\", \"Topic2\", \"Topic2\", \"Topic2\", \"Topic2\", \"Topic2\", \"Topic2\", \"Topic2\", \"Topic3\", \"Topic3\", \"Topic3\", \"Topic3\", \"Topic3\", \"Topic3\", \"Topic3\", \"Topic3\", \"Topic3\", \"Topic3\", \"Topic3\", \"Topic3\", \"Topic3\", \"Topic3\", \"Topic3\", \"Topic3\", \"Topic3\", \"Topic3\", \"Topic3\", \"Topic3\", \"Topic3\", \"Topic3\", \"Topic3\", \"Topic3\", \"Topic3\", \"Topic3\", \"Topic3\", \"Topic3\", \"Topic3\", \"Topic3\", \"Topic3\", \"Topic3\", \"Topic3\", \"Topic3\", \"Topic3\", \"Topic3\", \"Topic3\", \"Topic3\", \"Topic3\", \"Topic3\", \"Topic3\", \"Topic3\", \"Topic3\", \"Topic3\", \"Topic3\", \"Topic3\", \"Topic3\", \"Topic3\", \"Topic3\", \"Topic3\", \"Topic3\", \"Topic3\", \"Topic3\", \"Topic3\", \"Topic3\", \"Topic3\", \"Topic3\", \"Topic3\", \"Topic3\", \"Topic3\", \"Topic3\", \"Topic3\", \"Topic3\", \"Topic3\", \"Topic3\", \"Topic3\", \"Topic3\", \"Topic3\", \"Topic3\", \"Topic3\", \"Topic3\", \"Topic3\", \"Topic3\", \"Topic3\", \"Topic3\", \"Topic3\", \"Topic4\", \"Topic4\", \"Topic4\", \"Topic4\", \"Topic4\", \"Topic4\", \"Topic4\", \"Topic4\", \"Topic4\", \"Topic4\", \"Topic4\", \"Topic4\", \"Topic4\", \"Topic4\", \"Topic4\", \"Topic4\", \"Topic4\", \"Topic4\", \"Topic4\", \"Topic4\", \"Topic4\", \"Topic4\", \"Topic4\", \"Topic4\", \"Topic4\", \"Topic4\", \"Topic4\", \"Topic4\", \"Topic4\", \"Topic4\", \"Topic4\", \"Topic4\", \"Topic4\", \"Topic4\", \"Topic4\", \"Topic4\", \"Topic4\", \"Topic4\", \"Topic4\", \"Topic4\", \"Topic4\", \"Topic4\", \"Topic4\", \"Topic4\", \"Topic4\", \"Topic4\", \"Topic4\", \"Topic4\", \"Topic4\", \"Topic4\", \"Topic4\", \"Topic4\", \"Topic4\", \"Topic4\", \"Topic4\", \"Topic4\", \"Topic4\", \"Topic4\", \"Topic4\", \"Topic4\", \"Topic4\", \"Topic4\", \"Topic4\", \"Topic4\", \"Topic4\", \"Topic4\", \"Topic4\", \"Topic4\", \"Topic4\", \"Topic5\", \"Topic5\", \"Topic5\", \"Topic5\", \"Topic5\", \"Topic5\", \"Topic5\", \"Topic5\", \"Topic5\", \"Topic5\", \"Topic5\", \"Topic5\", \"Topic5\", \"Topic5\", \"Topic5\", \"Topic5\", \"Topic5\", \"Topic5\", \"Topic5\", \"Topic5\", \"Topic5\", \"Topic5\", \"Topic5\", \"Topic5\", \"Topic5\", \"Topic5\", \"Topic5\", \"Topic5\", \"Topic5\", \"Topic5\", \"Topic5\", \"Topic5\", \"Topic5\", \"Topic5\", \"Topic5\", \"Topic5\", \"Topic5\", \"Topic5\", \"Topic5\", \"Topic5\", \"Topic5\", \"Topic5\", \"Topic5\", \"Topic5\", \"Topic5\", \"Topic5\", \"Topic5\", \"Topic5\", \"Topic5\", \"Topic5\", \"Topic5\", \"Topic5\", \"Topic5\", \"Topic5\", \"Topic5\", \"Topic5\", \"Topic5\", \"Topic5\", \"Topic5\", \"Topic5\", \"Topic5\", \"Topic5\", \"Topic5\", \"Topic5\", \"Topic5\", \"Topic5\", \"Topic5\", \"Topic5\", \"Topic5\", \"Topic5\", \"Topic5\", \"Topic5\", \"Topic5\"], \"logprob\": [30.0, 29.0, 28.0, 27.0, 26.0, 25.0, 24.0, 23.0, 22.0, 21.0, 20.0, 19.0, 18.0, 17.0, 16.0, 15.0, 14.0, 13.0, 12.0, 11.0, 10.0, 9.0, 8.0, 7.0, 6.0, 5.0, 4.0, 3.0, 2.0, 1.0, -4.785399913787842, -6.473299980163574, -6.696899890899658, -6.701200008392334, -6.484300136566162, -6.711299896240234, -6.3059000968933105, -6.608699798583984, -6.240099906921387, -6.867499828338623, -6.618500232696533, -7.026500225067139, -6.528600215911865, -6.744999885559082, -7.0366997718811035, -6.120299816131592, -7.227399826049805, -7.235599994659424, -7.236299991607666, -7.057700157165527, -7.241499900817871, -7.241799831390381, -6.65880012512207, -7.242300033569336, -7.248499870300293, -7.2480998039245605, -6.773499965667725, -6.777299880981445, -7.077300071716309, -7.263500213623047, -5.8979997634887695, -5.059800148010254, -5.5746002197265625, -4.042099952697754, -4.394400119781494, -5.81820011138916, -6.198800086975098, -5.321199893951416, -5.23360013961792, -4.986299991607666, -5.848999977111816, -5.724699974060059, -3.839099884033203, -6.282599925994873, -3.717400074005127, -4.156599998474121, -4.263199806213379, -3.9793999195098877, -4.59060001373291, -5.71619987487793, -4.69789981842041, -4.254000186920166, -5.59119987487793, -5.185200214385986, -5.223499774932861, -4.834499835968018, -4.8403000831604, -5.440100193023682, -4.267199993133545, -5.026500225067139, -4.5518999099731445, -4.74459981918335, -5.285600185394287, -4.814199924468994, -5.156000137329102, -5.401599884033203, -4.914599895477295, -5.061100006103516, -5.203400135040283, -5.293099880218506, -5.104700088500977, -5.282299995422363, -4.924900054931641, -6.134200096130371, -6.321899890899658, -6.332799911499023, -6.524899959564209, -6.524700164794922, -6.524600028991699, -6.525100231170654, -6.534900188446045, -5.327499866485596, -6.361499786376953, -6.783599853515625, -6.080100059509277, -6.787700176239014, -6.788599967956543, -6.79040002822876, -5.455399990081787, -6.793300151824951, -6.794000148773193, -6.796800136566162, -6.798900127410889, -6.803199768066406, -6.804100036621094, -6.808300018310547, -6.132299900054932, -6.583799839019775, -6.301599979400635, -6.855999946594238, -7.142399787902832, -7.142399787902832, -5.413899898529053, -6.127500057220459, -5.690999984741211, -5.677599906921387, -5.56790018081665, -5.918499946594238, -4.559500217437744, -5.087699890136719, -5.9832000732421875, -4.791800022125244, -4.4517998695373535, -5.096199989318848, -5.790500164031982, -6.378699779510498, -5.303999900817871, -3.9544999599456787, -5.224999904632568, -4.500999927520752, -4.559999942779541, -4.823999881744385, -4.444900035858154, -5.331500053405762, -5.404300212860107, -5.497600078582764, -4.465000152587891, -5.388400077819824, -5.116000175476074, -4.874300003051758, -5.382299900054932, -4.763199806213379, -4.773799896240234, -5.49370002746582, -5.21120023727417, -5.4359002113342285, -5.149799823760986, -5.151599884033203, -5.331399917602539, -5.41480016708374, -6.00629997253418, -5.603300094604492, -6.39900016784668, -6.404399871826172, -6.234000205993652, -6.6528000831604, -6.65339994430542, -6.654799938201904, -6.665800094604492, -6.667200088500977, -6.6682000160217285, -6.667900085449219, -6.670899868011475, -6.445400238037109, -6.671599864959717, -6.678299903869629, -6.682000160217285, -6.6834001541137695, -6.6859002113342285, -6.7210001945495605, -5.6244001388549805, -6.024799823760986, -7.025000095367432, -7.025199890136719, -7.025300025939941, -7.026100158691406, -7.027100086212158, -7.027400016784668, -7.028600215911865, -7.027400016784668, -6.185299873352051, -6.3730998039245605, -6.39870023727417, -6.757299900054932, -5.035399913787842, -6.006800174713135, -5.744900226593018, -6.417399883270264, -6.167200088500977, -5.342599868774414, -4.701300144195557, -5.414400100708008, -5.512899875640869, -5.41379976272583, -5.3668999671936035, -5.468500137329102, -5.57480001449585, -5.618199825286865, -5.179599761962891, -4.843999862670898, -4.776899814605713, -5.406700134277344, -5.179800033569336, -4.474100112915039, -4.439700126647949, -5.038599967956543, -5.156899929046631, -5.064199924468994, -4.528500080108643, -5.094900131225586, -4.7789998054504395, -4.707600116729736, -5.2220001220703125, -5.083600044250488, -4.660200119018555, -4.80620002746582, -5.124100208282471, -4.7652997970581055, -5.01230001449585, -5.143099784851074, -5.078700065612793, -5.232100009918213, -5.143099784851074, -5.287600040435791, -5.268799781799316, -5.346700191497803, -5.678599834442139, -5.683300018310547, -6.314000129699707, -6.314000129699707, -6.314000129699707, -5.790299892425537, -6.356299877166748, -5.680600166320801, -6.689000129699707, -6.689000129699707, -6.689599990844727, -6.709000110626221, -6.710899829864502, -5.866300106048584, -6.712600231170654, -6.713900089263916, -6.714600086212158, -6.716100215911865, -6.717100143432617, -6.717299938201904, -6.717400074005127, -6.718900203704834, -6.720099925994873, -6.720799922943115, -6.722499847412109, -6.7230000495910645, -6.723599910736084, -6.737800121307373, -6.766499996185303, -4.483099937438965, -5.683800220489502, -4.862500190734863, -4.888400077819824, -4.892600059509277, -5.682799816131592, -6.122300148010254, -4.488699913024902, -6.144100189208984, -5.4857001304626465, -5.287399768829346, -4.202700138092041, -5.682199954986572, -6.347499847412109, -5.249899864196777, -6.072199821472168, -5.417300224304199, -4.846099853515625, -5.33519983291626, -4.042900085449219, -4.786200046539307, -4.484899997711182, -4.641600131988525, -3.9602999687194824, -4.922599792480469, -5.376200199127197, -5.663099765777588, -5.3607001304626465, -5.513899803161621, -4.469600200653076, -4.657100200653076, -5.2677998542785645, -5.052999973297119, -5.3607001304626465, -5.352200031280518, -5.282400131225586, -5.220200061798096, -5.30620002746582, -5.435999870300293, -5.421899795532227, -5.62060022354126, -6.009300231933594, -6.0157999992370605, -6.258200168609619, -6.046199798583984, -6.2932000160217285, -6.6219000816345215, -6.623899936676025, -6.623899936676025, -6.626999855041504, -6.6346001625061035, -6.35290002822876, -6.645500183105469, -6.648200035095215, -6.650899887084961, -6.652400016784668, -6.652400016784668, -6.653500080108643, -6.654099941253662, -6.654300212860107, -6.655200004577637, -6.654699802398682, -6.655900001525879, -6.656300067901611, -6.656499862670898, -6.656700134277344, -6.657299995422363, -6.658100128173828, -6.6579999923706055, -6.659599781036377, -5.544099807739258, -5.7881999015808105, -5.514400005340576, -5.696100234985352, -6.262899875640869, -4.2845001220703125, -4.716700077056885, -6.305300235748291, -5.759300231933594, -5.600599765777588, -4.804299831390381, -4.893899917602539, -4.392600059509277, -5.352399826049805, -4.648600101470947, -5.702000141143799, -4.304299831390381, -4.795400142669678, -5.524400234222412, -4.679200172424316, -5.793300151824951, -4.508699893951416, -5.160999774932861, -4.4105000495910645, -4.571100234985352, -5.216899871826172, -5.460599899291992, -4.780399799346924, -4.867000102996826, -5.115099906921387, -4.9552998542785645, -4.882599830627441, -5.3821001052856445, -4.956399917602539, -5.207200050354004, -5.387899875640869, -5.4028000831604, -5.251800060272217, -5.3231000900268555, -5.362500190734863, -5.4405999183654785, -5.414400100708008, -5.421500205993652], \"loglift\": [30.0, 29.0, 28.0, 27.0, 26.0, 25.0, 24.0, 23.0, 22.0, 21.0, 20.0, 19.0, 18.0, 17.0, 16.0, 15.0, 14.0, 13.0, 12.0, 11.0, 10.0, 9.0, 8.0, 7.0, 6.0, 5.0, 4.0, 3.0, 2.0, 1.0, 0.7311000227928162, 0.7289000153541565, 0.7275000214576721, 0.7245000004768372, 0.7207000255584717, 0.7149999737739563, 0.7135999798774719, 0.7001000046730042, 0.7001000046730042, 0.6973000168800354, 0.6970000267028809, 0.6919999718666077, 0.6848999857902527, 0.6833000183105469, 0.6825000047683716, 0.6759999990463257, 0.6754999756813049, 0.6686999797821045, 0.6682000160217285, 0.6657999753952026, 0.6635000109672546, 0.6632999777793884, 0.6626999974250793, 0.6617000102996826, 0.6575000286102295, 0.6574000120162964, 0.6570000052452087, 0.6538000106811523, 0.6510999798774719, 0.6460999846458435, 0.6248999834060669, 0.6050999760627747, 0.6176000237464905, 0.5572999715805054, 0.5562999844551086, 0.6104999780654907, 0.6218000054359436, 0.5834000110626221, 0.564300000667572, 0.5232999920845032, 0.5860000252723694, 0.5763999819755554, 0.3953999876976013, 0.6129000186920166, 0.32679998874664307, 0.3718000054359436, 0.37700000405311584, 0.34150001406669617, 0.39739999175071716, 0.5453000068664551, 0.37610000371932983, 0.25360000133514404, 0.5063999891281128, 0.39730000495910645, 0.4043000042438507, 0.3149000108242035, 0.30970001220703125, 0.4480000138282776, 0.10480000078678131, 0.30709999799728394, 0.06480000168085098, 0.11710000038146973, 0.31949999928474426, 0.038600001484155655, 0.2167000025510788, 0.3580000102519989, 0.01720000058412552, -0.02410000003874302, 0.10279999673366547, 0.18299999833106995, -0.32659998536109924, -0.03680000081658363, 1.5575000047683716, 1.5012999773025513, 1.4666999578475952, 1.4577000141143799, 1.4499000310897827, 1.4490000009536743, 1.4488999843597412, 1.4478000402450562, 1.4390000104904175, 1.4319000244140625, 1.4229999780654907, 1.4138000011444092, 1.413100004196167, 1.4117000102996826, 1.4107999801635742, 1.4091999530792236, 1.4088000059127808, 1.4068000316619873, 1.4046000242233276, 1.403499960899353, 1.4017000198364258, 1.394700050354004, 1.3937000036239624, 1.3898999691009521, 1.3849999904632568, 1.384600043296814, 1.354099988937378, 1.3468999862670898, 1.3468999862670898, 1.3468999862670898, 1.3250000476837158, 1.2446000576019287, 1.1519999504089355, 1.1466000080108643, 1.1196999549865723, 1.1469000577926636, 0.7531999945640564, 0.8600000143051147, 1.1154999732971191, 0.6557000279426575, 0.4799000024795532, 0.7239999771118164, 1.0052000284194946, 1.2450000047683716, 0.7627000212669373, 0.08969999849796295, 0.6891999840736389, 0.27720001339912415, 0.30169999599456787, 0.4426000118255615, 0.17180000245571136, 0.7046999931335449, 0.6847000122070312, 0.7250000238418579, -0.14419999718666077, 0.6284999847412109, 0.33500000834465027, -0.02160000056028366, 0.532800018787384, -0.2556000053882599, -0.4018000066280365, 0.5781000256538391, -0.1371999979019165, 0.3569999933242798, -0.621399998664856, -0.9171000123023987, -0.2944999933242798, 0.13369999825954437, 1.659000039100647, 1.6054999828338623, 1.6009999513626099, 1.5993000268936157, 1.5887999534606934, 1.5743999481201172, 1.5723999738693237, 1.5720000267028809, 1.559999942779541, 1.55840003490448, 1.5577000379562378, 1.5576000213623047, 1.5546000003814697, 1.5542000532150269, 1.5535999536514282, 1.5460000038146973, 1.5407999753952026, 1.5393999814987183, 1.5365999937057495, 1.4997999668121338, 1.4962999820709229, 1.4946000576019287, 1.4907000064849854, 1.4905999898910522, 1.4903000593185425, 1.4895999431610107, 1.488700032234192, 1.4882999658584595, 1.4872000217437744, 1.4872000217437744, 1.4671000242233276, 1.44159996509552, 1.4395999908447266, 1.4664000272750854, 1.2836999893188477, 1.3775999546051025, 1.3020000457763672, 1.3875000476837158, 1.3420000076293945, 1.1332999467849731, 0.9710000157356262, 1.1369999647140503, 1.1325000524520874, 1.0859999656677246, 1.039199948310852, 1.0779999494552612, 1.1167999505996704, 1.06850004196167, 0.7512999773025513, 0.5604000091552734, 0.46860000491142273, 0.7947999835014343, 0.6409000158309937, 0.16619999706745148, 0.08869999647140503, 0.4259999990463257, 0.48660001158714294, 0.38670000433921814, -0.15649999678134918, 0.38119998574256897, 0.0737999975681305, -0.0908999964594841, 0.4706000089645386, 0.2890999913215637, -0.3393000066280365, -0.2985999882221222, 0.18209999799728394, -0.5307999849319458, -0.15049999952316284, 0.006899999920278788, -0.3005000054836273, -0.19509999454021454, -1.0988999605178833, -0.2996000051498413, -0.6693999767303467, -0.013199999928474426, 2.103600025177002, 2.0982000827789307, 2.0179998874664307, 2.017899990081787, 2.017899990081787, 1.9785000085830688, 1.970900058746338, 1.934499979019165, 1.919600009918213, 1.919600009918213, 1.9187999963760376, 1.8968000411987305, 1.8940999507904053, 1.8930000066757202, 1.892799973487854, 1.8911000490188599, 1.8903000354766846, 1.8884999752044678, 1.8875000476837158, 1.8873000144958496, 1.8869999647140503, 1.8854000568389893, 1.8842999935150146, 1.8832999467849731, 1.8813999891281128, 1.8808000087738037, 1.8797999620437622, 1.8640999794006348, 1.8325999975204468, 1.7992000579833984, 1.7883000373840332, 1.7511999607086182, 1.6794999837875366, 1.5450999736785889, 1.6750999689102173, 1.7551000118255615, 1.329200029373169, 1.7288999557495117, 1.5363999605178833, 1.4434000253677368, 1.0638999938964844, 1.5539000034332275, 1.7581000328063965, 1.351099967956543, 1.6502000093460083, 1.3705999851226807, 1.1275999546051025, 1.327299952507019, 0.7351999878883362, 1.006700038909912, 0.8277999758720398, 0.8425999879837036, 0.4117000102996826, 0.9253000020980835, 1.1829999685287476, 1.3739999532699585, 1.0612000226974487, 1.0914000272750854, -0.23510000109672546, -0.6129000186920166, 0.4171000123023987, -0.43639999628067017, 0.3409000039100647, 0.25290000438690186, -0.24549999833106995, -0.7125999927520752, -0.3555999994277954, 0.42969998717308044, -0.5691999793052673, 2.135200023651123, 2.0768001079559326, 2.0699000358581543, 2.0485000610351562, 2.0285000801086426, 2.0065999031066895, 1.9651000499725342, 1.9629000425338745, 1.9629000425338745, 1.9594999551773071, 1.9500000476837158, 1.9427000284194946, 1.94159996509552, 1.936900019645691, 1.933899998664856, 1.9323999881744385, 1.9320000410079956, 1.9312000274658203, 1.9301999807357788, 1.9301999807357788, 1.929800033569336, 1.9297000169754028, 1.9285000562667847, 1.9280999898910522, 1.9279999732971191, 1.927899956703186, 1.9270000457763672, 1.9261000156402588, 1.9259999990463257, 1.924399971961975, 1.840499997138977, 1.7964999675750732, 1.6187000274658203, 1.6531000137329102, 1.8005000352859497, 0.7524999976158142, 0.8636999726295471, 1.7308000326156616, 1.371899962425232, 1.2015999555587769, 0.6431999802589417, 0.5902000069618225, 0.11509999632835388, 0.8826000094413757, 0.2831000089645386, 1.1305999755859375, -0.0697999969124794, 0.3540000021457672, 0.9624999761581421, 0.1736000031232834, 1.156999945640564, -0.13670000433921814, 0.499099999666214, -0.36629998683929443, -0.2502000033855438, 0.46799999475479126, 0.7713000178337097, -0.16369999945163727, -0.08889999985694885, 0.19110000133514404, -0.09359999746084213, -0.24240000545978546, 0.5916000008583069, -0.42800000309944153, 0.03819999843835831, 0.5001999735832214, 0.39399999380111694, -0.3010999858379364, -0.17309999465942383, -0.02889999933540821, 0.3772999942302704, -0.42640000581741333, -0.8222000002861023]}, \"token.table\": {\"Topic\": [1, 2, 3, 5, 1, 3, 5, 1, 4, 2, 4, 2, 3, 4, 1, 2, 3, 4, 5, 1, 2, 3, 4, 1, 2, 3, 4, 5, 1, 1, 2, 3, 4, 2, 1, 2, 3, 5, 1, 2, 3, 4, 2, 3, 1, 1, 2, 3, 4, 5, 1, 2, 4, 1, 2, 3, 4, 5, 1, 2, 1, 3, 4, 1, 2, 3, 4, 5, 5, 4, 5, 4, 3, 5, 5, 2, 1, 2, 3, 4, 5, 1, 2, 3, 4, 1, 2, 3, 4, 5, 3, 4, 3, 1, 2, 3, 4, 3, 4, 5, 1, 2, 3, 4, 5, 1, 2, 3, 4, 5, 1, 2, 4, 1, 2, 1, 2, 3, 5, 1, 2, 3, 4, 5, 2, 2, 5, 2, 3, 3, 3, 1, 1, 2, 3, 4, 5, 3, 3, 5, 3, 1, 2, 3, 4, 5, 4, 3, 1, 2, 3, 4, 5, 5, 1, 2, 4, 1, 2, 3, 4, 5, 5, 2, 3, 4, 5, 5, 4, 2, 2, 4, 2, 4, 4, 2, 3, 1, 2, 3, 4, 5, 2, 4, 5, 5, 3, 1, 1, 3, 4, 5, 3, 1, 2, 3, 4, 5, 4, 1, 2, 3, 4, 1, 3, 5, 1, 3, 5, 1, 2, 3, 4, 5, 3, 1, 2, 1, 2, 3, 4, 5, 2, 5, 4, 1, 3, 4, 5, 1, 2, 3, 4, 5, 1, 3, 5, 3, 1, 3, 4, 2, 4, 1, 2, 3, 4, 5, 5, 2, 2, 1, 3, 5, 5, 1, 2, 3, 4, 1, 2, 3, 4, 5, 1, 2, 3, 5, 2, 1, 2, 3, 4, 5, 1, 2, 3, 5, 1, 2, 3, 4, 5, 5, 1, 2, 3, 4, 5, 1, 2, 3, 1, 2, 3, 4, 5, 1, 2, 3, 4, 5, 3, 2, 1, 5, 3, 3, 1, 4, 5, 1, 2, 5, 1, 5, 1, 2, 3, 4, 5, 1, 2, 3, 4, 5, 1, 2, 3, 4, 5, 5, 1, 4, 1, 2, 3, 4, 5, 4, 4, 1, 5, 1, 2, 3, 4, 5, 2, 5, 1, 1, 3, 4, 1, 2, 3, 4, 5, 3, 4, 2, 1, 5, 1, 3, 1, 1, 2, 3, 4, 1, 2, 3, 4, 5, 1, 2, 3, 5, 2, 5, 1, 2, 3, 4, 5, 1, 2, 3, 4, 5, 4, 1, 5, 1, 2, 3, 2, 4, 4, 1, 2, 3, 5, 5, 3, 4, 2, 2, 3, 4, 5, 1, 4, 1, 2, 4, 1, 2, 3, 4, 5, 2, 1, 3, 4, 5, 3, 5, 1, 2, 3, 4, 1, 2, 3, 4, 5, 4, 1, 2, 1, 2, 5, 1, 2, 3, 1, 2, 1, 5, 1, 3, 5, 1, 2, 4, 1, 2, 3, 4, 5, 1, 2, 3, 4, 5, 1, 2, 4, 5, 1, 1, 2, 3, 1, 2, 3, 4, 5, 1, 2, 3, 4, 5, 1, 3, 4, 5, 1, 2, 3, 4, 5, 1, 2, 4, 5, 1, 2, 3, 4, 5, 1, 3, 3, 1, 2, 3, 4, 5, 1, 2, 3, 4, 5, 1, 2, 3, 4, 5, 4, 4, 4, 5, 1, 2, 5, 5, 5, 1, 2, 3, 4, 5, 5, 1, 2, 3, 1, 2, 1, 1, 2, 4, 2, 1, 1, 2, 3, 4, 5, 3, 1, 2, 1, 2, 3, 4, 5, 1, 2, 3, 4, 5, 1, 2, 3, 4, 5, 3, 2, 1, 2, 4, 1, 2, 3, 3, 4, 1, 2, 3, 4, 5, 3, 1, 5, 3, 1, 2, 3, 4, 1, 3, 4, 1, 4, 1, 2, 3, 4, 5, 1, 1, 1, 2, 3, 4, 5, 1, 2, 3, 4, 5, 5, 1, 2, 3, 4, 1, 2, 3, 4, 5, 2, 1, 2, 3, 4, 5, 1, 2, 3, 4, 5, 3, 1, 2, 3, 1, 2, 3, 4, 5, 1, 2, 3, 4, 5, 1, 2, 1, 2, 3, 1, 3, 5, 2, 1, 3, 5, 1, 1, 4, 1, 4, 1, 2, 3, 4, 5, 1, 1, 2, 3, 4, 5, 3, 1, 2, 3, 4, 5, 1, 3, 1, 2, 4, 5, 1, 2, 3, 4, 5, 1, 2, 3, 4, 5, 1, 1, 3, 1, 3, 4, 5], \"Freq\": [0.38359910249710083, 0.38359910249710083, 0.17436322569847107, 0.034872643649578094, 0.12295635789632797, 0.24591271579265594, 0.4918254315853119, 0.8613975644111633, 0.8629890084266663, 0.6682305335998535, 0.16705763339996338, 0.19584451615810394, 0.7833780646324158, 0.8625654578208923, 0.5451586246490479, 0.08518104255199432, 0.2214706987142563, 0.08518104255199432, 0.06814482808113098, 0.446440726518631, 0.16741527616977692, 0.05580509081482887, 0.33483055233955383, 0.651411771774292, 0.14709298312664032, 0.14709298312664032, 0.04202656447887421, 0.021013282239437103, 0.8569838404655457, 0.7423613667488098, 0.13675078749656677, 0.11721495538949966, 0.863705575466156, 0.7601087689399719, 0.07273805886507034, 0.5819044709205627, 0.21821418404579163, 0.14547611773014069, 0.08461020141839981, 0.25383061170578003, 0.042305100709199905, 0.6345764994621277, 0.9194907546043396, 0.8433293700218201, 0.8582813143730164, 0.524212121963501, 0.0838739424943924, 0.062905453145504, 0.1048424243927002, 0.23065334558486938, 0.20037196576595306, 0.7346972227096558, 0.06679065525531769, 0.41131988167762756, 0.34276658296585083, 0.06855331361293793, 0.10282997041940689, 0.034276656806468964, 0.8006541728973389, 0.13344235718250275, 0.4674795866012573, 0.1753048449754715, 0.292174756526947, 0.589766263961792, 0.09829437732696533, 0.1638239622116089, 0.049147188663482666, 0.09829437732696533, 0.8457422852516174, 0.7583282589912415, 0.8455368876457214, 0.8634089231491089, 0.8833574652671814, 0.7620527148246765, 0.8456013202667236, 0.7632114291191101, 0.31962481141090393, 0.25381970405578613, 0.12220948934555054, 0.2162167876958847, 0.09400729835033417, 0.8072140216827393, 0.05381426960229874, 0.05381426960229874, 0.05381426960229874, 0.08778169751167297, 0.17556339502334595, 0.6144719123840332, 0.13167254626750946, 0.04389084875583649, 0.18529674410820007, 0.7411869764328003, 0.884997546672821, 0.05134255439043045, 0.3080553412437439, 0.5134255290031433, 0.1026851087808609, 0.7897329926490784, 0.5239476561546326, 0.2619738280773163, 0.4262217879295349, 0.1461331844329834, 0.13395541906356812, 0.08524435758590698, 0.20702201128005981, 0.49057307839393616, 0.26572707295417786, 0.14308381080627441, 0.010220272466540337, 0.09198245406150818, 0.9553240537643433, 0.8185771107673645, 0.8606528043746948, 0.29645586013793945, 0.5929117202758789, 0.39855772256851196, 0.39855772256851196, 0.11956731230020523, 0.03985577076673508, 0.47821736335754395, 0.14346520602703094, 0.19128695130348206, 0.047821737825870514, 0.12752462923526764, 0.8632473945617676, 0.7646899223327637, 0.6336212158203125, 0.19568955898284912, 0.7827582359313965, 0.8836819529533386, 0.8860687613487244, 0.8267050981521606, 0.27280718088150024, 0.40921077132225037, 0.10230269283056259, 0.17050448060035706, 0.03410089761018753, 0.886062741279602, 0.6015856266021729, 0.20052854716777802, 0.7895779013633728, 0.20690107345581055, 0.1609230488538742, 0.43679115176200867, 0.09195603430271149, 0.09195603430271149, 0.8619233965873718, 0.7896407842636108, 0.23423634469509125, 0.380634069442749, 0.14639772474765778, 0.17567725479602814, 0.08783862739801407, 0.8453536033630371, 0.08865748345851898, 0.4432874321937561, 0.4432874321937561, 0.30471891164779663, 0.13331452012062073, 0.15235945582389832, 0.24758410453796387, 0.1714043915271759, 0.8460190296173096, 0.11785199493169785, 0.11785199493169785, 0.5892599821090698, 0.11785199493169785, 0.8456882238388062, 0.8664253354072571, 0.8619483113288879, 0.8625693917274475, 0.8627743124961853, 0.68514484167099, 0.8623484373092651, 0.6570577621459961, 0.1068529412150383, 0.8548235297203064, 0.155738964676857, 0.41530388593673706, 0.05191298574209213, 0.10382597148418427, 0.25956493616104126, 0.1274021714925766, 0.1274021714925766, 0.6370108127593994, 0.9232026934623718, 0.8863687515258789, 0.8575426936149597, 0.9048171043395996, 0.03933987393975258, 0.03933987393975258, 0.01966993696987629, 0.7071582078933716, 0.2451394498348236, 0.3064242899417877, 0.09192728996276855, 0.2911030948162079, 0.0612848624587059, 0.42910176515579224, 0.356904000043869, 0.356904000043869, 0.16222909092903137, 0.09733745455741882, 0.5987930297851562, 0.2343102991580963, 0.156206876039505, 0.3803548812866211, 0.5071398615837097, 0.12678496539592743, 0.5289735198020935, 0.13224337995052338, 0.24559485912322998, 0.037783823907375336, 0.056675735861063004, 0.8871287703514099, 0.848825991153717, 0.07073549926280975, 0.599598228931427, 0.12264509499073029, 0.09539063274860382, 0.040881697088479996, 0.13627232611179352, 0.7273529171943665, 0.14547057449817657, 0.8628478050231934, 0.30414533615112305, 0.4866325557231903, 0.06082906946539879, 0.12165813893079758, 0.4799900949001312, 0.15999670326709747, 0.31999340653419495, 0.05333223193883896, 0.02666611596941948, 0.788607656955719, 0.09857595711946487, 0.09857595711946487, 0.886140763759613, 0.783605694770813, 0.09795071184635162, 0.04897535592317581, 0.7689549326896667, 0.8633655905723572, 0.42952194809913635, 0.16807380318641663, 0.2614481449127197, 0.07469946891069412, 0.0933743342757225, 0.8460800051689148, 0.8640326261520386, 0.8614603281021118, 0.7760483622550964, 0.17245519161224365, 0.04311379790306091, 0.8456664085388184, 0.4378209412097931, 0.09729354083538055, 0.14594031870365143, 0.29188063740730286, 0.3809635043144226, 0.322353720664978, 0.11721953749656677, 0.14652441442012787, 0.029304884374141693, 0.302750825881958, 0.454126238822937, 0.18165048956871033, 0.03027508221566677, 0.8638002276420593, 0.7596388459205627, 0.055855799466371536, 0.03351347893476486, 0.06702695786952972, 0.07819811999797821, 0.3667462468147278, 0.0733492523431778, 0.2200477421283722, 0.2933970093727112, 0.3631627857685089, 0.040351420640945435, 0.28245994448661804, 0.08070284128189087, 0.2421085238456726, 0.8477538824081421, 0.38686975836753845, 0.1582649052143097, 0.28135982155799866, 0.08792494237422943, 0.07033995538949966, 0.3198324739933014, 0.39979058504104614, 0.26652705669403076, 0.6271302700042725, 0.050170425325632095, 0.22576691210269928, 0.025085212662816048, 0.0752556324005127, 0.7625885605812073, 0.06289390474557877, 0.08647911250591278, 0.039308689534664154, 0.047170426696538925, 0.7068586945533752, 0.8642101883888245, 0.9315598607063293, 0.8480749726295471, 0.7896588444709778, 0.8862887024879456, 0.20852069556713104, 0.6255620718002319, 0.846284806728363, 0.2516324520111084, 0.629081130027771, 0.8456377387046814, 0.39627528190612793, 0.4953441023826599, 0.14363758265972137, 0.14363758265972137, 0.4787919521331787, 0.14363758265972137, 0.09575838595628738, 0.6018133163452148, 0.12895998358726501, 0.10746666043996811, 0.12895998358726501, 0.02149333246052265, 0.6595942378044128, 0.10993237048387527, 0.13191884756088257, 0.021986473351716995, 0.06595942378044128, 0.845919132232666, 0.16041895747184753, 0.6416758298873901, 0.2888087332248688, 0.41716817021369934, 0.01604492962360382, 0.2406739443540573, 0.04813478887081146, 0.8639931678771973, 0.8633350729942322, 0.8556131720542908, 0.8474879860877991, 0.6091664433479309, 0.21208016574382782, 0.054148126393556595, 0.054148126393556595, 0.06768515706062317, 0.818133533000946, 0.13635559380054474, 0.8575178980827332, 0.17858336865901947, 0.17858336865901947, 0.5357500910758972, 0.6371235251426697, 0.10252562910318375, 0.1830814778804779, 0.014646518044173717, 0.06590933352708817, 0.8836454153060913, 0.866425633430481, 0.7689521908760071, 0.9296780824661255, 0.7707532644271851, 0.14576877653598785, 0.7288438677787781, 0.9291447997093201, 0.28277140855789185, 0.49484995007514954, 0.14138570427894592, 0.07069285213947296, 0.45580780506134033, 0.19245217740535736, 0.18232311308383942, 0.06077437475323677, 0.12154874950647354, 0.7386619448661804, 0.07034875452518463, 0.07034875452518463, 0.10552313178777695, 0.3112232983112335, 0.622446596622467, 0.4874846935272217, 0.22343048453330994, 0.18280676007270813, 0.06093558669090271, 0.020311862230300903, 0.4970630407333374, 0.14201802015304565, 0.1656876802444458, 0.14201802015304565, 0.047339338809251785, 0.8629913330078125, 0.8372025489807129, 0.11960036307573318, 0.1442892700433731, 0.1442892700433731, 0.5771570801734924, 0.8634184002876282, 0.8628066778182983, 0.8630450367927551, 0.7818734645843506, 0.18243713676929474, 0.02606244757771492, 0.02606244757771492, 0.845443844795227, 0.18707235157489777, 0.7482894062995911, 0.862206220626831, 0.17997629940509796, 0.26996445655822754, 0.4499407410621643, 0.17997629940509796, 0.43921372294425964, 0.43921372294425964, 0.8118970990180969, 0.0773235335946083, 0.0773235335946083, 0.19034409523010254, 0.5710322856903076, 0.12689606845378876, 0.06344803422689438, 0.06344803422689438, 0.8663108348846436, 0.3557703197002411, 0.14230813086032867, 0.21346218883991241, 0.3557703197002411, 0.25113898515701294, 0.5022779703140259, 0.18176932632923126, 0.09088466316461563, 0.6361926794052124, 0.18176932632923126, 0.3107326030731201, 0.15536630153656006, 0.03107326105237007, 0.3107326030731201, 0.18643955886363983, 0.8663342595100403, 0.16179856657981873, 0.6471942663192749, 0.8588593602180481, 0.8618691563606262, 0.8478839993476868, 0.3703145980834961, 0.6480505466461182, 0.8818649053573608, 0.05167970806360245, 0.9302347302436829, 0.2443775087594986, 0.4887550175189972, 0.2768511176109314, 0.4983319938182831, 0.16611066460609436, 0.24807709455490112, 0.12403854727745056, 0.49615418910980225, 0.618901789188385, 0.1666274070739746, 0.11901957541704178, 0.017852935940027237, 0.07736272364854813, 0.3633311092853546, 0.1816655546426773, 0.20437374711036682, 0.09083277732133865, 0.1589573621749878, 0.39548736810684204, 0.09887184202671051, 0.09887184202671051, 0.39548736810684204, 0.8939779996871948, 0.7829290628433228, 0.028997372835874557, 0.14498686790466309, 0.4200441539287567, 0.15001577138900757, 0.27002838253974915, 0.06000630557537079, 0.10501103848218918, 0.32183921337127686, 0.28160932660102844, 0.12068970501422882, 0.08045980334281921, 0.20114950835704803, 0.3306085169315338, 0.4959127604961395, 0.0551014170050621, 0.1653042584657669, 0.4494273364543915, 0.31788763403892517, 0.06576985865831375, 0.04384656995534897, 0.1315397173166275, 0.33772286772727966, 0.056287143379449844, 0.5628714561462402, 0.056287143379449844, 0.4719538688659668, 0.23197732865810394, 0.15198515355587006, 0.06399374455213547, 0.08799140155315399, 0.8842725157737732, 0.08842725306749344, 0.5896431803703308, 0.292483925819397, 0.159536674618721, 0.026589447632431984, 0.3988417088985443, 0.13294723629951477, 0.6387919187545776, 0.057327479124069214, 0.1965513527393341, 0.03275856003165245, 0.08189640194177628, 0.644507646560669, 0.16428625583648682, 0.08846183121204376, 0.03791221231222153, 0.06318702548742294, 0.6570587754249573, 0.7578366994857788, 0.6539064645767212, 0.6362122893333435, 0.8578723669052124, 0.9186514616012573, 0.8477466106414795, 0.7704710960388184, 0.6406868696212769, 0.19768227636814117, 0.24710285663604736, 0.049420569092035294, 0.4942057132720947, 0.049420569092035294, 0.8457725644111633, 0.5656532049179077, 0.059542443603277206, 0.35725465416908264, 0.8001819252967834, 0.13336364924907684, 0.8568761348724365, 0.463748574256897, 0.0662497952580452, 0.463748574256897, 0.9183881878852844, 0.8900327682495117, 0.20746682584285736, 0.2852668762207031, 0.20746682584285736, 0.2852668762207031, 0.02593335323035717, 0.7887188792228699, 0.14200814068317413, 0.8520488739013672, 0.21034832298755646, 0.21034832298755646, 0.4732837378978729, 0.052587080746889114, 0.8460575938224792, 0.3512180745601654, 0.1951211541891098, 0.3512180745601654, 0.0390242300927639, 0.0390242300927639, 0.6493609547615051, 0.11595731228590012, 0.1275530457496643, 0.046382926404476166, 0.06957438588142395, 0.7896065711975098, 0.8632163405418396, 0.4208431839942932, 0.1402810662984848, 0.4208431839942932, 0.0757092535495758, 0.7570925354957581, 0.0757092535495758, 0.7895928621292114, 0.657059907913208, 0.08251601457595825, 0.24754804372787476, 0.24754804372787476, 0.1650320291519165, 0.330064058303833, 0.7898164987564087, 0.7971783876419067, 0.1449415236711502, 0.7895302176475525, 0.17455589771270752, 0.17455589771270752, 0.23274119198322296, 0.4072970747947693, 0.5569029450416565, 0.061878107488155365, 0.371268630027771, 0.7811231017112732, 0.15622462332248688, 0.31853872537612915, 0.06370774656534195, 0.5096619725227356, 0.06370774656534195, 0.8459459543228149, 0.9280137419700623, 0.8983145356178284, 0.33161526918411255, 0.2763460576534271, 0.23949992656707764, 0.05526921525597572, 0.0921153575181961, 0.5999559760093689, 0.08181218057870865, 0.1636243611574173, 0.06817681342363358, 0.08181218057870865, 0.8462128043174744, 0.0957144945859909, 0.574286937713623, 0.2871434688568115, 0.8623672723770142, 0.3068206012248993, 0.25103503465652466, 0.1673566848039627, 0.1673566848039627, 0.11157112568616867, 0.9176657199859619, 0.5360777974128723, 0.08934629708528519, 0.26803889870643616, 0.022336574271321297, 0.08934629708528519, 0.19846874475479126, 0.3969374895095825, 0.2977031171321869, 0.09923437237739563, 0.03307812288403511, 0.8875589370727539, 0.7458480000495911, 0.04143599793314934, 0.16574399173259735, 0.5666634440422058, 0.15063205361366272, 0.1219402402639389, 0.05021068826317787, 0.11476728320121765, 0.3753593862056732, 0.1642197221517563, 0.258059561252594, 0.11729980260133743, 0.07037988305091858, 0.8985337018966675, 0.08168487995862961, 0.19393883645534515, 0.19393883645534515, 0.5818164944648743, 0.8894450068473816, 0.7098129391670227, 0.8457635641098022, 0.918232262134552, 0.832195520401001, 0.885789692401886, 0.8457676768302917, 0.9152511358261108, 0.2076052725315094, 0.6228157877922058, 0.2780623137950897, 0.5561246275901794, 0.4109780192375183, 0.1369926780462265, 0.10959413647651672, 0.24658681452274323, 0.08219560235738754, 0.8516027927398682, 0.3672061562538147, 0.3672061562538147, 0.055080924183130264, 0.018360307440161705, 0.18360307812690735, 0.8863015174865723, 0.4190486669540405, 0.13968288898468018, 0.11640240997076035, 0.1629633754491806, 0.1629633754491806, 0.2547292113304138, 0.6368229985237122, 0.7986891865730286, 0.02281969040632248, 0.09127876162528992, 0.09127876162528992, 0.6495493650436401, 0.07641757279634476, 0.09825116395950317, 0.08187597244977951, 0.09279276430606842, 0.4885178208351135, 0.13152402639389038, 0.14405012130737305, 0.1565762311220169, 0.08768268674612045, 0.8565093278884888, 0.16651663184165955, 0.6660665273666382, 0.684593141078949, 0.11409885436296463, 0.028524713590741158, 0.17114828526973724], \"Term\": [\"able\", \"able\", \"able\", \"able\", \"absolutely\", \"absolutely\", \"absolutely\", \"accepted\", \"accuse\", \"actual\", \"actual\", \"address\", \"address\", \"admin\", \"always\", \"always\", \"always\", \"always\", \"always\", \"amount\", \"amount\", \"amount\", \"amount\", \"answer\", \"answer\", \"answer\", \"answer\", \"answer\", \"antebellum\", \"anyone\", \"anyone\", \"anyone\", \"anytime\", \"apparently\", \"application\", \"application\", \"application\", \"application\", \"appraisal\", \"appraisal\", \"appraisal\", \"appraisal\", \"appraise\", \"approve\", \"assessment\", \"bank\", \"bank\", \"bank\", \"bank\", \"bank\", \"barrett\", \"barrett\", \"barrett\", \"begin\", \"begin\", \"begin\", \"begin\", \"begin\", \"believe\", \"believe\", \"beneficial\", \"beneficial\", \"beneficial\", \"best\", \"best\", \"best\", \"best\", \"best\", \"block\", \"bos\", \"brand\", \"brokerage\", \"brought\", \"builder\", \"bureaucracy\", \"busy\", \"call\", \"call\", \"call\", \"call\", \"call\", \"cant\", \"cant\", \"cant\", \"cant\", \"care\", \"care\", \"care\", \"care\", \"care\", \"carrion\", \"carrion\", \"chaz\", \"check\", \"check\", \"check\", \"check\", \"clarity\", \"class\", \"class\", \"close\", \"close\", \"close\", \"close\", \"close\", \"closing\", \"closing\", \"closing\", \"closing\", \"closing\", \"comfortable\", \"commit\", \"commitment\", \"communicate\", \"communicate\", \"communication\", \"communication\", \"communication\", \"communication\", \"company\", \"company\", \"company\", \"company\", \"company\", \"competent\", \"competitive\", \"complaint\", \"concern\", \"concern\", \"congratulation\", \"consent\", \"consultant\", \"contact\", \"contact\", \"contact\", \"contact\", \"contact\", \"coordinate\", \"copy\", \"copy\", \"costeffective\", \"could\", \"could\", \"could\", \"could\", \"could\", \"courtesy\", \"credible\", \"credit\", \"credit\", \"credit\", \"credit\", \"credit\", \"crew\", \"current\", \"current\", \"current\", \"customer\", \"customer\", \"customer\", \"customer\", \"customer\", \"cycle\", \"dallas\", \"dallas\", \"dallas\", \"dallas\", \"dedicate\", \"deff\", \"definite\", \"disappear\", \"disappoint\", \"disorganize\", \"displeasure\", \"disturb\", \"doc\", \"doc\", \"document\", \"document\", \"document\", \"document\", \"document\", \"documentation\", \"documentation\", \"documentation\", \"donna\", \"drive\", \"easily\", \"easy\", \"easy\", \"easy\", \"easy\", \"effective\", \"email\", \"email\", \"email\", \"email\", \"email\", \"emailedand\", \"even\", \"even\", \"even\", \"even\", \"every\", \"every\", \"every\", \"everyone\", \"everyone\", \"everyone\", \"everything\", \"everything\", \"everything\", \"everything\", \"everything\", \"exactly\", \"expect\", \"expect\", \"experience\", \"experience\", \"experience\", \"experience\", \"experience\", \"expire\", \"expire\", \"extort\", \"extra\", \"extra\", \"extra\", \"extra\", \"extremely\", \"extremely\", \"extremely\", \"extremely\", \"extremely\", \"family\", \"family\", \"family\", \"fedex\", \"felt\", \"felt\", \"felt\", \"ferrell\", \"figure\", \"first\", \"first\", \"first\", \"first\", \"first\", \"flow\", \"forgot\", \"form\", \"friend\", \"friend\", \"friend\", \"fulltime\", \"future\", \"future\", \"future\", \"future\", \"give\", \"give\", \"give\", \"give\", \"give\", \"good\", \"good\", \"good\", \"good\", \"goodness\", \"great\", \"great\", \"great\", \"great\", \"great\", \"guaranteed\", \"guaranteed\", \"guaranteed\", \"guaranteed\", \"hard\", \"hard\", \"hard\", \"hard\", \"hard\", \"hardworking\", \"help\", \"help\", \"help\", \"help\", \"help\", \"helpful\", \"helpful\", \"helpful\", \"highly\", \"highly\", \"highly\", \"highly\", \"highly\", \"home\", \"home\", \"home\", \"home\", \"home\", \"household\", \"idea\", \"impressed\", \"increase\", \"individual\", \"info\", \"instruct\", \"instruct\", \"intuition\", \"item\", \"item\", \"jacob\", \"jocovic\", \"jocovic\", \"kept\", \"kept\", \"kept\", \"kept\", \"kept\", \"know\", \"know\", \"know\", \"know\", \"know\", \"knowledgeable\", \"knowledgeable\", \"knowledgeable\", \"knowledgeable\", \"knowledgeable\", \"leehy\", \"left\", \"left\", \"lender\", \"lender\", \"lender\", \"lender\", \"lender\", \"lendingtree\", \"length\", \"level\", \"lisa\", \"loan\", \"loan\", \"loan\", \"loan\", \"loan\", \"lock\", \"lock\", \"madewell\", \"mail\", \"mail\", \"mail\", \"make\", \"make\", \"make\", \"make\", \"make\", \"marcos\", \"marcus\", \"member\", \"mention\", \"michael\", \"mile\", \"mile\", \"military\", \"minute\", \"minute\", \"minute\", \"minute\", \"mortgage\", \"mortgage\", \"mortgage\", \"mortgage\", \"mortgage\", \"much\", \"much\", \"much\", \"much\", \"name\", \"name\", \"need\", \"need\", \"need\", \"need\", \"need\", \"never\", \"never\", \"never\", \"never\", \"never\", \"nominal\", \"north\", \"north\", \"note\", \"note\", \"note\", \"notification\", \"obligation\", \"occur\", \"officer\", \"officer\", \"officer\", \"officer\", \"opportune\", \"originally\", \"originally\", \"owen\", \"paid\", \"paid\", \"paid\", \"paid\", \"pay\", \"pay\", \"payment\", \"payment\", \"payment\", \"people\", \"people\", \"people\", \"people\", \"people\", \"perfectly\", \"person\", \"person\", \"person\", \"person\", \"personable\", \"personable\", \"personal\", \"personal\", \"personal\", \"personal\", \"phone\", \"phone\", \"phone\", \"phone\", \"phone\", \"pitch\", \"please\", \"please\", \"pleased\", \"plus\", \"podorson\", \"point\", \"point\", \"polite\", \"poor\", \"poor\", \"position\", \"position\", \"possible\", \"possible\", \"possible\", \"potential\", \"potential\", \"potential\", \"process\", \"process\", \"process\", \"process\", \"process\", \"professional\", \"professional\", \"professional\", \"professional\", \"professional\", \"professionalism\", \"professionalism\", \"professionalism\", \"professionalism\", \"promptly\", \"purchase\", \"purchase\", \"purchase\", \"question\", \"question\", \"question\", \"question\", \"question\", \"quick\", \"quick\", \"quick\", \"quick\", \"quick\", \"quickly\", \"quickly\", \"quickly\", \"quickly\", \"rate\", \"rate\", \"rate\", \"rate\", \"rate\", \"reach\", \"reach\", \"reach\", \"reach\", \"read\", \"read\", \"read\", \"read\", \"read\", \"realtor\", \"realtor\", \"reassure\", \"receive\", \"receive\", \"receive\", \"receive\", \"receive\", \"recommend\", \"recommend\", \"recommend\", \"recommend\", \"recommend\", \"refinance\", \"refinance\", \"refinance\", \"refinance\", \"refinance\", \"register\", \"reimburse\", \"relationship\", \"rental\", \"repeatedly\", \"reply\", \"represent\", \"respectable\", \"respectful\", \"response\", \"response\", \"response\", \"response\", \"response\", \"responsible\", \"responsive\", \"responsive\", \"responsive\", \"responsiveness\", \"responsiveness\", \"retirement\", \"review\", \"review\", \"review\", \"round\", \"rush\", \"say\", \"say\", \"say\", \"say\", \"say\", \"scott\", \"select\", \"select\", \"send\", \"send\", \"send\", \"send\", \"sensitivity\", \"sent\", \"sent\", \"sent\", \"sent\", \"sent\", \"service\", \"service\", \"service\", \"service\", \"service\", \"servicer\", \"settlement\", \"show\", \"show\", \"show\", \"sign\", \"sign\", \"sign\", \"sincerest\", \"site\", \"situation\", \"situation\", \"situation\", \"situation\", \"situation\", \"skill\", \"smoothly\", \"smoothly\", \"solution\", \"spoke\", \"spoke\", \"spoke\", \"spoke\", \"state\", \"state\", \"state\", \"stephanie\", \"stephanie\", \"stressful\", \"stressful\", \"stressful\", \"stressful\", \"stumble\", \"surprise\", \"system\", \"take\", \"take\", \"take\", \"take\", \"take\", \"team\", \"team\", \"team\", \"team\", \"team\", \"technology\", \"term\", \"term\", \"term\", \"terribly\", \"thank\", \"thank\", \"thank\", \"thank\", \"thank\", \"thankfully\", \"thanks\", \"thanks\", \"thanks\", \"thanks\", \"thanks\", \"them\", \"them\", \"them\", \"them\", \"them\", \"thomka\", \"throughout\", \"throughout\", \"throughout\", \"time\", \"time\", \"time\", \"time\", \"time\", \"told\", \"told\", \"told\", \"told\", \"told\", \"total\", \"total\", \"touch\", \"touch\", \"touch\", \"tough\", \"transcript\", \"turnaround\", \"unless\", \"unlike\", \"unpacked\", \"uploaded\", \"various\", \"voice\", \"voice\", \"voicemail\", \"voicemail\", \"want\", \"want\", \"want\", \"want\", \"want\", \"website\", \"week\", \"week\", \"week\", \"week\", \"week\", \"weeksit\", \"well\", \"well\", \"well\", \"well\", \"well\", \"while\", \"while\", \"with\", \"with\", \"with\", \"with\", \"work\", \"work\", \"work\", \"work\", \"work\", \"would\", \"would\", \"would\", \"would\", \"would\", \"wouldn\", \"wrong\", \"wrong\", \"year\", \"year\", \"year\", \"year\"]}, \"R\": 30, \"lambda.step\": 0.01, \"plot.opts\": {\"xlab\": \"PC1\", \"ylab\": \"PC2\"}, \"topic.order\": [2, 3, 1, 4, 5]};\n",
       "\n",
       "function LDAvis_load_lib(url, callback){\n",
       "  var s = document.createElement('script');\n",
       "  s.src = url;\n",
       "  s.async = true;\n",
       "  s.onreadystatechange = s.onload = callback;\n",
       "  s.onerror = function(){console.warn(\"failed to load library \" + url);};\n",
       "  document.getElementsByTagName(\"head\")[0].appendChild(s);\n",
       "}\n",
       "\n",
       "if(typeof(LDAvis) !== \"undefined\"){\n",
       "   // already loaded: just create the visualization\n",
       "   !function(LDAvis){\n",
       "       new LDAvis(\"#\" + \"ldavis_el717627621076662489600937174\", ldavis_el717627621076662489600937174_data);\n",
       "   }(LDAvis);\n",
       "}else if(typeof define === \"function\" && define.amd){\n",
       "   // require.js is available: use it to load d3/LDAvis\n",
       "   require.config({paths: {d3: \"https://cdnjs.cloudflare.com/ajax/libs/d3/3.5.5/d3.min\"}});\n",
       "   require([\"d3\"], function(d3){\n",
       "      window.d3 = d3;\n",
       "      LDAvis_load_lib(\"https://cdn.rawgit.com/bmabey/pyLDAvis/files/ldavis.v1.0.0.js\", function(){\n",
       "        new LDAvis(\"#\" + \"ldavis_el717627621076662489600937174\", ldavis_el717627621076662489600937174_data);\n",
       "      });\n",
       "    });\n",
       "}else{\n",
       "    // require.js not available: dynamically load d3 & LDAvis\n",
       "    LDAvis_load_lib(\"https://cdnjs.cloudflare.com/ajax/libs/d3/3.5.5/d3.min.js\", function(){\n",
       "         LDAvis_load_lib(\"https://cdn.rawgit.com/bmabey/pyLDAvis/files/ldavis.v1.0.0.js\", function(){\n",
       "                 new LDAvis(\"#\" + \"ldavis_el717627621076662489600937174\", ldavis_el717627621076662489600937174_data);\n",
       "            })\n",
       "         });\n",
       "}\n",
       "</script>"
      ],
      "text/plain": [
       "PreparedData(topic_coordinates=              x         y  topics  cluster       Freq\n",
       "topic                                                \n",
       "1      0.050366  0.060882       1        1  43.864525\n",
       "2     -0.017522 -0.092655       2        1  19.395967\n",
       "0      0.062353 -0.016926       3        1  16.519121\n",
       "3     -0.119863  0.033459       4        1  10.276922\n",
       "4      0.024666  0.015240       5        1   9.943466, topic_info=           Term        Freq       Total Category  logprob  loglift\n",
       "175        call  106.000000  106.000000  Default  30.0000  30.0000\n",
       "148       email   65.000000   65.000000  Default  29.0000  29.0000\n",
       "105      lender   62.000000   62.000000  Default  28.0000  28.0000\n",
       "93        would  159.000000  159.000000  Default  27.0000  27.0000\n",
       "1267  appraisal   23.000000   23.000000  Default  26.0000  26.0000\n",
       "...         ...         ...         ...      ...      ...      ...\n",
       "76         team    6.133527   73.338715   Topic5  -5.3231  -0.1731\n",
       "174        best    5.896576   61.041130   Topic5  -5.3625  -0.0289\n",
       "187     receive    5.453613   37.608906   Topic5  -5.4406   0.3773\n",
       "74      service    5.598236   86.238632   Topic5  -5.4144  -0.4264\n",
       "22         home    5.558528  127.198341   Topic5  -5.4215  -0.8222\n",
       "\n",
       "[388 rows x 6 columns], token_table=      Topic      Freq        Term\n",
       "term                             \n",
       "471       1  0.383599        able\n",
       "471       2  0.383599        able\n",
       "471       3  0.174363        able\n",
       "471       5  0.034873        able\n",
       "814       1  0.122956  absolutely\n",
       "...     ...       ...         ...\n",
       "484       3  0.666067       wrong\n",
       "52        1  0.684593        year\n",
       "52        3  0.114099        year\n",
       "52        4  0.028525        year\n",
       "52        5  0.171148        year\n",
       "\n",
       "[708 rows x 3 columns], R=30, lambda_step=0.01, plot_opts={'xlab': 'PC1', 'ylab': 'PC2'}, topic_order=[2, 3, 1, 4, 5])"
      ]
     },
     "execution_count": 948,
     "metadata": {},
     "output_type": "execute_result"
    }
   ],
   "source": [
    "data = pyLDAvis.gensim.prepare(ldamodel, c, dictionary)\n",
    "data"
   ]
  },
  {
   "cell_type": "code",
   "execution_count": 949,
   "metadata": {},
   "outputs": [
    {
     "name": "stdout",
     "output_type": "stream",
     "text": [
      "[(0, '0.012*\"make\" + 0.011*\"recommend\" + 0.011*\"would\" + 0.009*\"process\" + 0.009*\"could\" + 0.009*\"read\" + 0.009*\"work\" + 0.008*\"question\" + 0.008*\"mortgage\" + 0.008*\"time\"'), (1, '0.024*\"loan\" + 0.022*\"work\" + 0.019*\"process\" + 0.018*\"home\" + 0.016*\"make\" + 0.014*\"time\" + 0.014*\"recommend\" + 0.014*\"would\" + 0.012*\"great\" + 0.011*\"read\"'), (2, '0.019*\"loan\" + 0.012*\"read\" + 0.012*\"rate\" + 0.012*\"process\" + 0.011*\"call\" + 0.010*\"lender\" + 0.010*\"closing\" + 0.009*\"time\" + 0.008*\"would\" + 0.008*\"week\"'), (3, '0.019*\"would\" + 0.018*\"call\" + 0.015*\"email\" + 0.011*\"work\" + 0.011*\"appraisal\" + 0.011*\"lender\" + 0.011*\"receive\" + 0.010*\"customer\" + 0.009*\"loan\" + 0.008*\"say\"'), (4, '0.014*\"close\" + 0.014*\"work\" + 0.012*\"time\" + 0.012*\"loan\" + 0.011*\"would\" + 0.010*\"process\" + 0.010*\"rate\" + 0.009*\"mortgage\" + 0.009*\"bank\" + 0.008*\"read\"')]\n"
     ]
    }
   ],
   "source": [
    "print(ldamodel.print_topics(num_topics=5, num_words=10))"
   ]
  },
  {
   "cell_type": "code",
   "execution_count": 950,
   "metadata": {},
   "outputs": [
    {
     "name": "stdout",
     "output_type": "stream",
     "text": [
      "\n",
      "Topic 1, top 10 words:\n",
      "make recommend would process could read work question mortgage time\n",
      "\n",
      "Topic 2, top 10 words:\n",
      "loan work process home make time recommend would great read\n",
      "\n",
      "Topic 3, top 10 words:\n",
      "loan read rate process call lender closing time would week\n",
      "\n",
      "Topic 4, top 10 words:\n",
      "would call email work appraisal lender receive customer loan say\n",
      "\n",
      "Topic 5, top 10 words:\n",
      "close work time loan would process rate mortgage bank read\n"
     ]
    }
   ],
   "source": [
    "topics = ldamodel.show_topics(formatted=False, num_topics=5, num_words=10)\n",
    "    \n",
    "for t in range(len(topics)):\n",
    "    print(\"\\nTopic {}, top {} words:\".format(t+1,10))\n",
    "    print(\" \".join([w[0] for w in topics[t][1]]))"
   ]
  },
  {
   "cell_type": "raw",
   "metadata": {},
   "source": [
    "Topic 1\tFeedback on re-finance process\n",
    "Topic 2\tFeedback on information requested\n",
    "Topic 3\tFeedback on mortage process\n",
    "Topic 4\tFeedback on loan process\n",
    "Topic 5\tFeedback on closure process\n"
   ]
  },
  {
   "cell_type": "code",
   "execution_count": 953,
   "metadata": {},
   "outputs": [],
   "source": [
    "#get topic related to each review\n",
    "def dominant_topic(ldamodel, corpus, texts):\n",
    "    #Function to find the dominant topic in each review\n",
    "    topics_df = pd.DataFrame() \n",
    "    # Get main topic in each review\n",
    "    for i, row in enumerate(ldamodel[corpus]):\n",
    "        row = sorted(row, key=lambda x: (x[1]), reverse=True)\n",
    "        # Get the Dominant topic, Perc Contribution and Keywords for each review\n",
    "        for j, (topic_num, prop_topic) in enumerate(row):\n",
    "            if j == 0:  # =&gt; dominant topic\n",
    "                wp = ldamodel.show_topic(topic_num,topn=10)\n",
    "                topic_keywords = \", \".join([word for word, prop in wp])\n",
    "                topics_df = topics_df.append(pd.Series([int(topic_num), round(prop_topic,4), topic_keywords]), ignore_index=True)\n",
    "            else:\n",
    "                break\n",
    "    topics_df.columns = ['Dominant_Topic', 'Perc_Contribution', 'Topic_Keywords']\n",
    "    contents = pd.Series(texts)\n",
    "    topics_df = pd.concat([topics_df, contents], axis=1)\n",
    "    return(topics_df)"
   ]
  },
  {
   "cell_type": "code",
   "execution_count": 954,
   "metadata": {},
   "outputs": [],
   "source": [
    "df_dominant_topic = dominant_topic(ldamodel=ldamodel, corpus=doc_term_matrix, texts=review_data['Reviews']) \n",
    "df_dominant_topic.head()\n",
    "df_dominant_topic.to_csv('topics.csv')"
   ]
  },
  {
   "cell_type": "code",
   "execution_count": 955,
   "metadata": {},
   "outputs": [
    {
     "data": {
      "image/png": "[encoded data removed]",
      "text/plain": [
       "<Figure size 432x432 with 1 Axes>"
      ]
     },
     "metadata": {
      "needs_background": "light"
     },
     "output_type": "display_data"
    }
   ],
   "source": [
    "#plot topic frequency in the corpus\n",
    "dom_topics = df_dominant_topic.groupby(df_dominant_topic['Dominant_Topic']).size()\n",
    "index_int = dom_topics.index.astype(int) + 1\n",
    "fig, axs = plt.subplots(figsize = (6,6))\n",
    "sns.barplot(index_int, dom_topics.values,  orient='v')\n",
    "\n",
    "plt.title('Topic Frequncies',fontsize=20)\n",
    "plt.xlabel('Topics',fontsize=15)\n",
    "plt.ylabel('Count',fontsize=15)\n",
    "plt.show()"
   ]
  },
  {
   "cell_type": "markdown",
   "metadata": {},
   "source": [
    "### Segmentation (KMeans clustering)"
   ]
  },
  {
   "cell_type": "code",
   "execution_count": 956,
   "metadata": {},
   "outputs": [],
   "source": [
    "km_4 = KMeans(n_clusters=4, init='k-means++', max_iter=100, n_init=1, random_state=123).fit(train_X_tfidf)\n",
    "km_5 = KMeans(n_clusters=5, init='k-means++', max_iter=100, n_init=1, random_state=123).fit(train_X_tfidf)\n",
    "km_6 = KMeans(n_clusters=6, init='k-means++', max_iter=100, n_init=1, random_state=123).fit(train_X_tfidf)\n",
    "km_7 = KMeans(n_clusters=7, init='k-means++', max_iter=100, n_init=1, random_state=123).fit(train_X_tfidf)\n",
    "km_8 = KMeans(n_clusters=8, init='k-means++', max_iter=100, n_init=1, random_state=123).fit(train_X_tfidf)"
   ]
  },
  {
   "cell_type": "code",
   "execution_count": 957,
   "metadata": {},
   "outputs": [],
   "source": [
    "terms = np.array(tfidf_vect.get_feature_names())\n",
    "num_clusters = [4,5,6,7,8]\n",
    "km_models = [km_4, km_5, km_6, km_7, km_8 ]"
   ]
  },
  {
   "cell_type": "code",
   "execution_count": 958,
   "metadata": {},
   "outputs": [
    {
     "name": "stdout",
     "output_type": "stream",
     "text": [
      "Top terms for all cluster:\n",
      "\n",
      "\n",
      "Top terms for CLUSTERS CENTERS =  4\n",
      "Cluster 0: work, great, with, process, responsive, throughout, team, well, recommend, pleasure,\n",
      "Cluster 1: make, home, experience, able, process, work, first, time, thanks, everything,\n",
      "Cluster 2: loan, service, would, mortgage, recommend, company, helpful, process, home, great,\n",
      "Cluster 3: rate, call, loan, closing, email, lender, would, time, told, take,\n",
      "\n",
      "Top terms for CLUSTERS CENTERS =  5\n",
      "Cluster 0: work, with, great, responsive, process, throughout, well, refinance, pleasure, june,\n",
      "Cluster 1: able, informative, pleasure, helpful, work, lender, issue, close, make, still,\n",
      "Cluster 2: company, loan, mortgage, helpful, service, would, business, customer, help, recommend,\n",
      "Cluster 3: closing, loan, rate, call, lender, would, email, time, week, say,\n",
      "Cluster 4: home, process, great, make, team, recommend, work, time, always, service,\n",
      "\n",
      "Top terms for CLUSTERS CENTERS =  6\n",
      "Cluster 0: work, with, great, process, responsive, throughout, refinance, future, pleasure, june,\n",
      "Cluster 1: able, informative, pleasure, helpful, lender, work, issue, close, make, still,\n",
      "Cluster 2: company, mortgage, loan, would, service, patient, customer, business, well, process,\n",
      "Cluster 3: closing, loan, rate, call, lender, would, email, time, week, close,\n",
      "Cluster 4: great, process, home, make, always, service, easy, recommend, work, experience,\n",
      "Cluster 5: team, deal, home, every, recommend, time, help, loan, would, buyer,\n",
      "\n",
      "Top terms for CLUSTERS CENTERS =  7\n",
      "Cluster 0: work, with, great, responsive, throughout, refinance, pleasure, june, process, recommend,\n",
      "Cluster 1: able, informative, pleasure, lender, work, thanks, industry, process, throughout, help,\n",
      "Cluster 2: company, loan, mortgage, would, customer, patient, process, well, officer, work,\n",
      "Cluster 3: closing, rate, loan, call, lender, would, email, week, cost, say,\n",
      "Cluster 4: process, great, home, work, experience, make, easy, recommend, service, provide,\n",
      "Cluster 5: team, deal, home, every, help, time, recommend, first, buyer, real,\n",
      "Cluster 6: helpful, make, always, close, loan, service, sure, appreciate, question, time,\n",
      "\n",
      "Top terms for CLUSTERS CENTERS =  8\n",
      "Cluster 0: work, responsive, pleasure, with, throughout, process, well, june, informative, surprise,\n",
      "Cluster 1: contact, explain, unprofessional, excellent, list, previous, number, lender, phone, chose,\n",
      "Cluster 2: able, close, helpful, service, issue, hard, customer, loan, extra, time,\n",
      "Cluster 3: loan, rate, closing, call, email, lender, would, week, say, time,\n",
      "Cluster 4: home, make, help, process, recommend, would, much, work, always, anyone,\n",
      "Cluster 5: company, mortgage, service, loan, business, people, patient, would, great, consider,\n",
      "Cluster 6: process, best, great, home, time, service, team, provide, work, entire,\n",
      "Cluster 7: professional, quick, team, recommend, highly, question, work, loan, process, great,\n"
     ]
    }
   ],
   "source": [
    "vocab_frame=pd.DataFrame({'words':terms},index=[terms])\n",
    "N=10\n",
    "\n",
    "print(\"Top terms for all cluster:\")\n",
    "print()\n",
    "\n",
    "for j in num_clusters:\n",
    "    #sort cluster centers by proximity to centroid\n",
    "    order_centroids = km_models[j-4].cluster_centers_.argsort()[:, ::-1] \n",
    "    print()\n",
    "    print('Top terms for CLUSTERS CENTERS = ', j)     \n",
    "    for i in range(j):\n",
    "        print(\"Cluster %d:\" % i, end='')    \n",
    "        for ind in order_centroids[i, :N]: #replace 10 with n words per cluster\n",
    "            print(' %s' % vocab_frame.loc[terms[ind].split(' ')].values.tolist()[0][0], end=',')\n",
    "        print()"
   ]
  },
  {
   "cell_type": "code",
   "execution_count": 959,
   "metadata": {},
   "outputs": [
    {
     "data": {
      "text/html": [
       "<div>\n",
       "<style scoped>\n",
       "    .dataframe tbody tr th:only-of-type {\n",
       "        vertical-align: middle;\n",
       "    }\n",
       "\n",
       "    .dataframe tbody tr th {\n",
       "        vertical-align: top;\n",
       "    }\n",
       "\n",
       "    .dataframe thead th {\n",
       "        text-align: right;\n",
       "    }\n",
       "</style>\n",
       "<table border=\"1\" class=\"dataframe\">\n",
       "  <thead>\n",
       "    <tr style=\"text-align: right;\">\n",
       "      <th></th>\n",
       "      <th>Cluster</th>\n",
       "      <th>Cluster_No</th>\n",
       "      <th>Count</th>\n",
       "    </tr>\n",
       "  </thead>\n",
       "  <tbody>\n",
       "    <tr>\n",
       "      <th>4</th>\n",
       "      <td>Cluster_5</td>\n",
       "      <td>0</td>\n",
       "      <td>54</td>\n",
       "    </tr>\n",
       "    <tr>\n",
       "      <th>5</th>\n",
       "      <td>Cluster_5</td>\n",
       "      <td>1</td>\n",
       "      <td>23</td>\n",
       "    </tr>\n",
       "    <tr>\n",
       "      <th>6</th>\n",
       "      <td>Cluster_5</td>\n",
       "      <td>2</td>\n",
       "      <td>60</td>\n",
       "    </tr>\n",
       "    <tr>\n",
       "      <th>7</th>\n",
       "      <td>Cluster_5</td>\n",
       "      <td>3</td>\n",
       "      <td>121</td>\n",
       "    </tr>\n",
       "    <tr>\n",
       "      <th>8</th>\n",
       "      <td>Cluster_5</td>\n",
       "      <td>4</td>\n",
       "      <td>119</td>\n",
       "    </tr>\n",
       "  </tbody>\n",
       "</table>\n",
       "</div>"
      ],
      "text/plain": [
       "     Cluster  Cluster_No  Count\n",
       "4  Cluster_5           0     54\n",
       "5  Cluster_5           1     23\n",
       "6  Cluster_5           2     60\n",
       "7  Cluster_5           3    121\n",
       "8  Cluster_5           4    119"
      ]
     },
     "execution_count": 959,
     "metadata": {},
     "output_type": "execute_result"
    }
   ],
   "source": [
    "#checking segment distribution\n",
    "cluster_dist = []\n",
    "for i,j in zip(km_models, num_clusters):\n",
    "    for k in range(j):\n",
    "        inner = []\n",
    "        tmpstr = 'Cluster_' + str(j)\n",
    "        inner.append(tmpstr)\n",
    "        inner.append(k)\n",
    "        inner.append(np.count_nonzero(i.labels_ == k))\n",
    "        cluster_dist.append(inner)\n",
    "    \n",
    "cluster_dist_df = pd.DataFrame(cluster_dist, columns =['Cluster', 'Cluster_No', 'Count'])\n",
    "cluster_dist_df[cluster_dist_df['Cluster'] == 'Cluster_5']"
   ]
  },
  {
   "cell_type": "code",
   "execution_count": 960,
   "metadata": {},
   "outputs": [
    {
     "data": {
      "image/png": "[encoded data removed]",
      "text/plain": [
       "<Figure size 432x432 with 1 Axes>"
      ]
     },
     "metadata": {
      "needs_background": "light"
     },
     "output_type": "display_data"
    }
   ],
   "source": [
    "#plot topic frequency in the corpus\n",
    "cluster5 = cluster_dist_df[cluster_dist_df['Cluster'] == 'Cluster_5']\n",
    "fig, axs = plt.subplots(figsize = (6,6))\n",
    "sns.barplot(cluster5['Cluster_No'], cluster5['Count'],  orient='v')\n",
    "\n",
    "plt.title('Custer Distribution',fontsize=20)\n",
    "plt.xlabel('Cluster',fontsize=15)\n",
    "plt.ylabel('Count',fontsize=15)\n",
    "plt.show()"
   ]
  },
  {
   "cell_type": "code",
   "execution_count": 961,
   "metadata": {},
   "outputs": [
    {
     "data": {
      "text/html": [
       "<div>\n",
       "<style scoped>\n",
       "    .dataframe tbody tr th:only-of-type {\n",
       "        vertical-align: middle;\n",
       "    }\n",
       "\n",
       "    .dataframe tbody tr th {\n",
       "        vertical-align: top;\n",
       "    }\n",
       "\n",
       "    .dataframe thead th {\n",
       "        text-align: right;\n",
       "    }\n",
       "</style>\n",
       "<table border=\"1\" class=\"dataframe\">\n",
       "  <thead>\n",
       "    <tr style=\"text-align: right;\">\n",
       "      <th></th>\n",
       "      <th>Cluster</th>\n",
       "      <th>SC_score</th>\n",
       "    </tr>\n",
       "  </thead>\n",
       "  <tbody>\n",
       "    <tr>\n",
       "      <th>4</th>\n",
       "      <td>8.0</td>\n",
       "      <td>0.019093</td>\n",
       "    </tr>\n",
       "    <tr>\n",
       "      <th>2</th>\n",
       "      <td>6.0</td>\n",
       "      <td>0.017428</td>\n",
       "    </tr>\n",
       "    <tr>\n",
       "      <th>3</th>\n",
       "      <td>7.0</td>\n",
       "      <td>0.017347</td>\n",
       "    </tr>\n",
       "    <tr>\n",
       "      <th>1</th>\n",
       "      <td>5.0</td>\n",
       "      <td>0.016890</td>\n",
       "    </tr>\n",
       "    <tr>\n",
       "      <th>0</th>\n",
       "      <td>4.0</td>\n",
       "      <td>0.015220</td>\n",
       "    </tr>\n",
       "  </tbody>\n",
       "</table>\n",
       "</div>"
      ],
      "text/plain": [
       "   Cluster  SC_score\n",
       "4      8.0  0.019093\n",
       "2      6.0  0.017428\n",
       "3      7.0  0.017347\n",
       "1      5.0  0.016890\n",
       "0      4.0  0.015220"
      ]
     },
     "execution_count": 961,
     "metadata": {},
     "output_type": "execute_result"
    }
   ],
   "source": [
    "#compare SC scores for different cluster values\n",
    "km_labels = [km_4, km_5, km_6, km_7, km_8]\n",
    "sc_df = pd.DataFrame(columns = ['Cluster', 'SC_score'])\n",
    "\n",
    "index = 0\n",
    "for i in km_labels:\n",
    "    sc_df.loc[index] = [i.n_clusters, silhouette_score(train_X_tfidf, i.labels_)]\n",
    "    index = index + 1\n",
    "    \n",
    "sc_df = sc_df.sort_values(by='SC_score',ascending=False)\n",
    "sc_df"
   ]
  },
  {
   "cell_type": "code",
   "execution_count": 962,
   "metadata": {},
   "outputs": [
    {
     "data": {
      "image/png": "[encoded data removed]",
      "text/plain": [
       "<Figure size 432x288 with 1 Axes>"
      ]
     },
     "metadata": {
      "needs_background": "light"
     },
     "output_type": "display_data"
    }
   ],
   "source": [
    "# plot SC scores\n",
    "plt.plot(sc_df.Cluster, sc_df.SC_score)\n",
    "plt.xlabel('Number of clusters')\n",
    "plt.ylabel('Silhouette Coefficient')\n",
    "plt.grid(True)"
   ]
  },
  {
   "cell_type": "code",
   "execution_count": 963,
   "metadata": {},
   "outputs": [],
   "source": [
    "train_X_final = pd.concat([pd.DataFrame(train_X, index=train_X.index), pd.DataFrame(km_7.labels_, index=train_X.index)],axis=1)"
   ]
  },
  {
   "cell_type": "code",
   "execution_count": 964,
   "metadata": {},
   "outputs": [
    {
     "data": {
      "text/html": [
       "<div>\n",
       "<style scoped>\n",
       "    .dataframe tbody tr th:only-of-type {\n",
       "        vertical-align: middle;\n",
       "    }\n",
       "\n",
       "    .dataframe tbody tr th {\n",
       "        vertical-align: top;\n",
       "    }\n",
       "\n",
       "    .dataframe thead th {\n",
       "        text-align: right;\n",
       "    }\n",
       "</style>\n",
       "<table border=\"1\" class=\"dataframe\">\n",
       "  <thead>\n",
       "    <tr style=\"text-align: right;\">\n",
       "      <th></th>\n",
       "      <th>text</th>\n",
       "      <th>cluster</th>\n",
       "    </tr>\n",
       "  </thead>\n",
       "  <tbody>\n",
       "    <tr>\n",
       "      <th>501</th>\n",
       "      <td>start credit check without knowledge consent a...</td>\n",
       "      <td>3</td>\n",
       "    </tr>\n",
       "    <tr>\n",
       "      <th>345</th>\n",
       "      <td>work home purchase provide interest rate closi...</td>\n",
       "      <td>4</td>\n",
       "    </tr>\n",
       "    <tr>\n",
       "      <th>82</th>\n",
       "      <td>phenomenal work locate refinance work family w...</td>\n",
       "      <td>0</td>\n",
       "    </tr>\n",
       "    <tr>\n",
       "      <th>47</th>\n",
       "      <td>horrible experience excellent credit plenty in...</td>\n",
       "      <td>3</td>\n",
       "    </tr>\n",
       "    <tr>\n",
       "      <th>320</th>\n",
       "      <td>great experience work munoz team financial beg...</td>\n",
       "      <td>4</td>\n",
       "    </tr>\n",
       "    <tr>\n",
       "      <th>...</th>\n",
       "      <td>...</td>\n",
       "      <td>...</td>\n",
       "    </tr>\n",
       "    <tr>\n",
       "      <th>257</th>\n",
       "      <td>extremely efficient pleased streamline process...</td>\n",
       "      <td>5</td>\n",
       "    </tr>\n",
       "    <tr>\n",
       "      <th>73</th>\n",
       "      <td>work agent quick simple little thing complete ...</td>\n",
       "      <td>2</td>\n",
       "    </tr>\n",
       "    <tr>\n",
       "      <th>398</th>\n",
       "      <td>great experience work experienced knowledgeabl...</td>\n",
       "      <td>4</td>\n",
       "    </tr>\n",
       "    <tr>\n",
       "      <th>237</th>\n",
       "      <td>good news processing waive rate lock day close...</td>\n",
       "      <td>3</td>\n",
       "    </tr>\n",
       "    <tr>\n",
       "      <th>38</th>\n",
       "      <td>come highly recommend first time spoke clear f...</td>\n",
       "      <td>3</td>\n",
       "    </tr>\n",
       "  </tbody>\n",
       "</table>\n",
       "<p>377 rows × 2 columns</p>\n",
       "</div>"
      ],
      "text/plain": [
       "                                                  text  cluster\n",
       "501  start credit check without knowledge consent a...        3\n",
       "345  work home purchase provide interest rate closi...        4\n",
       "82   phenomenal work locate refinance work family w...        0\n",
       "47   horrible experience excellent credit plenty in...        3\n",
       "320  great experience work munoz team financial beg...        4\n",
       "..                                                 ...      ...\n",
       "257  extremely efficient pleased streamline process...        5\n",
       "73   work agent quick simple little thing complete ...        2\n",
       "398  great experience work experienced knowledgeabl...        4\n",
       "237  good news processing waive rate lock day close...        3\n",
       "38   come highly recommend first time spoke clear f...        3\n",
       "\n",
       "[377 rows x 2 columns]"
      ]
     },
     "execution_count": 964,
     "metadata": {},
     "output_type": "execute_result"
    }
   ],
   "source": [
    "train_X_final.columns = ['text', 'cluster']\n",
    "train_X_final"
   ]
  },
  {
   "cell_type": "code",
   "execution_count": 965,
   "metadata": {},
   "outputs": [
    {
     "data": {
      "text/plain": [
       "3    88\n",
       "4    85\n",
       "6    70\n",
       "0    44\n",
       "2    42\n",
       "5    31\n",
       "1    17\n",
       "Name: cluster, dtype: int64"
      ]
     },
     "execution_count": 965,
     "metadata": {},
     "output_type": "execute_result"
    }
   ],
   "source": [
    "train_X_final.cluster.value_counts()"
   ]
  },
  {
   "attachments": {},
   "cell_type": "markdown",
   "metadata": {},
   "source": [
    "### Classification\n",
    "### Predicting star ratings using reviews"
   ]
  },
  {
   "cell_type": "markdown",
   "metadata": {},
   "source": [
    "#### Naive Bayes on TF-IDF"
   ]
  },
  {
   "cell_type": "code",
   "execution_count": 966,
   "metadata": {},
   "outputs": [
    {
     "data": {
      "text/plain": [
       "MultinomialNB(alpha=1.0, class_prior=None, fit_prior=True)"
      ]
     },
     "execution_count": 966,
     "metadata": {},
     "output_type": "execute_result"
    }
   ],
   "source": [
    "# building naive bayes model on TF-IDF\n",
    "nb_model = naive_bayes.MultinomialNB()\n",
    "nb_model.fit(train_X_tfidf,train_y)"
   ]
  },
  {
   "cell_type": "code",
   "execution_count": 967,
   "metadata": {},
   "outputs": [],
   "source": [
    "predict_train = nb_model.predict(train_X_tfidf)\n",
    "predict_test = nb_model.predict(test_X_tfidf)"
   ]
  },
  {
   "cell_type": "code",
   "execution_count": 968,
   "metadata": {},
   "outputs": [
    {
     "name": "stdout",
     "output_type": "stream",
     "text": [
      "Accuracy on train:  0.946949602122016\n",
      "Accuracy on test:  0.8968253968253969\n"
     ]
    }
   ],
   "source": [
    "print('Accuracy on train: ',metrics.accuracy_score(train_y,predict_train))\n",
    "print('Accuracy on test: ',metrics.accuracy_score(test_y,predict_test))"
   ]
  },
  {
   "cell_type": "code",
   "execution_count": 969,
   "metadata": {},
   "outputs": [
    {
     "name": "stdout",
     "output_type": "stream",
     "text": [
      "              precision    recall  f1-score   support\n",
      "\n",
      "           1       0.97      0.76      0.85        74\n",
      "           5       0.94      0.99      0.97       303\n",
      "\n",
      "    accuracy                           0.95       377\n",
      "   macro avg       0.95      0.88      0.91       377\n",
      "weighted avg       0.95      0.95      0.94       377\n",
      "\n"
     ]
    }
   ],
   "source": [
    "print(metrics.classification_report(train_y,predict_train))"
   ]
  },
  {
   "cell_type": "code",
   "execution_count": 970,
   "metadata": {},
   "outputs": [
    {
     "name": "stdout",
     "output_type": "stream",
     "text": [
      "              precision    recall  f1-score   support\n",
      "\n",
      "           1       1.00      0.35      0.52        20\n",
      "           5       0.89      1.00      0.94       106\n",
      "\n",
      "    accuracy                           0.90       126\n",
      "   macro avg       0.95      0.68      0.73       126\n",
      "weighted avg       0.91      0.90      0.87       126\n",
      "\n"
     ]
    }
   ],
   "source": [
    "print(metrics.classification_report(test_y,predict_test))"
   ]
  },
  {
   "cell_type": "code",
   "execution_count": 971,
   "metadata": {},
   "outputs": [],
   "source": [
    "# predict probabilities on train and test\n",
    "predict_prob_train = nb_model.predict_proba(train_X_tfidf)[:,1]\n",
    "predict_prob_test = nb_model.predict_proba(test_X_tfidf)[:,1]"
   ]
  },
  {
   "cell_type": "code",
   "execution_count": 972,
   "metadata": {},
   "outputs": [
    {
     "name": "stdout",
     "output_type": "stream",
     "text": [
      "ROC_AUC score on train:  0.9916376772812417\n",
      "ROC_AUC score on test:  0.9660377358490566\n"
     ]
    }
   ],
   "source": [
    "print('ROC_AUC score on train: ',metrics.roc_auc_score(train_y,predict_prob_train))\n",
    "print('ROC_AUC score on test: ',metrics.roc_auc_score(test_y,predict_prob_test))"
   ]
  },
  {
   "cell_type": "markdown",
   "metadata": {},
   "source": [
    "### building naive bayes model on count verctor - DTM"
   ]
  },
  {
   "cell_type": "code",
   "execution_count": 973,
   "metadata": {},
   "outputs": [
    {
     "data": {
      "text/plain": [
       "MultinomialNB(alpha=1.0, class_prior=None, fit_prior=True)"
      ]
     },
     "execution_count": 973,
     "metadata": {},
     "output_type": "execute_result"
    }
   ],
   "source": [
    "# building naive bayes model on count verctor - DTM\n",
    "nb_model = naive_bayes.MultinomialNB()\n",
    "nb_model.fit(train_X_count,train_y)"
   ]
  },
  {
   "cell_type": "code",
   "execution_count": 974,
   "metadata": {},
   "outputs": [],
   "source": [
    "predict_train = nb_model.predict(train_X_count)\n",
    "predict_test = nb_model.predict(test_X_count)"
   ]
  },
  {
   "cell_type": "code",
   "execution_count": 975,
   "metadata": {},
   "outputs": [
    {
     "name": "stdout",
     "output_type": "stream",
     "text": [
      "Accuracy on train:  0.9681697612732095\n",
      "Accuracy on test:  0.9365079365079365\n"
     ]
    }
   ],
   "source": [
    "print('Accuracy on train: ',metrics.accuracy_score(train_y,predict_train))\n",
    "print('Accuracy on test: ',metrics.accuracy_score(test_y,predict_test))"
   ]
  },
  {
   "cell_type": "code",
   "execution_count": 976,
   "metadata": {},
   "outputs": [],
   "source": [
    "# predict probabilities on train and test\n",
    "predict_prob_train = nb_model.predict_proba(train_X_count)[:,1]\n",
    "predict_prob_test = nb_model.predict_proba(test_X_count)[:,1]"
   ]
  },
  {
   "cell_type": "code",
   "execution_count": 977,
   "metadata": {},
   "outputs": [
    {
     "name": "stdout",
     "output_type": "stream",
     "text": [
      "ROC_AUC score on train:  0.98994291321024\n",
      "ROC_AUC score on test:  0.9702830188679246\n"
     ]
    }
   ],
   "source": [
    "print('ROC_AUC score on train: ',metrics.roc_auc_score(train_y,predict_prob_train))\n",
    "print('ROC_AUC score on test: ',metrics.roc_auc_score(test_y,predict_prob_test))"
   ]
  },
  {
   "cell_type": "code",
   "execution_count": 978,
   "metadata": {},
   "outputs": [
    {
     "name": "stdout",
     "output_type": "stream",
     "text": [
      "Confusion Matix:\n",
      " [[ 14   6]\n",
      " [  2 104]]\n"
     ]
    },
    {
     "data": {
      "image/png": "[encoded data removed]",
      "text/plain": [
       "<Figure size 432x288 with 2 Axes>"
      ]
     },
     "metadata": {
      "needs_background": "light"
     },
     "output_type": "display_data"
    }
   ],
   "source": [
    "print('Confusion Matix:''\\n', metrics.confusion_matrix(test_y, predict_test))\n",
    "cf_matrix = metrics.confusion_matrix(test_y, predict_test)\n",
    "categories = ['False', 'True']\n",
    "plt.figure(figsize=(6,4))\n",
    "sns.set(font_scale=1.4)\n",
    "sns.heatmap(cf_matrix, annot=True, annot_kws={\"size\":15}, cmap='Blues', fmt='g', xticklabels=categories,  yticklabels=categories)\n",
    "plt.show()"
   ]
  },
  {
   "cell_type": "code",
   "execution_count": 979,
   "metadata": {},
   "outputs": [],
   "source": [
    "# Compute ROC curve and ROC area for each attack class\n",
    "from itertools import cycle\n",
    "\n",
    "def roc_curve_multinomial(train_y_multi, train_y_multi_pred):\n",
    "    plt.figure(figsize=(8,6))\n",
    "    n_classes = train_y_multi.shape[1]\n",
    "    fpr = dict()\n",
    "    tpr = dict()\n",
    "    roc_auc = dict()\n",
    "    for i in range(n_classes):\n",
    "        fpr[i], tpr[i], _ = roc_curve(train_y_multi[:, i], train_y_multi_pred[:, i])\n",
    "        roc_auc[i] = auc(fpr[i], tpr[i])\n",
    "        colors = cycle(['blue', 'red', 'green','magenta','cyan'])\n",
    "    for i, color in zip(range(n_classes), colors):\n",
    "        if not np.isnan(tpr[i][0]):\n",
    "            plt.plot(fpr[i], tpr[i], color=color, lw=1.5,\n",
    "                 label='ROC curve of {0} Stars (area = {1:0.2f})'\n",
    "                 ''.format(i+1, roc_auc[i]))\n",
    "\n",
    "    plt.plot([0, 1], [0, 1], 'k--', lw=1.5)\n",
    "    plt.xlim([-0.05, 1.0])\n",
    "    plt.ylim([0.0, 1.05])\n",
    "    plt.xlabel('False Positive Rate')\n",
    "    plt.ylabel('True Positive Rate(Recall)')\n",
    "    plt.title('ROC curve for multinomial classification')\n",
    "    plt.legend(loc=\"lower right\")\n",
    "    plt.show()"
   ]
  },
  {
   "cell_type": "code",
   "execution_count": 980,
   "metadata": {},
   "outputs": [
    {
     "name": "stderr",
     "output_type": "stream",
     "text": [
      "C:\\ProgramData\\Anaconda3\\lib\\site-packages\\sklearn\\metrics\\ranking.py:659: UndefinedMetricWarning: No positive samples in y_true, true positive value should be meaningless\n",
      "  UndefinedMetricWarning)\n"
     ]
    },
    {
     "data": {
      "image/png": "[encoded data removed]",
      "text/plain": [
       "<Figure size 576x432 with 1 Axes>"
      ]
     },
     "metadata": {},
     "output_type": "display_data"
    }
   ],
   "source": [
    "#Plot ROC AUC curve\n",
    "\n",
    "#binarizing the predictions for ROC-AUC to work on multiclass predictions - star ratings 1 to 5\n",
    "test_y_multi_pred = preprocessing.label_binarize(predict_test, classes=[1, 2, 3, 4, 5])\n",
    "test_y_multi = preprocessing.label_binarize(test_y, classes=[1, 2, 3, 4, 5])\n",
    "\n",
    "#auc_score = metrics.roc_auc_score(test_y,predict_prob_test)\n",
    "#fpr, tpr, auc_thresholds = roc_curve(test_y,test_y_multi_pred)\n",
    "roc_curve_multinomial(test_y_multi, test_y_multi_pred)"
   ]
  },
  {
   "cell_type": "markdown",
   "metadata": {},
   "source": [
    "### XGBoost Classifier with Count Vector"
   ]
  },
  {
   "cell_type": "code",
   "execution_count": 981,
   "metadata": {},
   "outputs": [],
   "source": [
    "xgb_estimator = XGBClassifier( learning_rate=0.01,\n",
    "                               n_estimators=1000,\n",
    "                               max_depth=5,\n",
    "                               min_child_weight=1,\n",
    "                               gamma=1,\n",
    "                               subsample=0.8,\n",
    "                               colsample_bytree=0.8,\n",
    "                               n_jobs=-1,\n",
    "                               reg_alpa=1,\n",
    "                               scale_pos_weight=1,\n",
    "                               random_state=42,\n",
    "                               verbose=1)"
   ]
  },
  {
   "cell_type": "code",
   "execution_count": 982,
   "metadata": {
    "scrolled": true
   },
   "outputs": [
    {
     "name": "stdout",
     "output_type": "stream",
     "text": [
      "[19:36:52] WARNING: C:\\Users\\Administrator\\workspace\\xgboost-win64_release_1.1.0\\src\\learner.cc:480: \n",
      "Parameters: { reg_alpa, verbose } might not be used.\n",
      "\n",
      "  This may not be accurate due to some parameters are only used in language bindings but\n",
      "  passed down to XGBoost core.  Or some parameters are not used but slip through this\n",
      "  verification. Please open an issue if you find above cases.\n",
      "\n",
      "\n"
     ]
    },
    {
     "data": {
      "text/plain": [
       "XGBClassifier(base_score=0.5, booster='gbtree', colsample_bylevel=1,\n",
       "              colsample_bynode=1, colsample_bytree=0.8, gamma=1, gpu_id=-1,\n",
       "              importance_type='gain', interaction_constraints='',\n",
       "              learning_rate=0.01, max_delta_step=0, max_depth=5,\n",
       "              min_child_weight=1, missing=nan, monotone_constraints='()',\n",
       "              n_estimators=1000, n_jobs=-1, num_parallel_tree=1,\n",
       "              objective='binary:logistic', random_state=42, reg_alpa=1,\n",
       "              reg_alpha=0, reg_lambda=1, scale_pos_weight=1, subsample=0.8,\n",
       "              tree_method='exact', validate_parameters=1, verbose=1,\n",
       "              verbosity=None)"
      ]
     },
     "execution_count": 982,
     "metadata": {},
     "output_type": "execute_result"
    }
   ],
   "source": [
    "xgb_estimator.fit(train_X_count,train_y)"
   ]
  },
  {
   "cell_type": "code",
   "execution_count": 983,
   "metadata": {},
   "outputs": [],
   "source": [
    "predict_train = xgb_estimator.predict(train_X_count)\n",
    "predict_test = xgb_estimator.predict(test_X_count)"
   ]
  },
  {
   "cell_type": "code",
   "execution_count": 984,
   "metadata": {},
   "outputs": [
    {
     "name": "stdout",
     "output_type": "stream",
     "text": [
      "Accuracy on train:  0.9814323607427056\n",
      "Accuracy on test:  0.9285714285714286\n"
     ]
    }
   ],
   "source": [
    "print('Accuracy on train: ',metrics.accuracy_score(train_y,predict_train))\n",
    "print('Accuracy on test: ',metrics.accuracy_score(test_y,predict_test))"
   ]
  },
  {
   "cell_type": "code",
   "execution_count": 985,
   "metadata": {},
   "outputs": [],
   "source": [
    "# predict probabilities on train and test\n",
    "predict_prob_train = xgb_estimator.predict_proba(train_X_count)[:,1]\n",
    "predict_prob_test = xgb_estimator.predict_proba(test_X_count)[:,1]"
   ]
  },
  {
   "cell_type": "code",
   "execution_count": 986,
   "metadata": {},
   "outputs": [
    {
     "name": "stdout",
     "output_type": "stream",
     "text": [
      "ROC_AUC score on train:  0.9982160378199981\n",
      "ROC_AUC score on test:  0.9764150943396226\n"
     ]
    }
   ],
   "source": [
    "print('ROC_AUC score on train: ',metrics.roc_auc_score(train_y,predict_prob_train))\n",
    "print('ROC_AUC score on test: ',metrics.roc_auc_score(test_y,predict_prob_test))"
   ]
  },
  {
   "cell_type": "markdown",
   "metadata": {},
   "source": [
    "### XGBoost Classifier with TFIDF"
   ]
  },
  {
   "cell_type": "code",
   "execution_count": 987,
   "metadata": {
    "scrolled": true
   },
   "outputs": [
    {
     "name": "stdout",
     "output_type": "stream",
     "text": [
      "[19:36:54] WARNING: C:\\Users\\Administrator\\workspace\\xgboost-win64_release_1.1.0\\src\\learner.cc:480: \n",
      "Parameters: { reg_alpa, verbose } might not be used.\n",
      "\n",
      "  This may not be accurate due to some parameters are only used in language bindings but\n",
      "  passed down to XGBoost core.  Or some parameters are not used but slip through this\n",
      "  verification. Please open an issue if you find above cases.\n",
      "\n",
      "\n"
     ]
    },
    {
     "data": {
      "text/plain": [
       "XGBClassifier(base_score=0.5, booster='gbtree', colsample_bylevel=1,\n",
       "              colsample_bynode=1, colsample_bytree=0.8, gamma=1, gpu_id=-1,\n",
       "              importance_type='gain', interaction_constraints='',\n",
       "              learning_rate=0.01, max_delta_step=0, max_depth=5,\n",
       "              min_child_weight=1, missing=nan, monotone_constraints='()',\n",
       "              n_estimators=1000, n_jobs=-1, num_parallel_tree=1,\n",
       "              objective='binary:logistic', random_state=42, reg_alpa=1,\n",
       "              reg_alpha=0, reg_lambda=1, scale_pos_weight=1, subsample=0.8,\n",
       "              tree_method='exact', validate_parameters=1, verbose=1,\n",
       "              verbosity=None)"
      ]
     },
     "execution_count": 987,
     "metadata": {},
     "output_type": "execute_result"
    }
   ],
   "source": [
    "xgb_estimator.fit(train_X_tfidf,train_y)"
   ]
  },
  {
   "cell_type": "code",
   "execution_count": 988,
   "metadata": {},
   "outputs": [],
   "source": [
    "predict_train = xgb_estimator.predict(train_X_tfidf)\n",
    "predict_test = xgb_estimator.predict(test_X_tfidf)"
   ]
  },
  {
   "cell_type": "code",
   "execution_count": 989,
   "metadata": {},
   "outputs": [
    {
     "name": "stdout",
     "output_type": "stream",
     "text": [
      "Accuracy on train:  0.986737400530504\n",
      "Accuracy on test:  0.9047619047619048\n"
     ]
    }
   ],
   "source": [
    "print('Accuracy on train: ',metrics.accuracy_score(train_y,predict_train))\n",
    "print('Accuracy on test: ',metrics.accuracy_score(test_y,predict_test))"
   ]
  },
  {
   "cell_type": "code",
   "execution_count": 990,
   "metadata": {},
   "outputs": [],
   "source": [
    "# predict probabilities on train and test\n",
    "predict_prob_train = xgb_estimator.predict_proba(train_X_tfidf)[:,1]\n",
    "predict_prob_test = xgb_estimator.predict_proba(test_X_tfidf)[:,1]"
   ]
  },
  {
   "cell_type": "code",
   "execution_count": 991,
   "metadata": {},
   "outputs": [
    {
     "name": "stdout",
     "output_type": "stream",
     "text": [
      "ROC_AUC score on train:  0.9989073231647488\n",
      "ROC_AUC score on test:  0.9683962264150944\n"
     ]
    }
   ],
   "source": [
    "print('ROC_AUC score on train: ',metrics.roc_auc_score(train_y,predict_prob_train))\n",
    "print('ROC_AUC score on test: ',metrics.roc_auc_score(test_y,predict_prob_test))"
   ]
  },
  {
   "cell_type": "markdown",
   "metadata": {},
   "source": [
    "### We would choose Naive Bayes with CountVector DTM as our preffered model for Predicting star ratings using reviews.\n",
    "It shows a little better accuracy on test data and it is faster."
   ]
  },
  {
   "cell_type": "code",
   "execution_count": 992,
   "metadata": {},
   "outputs": [],
   "source": [
    "### Saving as pickle object\n",
    "\n",
    "#Lets save everything in metrics_df to pickle object\n",
    "import pickle\n",
    "\n",
    "# now you can save it to a file\n",
    "with open('NB.pkl', 'wb') as f:\n",
    "    pickle.dump(nb_model, f)"
   ]
  },
  {
   "cell_type": "code",
   "execution_count": null,
   "metadata": {},
   "outputs": [],
   "source": []
  }
 ],
 "metadata": {
  "kernelspec": {
   "display_name": "Python 3",
   "language": "python",
   "name": "python3"
  },
  "language_info": {
   "codemirror_mode": {
    "name": "ipython",
    "version": 3
   },
   "file_extension": ".py",
   "mimetype": "text/x-python",
   "name": "python",
   "nbconvert_exporter": "python",
   "pygments_lexer": "ipython3",
   "version": "3.7.4"
  }
 },
 "nbformat": 4,
 "nbformat_minor": 2
}
