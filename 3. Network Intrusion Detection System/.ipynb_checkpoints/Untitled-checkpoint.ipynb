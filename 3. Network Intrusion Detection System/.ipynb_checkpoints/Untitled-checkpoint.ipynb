{
 "cells": [
  {
   "cell_type": "code",
   "execution_count": null,
   "metadata": {},
   "outputs": [],
   "source": [
    "# import the dataset\n",
    "\n",
    "train = pd.read_csv('../input/nslkdd-dataset/KDDTrain.csv')\n",
    "test = pd.read_csv('../input/nslkdd-dataset/KDDTest.csv')"
   ]
  },
  {
   "cell_type": "code",
   "execution_count": null,
   "metadata": {},
   "outputs": [],
   "source": [
    "train.info()"
   ]
  },
  {
   "cell_type": "code",
   "execution_count": null,
   "metadata": {},
   "outputs": [],
   "source": [
    "test.info()"
   ]
  },
  {
   "cell_type": "code",
   "execution_count": null,
   "metadata": {},
   "outputs": [],
   "source": [
    "# obtaining a new target variable for each attack class\n",
    "\n",
    "attack_classes = ['back', 'buffer_overflow', 'ftp_write', 'guess_passwd', 'imap', 'ipsweep', 'land', \n",
    "                  'loadmodule', 'multihop', 'neptune', 'nmap', 'normal', 'perl', 'phf', 'pod', 'portsweep',\n",
    "                  'rootkit', 'satan', 'smurf', 'spy', 'teardrop', 'warezclient', 'warezmaster']\n",
    "\n",
    "train_label = pd.DataFrame()\n",
    "test_label = pd.DataFrame()\n",
    "\n",
    "for attack_type in attack_classes:\n",
    "    train_label[attack_type] = train['attack_class'].apply(lambda x : int(x == attack_type))\n",
    "    test_label[attack_type] = test['attack_class'].apply(lambda x : int(x == attack_type))"
   ]
  },
  {
   "cell_type": "code",
   "execution_count": null,
   "metadata": {},
   "outputs": [],
   "source": [
    "# extracting numerical labels from categorical data\n",
    "\n",
    "encoder = LabelEncoder()\n",
    "\n",
    "train['protocol_type_label'] = encoder.fit_transform(train['protocol_type'])\n",
    "test['protocol_type_label'] = encoder.fit_transform(test['protocol_type'])\n",
    "\n",
    "train['service_label'] = encoder.fit_transform(train['service'])\n",
    "test['service_label'] = encoder.fit_transform(test['service'])\n",
    "\n",
    "train['flag_label'] = encoder.fit_transform(train['flag'])\n",
    "test['flag_label'] = encoder.fit_transform(test['flag'])"
   ]
  },
  {
   "cell_type": "code",
   "execution_count": null,
   "metadata": {},
   "outputs": [],
   "source": [
    "# removing useless columns\n",
    "\n",
    "train.drop(['attack_class', 'num_learners'], axis = 1, inplace = True)\n",
    "test.drop(['attack_class', 'num_learners'], axis = 1, inplace = True)"
   ]
  },
  {
   "cell_type": "code",
   "execution_count": null,
   "metadata": {},
   "outputs": [],
   "source": [
    "# creating dataframes for storing training data for stacked model\n",
    "\n",
    "stacked_train_df = {}\n",
    "stacked_test_df = {}\n",
    "\n",
    "for attack_type in attack_classes:\n",
    "    stacked_train_df[attack_type] = pd.DataFrame()\n",
    "    stacked_test_df[attack_type] = pd.DataFrame()"
   ]
  },
  {
   "cell_type": "code",
   "execution_count": null,
   "metadata": {},
   "outputs": [],
   "source": [
    "# preparing data for training on models\n",
    "\n",
    "x_train = train.copy(deep = True)\n",
    "x_train.drop(['protocol_type', 'service', 'flag'], axis = 1, inplace = True)\n",
    "\n",
    "x_test = test.copy(deep = True)\n",
    "x_test.drop(['protocol_type', 'service', 'flag'], axis = 1, inplace = True)"
   ]
  },
  {
   "cell_type": "code",
   "execution_count": null,
   "metadata": {},
   "outputs": [],
   "source": [
    "# logistic regression classifier\n",
    "\n",
    "def getLRClf():\n",
    "    clf = LogisticRegression(C = 0.2, solver = 'liblinear')\n",
    "    return clf"
   ]
  },
  {
   "cell_type": "code",
   "execution_count": null,
   "metadata": {},
   "outputs": [],
   "source": [
    "# training on logistic regression classifier\n",
    "\n",
    "lr_accuracy = []\n",
    "\n",
    "for attack_type in attack_classes:\n",
    "    clf = getLRClf()\n",
    "    clf.fit(x_train, train_label[attack_type])\n",
    "    y_pred = clf.predict(x_test)\n",
    "    stacked_train_df[attack_type]['logistic_regression'] = clf.predict(x_train)\n",
    "    stacked_test_df[attack_type]['logistic_regression'] = y_pred\n",
    "    lr_accuracy += [accuracy_score(test_label[attack_type], y_pred)]\n",
    "    \n",
    "mean_lr_accuracy = np.mean(lr_accuracy)\n",
    "    \n",
    "print(\"Logistic Regression Classifier...\")\n",
    "print(\"Mean Accuracy score : \" + str(mean_lr_accuracy))"
   ]
  },
  {
   "cell_type": "code",
   "execution_count": null,
   "metadata": {},
   "outputs": [],
   "source": [
    "# XGBoost classifier\n",
    "\n",
    "import xgboost as xgb\n",
    "\n",
    "def getxgbclf(d_train, eval_list):\n",
    "    params = {'booster' : 'gbtree', 'nthread' : 4, 'eta' : 0.2, 'max_depth' : 6, 'min_child_weight' : 4,\n",
    "          'subsample' : 0.7, 'colsample_bytree' : 0.7, 'objective' : 'binary:logistic'}\n",
    "\n",
    "    clf = xgb.train(params, d_train, num_boost_round = 300, early_stopping_rounds = 100, \n",
    "                    evals = evallist, verbose_eval = False)\n",
    "    return clf"
   ]
  },
  {
   "cell_type": "code",
   "execution_count": null,
   "metadata": {},
   "outputs": [],
   "source": [
    "# training on XGBoost classifier\n",
    "\n",
    "xgb_accuracy = []\n",
    "\n",
    "for attack_type in attack_classes:\n",
    "    d_train = xgb.DMatrix(x_train, label = train_label[attack_type])\n",
    "    d_test = xgb.DMatrix(x_test, label = test_label[attack_type])\n",
    "    evallist = [(d_train, 'train'), (d_test, 'valid')]\n",
    "    clf = getxgbclf(d_train, evallist)\n",
    "    y_pred = (clf.predict(d_test) >= 0.5).astype(int)\n",
    "    stacked_train_df[attack_type]['xgb'] = (clf.predict(d_train) >= 0.5).astype(int)\n",
    "    stacked_test_df[attack_type]['xgb'] = y_pred\n",
    "    xgb_accuracy += [accuracy_score(test_label[attack_type], y_pred)]\n",
    "    \n",
    "mean_xgb_accuracy = np.mean(xgb_accuracy)\n",
    "    \n",
    "print(\"XGBoost Classifier...\")\n",
    "print(\"Mean Accuracy score : \" + str(mean_xgb_accuracy))"
   ]
  },
  {
   "cell_type": "code",
   "execution_count": null,
   "metadata": {},
   "outputs": [],
   "source": []
  },
  {
   "cell_type": "code",
   "execution_count": null,
   "metadata": {},
   "outputs": [],
   "source": []
  },
  {
   "cell_type": "code",
   "execution_count": null,
   "metadata": {},
   "outputs": [],
   "source": []
  },
  {
   "cell_type": "code",
   "execution_count": null,
   "metadata": {},
   "outputs": [],
   "source": []
  },
  {
   "cell_type": "code",
   "execution_count": null,
   "metadata": {},
   "outputs": [],
   "source": []
  },
  {
   "cell_type": "code",
   "execution_count": null,
   "metadata": {},
   "outputs": [],
   "source": []
  }
 ],
 "metadata": {
  "kernelspec": {
   "display_name": "Python 3",
   "language": "python",
   "name": "python3"
  },
  "language_info": {
   "codemirror_mode": {
    "name": "ipython",
    "version": 3
   },
   "file_extension": ".py",
   "mimetype": "text/x-python",
   "name": "python",
   "nbconvert_exporter": "python",
   "pygments_lexer": "ipython3",
   "version": "3.7.4"
  }
 },
 "nbformat": 4,
 "nbformat_minor": 2
}
