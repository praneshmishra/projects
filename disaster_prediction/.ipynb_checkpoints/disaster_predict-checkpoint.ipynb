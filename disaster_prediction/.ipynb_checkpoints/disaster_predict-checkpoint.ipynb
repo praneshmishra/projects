{
 "cells": [
  {
   "cell_type": "markdown",
   "metadata": {},
   "source": [
    "## Context and Objective\n",
    "Twitter has become an important communication channel in times of emergency.\n",
    "The ubiquitousness of smartphones enables people to announce an emergency they’re observing in real-time. Because of this, more agencies are interested in programatically monitoring Twitter (i.e. disaster relief organizations and news agencies).\n",
    "\n",
    "But, it’s not always clear whether a person’s words are actually announcing a disaster. \n",
    "Take this example:\n",
    "\n",
    "The author explicitly uses the word “ABLAZE” but means it metaphorically. This is clear to a human right away, especially with the visual aid. But it’s less clear to a machine.\n",
    "\n",
    "In this competition, you’re challenged to build a machine learning model that predicts which Tweets are about real disasters and which one’s aren’t. You’ll have access to a dataset of 10,000 tweets that were hand classified. If this is your first time working on an NLP problem, we've created a quick tutorial to get you up and running.\n",
    "\n",
    "Disclaimer: The dataset for this competition contains text that may be considered profane, vulgar, or offensive.\n",
    "\n",
    "Acknowledgments\n",
    "This dataset was created by the company figure-eight and originally shared on their ‘Data For Everyone’ website here.\n",
    "\n",
    "Tweet source: https://twitter.com/AnyOtherAnnaK/status/629195955506708480"
   ]
  },
  {
   "cell_type": "markdown",
   "metadata": {},
   "source": [
    "#### What should I expect the data format to be?\n",
    "Each sample in the train and test set has the following information:\n",
    "\n",
    "The text of a tweet\n",
    "A keyword from that tweet (although this may be blank!)\n",
    "The location the tweet was sent from (may also be blank)\n",
    "\n",
    "#### What am I predicting?\n",
    "You are predicting whether a given tweet is about a real disaster or not. If so, predict a 1. If not, predict a 0."
   ]
  },
  {
   "cell_type": "markdown",
   "metadata": {},
   "source": [
    "#### Data Columns\n",
    "id - a unique identifier for each tweet<br>\n",
    "text - the text of the tweet<br>\n",
    "location - the location the tweet was sent from (may be blank)<br>\n",
    "keyword - a particular keyword from the tweet (may be blank)<br>\n",
    "target - in train.csv only, this denotes whether a tweet is about a real disaster (1) or not (0)"
   ]
  },
  {
   "cell_type": "code",
   "execution_count": 3,
   "metadata": {},
   "outputs": [
    {
     "name": "stderr",
     "output_type": "stream",
     "text": [
      "C:\\ProgramData\\Anaconda3\\lib\\site-packages\\statsmodels\\tools\\_testing.py:19: FutureWarning: pandas.util.testing is deprecated. Use the functions in the public API at pandas.testing instead.\n",
      "  import pandas.util.testing as tm\n",
      "C:\\ProgramData\\Anaconda3\\lib\\site-packages\\past\\builtins\\misc.py:4: DeprecationWarning: Using or importing the ABCs from 'collections' instead of from 'collections.abc' is deprecated, and in 3.8 it will stop working\n",
      "  from collections import Mapping\n"
     ]
    },
    {
     "data": {
      "text/plain": [
       "<Figure size 432x216 with 0 Axes>"
      ]
     },
     "metadata": {},
     "output_type": "display_data"
    }
   ],
   "source": [
    "import pandas as pd \n",
    "import numpy as np\n",
    "\n",
    "from textblob import TextBlob\n",
    "from textblob import Word\n",
    "\n",
    "#Packages related to data visualizaiton\n",
    "import seaborn as sns\n",
    "import matplotlib.pyplot as plt\n",
    "from wordcloud import WordCloud\n",
    "%matplotlib inline\n",
    "\n",
    "import pickle\n",
    "\n",
    "import pandas_profiling\n",
    "\n",
    "import string\n",
    "import re\n",
    "\n",
    "import nltk\n",
    "#nltk.download('averaged_perceptron_tagger')\n",
    "#nltk.download('wordnet')\n",
    "#nltk.download('punkt')\n",
    "from nltk.corpus import stopwords\n",
    "#nltk.download('stopwords')\n",
    "stop_words=set(stopwords.words('english'))\n",
    "\n",
    "from nltk import pos_tag\n",
    "from nltk.stem.wordnet import WordNetLemmatizer \n",
    "from nltk.tokenize import word_tokenize\n",
    "from nltk.corpus import wordnet\n",
    "\n",
    "#FeatureEngineering\n",
    "from sklearn.feature_extraction.text import TfidfVectorizer, CountVectorizer, HashingVectorizer, TfidfTransformer\n",
    "from sklearn.metrics.pairwise import cosine_similarity\n",
    "from sklearn.decomposition import TruncatedSVD, LatentDirichletAllocation\n",
    "from sklearn.base import BaseEstimator, ClassifierMixin\n",
    "from sklearn.utils.validation import check_X_y, check_is_fitted\n",
    "from sklearn import model_selection, preprocessing, linear_model, naive_bayes, metrics, svm, decomposition, ensemble\n",
    "from sklearn.linear_model import LogisticRegression, RidgeClassifier, SGDClassifier\n",
    "from sklearn.ensemble import VotingClassifier\n",
    "from sklearn.metrics import log_loss\n",
    "from sklearn.model_selection import StratifiedKFold\n",
    "from sklearn.model_selection import train_test_split\n",
    "from sklearn.model_selection import GridSearchCV\n",
    "from sklearn.cluster import KMeans\n",
    "from sklearn.metrics import roc_curve, auc\n",
    "from sklearn.metrics import silhouette_score\n",
    "from sklearn.cluster import MiniBatchKMeans\n",
    "\n",
    "from sklearn.neighbors import KNeighborsClassifier\n",
    "from sklearn.ensemble import RandomForestClassifier\n",
    "from sklearn.ensemble import GradientBoostingClassifier, AdaBoostClassifier \n",
    "from xgboost import XGBClassifier\n",
    "\n",
    "# Importing Gensim\n",
    "import gensim\n",
    "from gensim.parsing.porter import PorterStemmer\n",
    "from gensim import corpora\n",
    "from gensim.utils import lemmatize #pip install pattern\n",
    "import pyLDAvis.gensim\n",
    "import spacy\n",
    "from spacy.matcher import Matcher\n",
    "\n",
    "from tqdm import tqdm\n",
    "import demoji\n",
    "#demoji.download_codes()\n",
    "from collections import defaultdict\n",
    "from collections import Counter\n",
    "\n",
    "#Setting plot sizes and type of plot\n",
    "plt.rc(\"font\", size=14)\n",
    "plt.rcParams['axes.grid'] = True\n",
    "plt.figure(figsize=(6,3))\n",
    "plt.gray()"
   ]
  },
  {
   "cell_type": "markdown",
   "metadata": {},
   "source": [
    "### load and explore the data"
   ]
  },
  {
   "cell_type": "code",
   "execution_count": 4,
   "metadata": {},
   "outputs": [],
   "source": [
    "# read train data into a DataFrame\n",
    "data = pd.read_csv('data/train.csv')"
   ]
  },
  {
   "cell_type": "code",
   "execution_count": 5,
   "metadata": {},
   "outputs": [
    {
     "data": {
      "text/html": [
       "<div>\n",
       "<style scoped>\n",
       "    .dataframe tbody tr th:only-of-type {\n",
       "        vertical-align: middle;\n",
       "    }\n",
       "\n",
       "    .dataframe tbody tr th {\n",
       "        vertical-align: top;\n",
       "    }\n",
       "\n",
       "    .dataframe thead th {\n",
       "        text-align: right;\n",
       "    }\n",
       "</style>\n",
       "<table border=\"1\" class=\"dataframe\">\n",
       "  <thead>\n",
       "    <tr style=\"text-align: right;\">\n",
       "      <th></th>\n",
       "      <th>id</th>\n",
       "      <th>keyword</th>\n",
       "      <th>location</th>\n",
       "      <th>text</th>\n",
       "      <th>target</th>\n",
       "    </tr>\n",
       "  </thead>\n",
       "  <tbody>\n",
       "    <tr>\n",
       "      <th>0</th>\n",
       "      <td>1</td>\n",
       "      <td>NaN</td>\n",
       "      <td>NaN</td>\n",
       "      <td>Our Deeds are the Reason of this #earthquake M...</td>\n",
       "      <td>1</td>\n",
       "    </tr>\n",
       "    <tr>\n",
       "      <th>1</th>\n",
       "      <td>4</td>\n",
       "      <td>NaN</td>\n",
       "      <td>NaN</td>\n",
       "      <td>Forest fire near La Ronge Sask. Canada</td>\n",
       "      <td>1</td>\n",
       "    </tr>\n",
       "    <tr>\n",
       "      <th>2</th>\n",
       "      <td>5</td>\n",
       "      <td>NaN</td>\n",
       "      <td>NaN</td>\n",
       "      <td>All residents asked to 'shelter in place' are ...</td>\n",
       "      <td>1</td>\n",
       "    </tr>\n",
       "    <tr>\n",
       "      <th>3</th>\n",
       "      <td>6</td>\n",
       "      <td>NaN</td>\n",
       "      <td>NaN</td>\n",
       "      <td>13,000 people receive #wildfires evacuation or...</td>\n",
       "      <td>1</td>\n",
       "    </tr>\n",
       "    <tr>\n",
       "      <th>4</th>\n",
       "      <td>7</td>\n",
       "      <td>NaN</td>\n",
       "      <td>NaN</td>\n",
       "      <td>Just got sent this photo from Ruby #Alaska as ...</td>\n",
       "      <td>1</td>\n",
       "    </tr>\n",
       "  </tbody>\n",
       "</table>\n",
       "</div>"
      ],
      "text/plain": [
       "   id keyword location                                               text  \\\n",
       "0   1     NaN      NaN  Our Deeds are the Reason of this #earthquake M...   \n",
       "1   4     NaN      NaN             Forest fire near La Ronge Sask. Canada   \n",
       "2   5     NaN      NaN  All residents asked to 'shelter in place' are ...   \n",
       "3   6     NaN      NaN  13,000 people receive #wildfires evacuation or...   \n",
       "4   7     NaN      NaN  Just got sent this photo from Ruby #Alaska as ...   \n",
       "\n",
       "   target  \n",
       "0       1  \n",
       "1       1  \n",
       "2       1  \n",
       "3       1  \n",
       "4       1  "
      ]
     },
     "execution_count": 5,
     "metadata": {},
     "output_type": "execute_result"
    }
   ],
   "source": [
    "data.head(5)"
   ]
  },
  {
   "cell_type": "code",
   "execution_count": 6,
   "metadata": {},
   "outputs": [
    {
     "name": "stdout",
     "output_type": "stream",
     "text": [
      "<class 'pandas.core.frame.DataFrame'>\n",
      "RangeIndex: 7613 entries, 0 to 7612\n",
      "Data columns (total 5 columns):\n",
      " #   Column    Non-Null Count  Dtype \n",
      "---  ------    --------------  ----- \n",
      " 0   id        7613 non-null   int64 \n",
      " 1   keyword   7552 non-null   object\n",
      " 2   location  5080 non-null   object\n",
      " 3   text      7613 non-null   object\n",
      " 4   target    7613 non-null   int64 \n",
      "dtypes: int64(2), object(3)\n",
      "memory usage: 297.5+ KB\n"
     ]
    }
   ],
   "source": [
    "data.info()"
   ]
  },
  {
   "cell_type": "code",
   "execution_count": 7,
   "metadata": {},
   "outputs": [
    {
     "data": {
      "text/plain": [
       "0    4342\n",
       "1    3271\n",
       "Name: target, dtype: int64"
      ]
     },
     "execution_count": 7,
     "metadata": {},
     "output_type": "execute_result"
    }
   ],
   "source": [
    "data['target'].value_counts()"
   ]
  },
  {
   "cell_type": "raw",
   "metadata": {},
   "source": [
    "### sample tweets below\n",
    "\n",
    "13,000 people receive #wildfires evacuation orders in California \n",
    "\n",
    "Just got sent this photo from Ruby #Alaska as smoke from #wildfires pours into a school\n",
    "\n",
    "#RockyFire Update => California Hwy. 20 closed in both directions due to Lake County fire - #CAfire #wildfires\n",
    "\n",
    "@bbcmtd Wholesale Markets ablaze http://t.co/lHYXEOHY6C\n",
    "\n",
    "We always try to bring the heavy. #metal #RT http://t.co/YAo1e0xngw\n",
    "\n",
    "#AFRICANBAZE: Breaking news:Nigeria flag set ablaze in Aba. http://t.co/2nndBGwyEi\n",
    "\n",
    "Crying out for more! Set me ablaze\n",
    "\n",
    "@nxwestmidlands huge fire at Wholesale markets ablaze http://t.co/rwzbFVNXER\n",
    "\n",
    "@ablaze what time does your talk go until? I don't know if I can make it due to work.\n",
    "\n",
    "'I can't have kids cuz I got in a bicycle accident &amp; split my testicles. it's impossible for me to have kids' MICHAEL YOU ARE THE FATHER\n",
    "\n",
    "Accident on I-24 W #NashvilleTraffic. Traffic moving 8m slower than usual. https://t.co/0GHk693EgJ\n",
    "\n",
    "Barbados #Bridgetown JAMAICA Â‰Ã›Ã’ Two cars set ablaze: SANTA CRUZ Â‰Ã›Ã“ Head of the St Elizabeth Police Superintende...  http://t.co/wDUEaj8Q4J\n"
   ]
  },
  {
   "cell_type": "code",
   "execution_count": 8,
   "metadata": {},
   "outputs": [
    {
     "name": "stdout",
     "output_type": "stream",
     "text": [
      "missing values in each columns\n",
      "id             0\n",
      "keyword       61\n",
      "location    2533\n",
      "text           0\n",
      "target         0\n",
      "dtype: int64\n"
     ]
    }
   ],
   "source": [
    "## check for missing values\n",
    "print(\"missing values in each columns\" , data.isnull().sum(), sep='\\n')"
   ]
  },
  {
   "cell_type": "code",
   "execution_count": 9,
   "metadata": {},
   "outputs": [
    {
     "name": "stdout",
     "output_type": "stream",
     "text": [
      "Number of duplicate rows : 0\n"
     ]
    }
   ],
   "source": [
    "## check for duplicate rows\n",
    "print(\"Number of duplicate rows :\" , len(data[data.duplicated(keep=False)]))"
   ]
  },
  {
   "cell_type": "markdown",
   "metadata": {},
   "source": [
    "### exploratory analysis"
   ]
  },
  {
   "cell_type": "code",
   "execution_count": 10,
   "metadata": {},
   "outputs": [
    {
     "data": {
      "text/plain": [
       "(438, 3)"
      ]
     },
     "execution_count": 10,
     "metadata": {},
     "output_type": "execute_result"
    }
   ],
   "source": [
    "#aggregating tweets over keywords.\n",
    "Keyword_target = data.groupby(['keyword','target']).agg({'target':['count']})\n",
    "Keyword_target.columns = [\"_\".join(x) for x in Keyword_target.columns.ravel()]\n",
    "Keyword_target.reset_index(inplace = True)\n",
    "Keyword_target.shape"
   ]
  },
  {
   "cell_type": "code",
   "execution_count": 11,
   "metadata": {},
   "outputs": [
    {
     "data": {
      "text/plain": [
       "<seaborn.axisgrid.FacetGrid at 0x2395550ab48>"
      ]
     },
     "execution_count": 11,
     "metadata": {},
     "output_type": "execute_result"
    },
    {
     "data": {
      "image/png": "[encoded data removed]",
      "text/plain": [
       "<Figure size 3573.72x504 with 1 Axes>"
      ]
     },
     "metadata": {},
     "output_type": "display_data"
    }
   ],
   "source": [
    "# Keywords Vs Target\n",
    "sns.set(font_scale=1)\n",
    "g = sns.catplot(x='keyword', y='target_count', hue='target',  data=Keyword_target, kind='bar', height=7, aspect=7, legend_out = True)\n",
    "g.set_axis_labels(\"Keywords\", \"Tweet count\");\n",
    "g._legend.set_title('Disaster')\n",
    "g.set_xticklabels(rotation=90)"
   ]
  },
  {
   "cell_type": "markdown",
   "metadata": {},
   "source": [
    "Double click on the chart to enlarge"
   ]
  },
  {
   "cell_type": "code",
   "execution_count": 28,
   "metadata": {},
   "outputs": [
    {
     "data": {
      "image/png": "[encoded data removed]",
      "text/plain": [
       "<Figure size 360x432 with 1 Axes>"
      ]
     },
     "metadata": {},
     "output_type": "display_data"
    }
   ],
   "source": [
    "# distribution of real vs not real disaster, \n",
    "target = data.groupby(['target'])['target'].count()\n",
    "\n",
    "fig, axs = plt.subplots(figsize = (5,6))\n",
    "sns.barplot(x=target.index, y=target.values)\n",
    "\n",
    "plt.title('Count of disaster is Real or Not',fontsize=20)\n",
    "plt.xlabel('Disastoer Real or Not',fontsize=15)\n",
    "plt.ylabel('count',fontsize=15)\n",
    "plt.show()"
   ]
  },
  {
   "cell_type": "code",
   "execution_count": 33,
   "metadata": {},
   "outputs": [
    {
     "data": {
      "text/html": [
       "<div>\n",
       "<style scoped>\n",
       "    .dataframe tbody tr th:only-of-type {\n",
       "        vertical-align: middle;\n",
       "    }\n",
       "\n",
       "    .dataframe tbody tr th {\n",
       "        vertical-align: top;\n",
       "    }\n",
       "\n",
       "    .dataframe thead th {\n",
       "        text-align: right;\n",
       "    }\n",
       "</style>\n",
       "<table border=\"1\" class=\"dataframe\">\n",
       "  <thead>\n",
       "    <tr style=\"text-align: right;\">\n",
       "      <th></th>\n",
       "      <th>id</th>\n",
       "      <th>keyword</th>\n",
       "      <th>location</th>\n",
       "      <th>text</th>\n",
       "      <th>target</th>\n",
       "      <th>count_word</th>\n",
       "      <th>count_unique_word</th>\n",
       "    </tr>\n",
       "  </thead>\n",
       "  <tbody>\n",
       "    <tr>\n",
       "      <th>0</th>\n",
       "      <td>1</td>\n",
       "      <td>NaN</td>\n",
       "      <td>NaN</td>\n",
       "      <td>Our Deeds are the Reason of this #earthquake M...</td>\n",
       "      <td>1</td>\n",
       "      <td>13</td>\n",
       "      <td>13</td>\n",
       "    </tr>\n",
       "    <tr>\n",
       "      <th>1</th>\n",
       "      <td>4</td>\n",
       "      <td>NaN</td>\n",
       "      <td>NaN</td>\n",
       "      <td>Forest fire near La Ronge Sask. Canada</td>\n",
       "      <td>1</td>\n",
       "      <td>7</td>\n",
       "      <td>7</td>\n",
       "    </tr>\n",
       "    <tr>\n",
       "      <th>2</th>\n",
       "      <td>5</td>\n",
       "      <td>NaN</td>\n",
       "      <td>NaN</td>\n",
       "      <td>All residents asked to 'shelter in place' are ...</td>\n",
       "      <td>1</td>\n",
       "      <td>22</td>\n",
       "      <td>20</td>\n",
       "    </tr>\n",
       "    <tr>\n",
       "      <th>3</th>\n",
       "      <td>6</td>\n",
       "      <td>NaN</td>\n",
       "      <td>NaN</td>\n",
       "      <td>13,000 people receive #wildfires evacuation or...</td>\n",
       "      <td>1</td>\n",
       "      <td>8</td>\n",
       "      <td>8</td>\n",
       "    </tr>\n",
       "    <tr>\n",
       "      <th>4</th>\n",
       "      <td>7</td>\n",
       "      <td>NaN</td>\n",
       "      <td>NaN</td>\n",
       "      <td>Just got sent this photo from Ruby #Alaska as ...</td>\n",
       "      <td>1</td>\n",
       "      <td>16</td>\n",
       "      <td>15</td>\n",
       "    </tr>\n",
       "  </tbody>\n",
       "</table>\n",
       "</div>"
      ],
      "text/plain": [
       "   id keyword location                                               text  \\\n",
       "0   1     NaN      NaN  Our Deeds are the Reason of this #earthquake M...   \n",
       "1   4     NaN      NaN             Forest fire near La Ronge Sask. Canada   \n",
       "2   5     NaN      NaN  All residents asked to 'shelter in place' are ...   \n",
       "3   6     NaN      NaN  13,000 people receive #wildfires evacuation or...   \n",
       "4   7     NaN      NaN  Just got sent this photo from Ruby #Alaska as ...   \n",
       "\n",
       "   target  count_word  count_unique_word  \n",
       "0       1          13                 13  \n",
       "1       1           7                  7  \n",
       "2       1          22                 20  \n",
       "3       1           8                  8  \n",
       "4       1          16                 15  "
      ]
     },
     "execution_count": 33,
     "metadata": {},
     "output_type": "execute_result"
    }
   ],
   "source": [
    "#Word count in each comment:\n",
    "data['count_word']=data[\"text\"].apply(lambda x: len(str(x).split()))\n",
    "\n",
    "#Unique word count\n",
    "data['count_unique_word']=data[\"text\"].apply(lambda x: len(set(str(x).split())))\n",
    "\n",
    "data.head(5)"
   ]
  },
  {
   "cell_type": "code",
   "execution_count": 44,
   "metadata": {},
   "outputs": [
    {
     "data": {
      "text/plain": [
       "Text(0.5, 1.0, 'Not disaster tweets')"
      ]
     },
     "execution_count": 44,
     "metadata": {},
     "output_type": "execute_result"
    },
    {
     "data": {
      "image/png": "[encoded data removed]",
      "text/plain": [
       "<Figure size 720x360 with 2 Axes>"
      ]
     },
     "metadata": {},
     "output_type": "display_data"
    }
   ],
   "source": [
    "#words on tweets\n",
    "fig,(ax1,ax2)=plt.subplots(1,2,figsize=(10,5))\n",
    "ax1.hist(data[data['target'] == 1]['count_word'],color='green')\n",
    "ax1.set_title('disaster tweets')\n",
    "\n",
    "ax2.hist(data[data['target'] == 0]['count_word'],color='yellow')\n",
    "ax2.set_title('Not disaster tweets')"
   ]
  },
  {
   "cell_type": "code",
   "execution_count": 45,
   "metadata": {},
   "outputs": [
    {
     "name": "stdout",
     "output_type": "stream",
     "text": [
      "Total word count in the corpus:  113461\n",
      "Total unique word count in the corpus:  109176\n"
     ]
    }
   ],
   "source": [
    "print(\"Total word count in the corpus: \", data['count_word'].sum())\n",
    "print(\"Total unique word count in the corpus: \", data['count_unique_word'].sum())"
   ]
  },
  {
   "cell_type": "markdown",
   "metadata": {},
   "source": [
    "### Data pre-processing"
   ]
  },
  {
   "cell_type": "code",
   "execution_count": 46,
   "metadata": {},
   "outputs": [],
   "source": [
    "## target = Y, text = X\n",
    "tweet_data = data[['text','target','count_word','count_unique_word']].copy()"
   ]
  },
  {
   "cell_type": "code",
   "execution_count": 47,
   "metadata": {},
   "outputs": [],
   "source": [
    "#### cleanup\n",
    "#urls\n",
    "#special characters, punctuations ?\n",
    "#abbreviations\n",
    "#emojis\n",
    "#hash tags, @users\n",
    "#numbers\n",
    "#stop words"
   ]
  },
  {
   "cell_type": "code",
   "execution_count": 48,
   "metadata": {},
   "outputs": [],
   "source": [
    "#removes hashtags and @users, seperates on punctuations\n",
    "def strip_all_entities(text):\n",
    "    entity_prefixes = ['@','#']\n",
    "    for separator in  string.punctuation:\n",
    "        if separator not in entity_prefixes :\n",
    "            text = text.replace(separator,' ')\n",
    "    words = []\n",
    "    for word in text.split():\n",
    "        word = word.strip()\n",
    "        if word:\n",
    "            if word[0] not in entity_prefixes:\n",
    "                words.append(word)\n",
    "    return ' '.join(words)"
   ]
  },
  {
   "cell_type": "code",
   "execution_count": 49,
   "metadata": {},
   "outputs": [],
   "source": [
    "# we would use gensium's stop word list\n",
    "gensium_stopwords = gensim.parsing.preprocessing.STOPWORDS"
   ]
  },
  {
   "cell_type": "code",
   "execution_count": 50,
   "metadata": {},
   "outputs": [],
   "source": [
    "#removes stop words and any word with 1 or 2 char length and stemming\n",
    "def remove_stops(text):\n",
    "    p = PorterStemmer()\n",
    "    words = []\n",
    "    for word in text.split():\n",
    "        word = word.strip()\n",
    "        if word:\n",
    "            #turns out that fire is a stop word, need to make an exception\n",
    "            if word == 'fire' or (word not in gensium_stopwords and len(word) > 3):\n",
    "                word = p.stem(word)\n",
    "                words.append(word)\n",
    "    return ' '.join(words)"
   ]
  },
  {
   "cell_type": "code",
   "execution_count": 51,
   "metadata": {},
   "outputs": [],
   "source": [
    "def clean_text(text):\n",
    "\n",
    "    # remove web addresses\n",
    "    text = re.sub(r'(www\\.[^\\s]+)|(https?://[^\\s]+)','', text)\n",
    "\n",
    "    # Remove Emails\n",
    "    text = re.sub(r'\\S*@\\S*\\s?', '', text)\n",
    "    \n",
    "    # Remove emojis\n",
    "    text = demoji.replace(text,'')\n",
    "    \n",
    "    #Remove HTML tags\n",
    "    text = re.sub(r'<.*?>','',text)\n",
    "    \n",
    "    # Remove new line characters\n",
    "    text = re.sub(r'\\s+', ' ', text)\n",
    "    \n",
    "    #removes hashtags and @users, seperates on punctuations\n",
    "    text = strip_all_entities(text)\n",
    "                       \n",
    "    #remove numbers (this would take care of telephones too)\n",
    "    text = re.sub(r'\\d+', '', text)\n",
    "\n",
    "    #remove continuos spaces with one space character\n",
    "    text = re.sub(r' +', ' ', text)\n",
    "    \n",
    "    # to lower case\n",
    "    text = text.lower() \n",
    "    \n",
    "    return text\n"
   ]
  },
  {
   "cell_type": "code",
   "execution_count": 52,
   "metadata": {},
   "outputs": [],
   "source": [
    "tweet_data['text'] = tweet_data['text'].apply(clean_text)"
   ]
  },
  {
   "cell_type": "code",
   "execution_count": 53,
   "metadata": {},
   "outputs": [
    {
     "data": {
      "text/plain": [
       "0    our deeds are the reason of this may allah for...\n",
       "1                forest fire near la ronge sask canada\n",
       "2    all residents asked to shelter in place are be...\n",
       "3       people receive evacuation orders in california\n",
       "4    just got sent this photo from ruby as smoke fr...\n",
       "Name: text, dtype: object"
      ]
     },
     "execution_count": 53,
     "metadata": {},
     "output_type": "execute_result"
    }
   ],
   "source": [
    "tweet_data['text'][:5]"
   ]
  },
  {
   "cell_type": "markdown",
   "metadata": {},
   "source": [
    "#### looking at the above we should be ok with the stop words, I would strip out the 1 or 2 letter words anyway"
   ]
  },
  {
   "cell_type": "code",
   "execution_count": 54,
   "metadata": {},
   "outputs": [],
   "source": [
    "## remove stop words\n",
    "tweet_data['text'] = tweet_data['text'].apply(remove_stops)"
   ]
  },
  {
   "cell_type": "code",
   "execution_count": 55,
   "metadata": {},
   "outputs": [],
   "source": [
    "## create word frequncy\n",
    "def get_word_freq(text_data):\n",
    "    corpus=[]    \n",
    "    for x in text_data.str.split():\n",
    "        for i in x:\n",
    "            corpus.append(i)\n",
    "\n",
    "    dic=defaultdict(int)\n",
    "    for word in corpus:\n",
    "        dic[word]+=1\n",
    "\n",
    "    top=sorted(dic.items(), key=lambda x:x[1],reverse=True)\n",
    "    top_df = pd.DataFrame.from_dict(top)\n",
    "    top_df.columns = ['word', 'freq']\n",
    "    print('wrod freqency dataframe shape: ', top_df.shape)\n",
    "    return top_df\n",
    "\n",
    "def not_frequent(text_data, freq=10):\n",
    "    tmp_df = get_word_freq(text_data)\n",
    "    tmp_df = tmp_df[tmp_df['freq'] < freq] \n",
    "    return tmp_df['word']"
   ]
  },
  {
   "cell_type": "code",
   "execution_count": 56,
   "metadata": {},
   "outputs": [],
   "source": [
    "#removes infrequent words\n",
    "def remove_not_freq(text):\n",
    "    words = []\n",
    "    for word in text.split():\n",
    "        word = word.strip()\n",
    "        if word:\n",
    "            if word not in infreq_list:\n",
    "                words.append(word)\n",
    "    return ' '.join(words)"
   ]
  },
  {
   "cell_type": "code",
   "execution_count": 57,
   "metadata": {},
   "outputs": [],
   "source": [
    "#get word frequency\n",
    "#infreq_list = not_frequent(tweet_data['text'], 2).to_list()\n",
    "#remove words with a frequency less than 10\n",
    "#tweet_data['text'] = tweet_data['text'].apply(remove_not_freq)"
   ]
  },
  {
   "cell_type": "code",
   "execution_count": 58,
   "metadata": {},
   "outputs": [
    {
     "name": "stdout",
     "output_type": "stream",
     "text": [
      "wrod freqency dataframe shape:  (9118, 2)\n"
     ]
    },
    {
     "data": {
      "text/html": [
       "<div>\n",
       "<style scoped>\n",
       "    .dataframe tbody tr th:only-of-type {\n",
       "        vertical-align: middle;\n",
       "    }\n",
       "\n",
       "    .dataframe tbody tr th {\n",
       "        vertical-align: top;\n",
       "    }\n",
       "\n",
       "    .dataframe thead th {\n",
       "        text-align: right;\n",
       "    }\n",
       "</style>\n",
       "<table border=\"1\" class=\"dataframe\">\n",
       "  <thead>\n",
       "    <tr style=\"text-align: right;\">\n",
       "      <th></th>\n",
       "      <th>word</th>\n",
       "      <th>freq</th>\n",
       "    </tr>\n",
       "  </thead>\n",
       "  <tbody>\n",
       "    <tr>\n",
       "      <th>0</th>\n",
       "      <td>like</td>\n",
       "      <td>410</td>\n",
       "    </tr>\n",
       "    <tr>\n",
       "      <th>1</th>\n",
       "      <td>fire</td>\n",
       "      <td>355</td>\n",
       "    </tr>\n",
       "    <tr>\n",
       "      <th>2</th>\n",
       "      <td>bomb</td>\n",
       "      <td>236</td>\n",
       "    </tr>\n",
       "    <tr>\n",
       "      <th>3</th>\n",
       "      <td>peopl</td>\n",
       "      <td>199</td>\n",
       "    </tr>\n",
       "    <tr>\n",
       "      <th>4</th>\n",
       "      <td>time</td>\n",
       "      <td>180</td>\n",
       "    </tr>\n",
       "    <tr>\n",
       "      <th>...</th>\n",
       "      <td>...</td>\n",
       "      <td>...</td>\n",
       "    </tr>\n",
       "    <tr>\n",
       "      <th>9113</th>\n",
       "      <td>iwat</td>\n",
       "      <td>1</td>\n",
       "    </tr>\n",
       "    <tr>\n",
       "      <th>9114</th>\n",
       "      <td>ayyo</td>\n",
       "      <td>1</td>\n",
       "    </tr>\n",
       "    <tr>\n",
       "      <th>9115</th>\n",
       "      <td>overtak</td>\n",
       "      <td>1</td>\n",
       "    </tr>\n",
       "    <tr>\n",
       "      <th>9116</th>\n",
       "      <td>fornei</td>\n",
       "      <td>1</td>\n",
       "    </tr>\n",
       "    <tr>\n",
       "      <th>9117</th>\n",
       "      <td>symptom</td>\n",
       "      <td>1</td>\n",
       "    </tr>\n",
       "  </tbody>\n",
       "</table>\n",
       "<p>9118 rows × 2 columns</p>\n",
       "</div>"
      ],
      "text/plain": [
       "         word  freq\n",
       "0        like   410\n",
       "1        fire   355\n",
       "2        bomb   236\n",
       "3       peopl   199\n",
       "4        time   180\n",
       "...       ...   ...\n",
       "9113     iwat     1\n",
       "9114     ayyo     1\n",
       "9115  overtak     1\n",
       "9116   fornei     1\n",
       "9117  symptom     1\n",
       "\n",
       "[9118 rows x 2 columns]"
      ]
     },
     "execution_count": 58,
     "metadata": {},
     "output_type": "execute_result"
    }
   ],
   "source": [
    "get_word_freq(tweet_data['text'])"
   ]
  },
  {
   "cell_type": "code",
   "execution_count": 59,
   "metadata": {},
   "outputs": [],
   "source": [
    "#Word count in each comment after processing:\n",
    "tweet_data['post_process_cnt_wrd']=tweet_data[\"text\"].apply(lambda x: len(str(x).split()))\n",
    "\n",
    "#Unique word count after processing\n",
    "tweet_data['post_process_cnt_uniq_wrd']=tweet_data[\"text\"].apply(lambda x: len(set(str(x).split())))"
   ]
  },
  {
   "cell_type": "code",
   "execution_count": 60,
   "metadata": {},
   "outputs": [
    {
     "data": {
      "text/html": [
       "<div>\n",
       "<style scoped>\n",
       "    .dataframe tbody tr th:only-of-type {\n",
       "        vertical-align: middle;\n",
       "    }\n",
       "\n",
       "    .dataframe tbody tr th {\n",
       "        vertical-align: top;\n",
       "    }\n",
       "\n",
       "    .dataframe thead th {\n",
       "        text-align: right;\n",
       "    }\n",
       "</style>\n",
       "<table border=\"1\" class=\"dataframe\">\n",
       "  <thead>\n",
       "    <tr style=\"text-align: right;\">\n",
       "      <th></th>\n",
       "      <th>text</th>\n",
       "      <th>target</th>\n",
       "      <th>count_word</th>\n",
       "      <th>count_unique_word</th>\n",
       "      <th>post_process_cnt_wrd</th>\n",
       "      <th>post_process_cnt_uniq_wrd</th>\n",
       "    </tr>\n",
       "  </thead>\n",
       "  <tbody>\n",
       "    <tr>\n",
       "      <th>0</th>\n",
       "      <td>deed reason allah forgiv</td>\n",
       "      <td>1</td>\n",
       "      <td>13</td>\n",
       "      <td>13</td>\n",
       "      <td>4</td>\n",
       "      <td>4</td>\n",
       "    </tr>\n",
       "    <tr>\n",
       "      <th>1</th>\n",
       "      <td>forest fire near rong sask canada</td>\n",
       "      <td>1</td>\n",
       "      <td>7</td>\n",
       "      <td>7</td>\n",
       "      <td>6</td>\n",
       "      <td>6</td>\n",
       "    </tr>\n",
       "    <tr>\n",
       "      <th>2</th>\n",
       "      <td>resid ask shelter place notifi offic evacu she...</td>\n",
       "      <td>1</td>\n",
       "      <td>22</td>\n",
       "      <td>20</td>\n",
       "      <td>11</td>\n",
       "      <td>9</td>\n",
       "    </tr>\n",
       "    <tr>\n",
       "      <th>3</th>\n",
       "      <td>peopl receiv evacu order california</td>\n",
       "      <td>1</td>\n",
       "      <td>8</td>\n",
       "      <td>8</td>\n",
       "      <td>5</td>\n",
       "      <td>5</td>\n",
       "    </tr>\n",
       "    <tr>\n",
       "      <th>4</th>\n",
       "      <td>sent photo rubi smoke pour school</td>\n",
       "      <td>1</td>\n",
       "      <td>16</td>\n",
       "      <td>15</td>\n",
       "      <td>6</td>\n",
       "      <td>6</td>\n",
       "    </tr>\n",
       "    <tr>\n",
       "      <th>5</th>\n",
       "      <td>updat california close direct lake counti fire</td>\n",
       "      <td>1</td>\n",
       "      <td>18</td>\n",
       "      <td>18</td>\n",
       "      <td>7</td>\n",
       "      <td>7</td>\n",
       "    </tr>\n",
       "    <tr>\n",
       "      <th>6</th>\n",
       "      <td>heavi rain caus flash flood street manit color...</td>\n",
       "      <td>1</td>\n",
       "      <td>14</td>\n",
       "      <td>14</td>\n",
       "      <td>10</td>\n",
       "      <td>10</td>\n",
       "    </tr>\n",
       "    <tr>\n",
       "      <th>7</th>\n",
       "      <td>hill fire wood</td>\n",
       "      <td>1</td>\n",
       "      <td>15</td>\n",
       "      <td>14</td>\n",
       "      <td>3</td>\n",
       "      <td>3</td>\n",
       "    </tr>\n",
       "    <tr>\n",
       "      <th>8</th>\n",
       "      <td>emerg evacu happen build street</td>\n",
       "      <td>1</td>\n",
       "      <td>12</td>\n",
       "      <td>11</td>\n",
       "      <td>5</td>\n",
       "      <td>5</td>\n",
       "    </tr>\n",
       "    <tr>\n",
       "      <th>9</th>\n",
       "      <td>afraid tornado come area</td>\n",
       "      <td>1</td>\n",
       "      <td>10</td>\n",
       "      <td>10</td>\n",
       "      <td>4</td>\n",
       "      <td>4</td>\n",
       "    </tr>\n",
       "  </tbody>\n",
       "</table>\n",
       "</div>"
      ],
      "text/plain": [
       "                                                text  target  count_word  \\\n",
       "0                           deed reason allah forgiv       1          13   \n",
       "1                  forest fire near rong sask canada       1           7   \n",
       "2  resid ask shelter place notifi offic evacu she...       1          22   \n",
       "3                peopl receiv evacu order california       1           8   \n",
       "4                  sent photo rubi smoke pour school       1          16   \n",
       "5     updat california close direct lake counti fire       1          18   \n",
       "6  heavi rain caus flash flood street manit color...       1          14   \n",
       "7                                     hill fire wood       1          15   \n",
       "8                    emerg evacu happen build street       1          12   \n",
       "9                           afraid tornado come area       1          10   \n",
       "\n",
       "   count_unique_word  post_process_cnt_wrd  post_process_cnt_uniq_wrd  \n",
       "0                 13                     4                          4  \n",
       "1                  7                     6                          6  \n",
       "2                 20                    11                          9  \n",
       "3                  8                     5                          5  \n",
       "4                 15                     6                          6  \n",
       "5                 18                     7                          7  \n",
       "6                 14                    10                         10  \n",
       "7                 14                     3                          3  \n",
       "8                 11                     5                          5  \n",
       "9                 10                     4                          4  "
      ]
     },
     "execution_count": 60,
     "metadata": {},
     "output_type": "execute_result"
    }
   ],
   "source": [
    "tweet_data.head(10)"
   ]
  },
  {
   "cell_type": "code",
   "execution_count": 61,
   "metadata": {},
   "outputs": [],
   "source": [
    "#function for priting out the metrics\n",
    "def print_metrics(model, train_test, y, y_pred):\n",
    "    \n",
    "    rsquared_adj = 'NA'\n",
    "    print(\"***************************** START *******************************\")\n",
    "    print(\"Metrics output for - \", train_test, \" Data\")\n",
    "    print(\"Model Used :\\n \", model)\n",
    "    accuray = metrics.accuracy_score(y, y_pred)\n",
    "    F1_Score  = metrics.f1_score(y, y_pred)\n",
    "    \n",
    "    # For ROC_AUC - predict probabilities on train and test\n",
    "    #predict_prob_train = nb_model.predict_proba(train_X_tfidf)[:,1]\n",
    "    #predict_prob_test = nb_model.predict_proba(test_X_tfidf)[:,1]\n",
    "    #print('ROC_AUC score on train: ',metrics.roc_auc_score(train_y,predict_prob_train))\n",
    "    #print('ROC_AUC score on test: ',metrics.roc_auc_score(test_y,predict_prob_test))\n",
    "    \n",
    "    print('\\n')\n",
    "    print(\"Accuray : \",accuray)\n",
    "    print(\"F1_Score: \",F1_Score)\n",
    "    print(\"***************************** END *******************************\")\n",
    "    \n",
    "    df = pd.DataFrame(columns=metrics_df.columns)\n",
    "    model_string = str(model).split('(')[0]\n",
    "    df.loc[-1] = [model,model_string,train_test,accuray,F1_Score]\n",
    "    df.index = df.index + 1\n",
    "    \n",
    "    return df"
   ]
  },
  {
   "cell_type": "code",
   "execution_count": 70,
   "metadata": {},
   "outputs": [],
   "source": [
    "#metrics_df = pd.DataFrame(columns=[\"Model\",\"Model_Name\",\"Train_Test\",\"Accuracy\",\"F1_Score\"])"
   ]
  },
  {
   "cell_type": "code",
   "execution_count": null,
   "metadata": {},
   "outputs": [],
   "source": []
  },
  {
   "cell_type": "markdown",
   "metadata": {},
   "source": [
    "### Split the data into train & Test"
   ]
  },
  {
   "cell_type": "code",
   "execution_count": 71,
   "metadata": {},
   "outputs": [
    {
     "name": "stdout",
     "output_type": "stream",
     "text": [
      "train_X length: 5709\n",
      "test_X length: 1904\n",
      "train_y length: (5709,)\n",
      "test_y length: (1904,)\n"
     ]
    }
   ],
   "source": [
    "#### Split the data into train & Test\n",
    "\n",
    "# split the new DataFrame into training and testing sets\n",
    "y = tweet_data['target']\n",
    "X = tweet_data['text']\n",
    "train_X, test_X, train_y, test_y = train_test_split(X, y, random_state=1)\n",
    "print('train_X length:' , len(train_X))\n",
    "print('test_X length:' , len(test_X))\n",
    "print('train_y length:' , train_y.shape)\n",
    "print('test_y length:' , test_y.shape)"
   ]
  },
  {
   "cell_type": "markdown",
   "metadata": {},
   "source": [
    "#### TF-IDF matrix for both train & test"
   ]
  },
  {
   "cell_type": "raw",
   "metadata": {},
   "source": [
    "tfidf_vect = TfidfVectorizer(analyzer='word', \n",
    "                             token_pattern=r'\\w{1,}', \n",
    "                             ngram_range=(1, 1 ), \n",
    "                             min_df=5, \n",
    "                             encoding='latin-1', \n",
    "                             max_features=3000)\n",
    "train_X_tfidf = tfidf_vect.fit_transform(train_X)\n",
    "\n",
    "test_X_tfidf = tfidf_vect.transform(test_X)"
   ]
  },
  {
   "cell_type": "code",
   "execution_count": 72,
   "metadata": {},
   "outputs": [],
   "source": [
    "tfidf_vect = TfidfVectorizer()\n",
    "train_X_tfidf = tfidf_vect.fit_transform(train_X)\n",
    "\n",
    "test_X_tfidf = tfidf_vect.transform(test_X)"
   ]
  },
  {
   "cell_type": "markdown",
   "metadata": {},
   "source": [
    "### Naive Bayes classification"
   ]
  },
  {
   "cell_type": "code",
   "execution_count": 73,
   "metadata": {},
   "outputs": [],
   "source": [
    "# building naive bayes model on TF-IDF\n",
    "nb_model = naive_bayes.BernoulliNB()"
   ]
  },
  {
   "cell_type": "code",
   "execution_count": 74,
   "metadata": {},
   "outputs": [
    {
     "data": {
      "text/plain": [
       "BernoulliNB()"
      ]
     },
     "execution_count": 74,
     "metadata": {},
     "output_type": "execute_result"
    }
   ],
   "source": [
    "nb_model.fit(train_X_tfidf,train_y)"
   ]
  },
  {
   "cell_type": "code",
   "execution_count": 75,
   "metadata": {},
   "outputs": [],
   "source": [
    "predict_train = nb_model.predict(train_X_tfidf)\n",
    "predict_test = nb_model.predict(test_X_tfidf)"
   ]
  },
  {
   "cell_type": "code",
   "execution_count": 76,
   "metadata": {},
   "outputs": [
    {
     "name": "stdout",
     "output_type": "stream",
     "text": [
      "***************************** START *******************************\n",
      "Metrics output for -  TRAIN  Data\n",
      "Model Used :\n",
      "  BernoulliNB()\n",
      "\n",
      "\n",
      "Accuray :  0.8866701699071641\n",
      "F1_Score:  0.8578958928179222\n",
      "***************************** END *******************************\n",
      "***************************** START *******************************\n",
      "Metrics output for -  TEST  Data\n",
      "Model Used :\n",
      "  BernoulliNB()\n",
      "\n",
      "\n",
      "Accuray :  0.8035714285714286\n",
      "F1_Score:  0.740638002773925\n",
      "***************************** END *******************************\n"
     ]
    }
   ],
   "source": [
    "#print metrics for train\n",
    "df = print_metrics(nb_model, 'TRAIN', train_y, predict_train)\n",
    "metrics_df = metrics_df.append(df)\n",
    "#print metrics for test\n",
    "df = print_metrics(nb_model, 'TEST', test_y, predict_test)\n",
    "metrics_df = metrics_df.append(df)"
   ]
  },
  {
   "cell_type": "markdown",
   "metadata": {},
   "source": [
    "### XGBoost Classifier"
   ]
  },
  {
   "cell_type": "raw",
   "metadata": {},
   "source": [
    "xgb_estimator = XGBClassifier( learning_rate=0.01,\n",
    "                               n_estimators=1000,\n",
    "                               max_depth=5,\n",
    "                               min_child_weight=1,\n",
    "                               gamma=1,\n",
    "                               subsample=0.8,\n",
    "                               colsample_bytree=0.8,\n",
    "                               n_jobs=-1,\n",
    "                               reg_alpa=1,\n",
    "                               scale_pos_weight=1,\n",
    "                               random_state=42,\n",
    "                               verbose=1)"
   ]
  },
  {
   "cell_type": "code",
   "execution_count": 78,
   "metadata": {},
   "outputs": [
    {
     "name": "stdout",
     "output_type": "stream",
     "text": [
      "Fitting 3 folds for each of 27 candidates, totalling 81 fits\n"
     ]
    },
    {
     "name": "stderr",
     "output_type": "stream",
     "text": [
      "[Parallel(n_jobs=-1)]: Using backend LokyBackend with 4 concurrent workers.\n",
      "[Parallel(n_jobs=-1)]: Done  42 tasks      | elapsed:  8.2min\n",
      "[Parallel(n_jobs=-1)]: Done  81 out of  81 | elapsed: 15.6min finished\n"
     ]
    }
   ],
   "source": [
    "#parameter grid for gridsearchCV\n",
    "param_grid_xgb = {'n_estimators': [700,800,900],\n",
    "                  'max_depth': [ 12, 14, 16],\n",
    "                 'learning_rate': [0.03,0.04,0.05]\n",
    "                 }\n",
    "\n",
    "gscv_xgb = GridSearchCV(estimator=XGBClassifier(), \n",
    "                        param_grid=param_grid_xgb, \n",
    "                        cv=3,\n",
    "                        verbose=True, n_jobs=-1)\n",
    "\n",
    "gscv_results = gscv_xgb.fit(train_X_tfidf,train_y)"
   ]
  },
  {
   "cell_type": "code",
   "execution_count": 79,
   "metadata": {},
   "outputs": [
    {
     "data": {
      "text/plain": [
       "{'learning_rate': 0.04, 'max_depth': 12, 'n_estimators': 800}"
      ]
     },
     "execution_count": 79,
     "metadata": {},
     "output_type": "execute_result"
    }
   ],
   "source": [
    "gscv_results.best_params_"
   ]
  },
  {
   "cell_type": "code",
   "execution_count": 80,
   "metadata": {},
   "outputs": [],
   "source": [
    "predict_train = gscv_xgb.predict(train_X_tfidf)\n",
    "predict_test = gscv_xgb.predict(test_X_tfidf)"
   ]
  },
  {
   "cell_type": "code",
   "execution_count": 81,
   "metadata": {},
   "outputs": [
    {
     "name": "stdout",
     "output_type": "stream",
     "text": [
      "***************************** START *******************************\n",
      "Metrics output for -  TRAIN  Data\n",
      "Model Used :\n",
      "  XGBClassifier(base_score=0.5, booster='gbtree', colsample_bylevel=1,\n",
      "              colsample_bynode=1, colsample_bytree=1, gamma=0, gpu_id=-1,\n",
      "              importance_type='gain', interaction_constraints='',\n",
      "              learning_rate=0.04, max_delta_step=0, max_depth=12,\n",
      "              min_child_weight=1, missing=nan, monotone_constraints='()',\n",
      "              n_estimators=800, n_jobs=0, num_parallel_tree=1, random_state=0,\n",
      "              reg_alpha=0, reg_lambda=1, scale_pos_weight=1, subsample=1,\n",
      "              tree_method='exact', validate_parameters=1, verbosity=None)\n",
      "\n",
      "\n",
      "Accuray :  0.9010334559467508\n",
      "F1_Score:  0.8741928301046538\n",
      "***************************** END *******************************\n",
      "***************************** START *******************************\n",
      "Metrics output for -  TEST  Data\n",
      "Model Used :\n",
      "  XGBClassifier(base_score=0.5, booster='gbtree', colsample_bylevel=1,\n",
      "              colsample_bynode=1, colsample_bytree=1, gamma=0, gpu_id=-1,\n",
      "              importance_type='gain', interaction_constraints='',\n",
      "              learning_rate=0.04, max_delta_step=0, max_depth=12,\n",
      "              min_child_weight=1, missing=nan, monotone_constraints='()',\n",
      "              n_estimators=800, n_jobs=0, num_parallel_tree=1, random_state=0,\n",
      "              reg_alpha=0, reg_lambda=1, scale_pos_weight=1, subsample=1,\n",
      "              tree_method='exact', validate_parameters=1, verbosity=None)\n",
      "\n",
      "\n",
      "Accuray :  0.7641806722689075\n",
      "F1_Score:  0.6976430976430977\n",
      "***************************** END *******************************\n"
     ]
    }
   ],
   "source": [
    "#print metrics for train\n",
    "df = print_metrics(gscv_results.best_estimator_, 'TRAIN', train_y, predict_train)\n",
    "metrics_df = metrics_df.append(df)\n",
    "#print metrics for test\n",
    "df = print_metrics(gscv_results.best_estimator_, 'TEST', test_y, predict_test)\n",
    "metrics_df = metrics_df.append(df)"
   ]
  },
  {
   "cell_type": "markdown",
   "metadata": {},
   "source": [
    "### KNN"
   ]
  },
  {
   "cell_type": "code",
   "execution_count": 82,
   "metadata": {},
   "outputs": [
    {
     "data": {
      "text/plain": [
       "GridSearchCV(cv=3, estimator=KNeighborsClassifier(),\n",
       "             param_grid={'n_neighbors': [4, 5, 6, 7, 8, 9, 10],\n",
       "                         'weights': ['distance']},\n",
       "             scoring='f1_weighted')"
      ]
     },
     "execution_count": 82,
     "metadata": {},
     "output_type": "execute_result"
    }
   ],
   "source": [
    "param_grid = {'n_neighbors': [4,5,6,7,8,9,10], 'weights': ['distance']}\n",
    "\n",
    "model_knn_gcv = GridSearchCV(KNeighborsClassifier(), param_grid, cv = 3, scoring = 'f1_weighted')\n",
    "\n",
    "model_knn_gcv.fit(train_X_tfidf,train_y)"
   ]
  },
  {
   "cell_type": "code",
   "execution_count": 83,
   "metadata": {},
   "outputs": [
    {
     "data": {
      "text/plain": [
       "{'n_neighbors': 4, 'weights': 'distance'}"
      ]
     },
     "execution_count": 83,
     "metadata": {},
     "output_type": "execute_result"
    }
   ],
   "source": [
    "model_knn_gcv.best_params_"
   ]
  },
  {
   "cell_type": "code",
   "execution_count": 84,
   "metadata": {},
   "outputs": [],
   "source": [
    "predict_train = model_knn_gcv.predict(train_X_tfidf)\n",
    "predict_test = model_knn_gcv.predict(test_X_tfidf)"
   ]
  },
  {
   "cell_type": "code",
   "execution_count": 85,
   "metadata": {},
   "outputs": [
    {
     "name": "stdout",
     "output_type": "stream",
     "text": [
      "***************************** START *******************************\n",
      "Metrics output for -  TRAIN  Data\n",
      "Model Used :\n",
      "  KNeighborsClassifier(n_neighbors=4, weights='distance')\n",
      "\n",
      "\n",
      "Accuray :  0.9821334734629532\n",
      "F1_Score:  0.9788732394366196\n",
      "***************************** END *******************************\n",
      "***************************** START *******************************\n",
      "Metrics output for -  TEST  Data\n",
      "Model Used :\n",
      "  KNeighborsClassifier(n_neighbors=4, weights='distance')\n",
      "\n",
      "\n",
      "Accuray :  0.6822478991596639\n",
      "F1_Score:  0.5371078806426932\n",
      "***************************** END *******************************\n"
     ]
    }
   ],
   "source": [
    "#print metrics for train\n",
    "df = print_metrics(model_knn_gcv.best_estimator_, 'TRAIN', train_y, predict_train)\n",
    "metrics_df = metrics_df.append(df)\n",
    "#print metrics for test\n",
    "df = print_metrics(model_knn_gcv.best_estimator_, 'TEST', test_y, predict_test)\n",
    "metrics_df = metrics_df.append(df)"
   ]
  },
  {
   "cell_type": "markdown",
   "metadata": {},
   "source": [
    "### ridge classifier"
   ]
  },
  {
   "cell_type": "code",
   "execution_count": 86,
   "metadata": {},
   "outputs": [
    {
     "name": "stdout",
     "output_type": "stream",
     "text": [
      "Best combination: {'alpha': 3}\n"
     ]
    }
   ],
   "source": [
    "# Initializing Model\n",
    "tuned_parameters = [{'alpha': [0.001,0.01,0.1,1,3, 5, 6,7,8, 9,10]}]\n",
    "RidgeCV = GridSearchCV(RidgeClassifier(),\n",
    "                   tuned_parameters,\n",
    "                   cv=5,\n",
    "                   n_jobs=-1)\n",
    "\n",
    "RidgeCV.fit(train_X_tfidf,train_y)\n",
    "print('Best combination:', RidgeCV.best_params_);"
   ]
  },
  {
   "cell_type": "code",
   "execution_count": 87,
   "metadata": {},
   "outputs": [],
   "source": [
    "predict_train = RidgeCV.predict(train_X_tfidf)\n",
    "predict_test = RidgeCV.predict(test_X_tfidf)"
   ]
  },
  {
   "cell_type": "code",
   "execution_count": 88,
   "metadata": {},
   "outputs": [
    {
     "name": "stdout",
     "output_type": "stream",
     "text": [
      "***************************** START *******************************\n",
      "Metrics output for -  TRAIN  Data\n",
      "Model Used :\n",
      "  RidgeClassifier(alpha=3)\n",
      "\n",
      "\n",
      "Accuray :  0.8906988964792433\n",
      "F1_Score:  0.8630377524143987\n",
      "***************************** END *******************************\n",
      "***************************** START *******************************\n",
      "Metrics output for -  TEST  Data\n",
      "Model Used :\n",
      "  RidgeClassifier(alpha=3)\n",
      "\n",
      "\n",
      "Accuray :  0.7951680672268907\n",
      "F1_Score:  0.737550471063257\n",
      "***************************** END *******************************\n"
     ]
    }
   ],
   "source": [
    "#print metrics for train\n",
    "df = print_metrics(RidgeCV.best_estimator_, 'TRAIN', train_y, predict_train)\n",
    "metrics_df = metrics_df.append(df)\n",
    "#print metrics for test\n",
    "df = print_metrics(RidgeCV.best_estimator_, 'TEST', test_y, predict_test)\n",
    "metrics_df = metrics_df.append(df)"
   ]
  },
  {
   "cell_type": "markdown",
   "metadata": {},
   "source": [
    "### stochastic gradient descent (SGD) Classifier"
   ]
  },
  {
   "cell_type": "code",
   "execution_count": 89,
   "metadata": {},
   "outputs": [
    {
     "data": {
      "text/plain": [
       "GridSearchCV(cv=5, estimator=SGDClassifier(), n_jobs=-1,\n",
       "             param_grid={'alpha': [0.0001, 0.001, 0.01, 0.1],\n",
       "                         'loss': ['hinge', 'log', 'squared_hinge',\n",
       "                                  'modified_huber'],\n",
       "                         'max_iter': [1000], 'penalty': ['l2', 'l1', 'none']})"
      ]
     },
     "execution_count": 89,
     "metadata": {},
     "output_type": "execute_result"
    }
   ],
   "source": [
    "params = {\n",
    "    \"loss\" : [\"hinge\", \"log\", \"squared_hinge\", \"modified_huber\"],\n",
    "    \"alpha\" : [0.0001, 0.001, 0.01, 0.1],\n",
    "    \"penalty\" : [\"l2\", \"l1\", \"none\"],\n",
    "    \"max_iter\": [1000]\n",
    "}\n",
    "\n",
    "sgdc = GridSearchCV(SGDClassifier(),\n",
    "                   params,\n",
    "                   cv=5,\n",
    "                   n_jobs=-1)\n",
    "\n",
    "sgdc.fit(train_X_tfidf,train_y)"
   ]
  },
  {
   "cell_type": "code",
   "execution_count": 90,
   "metadata": {},
   "outputs": [
    {
     "name": "stdout",
     "output_type": "stream",
     "text": [
      "Best combination: {'alpha': 0.001, 'loss': 'log', 'max_iter': 1000, 'penalty': 'none'}\n"
     ]
    }
   ],
   "source": [
    "print('Best combination:', sgdc.best_params_);"
   ]
  },
  {
   "cell_type": "code",
   "execution_count": 91,
   "metadata": {},
   "outputs": [],
   "source": [
    "predict_train = sgdc.predict(train_X_tfidf)\n",
    "predict_test = sgdc.predict(test_X_tfidf)"
   ]
  },
  {
   "cell_type": "code",
   "execution_count": 92,
   "metadata": {},
   "outputs": [
    {
     "name": "stdout",
     "output_type": "stream",
     "text": [
      "***************************** START *******************************\n",
      "Metrics output for -  TRAIN  Data\n",
      "Model Used :\n",
      "  GridSearchCV(cv=5, estimator=SGDClassifier(), n_jobs=-1,\n",
      "             param_grid={'alpha': [0.0001, 0.001, 0.01, 0.1],\n",
      "                         'loss': ['hinge', 'log', 'squared_hinge',\n",
      "                                  'modified_huber'],\n",
      "                         'max_iter': [1000], 'penalty': ['l2', 'l1', 'none']})\n",
      "\n",
      "\n",
      "Accuray :  0.8686284813452444\n",
      "F1_Score:  0.8380129589632831\n",
      "***************************** END *******************************\n",
      "***************************** START *******************************\n",
      "Metrics output for -  TEST  Data\n",
      "Model Used :\n",
      "  GridSearchCV(cv=5, estimator=SGDClassifier(), n_jobs=-1,\n",
      "             param_grid={'alpha': [0.0001, 0.001, 0.01, 0.1],\n",
      "                         'loss': ['hinge', 'log', 'squared_hinge',\n",
      "                                  'modified_huber'],\n",
      "                         'max_iter': [1000], 'penalty': ['l2', 'l1', 'none']})\n",
      "\n",
      "\n",
      "Accuray :  0.7815126050420168\n",
      "F1_Score:  0.7259552042160738\n",
      "***************************** END *******************************\n"
     ]
    }
   ],
   "source": [
    "#print metrics for train\n",
    "df = print_metrics(sgdc, 'TRAIN', train_y, predict_train)\n",
    "metrics_df = metrics_df.append(df)\n",
    "#print metrics for test\n",
    "df = print_metrics(sgdc, 'TEST', test_y, predict_test)\n",
    "metrics_df = metrics_df.append(df)"
   ]
  },
  {
   "cell_type": "code",
   "execution_count": null,
   "metadata": {},
   "outputs": [],
   "source": []
  },
  {
   "cell_type": "code",
   "execution_count": null,
   "metadata": {},
   "outputs": [],
   "source": []
  },
  {
   "cell_type": "markdown",
   "metadata": {},
   "source": [
    "### Stacked Classifier"
   ]
  },
  {
   "cell_type": "code",
   "execution_count": 93,
   "metadata": {},
   "outputs": [],
   "source": [
    "## would train the stacked and voting classifiers on whole of the train data\n",
    "\n",
    "tfidf_vect_train = TfidfVectorizer()\n",
    "X_tfidf = tfidf_vect_train.fit_transform(X)"
   ]
  },
  {
   "cell_type": "code",
   "execution_count": 94,
   "metadata": {},
   "outputs": [],
   "source": [
    "clf1 = KNeighborsClassifier(n_neighbors=4, weights='distance')\n",
    "clf2 = RidgeClassifier(alpha=5)\n",
    "clf3 = naive_bayes.BernoulliNB()\n",
    "clf4 =  XGBClassifier(learning_rate=0.04, max_depth= 14, n_estimators= 800)\n",
    "clf5 = SGDClassifier(alpha=0.001, loss='log', max_iter=1000, penalty='none')\n",
    "lr1 = LogisticRegression()"
   ]
  },
  {
   "cell_type": "code",
   "execution_count": 95,
   "metadata": {},
   "outputs": [],
   "source": [
    "from mlxtend.classifier import StackingCVClassifier\n",
    "RANDOM_SEED = 1234\n",
    "sclf = StackingCVClassifier(classifiers=[clf1, clf2, clf3, clf4,clf5],\n",
    "                            meta_classifier=lr1,\n",
    "                            random_state=RANDOM_SEED)"
   ]
  },
  {
   "cell_type": "code",
   "execution_count": 96,
   "metadata": {},
   "outputs": [
    {
     "name": "stdout",
     "output_type": "stream",
     "text": [
      "3-fold cross validation:\n",
      "\n",
      "Accuracy: 0.56 (+/- 0.01) [KNN]\n",
      "Accuracy: 0.70 (+/- 0.03) [Ridge]\n",
      "Accuracy: 0.72 (+/- 0.04) [Naive Bayes]\n",
      "Accuracy: 0.66 (+/- 0.03) [XGBoost]\n",
      "Accuracy: 0.70 (+/- 0.03) [SGD]\n",
      "Accuracy: 0.71 (+/- 0.04) [Stacked]\n"
     ]
    }
   ],
   "source": [
    "print('3-fold cross validation:\\n')\n",
    "\n",
    "for clf, label in zip([clf1, clf2, clf3, clf4,clf5,sclf ], ['KNN', 'Ridge', 'Naive Bayes','XGBoost','SGD','Stacked']):\n",
    "    scores = model_selection.cross_val_score(clf, X_tfidf, y, cv=3, scoring='accuracy')\n",
    "    print(\"Accuracy: %0.2f (+/- %0.2f) [%s]\" % (scores.mean(), scores.std(), label))"
   ]
  },
  {
   "cell_type": "code",
   "execution_count": 97,
   "metadata": {},
   "outputs": [
    {
     "data": {
      "text/plain": [
       "StackingCVClassifier(classifiers=[KNeighborsClassifier(n_neighbors=4,\n",
       "                                                       weights='distance'),\n",
       "                                  RidgeClassifier(alpha=5), BernoulliNB(),\n",
       "                                  XGBClassifier(base_score=None, booster=None,\n",
       "                                                colsample_bylevel=None,\n",
       "                                                colsample_bynode=None,\n",
       "                                                colsample_bytree=None,\n",
       "                                                gamma=None, gpu_id=None,\n",
       "                                                importance_type='gain',\n",
       "                                                interaction_constraints=None,\n",
       "                                                learning_rate=0.04,\n",
       "                                                max_delta_step=Non...\n",
       "                                                min_child_weight=None,\n",
       "                                                missing=nan,\n",
       "                                                monotone_constraints=None,\n",
       "                                                n_estimators=800, n_jobs=None,\n",
       "                                                num_parallel_tree=None,\n",
       "                                                random_state=None,\n",
       "                                                reg_alpha=None, reg_lambda=None,\n",
       "                                                scale_pos_weight=None,\n",
       "                                                subsample=None,\n",
       "                                                tree_method=None,\n",
       "                                                validate_parameters=None,\n",
       "                                                verbosity=None),\n",
       "                                  SGDClassifier(alpha=0.001, loss='log',\n",
       "                                                penalty='none')],\n",
       "                     meta_classifier=LogisticRegression(), random_state=1234)"
      ]
     },
     "execution_count": 97,
     "metadata": {},
     "output_type": "execute_result"
    }
   ],
   "source": [
    "sclf.fit(X_tfidf, y)"
   ]
  },
  {
   "cell_type": "code",
   "execution_count": 98,
   "metadata": {},
   "outputs": [],
   "source": [
    "predict_y = sclf.predict(X_tfidf)"
   ]
  },
  {
   "cell_type": "code",
   "execution_count": 99,
   "metadata": {},
   "outputs": [
    {
     "name": "stdout",
     "output_type": "stream",
     "text": [
      "***************************** START *******************************\n",
      "Metrics output for -  TRAIN  Data\n",
      "Model Used :\n",
      "  StackingCVClassifier(classifiers=[KNeighborsClassifier(n_neighbors=4,\n",
      "                                                       weights='distance'),\n",
      "                                  RidgeClassifier(alpha=5), BernoulliNB(),\n",
      "                                  XGBClassifier(base_score=None, booster=None,\n",
      "                                                colsample_bylevel=None,\n",
      "                                                colsample_bynode=None,\n",
      "                                                colsample_bytree=None,\n",
      "                                                gamma=None, gpu_id=None,\n",
      "                                                importance_type='gain',\n",
      "                                                interaction_constraints=None,\n",
      "                                                learning_rate=0.04,\n",
      "                                                max_delta_step=Non...\n",
      "                                                min_child_weight=None,\n",
      "                                                missing=nan,\n",
      "                                                monotone_constraints=None,\n",
      "                                                n_estimators=800, n_jobs=None,\n",
      "                                                num_parallel_tree=None,\n",
      "                                                random_state=None,\n",
      "                                                reg_alpha=None, reg_lambda=None,\n",
      "                                                scale_pos_weight=None,\n",
      "                                                subsample=None,\n",
      "                                                tree_method=None,\n",
      "                                                validate_parameters=None,\n",
      "                                                verbosity=None),\n",
      "                                  SGDClassifier(alpha=0.001, loss='log',\n",
      "                                                penalty='none')],\n",
      "                     meta_classifier=LogisticRegression(), random_state=1234)\n",
      "\n",
      "\n",
      "Accuray :  0.8999080520162879\n",
      "F1_Score:  0.8757338551859101\n",
      "***************************** END *******************************\n"
     ]
    }
   ],
   "source": [
    "#print metrics for train\n",
    "df = print_metrics(sclf, 'TRAIN', y, predict_y)\n",
    "metrics_df = metrics_df.append(df)\n"
   ]
  },
  {
   "cell_type": "code",
   "execution_count": null,
   "metadata": {},
   "outputs": [],
   "source": []
  },
  {
   "cell_type": "markdown",
   "metadata": {},
   "source": [
    "### Voting Classifier"
   ]
  },
  {
   "cell_type": "code",
   "execution_count": 100,
   "metadata": {},
   "outputs": [],
   "source": [
    "clf6 = RidgeClassifier(alpha=3)\n",
    "clf7 = naive_bayes.BernoulliNB()\n",
    "clf8 = XGBClassifier(learning_rate=0.04, max_depth= 14, n_estimators= 800)\n",
    "clf9 = SGDClassifier(alpha=0.001, loss='log', max_iter=1000, penalty='none')\n",
    "clf10 = KNeighborsClassifier(n_neighbors=4, weights='distance')\n",
    "lr2 = LogisticRegression()"
   ]
  },
  {
   "cell_type": "code",
   "execution_count": 101,
   "metadata": {},
   "outputs": [],
   "source": [
    "eclf = VotingClassifier(estimators=[('lr', lr2), ('xgb', clf8), ('nb', clf7),('ridge', clf6),('knn', clf10),('SGD', clf9) ],voting='hard')"
   ]
  },
  {
   "cell_type": "code",
   "execution_count": 102,
   "metadata": {},
   "outputs": [
    {
     "name": "stdout",
     "output_type": "stream",
     "text": [
      "Accuracy: 0.70 (+/- 0.03) [Ridge]\n",
      "Accuracy: 0.72 (+/- 0.04) [naive Bayes]\n",
      "Accuracy: 0.66 (+/- 0.03) [XGBoost]\n",
      "Accuracy: 0.70 (+/- 0.03) [SGD]\n",
      "Accuracy: 0.56 (+/- 0.01) [KNN]\n",
      "Accuracy: 0.70 (+/- 0.03) [Logistic Regression]\n",
      "Accuracy: 0.70 (+/- 0.03) [Ensemble]\n"
     ]
    }
   ],
   "source": [
    "for clf, label in zip([clf6, clf7, clf8, clf9, clf10, lr2, eclf], ['Ridge','naive Bayes','XGBoost', 'SGD', 'KNN', 'Logistic Regression','Ensemble']):\n",
    "    scores = model_selection.cross_val_score(clf, X_tfidf, y, scoring='accuracy', cv=3)\n",
    "    print(\"Accuracy: %0.2f (+/- %0.2f) [%s]\" % (scores.mean(), scores.std(), label))"
   ]
  },
  {
   "cell_type": "code",
   "execution_count": 103,
   "metadata": {},
   "outputs": [
    {
     "data": {
      "text/plain": [
       "VotingClassifier(estimators=[('lr', LogisticRegression()),\n",
       "                             ('xgb',\n",
       "                              XGBClassifier(base_score=None, booster=None,\n",
       "                                            colsample_bylevel=None,\n",
       "                                            colsample_bynode=None,\n",
       "                                            colsample_bytree=None, gamma=None,\n",
       "                                            gpu_id=None, importance_type='gain',\n",
       "                                            interaction_constraints=None,\n",
       "                                            learning_rate=0.04,\n",
       "                                            max_delta_step=None, max_depth=14,\n",
       "                                            min_child_weight=None, missing=nan,\n",
       "                                            monotone_constr...\n",
       "                                            n_estimators=800, n_jobs=None,\n",
       "                                            num_parallel_tree=None,\n",
       "                                            random_state=None, reg_alpha=None,\n",
       "                                            reg_lambda=None,\n",
       "                                            scale_pos_weight=None,\n",
       "                                            subsample=None, tree_method=None,\n",
       "                                            validate_parameters=None,\n",
       "                                            verbosity=None)),\n",
       "                             ('nb', BernoulliNB()),\n",
       "                             ('ridge', RidgeClassifier(alpha=3)),\n",
       "                             ('knn',\n",
       "                              KNeighborsClassifier(n_neighbors=4,\n",
       "                                                   weights='distance')),\n",
       "                             ('SGD',\n",
       "                              SGDClassifier(alpha=0.001, loss='log',\n",
       "                                            penalty='none'))])"
      ]
     },
     "execution_count": 103,
     "metadata": {},
     "output_type": "execute_result"
    }
   ],
   "source": [
    "eclf.fit(X_tfidf, y)"
   ]
  },
  {
   "cell_type": "code",
   "execution_count": 104,
   "metadata": {},
   "outputs": [],
   "source": [
    "predict_y = eclf.predict(X_tfidf)"
   ]
  },
  {
   "cell_type": "code",
   "execution_count": 105,
   "metadata": {},
   "outputs": [
    {
     "name": "stdout",
     "output_type": "stream",
     "text": [
      "***************************** START *******************************\n",
      "Metrics output for -  TRAIN  Data\n",
      "Model Used :\n",
      "  VotingClassifier(estimators=[('lr', LogisticRegression()),\n",
      "                             ('xgb',\n",
      "                              XGBClassifier(base_score=None, booster=None,\n",
      "                                            colsample_bylevel=None,\n",
      "                                            colsample_bynode=None,\n",
      "                                            colsample_bytree=None, gamma=None,\n",
      "                                            gpu_id=None, importance_type='gain',\n",
      "                                            interaction_constraints=None,\n",
      "                                            learning_rate=0.04,\n",
      "                                            max_delta_step=None, max_depth=14,\n",
      "                                            min_child_weight=None, missing=nan,\n",
      "                                            monotone_constr...\n",
      "                                            n_estimators=800, n_jobs=None,\n",
      "                                            num_parallel_tree=None,\n",
      "                                            random_state=None, reg_alpha=None,\n",
      "                                            reg_lambda=None,\n",
      "                                            scale_pos_weight=None,\n",
      "                                            subsample=None, tree_method=None,\n",
      "                                            validate_parameters=None,\n",
      "                                            verbosity=None)),\n",
      "                             ('nb', BernoulliNB()),\n",
      "                             ('ridge', RidgeClassifier(alpha=3)),\n",
      "                             ('knn',\n",
      "                              KNeighborsClassifier(n_neighbors=4,\n",
      "                                                   weights='distance')),\n",
      "                             ('SGD',\n",
      "                              SGDClassifier(alpha=0.001, loss='log',\n",
      "                                            penalty='none'))])\n",
      "\n",
      "\n",
      "Accuray :  0.8854590831472481\n",
      "F1_Score:  0.852353538774128\n",
      "***************************** END *******************************\n"
     ]
    }
   ],
   "source": [
    "#print metrics for train\n",
    "df = print_metrics(eclf, 'TRAIN', y, predict_y)\n",
    "metrics_df = metrics_df.append(df)\n"
   ]
  },
  {
   "cell_type": "code",
   "execution_count": null,
   "metadata": {},
   "outputs": [],
   "source": []
  },
  {
   "cell_type": "code",
   "execution_count": 106,
   "metadata": {},
   "outputs": [],
   "source": [
    "#save to file\n",
    "metrics_df.to_csv(\"models.csv\")"
   ]
  },
  {
   "cell_type": "markdown",
   "metadata": {},
   "source": [
    "### Predicting on TEST data for submission"
   ]
  },
  {
   "cell_type": "code",
   "execution_count": 107,
   "metadata": {},
   "outputs": [],
   "source": [
    "# read test data into a DataFrame\n",
    "test_data = pd.read_csv('data/test.csv')"
   ]
  },
  {
   "cell_type": "code",
   "execution_count": 108,
   "metadata": {},
   "outputs": [
    {
     "data": {
      "text/html": [
       "<div>\n",
       "<style scoped>\n",
       "    .dataframe tbody tr th:only-of-type {\n",
       "        vertical-align: middle;\n",
       "    }\n",
       "\n",
       "    .dataframe tbody tr th {\n",
       "        vertical-align: top;\n",
       "    }\n",
       "\n",
       "    .dataframe thead th {\n",
       "        text-align: right;\n",
       "    }\n",
       "</style>\n",
       "<table border=\"1\" class=\"dataframe\">\n",
       "  <thead>\n",
       "    <tr style=\"text-align: right;\">\n",
       "      <th></th>\n",
       "      <th>id</th>\n",
       "      <th>keyword</th>\n",
       "      <th>location</th>\n",
       "      <th>text</th>\n",
       "    </tr>\n",
       "  </thead>\n",
       "  <tbody>\n",
       "    <tr>\n",
       "      <th>0</th>\n",
       "      <td>0</td>\n",
       "      <td>NaN</td>\n",
       "      <td>NaN</td>\n",
       "      <td>Just happened a terrible car crash</td>\n",
       "    </tr>\n",
       "    <tr>\n",
       "      <th>1</th>\n",
       "      <td>2</td>\n",
       "      <td>NaN</td>\n",
       "      <td>NaN</td>\n",
       "      <td>Heard about #earthquake is different cities, s...</td>\n",
       "    </tr>\n",
       "    <tr>\n",
       "      <th>2</th>\n",
       "      <td>3</td>\n",
       "      <td>NaN</td>\n",
       "      <td>NaN</td>\n",
       "      <td>there is a forest fire at spot pond, geese are...</td>\n",
       "    </tr>\n",
       "    <tr>\n",
       "      <th>3</th>\n",
       "      <td>9</td>\n",
       "      <td>NaN</td>\n",
       "      <td>NaN</td>\n",
       "      <td>Apocalypse lighting. #Spokane #wildfires</td>\n",
       "    </tr>\n",
       "    <tr>\n",
       "      <th>4</th>\n",
       "      <td>11</td>\n",
       "      <td>NaN</td>\n",
       "      <td>NaN</td>\n",
       "      <td>Typhoon Soudelor kills 28 in China and Taiwan</td>\n",
       "    </tr>\n",
       "  </tbody>\n",
       "</table>\n",
       "</div>"
      ],
      "text/plain": [
       "   id keyword location                                               text\n",
       "0   0     NaN      NaN                 Just happened a terrible car crash\n",
       "1   2     NaN      NaN  Heard about #earthquake is different cities, s...\n",
       "2   3     NaN      NaN  there is a forest fire at spot pond, geese are...\n",
       "3   9     NaN      NaN           Apocalypse lighting. #Spokane #wildfires\n",
       "4  11     NaN      NaN      Typhoon Soudelor kills 28 in China and Taiwan"
      ]
     },
     "execution_count": 108,
     "metadata": {},
     "output_type": "execute_result"
    }
   ],
   "source": [
    "test_data.head(5)"
   ]
  },
  {
   "cell_type": "code",
   "execution_count": 109,
   "metadata": {},
   "outputs": [],
   "source": [
    "test_data['text'] = test_data['text'].apply(clean_text)"
   ]
  },
  {
   "cell_type": "code",
   "execution_count": 110,
   "metadata": {},
   "outputs": [],
   "source": [
    "## remove stop words\n",
    "test_data['text'] = test_data['text'].apply(remove_stops)"
   ]
  },
  {
   "cell_type": "code",
   "execution_count": 111,
   "metadata": {},
   "outputs": [],
   "source": [
    "#get word frequency\n",
    "#infreq_list = not_frequent(test_data['text'], 2).to_list()\n",
    "#remove words with a frequency less than 2\n",
    "#test_data['text'] = test_data['text'].apply(remove_not_freq)"
   ]
  },
  {
   "cell_type": "code",
   "execution_count": 112,
   "metadata": {},
   "outputs": [],
   "source": [
    "test_X_tfidf = tfidf_vect_train.transform(test_data['text'])"
   ]
  },
  {
   "cell_type": "code",
   "execution_count": 113,
   "metadata": {},
   "outputs": [],
   "source": [
    "predicted_y = sclf.predict(test_X_tfidf)"
   ]
  },
  {
   "cell_type": "code",
   "execution_count": 114,
   "metadata": {},
   "outputs": [
    {
     "data": {
      "text/html": [
       "<div>\n",
       "<style scoped>\n",
       "    .dataframe tbody tr th:only-of-type {\n",
       "        vertical-align: middle;\n",
       "    }\n",
       "\n",
       "    .dataframe tbody tr th {\n",
       "        vertical-align: top;\n",
       "    }\n",
       "\n",
       "    .dataframe thead th {\n",
       "        text-align: right;\n",
       "    }\n",
       "</style>\n",
       "<table border=\"1\" class=\"dataframe\">\n",
       "  <thead>\n",
       "    <tr style=\"text-align: right;\">\n",
       "      <th></th>\n",
       "      <th>id</th>\n",
       "      <th>target</th>\n",
       "    </tr>\n",
       "  </thead>\n",
       "  <tbody>\n",
       "    <tr>\n",
       "      <th>0</th>\n",
       "      <td>0</td>\n",
       "      <td>0</td>\n",
       "    </tr>\n",
       "    <tr>\n",
       "      <th>1</th>\n",
       "      <td>2</td>\n",
       "      <td>0</td>\n",
       "    </tr>\n",
       "    <tr>\n",
       "      <th>2</th>\n",
       "      <td>3</td>\n",
       "      <td>1</td>\n",
       "    </tr>\n",
       "    <tr>\n",
       "      <th>3</th>\n",
       "      <td>9</td>\n",
       "      <td>0</td>\n",
       "    </tr>\n",
       "    <tr>\n",
       "      <th>4</th>\n",
       "      <td>11</td>\n",
       "      <td>1</td>\n",
       "    </tr>\n",
       "  </tbody>\n",
       "</table>\n",
       "</div>"
      ],
      "text/plain": [
       "   id  target\n",
       "0   0       0\n",
       "1   2       0\n",
       "2   3       1\n",
       "3   9       0\n",
       "4  11       1"
      ]
     },
     "execution_count": 114,
     "metadata": {},
     "output_type": "execute_result"
    }
   ],
   "source": [
    "predicted_df = pd.DataFrame()\n",
    "predicted_df['id'] = test_data['id']\n",
    "predicted_df['target'] = predicted_y\n",
    "predicted_df.head()"
   ]
  },
  {
   "cell_type": "code",
   "execution_count": 115,
   "metadata": {},
   "outputs": [],
   "source": [
    "predicted_df.to_csv(\"sclf_sub.csv\", index=False, header=True)"
   ]
  },
  {
   "cell_type": "code",
   "execution_count": null,
   "metadata": {},
   "outputs": [],
   "source": []
  }
 ],
 "metadata": {
  "kernelspec": {
   "display_name": "Python 3",
   "language": "python",
   "name": "python3"
  },
  "language_info": {
   "codemirror_mode": {
    "name": "ipython",
    "version": 3
   },
   "file_extension": ".py",
   "mimetype": "text/x-python",
   "name": "python",
   "nbconvert_exporter": "python",
   "pygments_lexer": "ipython3",
   "version": "3.7.4"
  }
 },
 "nbformat": 4,
 "nbformat_minor": 2
}
